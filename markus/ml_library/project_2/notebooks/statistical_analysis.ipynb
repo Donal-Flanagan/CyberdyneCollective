{
 "cells": [
  {
   "cell_type": "code",
   "execution_count": null,
   "metadata": {},
   "outputs": [],
   "source": [
    "%load_ext autoreload\n",
    "import os.path\n",
    "import sys\n",
    "from IPython.core.display import display, HTML\n",
    "HTML(\"<style>.container { width:90% !important; }</style>\")"
   ]
  },
  {
   "cell_type": "code",
   "execution_count": null,
   "metadata": {},
   "outputs": [],
   "source": [
    "def get_project_dir(project):\n",
    "    \"\"\"Returns project directory path and appends it to sys.path\"\"\"\n",
    "    current_dir = os.path.abspath('./')\n",
    "    project_dir = current_dir[:current_dir.rfind(project)+len(project)+1]\n",
    "    sys.path.append(project_dir)\n",
    "    return project_dir\n",
    "\n",
    "get_project_dir('ml_library')\n",
    "project_dir = get_project_dir('project_2')"
   ]
  },
  {
   "cell_type": "code",
   "execution_count": null,
   "metadata": {},
   "outputs": [],
   "source": [
    "import random\n",
    "import numpy as np\n",
    "import scipy as sp\n",
    "import pandas as pd\n",
    "from sklearn import metrics, preprocessing, linear_model\n",
    "\n",
    "import matplotlib.pyplot as plt\n",
    "import seaborn as sns\n",
    "\n",
    "import numba as nb\n",
    "# from itertools import combinations\n",
    "pd.set_option('display.max_columns', 40)"
   ]
  },
  {
   "cell_type": "code",
   "execution_count": null,
   "metadata": {},
   "outputs": [],
   "source": [
    "%autoreload\n",
    "from src import ML"
   ]
  },
  {
   "cell_type": "code",
   "execution_count": null,
   "metadata": {},
   "outputs": [],
   "source": [
    "# import\n",
    "data = pd.read_csv(project_dir + 'data/TrainingSet.csv', index_col=0)\n",
    "submissions = pd.read_csv(project_dir + 'out/SubmissionRows.csv', index_col=0)"
   ]
  },
  {
   "cell_type": "code",
   "execution_count": null,
   "metadata": {},
   "outputs": [],
   "source": [
    "# set submission rows\n",
    "data['is_output'] = 0\n",
    "data.loc[data.index.isin(submissions.index), 'is_output'] = 1"
   ]
  },
  {
   "cell_type": "code",
   "execution_count": null,
   "metadata": {},
   "outputs": [],
   "source": [
    "@nb.jit\n",
    "def get_years(start=1972, stop=2007):\n",
    "    \"\"\" \n",
    "    make a list of column names for specific years\n",
    "    in the format they appear in the data frame start/stop inclusive\n",
    "    \"\"\"\n",
    "    if isinstance(start, list):\n",
    "        data_range = start\n",
    "    elif stop:\n",
    "        data_range = range(start, stop+1)\n",
    "    else:\n",
    "        data_range = [start]\n",
    "    yrs = []\n",
    "    for yr in data_range:\n",
    "        yrs.append(\"{0} [YR{0}]\".format(yr))\n",
    "    return yrs"
   ]
  },
  {
   "cell_type": "code",
   "execution_count": null,
   "metadata": {},
   "outputs": [],
   "source": [
    "country = 'Germany'\n",
    "country_data = data[data['Country Name']==country]"
   ]
  },
  {
   "cell_type": "code",
   "execution_count": null,
   "metadata": {},
   "outputs": [],
   "source": [
    "# country_data[get_years()].T.plot()\n",
    "# plt.show()"
   ]
  },
  {
   "cell_type": "code",
   "execution_count": null,
   "metadata": {},
   "outputs": [],
   "source": [
    "# show example graph\n",
    "sns.pointplot(country_data.loc[94948,get_years()],country_data.loc[94946,get_years()])\n",
    "plt.show()"
   ]
  },
  {
   "cell_type": "markdown",
   "metadata": {},
   "source": [
    "- linear regression between both vars shows how good one var predicts the other one.\n",
    "- here r_squard ~= 0 -> unlikely a correlation\n",
    "- however, we first have to remove the trend, otherwise spurious relations appear\n"
   ]
  },
  {
   "cell_type": "code",
   "execution_count": null,
   "metadata": {},
   "outputs": [],
   "source": [
    "sp.stats.linregress(np.array(country_data.loc[94948,get_years()].astype(float)),\n",
    "                    np.array(country_data.loc[94946,get_years()].astype(float)))"
   ]
  },
  {
   "cell_type": "code",
   "execution_count": null,
   "metadata": {},
   "outputs": [],
   "source": [
    "class Wave:\n",
    "    def __init__(self, y):\n",
    "        self.ys = y\n",
    "    \n",
    "    def __len__(self):\n",
    "        return len(self.ys)\n",
    "\n",
    "def serial_corr(wave, lag=1):\n",
    "    n = len(wave)\n",
    "    y1 = wave.ys[lag:]\n",
    "    y2 = wave.ys[:n-lag]\n",
    "    corr = np.corrcoef(y1, y2, ddof=0)[0, 1]\n",
    "    return corr\n",
    "\n",
    "def autocorr(wave):\n",
    "    lags = range(len(wave.ys)//2)\n",
    "    corrs = [serial_corr(wave, lag) for lag in lags]\n",
    "    return lags, corrs"
   ]
  },
  {
   "cell_type": "code",
   "execution_count": null,
   "metadata": {},
   "outputs": [],
   "source": [
    "signal = Wave(np.array(country_data.loc[94947,get_years()].astype(float)))"
   ]
  },
  {
   "cell_type": "code",
   "execution_count": null,
   "metadata": {},
   "outputs": [],
   "source": [
    "signal = Wave(np.sin(np.linspace(0,13,100)))"
   ]
  },
  {
   "cell_type": "code",
   "execution_count": null,
   "metadata": {},
   "outputs": [],
   "source": [
    "fig, ax = plt.subplots()\n",
    "x, y = autocorr(signal)\n",
    "ax.plot(x,y)\n",
    "plt.show()"
   ]
  },
  {
   "cell_type": "code",
   "execution_count": null,
   "metadata": {},
   "outputs": [],
   "source": [
    "y"
   ]
  },
  {
   "cell_type": "code",
   "execution_count": null,
   "metadata": {},
   "outputs": [],
   "source": [
    "fig, ax = plt.subplots()\n",
    "y = np.correlate(signal.ys, signal.ys, mode='same')\n",
    "# ax.plot(y[len(y)//2:] / range(len(y)//2+1, 1, -1) / y[len(y)//2])\n",
    "ax.plot(y[len(y)//2:] / range(len(y)+1, len(y)//2+1,-1))\n",
    "plt.show()"
   ]
  },
  {
   "cell_type": "code",
   "execution_count": null,
   "metadata": {},
   "outputs": [],
   "source": [
    "def autocorr(x):\n",
    "    x = np.array(x).astype(float)\n",
    "    y = np.correlate(x, x, mode='same')\n",
    "    # take only second half and normalize\n",
    "    N = len(y)\n",
    "    y_half = y[N//2:]\n",
    "    # np.correlate does not normalize when taking sum. for greater lag, the sum has fewer elements\n",
    "    y_half /= range(N, N//2, -1) * y_half[0] / N\n",
    "    return y_half\n",
    "\n",
    "def plot(x, *args, **kwargs):\n",
    "    fig, ax = plt.subplots()\n",
    "    ax.plot(x, *args, **kwargs)\n",
    "    plt.show()"
   ]
  },
  {
   "cell_type": "code",
   "execution_count": null,
   "metadata": {},
   "outputs": [],
   "source": [
    "# signal = range(0,100,2)\n",
    "# autocorr(a)\n",
    "_, ac = autocorr(signal)\n",
    "plot(ac, '.')"
   ]
  },
  {
   "cell_type": "code",
   "execution_count": null,
   "metadata": {},
   "outputs": [],
   "source": []
  }
 ],
 "metadata": {
  "kernelspec": {
   "display_name": "Python 3",
   "language": "python",
   "name": "python3"
  },
  "language_info": {
   "codemirror_mode": {
    "name": "ipython",
    "version": 3
   },
   "file_extension": ".py",
   "mimetype": "text/x-python",
   "name": "python",
   "nbconvert_exporter": "python",
   "pygments_lexer": "ipython3",
   "version": "3.6.4"
  },
  "toc": {
   "colors": {
    "hover_highlight": "#DAA520",
    "navigate_num": "#000000",
    "navigate_text": "#333333",
    "running_highlight": "#FF0000",
    "selected_highlight": "#FFD700",
    "sidebar_border": "#EEEEEE",
    "wrapper_background": "#FFFFFF"
   },
   "moveMenuLeft": true,
   "nav_menu": {
    "height": "12px",
    "width": "252px"
   },
   "navigate_menu": true,
   "number_sections": true,
   "sideBar": true,
   "threshold": 4,
   "toc_cell": false,
   "toc_section_display": "block",
   "toc_window_display": false,
   "widenNotebook": false
  }
 },
 "nbformat": 4,
 "nbformat_minor": 1
}
