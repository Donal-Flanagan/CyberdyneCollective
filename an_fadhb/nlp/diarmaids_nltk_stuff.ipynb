{
 "cells": [
  {
   "cell_type": "code",
   "execution_count": 1,
   "metadata": {},
   "outputs": [
    {
     "data": {
      "text/html": [
       "<style>.container { width:100% !important; }</style>"
      ],
      "text/plain": [
       "<IPython.core.display.HTML object>"
      ]
     },
     "execution_count": 1,
     "metadata": {},
     "output_type": "execute_result"
    }
   ],
   "source": [
    "from IPython.core.display import HTML\n",
    "HTML(\"<style>.container { width:100% !important; }</style>\")"
   ]
  },
  {
   "cell_type": "code",
   "execution_count": 12,
   "metadata": {},
   "outputs": [
    {
     "name": "stdout",
     "output_type": "stream",
     "text": [
      "What I want to print\n",
      "{'amine': 1, 'Islam': 1, 'Bush': 1, 'sucrose': 1, 'label': 1, 'home': 4, 'Large': 1, 'cured': 2, 'paper': 1, 'amber': 1, 'alter': 1, 'en': 1, 'seeing': 1, 'Maslow': 1, 'available': 2, 'tapped': 1, 'every': 1, 'Vegetarians': 1, 'practice': 2, 'eye': 1, 'claim': 1, 'single': 2, 'virus': 1, 'potentially': 1, 'guard': 1, 'documenting': 1, '300': 1, 'Peto': 1, 'water': 5, 'forecast': 1, 'CityFarm': 1, 'tissue': 1, 'grow': 3, 'calling': 1, 'sel': 1, 'toward': 1, 'sauté': 1, 'butchery': 1, 'halal': 2, 'low': 3, 'lime': 2, 'alone': 1, 'brought': 2, 'bulk': 1, 'barbacoa': 1, 'muscle': 1, 'patient': 1, 'controlling': 1, 'can': 1, 'one': 2, 'local': 9, 'due': 2, 'serious': 1, 'Act': 2, 'Timeline': 1, 'Meat': 1, 'human': 11, 'lay': 1, 'fertility': 1, 'evolves': 1, 'appetizing': 1, '1983': 1, 'frequently': 1, '126bn': 1, 'de': 1, 'construct': 1, 'availability': 1, 'Thus': 1, 'either': 4, 'order': 1, 'war': 2, 'Curtis': 1, 'General': 1, 'Along': 1, 'organism': 2, 'lead': 5, 'hair': 1, 'instance': 3, 'fishing': 1, 'therefore': 1, 'Argentina': 1, 'called': 3, 'fundamental': 2, 'domestic': 2, 'Legal': 1, '100': 1, 'negative': 1, 'coffee': 1, 'farm': 2, 'athlete': 1, 'done': 3, 'variability': 1, 'Recommended': 1, 'measure': 1, 'produce': 5, 'oil': 4, 'drinking': 1, 'still': 1, 'Capital': 1, 'flood': 1, 'Chinese': 2, 'initial': 1, 'contribution': 1, 'agroecosystems': 2, '1961': 1, 'moderation': 1, 'thyroid': 1, 'top': 2, 'control': 6, 'causing': 1, 'around': 6, 'brings': 2, 'restocking': 1, 'area': 1, 'washing': 1, 'said': 3, 'provides': 1, 'managed': 1, 'survival': 2, 'wheat': 6, 'concern': 3, 'salting': 1, 'early': 3, 'developing': 2, 'maize': 2, 'economics': 2, 'characteristic': 1, 'contains': 3, 'recognizing': 1, 'enjoy': 2, 'contaminating': 1, 'sweet': 5, 'unsafe': 1, 'International': 6, 'mushroom': 2, 'restricted': 2, 'trend': 4, 'dating': 1, 'However': 6, 'aid': 7, 'specifically': 3, 'chemically': 2, 'skill': 1, 'largest': 1, 'identify': 2, 'corporation': 2, 'packaging': 4, 'energy': 6, 'simmering': 1, 'sold': 2, 'need': 4, 'remove': 1, 'blood': 5, 'must': 1, 'alcoholic': 2, 'carbohydrate': 3, 'public': 1, 'chocolate': 2, 'discouraging': 1, 'extreme': 1, 'bloating': 1, 'Alimentarius': 1, 'estimated': 2, 'systematic': 1, '4': 1, 'sweetness': 3, 'easier': 1, 'grouped': 1, 'locally': 1, 'illness': 3, 'influenced': 1, 'generally': 1, 'Sachs': 1, 'access': 1, 'business': 1, 'quite': 1, 'fueled': 2, 'electric': 1, 'tool': 3, 'clay': 1, 'grilled': 2, 'Constraints': 1, 'brioche': 1, 'salted': 1, 'grade': 1, 'assimilated': 1, 'chance': 1, 'minimal': 1, 'proportion': 2, 'pork': 1, 'unprocessed': 2, 'larger': 2, 'applying': 1, 'Protection': 1, 'diversity': 3, 'respond': 1, 'bilaterally': 1, 'decrease': 1, 'MIT': 2, 'nut': 2, 'Thai': 1, 'occurs': 2, 'pressure': 3, 'Steak': 1, 'advantage': 2, 'entire': 1, 'donor': 1, 'Arab': 1, 'grocer': 1, 'industrialization': 1, 'cigarette': 1, 'Covenant': 1, 'disaccharide': 1, 'nation': 3, 'least': 4, 'sesame': 1, 'ever': 1, 'thicker': 1, 'go': 2, 'gate': 1, 'appeal': 3, 'researcher': 2, 'planted': 1, 'instrumental': 1, 'dispute': 2, 'taken': 1, 'reason': 3, 'Spirulina': 1, '2011': 2, 'le': 3, 'towards': 2, 'Solomon': 1, 'provoke': 2, 'algae': 1, 'come': 3, 'inflorescence': 1, 'population': 4, 'carrot': 1, '65bn': 1, 'allergen': 3, 'bank': 1, 'second': 1, 'competition': 1, 'health': 14, 'definition': 5, 'Britain': 2, 'contain': 5, 'Types': 1, 'pace': 1, 'Bitterness': 1, 'fermentation': 1, 'ambient': 2, 'pan': 3, 'Resources': 1, 'Marketing': 1, 'manner': 1, 'prion': 1, 'never': 1, 'bee': 1, 'biodiversity': 2, 'distance': 2, 'carcinogen': 3, 'revolutionized': 1, 'distribute': 2, 'Saltiness': 1, 'going': 1, 'transportation': 3, 'rare': 2, 'European': 1, 'regarding': 1, 'Agricultural': 1, 'Advanced': 1, 'lost': 1, 'digestive': 1, 'opposed': 1, 'alkali': 1, 'Initial': 1, 'driver': 1, 'used': 16, 'sophisticated': 1, 'outside': 2, 'monitored': 1, 'kombucha': 1, 'help': 5, 'soaring': 1, 'highly': 3, 'shoot': 1, 'fruit': 9, 'variation': 1, '19th': 3, 'Despite': 1, 'procedure': 1, 'Dietary': 3, 'effort': 2, 'dried': 1, 'Scribner': 1, 'barbecue': 2, 'Judaism': 1, 'Benjamin': 1, 'Several': 1, 'iodized': 1, 'future': 2, 'heating': 1, 'United': 7, 'Sour': 3, 'yogurt': 2, 'kosher': 3, 'child': 4, 'agriculture': 4, 'minute': 1, 'Slaughter': 1, 'evolved': 1, 'Council': 1, 'conventional': 1, 'Group': 1, 'underpinned': 2, 'Complex': 1, 'withdrawal': 1, 'excrete': 1, 'year': 6, 'life': 2, 'Rarely': 1, 'Overseas': 1, 'project': 2, 'labeling': 1, 'way': 5, 'University': 2, 'flaxseed': 1, 'UN': 1, 'lack': 1, 'educator': 1, 'vitamin': 4, 'actual': 1, 'radiant': 1, 'dietary': 10, 'India': 1, 'drying': 1, 'canned': 1, 'Fats': 1, 'style': 2, 'aflatoxin': 1, 'mean': 4, 'environmental': 1, 'economic': 2, 'struggling': 1, 'work': 1, 'difference': 1, 'Canada': 1, 'delicate': 1, 'supplied': 1, 'diarrhea': 1, 'manufacturing': 6, '30': 2, 'Fruits': 2, 'Development': 1, 'Emilie': 1, 'compromised': 1, 'Various': 2, 'understanding': 1, 'temperature': 6, 'giant': 2, 'threat': 1, 'allowed': 1, 'groundwater': 1, 'sensation': 2, 'fall': 1, 'even': 3, 'economically': 2, 'alleviated': 1, 'extremely': 1, 'cuisine': 8, 'poisonous': 1, 'digestibility': 1, 'choice': 2, 'offer': 2, 'enjoyable': 4, 'citric': 1, 'cherry': 1, 'Two': 1, 'poverty': 1, 'high': 7, 'evolutionary': 2, 'typically': 3, 'umami': 2, 'undernourished': 1, 'new': 4, 'art': 1, 'anticarcinogens': 1, 'right': 4, 'Expenditures': 1, '500': 1, 'unrest': 1, '2013': 1, 'nitrite': 1, 'region': 1, 'staffing': 1, 'symptom': 1, 'dependence': 1, 'understand': 1, 'Caleb': 1, 'prior': 1, 'globe': 1, 'YouTube': 1, 'policy': 5, 'Seeds': 2, 'economy': 2, 'pointed': 1, 'ethical': 2, 'significance': 1, 'social': 2, 'scarcity': 1, 'Salmonella': 1, 'meal': 1, 'Kevin': 1, 'pumpkin': 1, 'school': 1, 'dynasty': 1, 'quality': 3, 'soda': 1, 'added': 1, '815': 1, 'suggests': 1, 'sausage': 1, 'Sustainable': 1, 'gluten': 1, 'enjoyment': 1, 'Management': 1, 'Mexican': 1, 'Restaurants': 2, 'psychological': 1, 'adrenaline': 1, 'limit': 1, 'concept': 1, 'Supermarkets': 1, 'five': 3, '1980s': 1, 'rancid': 2, 'nutrient': 3, 'cooked': 3, 'MSG': 1, 'global': 7, 'Independent': 1, 'healthful': 1, 'producer': 3, 'open': 3, '2005': 2, 'referring': 1, 'smell': 1, 'logistics': 1, 'made': 6, 'Calcium': 1, 'agreement': 1, 'baking': 2, 'include': 20, 'fungal': 1, 'Others': 1, 'lower': 2, 'dish': 5, 'latter': 2, 'retailing': 2, 'Union': 1, 'March': 2, 'wrap': 1, 'butcher': 3, 'environmentalism': 2, 'noodle': 1, 'gatherer': 1, 'consumption': 5, 'American': 4, 'mentioned': 1, 'aggravated': 1, 'diesel': 1, 'Stanley': 1, 'often': 11, 'leading': 1, 'Jawaharlal': 1, 'gum': 1, 'make': 3, 'excessive': 1, 'rapeseed': 1, 'Kwashiorkor': 1, 'survive': 1, 'peanut': 3, 'World': 8, 'something': 1, 'hygiene': 1, 'account': 3, 'Hinduism': 1, 'thumb': 1, 'risk': 4, 'set': 1, 'Sometimes': 2, 'burning': 1, 'sour': 1, 'ovary': 1, 'mostly': 2, 'hour': 1, 'number': 1, 'fund': 2, 'promise': 1, 'today': 1, 'Nehru': 1, 'fungi': 1, 'dark': 1, 'preservation': 4, 'expected': 3, 'topping': 1, 'potassium': 1, 'HACCP': 1, 'bouillon': 1, 'Bitter': 1, 'pushing': 1, 'evisceration': 1, 'various': 7, 'despite': 1, 'poisoning': 3, 'face': 1, '260': 1, 'separate': 1, 'omega': 1, 'sucralose': 1, 'fermenting': 1, 'arisen': 1, 'devastating': 1, 'together': 2, 'pest': 1, 'cocoa': 1, 'Meadow': 1, 'contributing': 1, 'sanitation': 1, 'death': 1, 'role': 3, 'bar': 1, 'agricultural': 4, 'higher': 3, 'Sourness': 1, 'scurvy': 2, 'measured': 1, 'vast': 2, 'export': 5, 'program': 1, 'production': 11, 'founded': 1, 'westernizing': 1, 'marketed': 1, 'pleasant': 3, 'woman': 1, 'logic': 1, 'adding': 3, 'unsatisfactory': 1, 'overall': 1, 'bud': 1, 'hand': 1, 'able': 1, 'includes': 3, 'Pompeii': 1, 'chef': 1, 'involve': 2, 'reading': 1, 'small': 3, 'scholar': 1, 'without': 1, 'addition': 5, '1990s': 1, 'get': 2, 'Spanish': 1, 'fluid': 1, 'Fungi': 1, 'Salt': 1, 'consideration': 1, 'vital': 2, 'olive': 1, 'feed': 1, 'labour': 1, 'away': 1, 'preference': 3, 'diced': 1, 'function': 3, 'cooker': 1, 'George': 1, 'ISBN': 2, 'preserving': 2, 'rose': 1, 'Already': 1, 'texture': 4, 'wider': 1, 'flower': 1, 'steviol': 1, '20': 1, 'Future': 1, 'brand': 1, 'weather': 1, 'G20': 1, 'sensitivity': 1, 'shop': 4, 'von': 1, 'Cereal': 1, 'problem': 6, 'Cultural': 2, 'saltiness': 2, 'research': 1, 'bubble': 1, 'uncooked': 1, 'Influences': 1, 'fortified': 1, 'jam': 1, 'Edible': 1, 'characterized': 2, 'potato': 1, 'sunflower': 1, 'spiking': 1, 'hedge': 1, 'Food': 35, '2000': 2, 'Obesity': 1, 'molecule': 3, 'extracted': 1, 'broth': 1, 'cell': 1, '7': 1, 'doubled': 2, 'Posted': 1, 'Anticarcinogens': 1, 'many': 16, 'hare': 1, 'cook': 1, 'crop': 3, 'cauliflower': 1, 'trade': 8, 'special': 1, 'surplus': 2, 'onion': 1, 'Another': 2, 'mineral': 3, 'contaminated': 4, 'milk': 2, 'opportunity': 1, 'standard': 3, 'herbal': 1, 'humanitarian': 1, 'define': 1, 'Atlantic': 1, 'steak': 1, 'Unsweetened': 1, 'real': 2, 'rhetorical': 1, 'last': 2, 'seed': 6, 'paid': 1, 'dangerous': 1, 'broad': 1, 'simple': 2, 'expended': 1, 'born': 1, 'States': 5, 'purpose': 1, 'acute': 1, 'official': 1, 'information': 1, 'crunchiness': 1, 'modern': 5, 'promote': 1, 'supply': 6, 'supplement': 1, 'Theophano': 1, 'rich': 3, 'obtained': 2, 'Andras': 1, 'several': 2, 'supermarket': 4, 'prevent': 1, 'moist': 2, 'osteoporosis': 1, 'grid': 1, 'pottery': 1, 'secured': 1, 'gain': 1, 'Animal': 1, '2008': 5, 'perceived': 1, 'cost': 4, 'Bank': 1, 'ubiquitous': 1, 'attempt': 1, 'result': 6, 'Ghosh': 2, 'interpretation': 1, 'held': 1, 'butter': 2, 'residue': 1, 'archaeological': 1, 'occur': 1, '1958': 1, 'dry': 2, 'Barbarian': 1, 'long': 5, 'rapporteur': 1, 'sustainability': 1, 'movement': 2, 'fully': 1, 'maintaining': 1, 'known': 12, 'issue': 4, 'saying': 1, 'form': 5, 'Sashimi': 1, 'system': 4, 'Vegans': 1, 'accounted': 1, '120': 1, 'upon': 1, 'wage': 1, 'habitat': 1, 'ultimately': 1, 'implication': 1, 'bottled': 1, 'Prices': 1, 'associated': 1, 'purchasing': 1, 'curing': 1, 'Diet': 2, 'grocery': 1, 'directly': 2, 'Items': 1, 'soup': 4, '24': 1, 'essential': 1, 'crucial': 1, 'gathering': 1, 'choosing': 1, 'protein': 6, 'country': 15, 'Boiling': 1, 'convection': 1, 'western': 1, 'Humane': 1, 'adverse': 1, 'vermin': 1, 'prepare': 1, 'past': 1, 'heat': 7, 'sliced': 2, 'Latin': 1, 'restaurant': 4, 'living': 2, 'preserve': 2, 'purely': 2, 'study': 3, 'hit': 1, 'heart': 1, 'moderate': 1, 'vegetable': 12, 'mixing': 1, 'revolution': 1, 'organic': 2, 'intermediate': 1, 'pit': 2, 'manageable': 1, 'almost': 2, 'fact': 1, 'rising': 5, 'variety': 2, 'investment': 4, 'Salty': 1, 'decision': 1, 'nutrition': 1, 'village': 1, 'vending': 1, 'machine': 1, 'iodine': 2, 'baguette': 1, 'cultivated': 1, 'intake': 1, 'shopping': 2, 'maintained': 1, 'engagement': 1, 'neediest': 1, 'community': 1, 'spice': 2, 'self': 1, 'die': 2, '3': 1, 'response': 1, 'half': 1, 'suffering': 2, 'Asian': 5, 'ware': 1, 'take': 1, 'Water': 2, '2': 1, 'induce': 1, 'encourage': 2, 'diabetes': 2, 'reduce': 2, 'smaller': 3, 'salmon': 2, 'diet': 12, 'restorative': 1, 'share': 1, 'location': 1, 'Plants': 1, 'major': 3, 'Approximately': 1, 'botanical': 1, 'religion': 2, 'allergy': 3, 'different': 8, 'famine': 2, 'Historically': 2, 'vegan': 1, 'slaughterhouse': 2, 'motel': 1, 'narcotic': 1, 'etc': 1, 'Roughly': 1, '1981': 1, 'reducing': 1, 'erectus': 1, 'artist': 1, '2015': 2, 'international': 4, 'important': 2, 'coastal': 1, 'closer': 1, 'changing': 1, 'drizzled': 1, 'regulate': 2, 'alike': 1, 'recognized': 1, 'being': 1, 'conversation': 1, 'wanted': 1, 'Presses': 1, 'choking': 1, 'found': 3, 'enforcement': 1, 'sustainable': 2, 'eaten': 7, 'juicing': 1, 'Cold': 1, 'equipment': 3, 'current': 1, 'USA': 1, 'recent': 2, 'importer': 1, 'following': 1, 'pure': 1, 'thus': 3, 'popular': 4, 'chip': 2, 'purchase': 2, 'subsidy': 3, 'possible': 2, 'misused': 1, 'bacterial': 2, 'stabilize': 1, 'period': 2, 'strong': 1, 'Human': 1, 'complex': 2, 'connected': 1, 'especially': 6, 'spent': 1, 'tobacco': 2, 'cafés': 1, 'antioxidant': 1, 'phenomenon': 1, 'fleur': 1, 'canola': 1, 'leaf': 1, 'habitual': 1, '17th': 1, 'vessel': 2, 'increasingly': 1, 'containing': 1, 'erosion': 1, 'proposed': 1, 'marketplace': 1, 'processing': 6, 'import': 4, 'people': 16, 'medical': 1, 'trace': 1, 'cetera': 3, 'previously': 1, 'along': 3, 'caused': 7, 'According': 3, 'sometimes': 4, 'involves': 3, 'rural': 1, 'Certain': 2, 'encompasses': 1, 'perception': 2, 'version': 2, 'Media': 3, 'industrial': 3, 'agency': 1, 'trimming': 1, 'urban': 2, 'documentary': 1, 'cart': 1, 'Life': 1, 'II': 1, 'contrast': 1, 'Allergies': 1, 'Modern': 1, 'sauce': 2, 'followed': 1, 'hypotension': 1, 'market': 12, 'cooling': 1, 'Discovery': 1, 'soaked': 1, 'recreational': 1, 'use': 8, 'charred': 1, 'Wikimedia': 1, 'age': 1, 'involving': 1, 'strategy': 1, 'ground': 3, 'wealthier': 1, 'complaint': 1, 'undergo': 1, '2009': 1, 'et': 3, 'start': 1, 'Indian': 2, 'took': 3, 'smoking': 2, 'perhaps': 1, 'fabricated': 1, 'Rights': 1, 'storage': 3, 'sensitive': 1, 'consists': 1, 'promptly': 1, 'individual': 4, 'maintains': 1, 'War': 3, 'rendering': 1, 'price': 20, 'distributed': 1, 'credited': 1, '400': 1, 'tandoor': 1, 'genetically': 1, 'exploding': 1, 'Cooking': 5, 'mammary': 1, 'fluctuation': 1, 'implementation': 1, 'selection': 2, 'regarded': 3, 'Early': 1, 'killing': 2, 'functional': 1, 'disinfectant': 1, 'similarly': 1, 'Delhi': 1, 'combining': 2, 'climate': 2, 'represent': 1, 'delicious': 2, 'food': 185, 'hold': 2, 'pleasurable': 1, 'Contrast': 2, 'citrus': 1, 'national': 2, 'consisting': 1, 'Lab': 1, 'frites': 1, 'Conversely': 1, 'crunchy': 1, 'sign': 1, 'Southeast': 1, 'Inorganic': 1, 'flavor': 11, 'arrival': 1, '118': 1, 'myriad': 1, 'whole': 2, '8': 1, 'aromatics': 1, 'place': 4, 'Major': 1, '80': 1, 'Salads': 1, 'affect': 3, 'body': 6, 'Sweet': 1, 'season': 1, 'growing': 4, 'scientist': 1, '1962': 1, 'condition': 1, 'mixed': 1, 'grain': 7, 'bacon': 1, 'Japanese': 3, 'bulb': 1, 'Critical': 1, 'Programme': 2, 'wield': 1, 'dependent': 2, 'revised': 1, 'bean': 1, 'kashrut': 1, '1990': 1, 'rather': 1, 'find': 1, 'disease': 6, 'caffeine': 1, 'pot': 2, 'ceramic': 1, 'consumer': 10, 'Wiktionary': 1, 'contributed': 1, 'emerging': 1, 'Commission': 1, 'host': 1, 'Poor': 1, 'Moral': 1, 'plant': 17, 'although': 3, 'fermented': 1, 'coevolved': 1, 'revenue': 1, 'change': 9, 'aspect': 2, 'Italy': 1, 'saturated': 1, 'epinephrine': 1, 'dictionary': 1, 'person': 2, 'developed': 3, 'throughout': 1, 'June': 1, 'sharp': 1, 'brick': 1, 'base': 1, 'substance': 6, 'See': 1, 'carotid': 1, 'Conference': 1, 'match': 1, 'honey': 1, '35': 1, 'spinach': 1, 'example': 11, 'limited': 2, 'religious': 3, 'volume': 1, 'jumped': 1, 'foreign': 3, 'commodity': 3, 'lentil': 1, 'remained': 1, 'existed': 2, 'widespread': 1, 'welfare': 1, 'cabbage': 1, 'chain': 3, 'hot': 4, 'cylindrical': 1, 'partially': 1, '61': 1, 'follows': 1, 'Pasteur': 1, 'analysis': 2, 'Mexico': 1, 'Many': 10, 'highlight': 1, 'depressing': 1, 'gas': 1, 'bitter': 3, 'malnutrition': 2, 'institution': 2, 'Industry': 1, 'time': 9, 'Salmon': 1, 'illustrated': 1, 'professor': 2, 'support': 3, 'Harper': 1, 'rice': 4, 'Policy': 1, 'ethnically': 1, 'lethal': 1, 'poaching': 1, 'worldwide': 6, 'similar': 1, 'Slavin': 1, 'heterocyclic': 1, 'problematic': 1, 'References': 1, 'New': 1, 'Reasons': 1, '20th': 2, 'advanced': 1, 'former': 1, 'rationing': 1, 'gastronomy': 1, 'creating': 1, 'expert': 1, 'Jayati': 1, 'kitchen': 2, 'transport': 1, 'range': 5, 'enhance': 6, 'Texture': 1, 'ordered': 1, 'fattening': 2, 'happening': 1, 'Rationing': 1, 'cheese': 2, 'Goode': 1, 'really': 1, 'avoiding': 1, 'natural': 1, 'specie': 2, 'Agreement': 1, 'nature': 2, 'greatly': 1, 'live': 1, 'chicken': 4, 'feeding': 1, 'vinegar': 1, 'calorie': 1, 'category': 1, 'adult': 2, 'technology': 4, 'liberalization': 2, 'dramatic': 2, 'treatment': 2, 'rash': 1, 'immune': 1, 'effect': 3, 'Packaged': 1, 'adipose': 1, 'French': 2, 'toxin': 1, 'fed': 1, 'root': 1, 'Health': 2, 'run': 1, 'kidney': 1, 'anaphylactic': 1, 'signatory': 1, 'vomiting': 1, 'droppings': 1, 'Tariffs': 1, 'large': 6, 'nutritional': 4, 'became': 1, 'well': 6, '1999': 1, 'milling': 1, 'generated': 2, 'common': 3, 'respectively': 1, 'unique': 1, 'choose': 3, 'savory': 1, 'evident': 1, 'Points': 1, 'lowest': 1, 'reflection': 1, '2010': 1, 'investor': 1, 'healthier': 1, 'gone': 1, 'Different': 1, 'susceptible': 1, 'law': 3, 'shortage': 3, 'Sydney': 1, 'requires': 4, 'Allergens': 1, 'agent': 1, 'measurement': 1, 'lab': 1, 'absorption': 1, 'Typically': 1, 'asparagus': 1, 'soy': 1, 'evolutionarily': 2, 'stevia': 1, '58': 1, 'balance': 1, 'Similarly': 1, 'Safety': 1, 'culturally': 1, 'Antioxidants': 1, 'optimal': 1, 'could': 4, 'advance': 1, 'boom': 1, 'replace': 1, 'tomato': 1, 'Animals': 3, 'coordinated': 1, 'improper': 2, 'would': 1, 'type': 17, 'easily': 2, 'mimic': 1, 'disorder': 1, 'microbiological': 1, 'manufactured': 1, 'Western': 4, 'piece': 1, 'evidence': 2, 'Hippocrates': 1, 'mycotoxin': 1, 'diversified': 1, 'increasing': 4, 'safety': 6, 'tartare': 2, 'Design': 1, 'purchased': 1, 'hollow': 1, 'salad': 1, 'Doll': 1, 'incorporates': 1, 'relates': 1, 'opposite': 1, 'rind': 1, 'highest': 1, 'city': 2, 'Aesthetically': 1, 'Goldman': 1, 'marasmus': 1, 'unsaturated': 1, 'Cuisine': 1, 'Publishing': 1, 'cyanide': 1, 'cutting': 1, 'print': 1, 'pickling': 1, 'rapid': 1, 'determined': 1, 'eventually': 1, 'Forgacs': 1, '2003': 1, 'Song': 1, 'eat': 8, 'mainly': 1, 'considered': 4, 'presented': 2, 'fuel': 3, 'otherwise': 1, 'drunk': 1, 'Commons': 1, 'ethnic': 2, 'foodborne': 1, 'psychotropic': 1, 'provision': 2, 'meat': 17, 'billion': 2, 'ideal': 1, 'jugged': 1, 'ecosystem': 2, 'us': 1, 'identity': 1, 'UNEP': 1, 'achieve': 1, 'activism': 1, 'Louis': 1, 'communication': 1, 'Digital': 1, 'Foods': 1, 'lettuce': 1, 'packaged': 1, '10': 3, 'palatability': 1, 'basis': 1, 'glucose': 2, 'state': 2, 'crisis': 1, 'deal': 1, 'climb': 1, 'soap': 1, 'polyaromatic': 1, 'broccoli': 2, 'increase': 6, 'per': 1, 'politics': 1, 'Social': 1, 'significant': 4, 'company': 5, 'aware': 1, 'sautéing': 1, 'fertiliser': 1, 'article': 1, 'unless': 1, 'hunger': 2, 'Hazard': 1, 'mistake': 1, 'emergency': 1, 'develop': 2, 'process': 2, 'source': 10, 'Strict': 1, 'however': 2, 'cereal': 1, 'slightly': 1, 'spending': 1, 'variable': 1, 'seen': 1, 'Parts': 1, '496': 1, 'thawing': 1, 'Association': 1, 'dining': 2, 'manufacture': 3, 'employer': 1, 'cancer': 5, 'degree': 4, 'stew': 1, 'speaking': 1, 'Common': 3, 'purchaser': 1, 'Commercial': 1, 'eating': 3, 'monosodium': 1, 'soft': 1, 'waitstaff': 1, 'refrigerating': 1, 'certain': 6, 'cover': 1, 'powdered': 1, 'difficult': 1, 'hotel': 1, 'propane': 1, 'list': 3, '2012': 3, 'short': 2, 'cardiovascular': 1, 'impact': 5, 'presentation': 2, '1994': 1, 'society': 1, 'produced': 3, 'reserve': 3, 'Italian': 2, 'distinct': 1, 'dhabīḥah': 1, 'like': 5, 'environment': 2, 'bird': 2, 'consumed': 4, 'sense': 1, 'African': 3, 'raw': 12, 'day': 2, 'Culture': 1, 'sugar': 11, 'Economic': 1, 'Schutter': 2, 'carry': 1, 'December': 2, 'garlic': 1, 'origin': 2, 'designed': 1, 'naturally': 1, 'legume': 1, 'portioning': 1, 'Vitamin': 2, 'toaster': 1, 'financial': 2, 'China': 4, 'arose': 1, 'seafood': 3, 'Corn': 1, 'Commodities': 1, 'desired': 1, 'mortality': 2, 'Ovens': 2, 'organisation': 1, 'word': 2, 'complicated': 1, 'processor': 3, 'hunting': 1, 'nitrosamines': 1, 'covered': 1, 'absence': 1, 'shift': 1, 'Homo': 1, 'edible': 2, 'acid': 1, 'NewSouth': 1, 'needed': 1, 'Nevertheless': 1, 'Collingham': 1, 'Farmers': 1, 'part': 4, 'imbalance': 1, 'Modernization': 1, 'kept': 3, 'monger': 1, 'varying': 2, 'industry': 6, 'animal': 27, 'raised': 2, 'Annual': 1, 'recently': 2, 'Europe': 2, 'Presentation': 1, 'W': 1, 'naming': 1, 'Asia': 2, 'glaze': 1, 'array': 2, 'sheep': 1, 'Trade': 3, 'Oilseeds': 1, 'serve': 2, 'fast': 1, 'entrepreneur': 1, 'CEO': 1, 'dairy': 3, 'Spring': 1, 'ingredient': 8, 'gland': 1, 'tariff': 1, 'rule': 1, 'also': 16, 'imposed': 1, 'product': 14, 'mollusk': 1, 'legal': 3, '87': 1, '2018': 1, 'frying': 2, 'butt': 1, 'distant': 1, 'direct': 2, 'Bangladesh': 1, 'property': 1, 'Morgan': 1, 'ordinary': 1, 'told': 2, '10th': 1, 'making': 1, 'discussed': 1, 'preparing': 1, 'fructose': 2, 'component': 1, 'container': 2, 'point': 2, 'masse': 1, 'method': 13, 'microwave': 1, 'spike': 1, 'cycle': 1, 'obesity': 2, 'play': 3, 'organ': 1, 'deficit': 1, 'deprivation': 2, 'Nations': 2, 'epidemiological': 1, 'Raw': 1, 'Analysis': 1, 'Artificial': 1, 'Barclays': 1, 'threatened': 1, 'hanging': 1, 'notably': 2, 'practiced': 1, 'thickener': 1, 'encourages': 1, 'exporting': 1, 'south': 1, 'ideological': 1, 'metal': 2, 'stem': 1, 'sushi': 1, 'according': 1, 'commercial': 2, 'regurgitation': 1, 'carried': 1, 'California': 1, 'influence': 4, 'interested': 2, 'create': 1, 'merely': 1, 'panel': 1, 'smoked': 1, 'vinaigrette': 1, 'apple': 1, 'act': 1, 'bread': 2, 'Unlike': 1, 'modified': 1, 'benefit': 2, 'linked': 1, 'though': 1, 'Nestle': 1, 'habit': 6, 'speculation': 1, 'Institute': 3, 'grey': 1, 'egg': 3, 'foodstuff': 3, 'Olivier': 1, 'reaction': 5, 'cosmetic': 1, 'enter': 1, 'tartar': 1, 'Channel': 1, 'air': 1, 'pleasing': 1, 'sprouting': 1, 'bamboo': 1, 'economist': 1, 'hydrocarbon': 1, 'color': 1, 'spicy': 1, 'partly': 1, 'tradition': 2, 'tend': 2, 'involved': 3, 'steaming': 1, 'scale': 2, 'contaminant': 3, 'coli': 1, 'acidic': 2, 'explains': 1, 'week': 1, 'customer': 1, 'security': 1, 'board': 1, 'required': 3, 'level': 2, 'break': 1, 'power': 1, 'ceviche': 1, 'culinary': 1, 'room': 1, 'Famine': 1, 'settlement': 1, 'destination': 1, 'present': 2, 'good': 2, 'beef': 5, 'taboo': 1, 'omnivore': 1, 'traded': 1, 'development': 6, 'adulterated': 2, 'adequate': 3, 'beverage': 1, 'government': 1, 'stunned': 1, 'served': 2, 'Organization': 5, 'growth': 6, 'approach': 3, 'ago': 1, 'cooking': 14, 'military': 1, 'refrigeration': 1, 'mined': 1, 'Financial': 1, 'established': 1, 'lemon': 4, 'foodism': 1, 'see': 3, 'always': 3, 'exempts': 1, 'carpaccio': 1, 'cold': 3, 'increased': 2, 'service': 4, 'technique': 3, 'address': 2, 'drink': 3, 'Umami': 3, 'avoid': 1, 'cause': 3, 'mitigation': 1, 'preservative': 2, 'harvesting': 1, 'thing': 1, 'included': 3, 'marketing': 3, 'campsite': 1, 'edition': 1, 'excess': 1, 'nectar': 1, 'consume': 5, 'shock': 2, 'Nutrition': 2, 'Taste': 2, 'derived': 2, 'behavioral': 1, 'bring': 1, 'ripened': 1, 'liquid': 1, 'limitation': 1, 'clean': 2, 'meaning': 1, 'percentage': 1, 'recognizable': 1, 'Battle': 2, 'Additionally': 1, 'diverse': 1, 'pose': 1, 'cut': 4, 'provide': 6, 'dieter': 1, 'led': 3, 'attractive': 1, 'Imbalances': 1, 'Justus': 1, 'latex': 1, 'starvation': 3, 'sodium': 1, 'placed': 2, 'promotes': 4, 'selling': 1, 'discussion': 2, 'phosphorus': 1, 'corn': 4, '21st': 1, 'greater': 1, 'artichoke': 1, 'Baltz': 1, 'commonplace': 1, 'within': 2, 'hunter': 1, 'blind': 1, 'lesser': 1, 'two': 2, 'begun': 1, '2007': 5, 'Deficiencies': 1, 'keep': 2, 'granola': 1, 'farming': 4, 'Cajun': 1, 'financialisation': 1, 'eliminate': 1, 'commonly': 4, 'badly': 1, 'boiling': 1, 'chewing': 1, 'livestock': 1, 'DLD': 2, 'world': 10, 'Wikibooks': 1, 'era': 1, 'ingesting': 1, 'thinly': 1, 'charcoal': 1, 'deficiency': 4, 'activity': 1, 'bacteria': 4, 'slaughter': 3, 'Encyclopedia': 1, 'Control': 1, 'Japan': 1, 'salt': 10, 'pressed': 1, 'Liebig': 1, 'science': 1, 'Cookbook': 1, 'sort': 1, 'related': 3, 'physical': 1, 'quota': 1, 'particularly': 1, 'sell': 1, 'universal': 1, 'cultivar': 1, 'third': 1, 'reasonably': 1, '37': 1, 'Contrasts': 1, 'family': 1, 'simplest': 1, 'Nutrients': 1, 'Michael': 1, 'Futures': 1, 'glutamate': 2, 'showed': 1, 'pickled': 1, 'faced': 2, 'resolved': 1, 'great': 1, 'responsive': 1, 'toasting': 1, 'expensive': 1, 'Production': 1, 'mass': 3, 'stored': 1, 'sweetener': 2, 'dehydration': 1, 'harmful': 2, 'barrier': 1, 'affected': 1, 'Unfortunately': 1, 'combination': 3, 'kettle': 1, 'Inc': 1, 'Information': 1, 'spoil': 1, 'reported': 2, 'rush': 1, 'others': 6, 'accordance': 1, 'specific': 5, 'pea': 1, 'firm': 1, 'disrupting': 1, 'smooth': 2, 'Vegetables': 1, 'childhood': 1, 'pension': 1, 'Less': 1, 'contamination': 1, 'usually': 6, 'establishment': 1, 'ion': 1, 'group': 3, 'expanded': 1, 'ton': 1, 'hierarchy': 1, 'require': 2, 'majority': 2, 'ensuring': 2, 'Codex': 1, 'monetary': 1, 'device': 1, 'artery': 1, 'Today': 1, 'parasite': 1, 'Mobbs': 1, 'cultural': 3, 'Classic': 1, 'success': 1, 'rise': 2, 'forgo': 2, 'vegetarian': 1, 'soil': 1, '40': 1, 'wide': 4, 'term': 6, 'WTO': 2, 'item': 4, 'trained': 2, 'ingested': 2, 'million': 3, 'Palmer': 1, 'grown': 1, 'stimulate': 2, 'processed': 4, 'amount': 1, 'longer': 4, 'shechita': 1, 'Micronutrients': 1, 'morality': 2, 'distribution': 2, 'matter': 1, 'emergence': 1, 'excretion': 1, 'meaty': 1, 'leavened': 1, 'irrespective': 1, 'crouton': 1, 'concentration': 1, 'employ': 2, 'operates': 2, 'may': 24, 'rioting': 1, 'asado': 1, 'servant': 1, 'consciousness': 1, 'kind': 1, 'contemporary': 1, 'necessary': 2, 'buy': 3, 'maintain': 1, 'outdoor': 1, 'preparation': 13, 'Round': 1, 'vulnerable': 1, 'much': 2, 'eggplant': 1, 'poor': 2, 'speculative': 1, 'sale': 7, 'including': 9, 'onset': 1, 'case': 2, 'enjoyed': 1, 'millennium': 1, 'disputed': 1, 'political': 1, 'improve': 3, 'External': 1, 'reduced': 2, 'appearance': 1, 'C': 1, 'indirect': 1, 'orange': 1, 'staple': 1, 'estimate': 1, '450': 1, 'oven': 10, 'plate': 1, 'Notes': 1, 'Twinject': 1, 'compound': 2, 'wood': 4, 'confectionery': 1, 'Marion': 1, 'fish': 8, 'college': 1, 'seller': 1, 'sea': 1, 'fat': 9, 'introduction': 2, 'advertising': 1, 'structure': 1, 'actually': 1, 'strongly': 1, 'organization': 1, 'hazard': 1, 'De': 2, 'Katz': 1, 'exists': 1, 'BC': 1, 'chemical': 2, 'attack': 1, 'biological': 1, 'become': 1, 'Macronutrients': 1, 'juice': 1, 'medicinal': 1, 'using': 4, 'intended': 1, 'taste': 16, 'recharge': 1, 'Uruguay': 1, 'loss': 1, 'century': 7, 'roasted': 1, 'demand': 7, 'refer': 1, 'roasting': 1, 'Politics': 1, 'Institutions': 1, 'indirectly': 1, 'permitted': 1, 'unpleasant': 2, 'denatures': 1, 'identified': 1, 'cream': 1, 'Agriculture': 3, 'Rising': 1, '9781920705541': 1, 'enhancing': 1, 'salty': 1, 'white': 1, 'Starvation': 1, 'Foodborne': 1, 'prepared': 7, 'ICESCR': 1, 'fire': 3, 'link': 1, 'factor': 2, 'fiber': 3, 'shellfish': 1, 'curdling': 1, 'aesthetic': 2, 'pungent': 1, 'grill': 4, 'negatively': 1, 'potential': 2, 'free': 1, 'Generally': 1, 'culture': 22, 'farmer': 6, 'massively': 1, 'since': 6, 'electrolyte': 1, 'pickle': 1, 'listing': 1, 'Richard': 2, 'putting': 1}\n"
     ]
    }
   ],
   "source": [
    "\n",
    "import nltk\n",
    "import numpy\n",
    "from nltk import word_tokenize\n",
    "from nltk.tokenize import RegexpTokenizer\n",
    "from nltk.stem import WordNetLemmatizer\n",
    "from nltk.corpus import stopwords\n",
    "from collections import Counter\n",
    "import pandas as pd\n",
    "\n",
    "\n",
    "def create_lexicon(fileIn):\n",
    "    #nltk.download('wordnet')\n",
    "    #nltk.download(\"stopwords\")\n",
    "    #nltk.download(\"punkt\")\n",
    "    stop_words = set(stopwords.words(\"english\"))\n",
    "\n",
    "    lemmitizer = WordNetLemmatizer()\n",
    "    lexicon=[]\n",
    "    tokenizer = RegexpTokenizer(r'\\w+')\n",
    "    with open(fileIn, 'r') as f:\n",
    "        contents = f.readlines()\n",
    "        for l in contents[:]:\n",
    "            all_words = word_tokenize(l)\n",
    "            for i in all_words:\n",
    "                if i.lower() not in stop_words:\n",
    "                    if i.isalnum():\n",
    "                        lexicon.append(i)\n",
    "\n",
    "    lexicon = [lemmitizer.lemmatize(i) for i in lexicon]\n",
    "    #print(lexicon)\n",
    "    w_counts = Counter(lexicon)\n",
    "    l2 = {}\n",
    "    for w in w_counts:\n",
    "        l2[w] = w_counts[w]\n",
    "        \n",
    "    l2 = pd.Series(l2)\n",
    "\n",
    "    l2.sort_values(inplace=True, ascending=False)\n",
    "    \n",
    "    return l2\n",
    "\n",
    "if __name__ == \"__main__\":\n",
    "    print(\"What I want to print\")\n",
    "    scores = create_lexicon(\"script1.txt\")\n",
    "    print(scores)\n"
   ]
  },
  {
   "cell_type": "code",
   "execution_count": 20,
   "metadata": {},
   "outputs": [
    {
     "data": {
      "text/plain": [
       "food             185\n",
       "Food              35\n",
       "animal            27\n",
       "may               24\n",
       "culture           22\n",
       "include           20\n",
       "price             20\n",
       "plant             17\n",
       "meat              17\n",
       "type              17\n",
       "many              16\n",
       "people            16\n",
       "taste             16\n",
       "used              16\n",
       "also              16\n",
       "country           15\n",
       "product           14\n",
       "cooking           14\n",
       "health            14\n",
       "method            13\n",
       "preparation       13\n",
       "raw               12\n",
       "known             12\n",
       "market            12\n",
       "vegetable         12\n",
       "diet              12\n",
       "sugar             11\n",
       "flavor            11\n",
       "often             11\n",
       "example           11\n",
       "                ... \n",
       "root               1\n",
       "evolves            1\n",
       "expended           1\n",
       "expensive          1\n",
       "expert             1\n",
       "explains           1\n",
       "exploding          1\n",
       "room               1\n",
       "exporting          1\n",
       "rule               1\n",
       "evolved            1\n",
       "salty              1\n",
       "ethnically         1\n",
       "essential          1\n",
       "established        1\n",
       "establishment      1\n",
       "estimate           1\n",
       "salting            1\n",
       "etc                1\n",
       "salted             1\n",
       "salad              1\n",
       "run                1\n",
       "eventually         1\n",
       "ever               1\n",
       "every              1\n",
       "rush               1\n",
       "evident            1\n",
       "evisceration       1\n",
       "rural              1\n",
       "forecast           1\n",
       "Length: 1895, dtype: int64"
      ]
     },
     "execution_count": 20,
     "metadata": {},
     "output_type": "execute_result"
    }
   ],
   "source": [
    "scores_df = pd.Series(scores)\n",
    "\n",
    "scores_df.sort_values(inplace=True, ascending=False)\n",
    "scores_df"
   ]
  },
  {
   "cell_type": "code",
   "execution_count": null,
   "metadata": {
    "collapsed": true
   },
   "outputs": [],
   "source": []
  }
 ],
 "metadata": {
  "kernelspec": {
   "display_name": "Python 3",
   "language": "python",
   "name": "python3"
  },
  "language_info": {
   "codemirror_mode": {
    "name": "ipython",
    "version": 3
   },
   "file_extension": ".py",
   "mimetype": "text/x-python",
   "name": "python",
   "nbconvert_exporter": "python",
   "pygments_lexer": "ipython3",
   "version": "3.5.2"
  }
 },
 "nbformat": 4,
 "nbformat_minor": 2
}
