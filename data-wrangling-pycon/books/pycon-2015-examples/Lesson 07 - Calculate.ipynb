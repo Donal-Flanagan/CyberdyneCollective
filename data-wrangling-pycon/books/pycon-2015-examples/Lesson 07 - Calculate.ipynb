{
 "cells": [
  {
   "cell_type": "code",
   "execution_count": 1,
   "metadata": {
    "collapsed": true
   },
   "outputs": [],
   "source": [
    "import calculate\n",
    "import requests\n",
    "from multiprocessing import Process, Manager\n",
    "from decimal import Decimal"
   ]
  },
  {
   "cell_type": "code",
   "execution_count": 2,
   "metadata": {
    "collapsed": true
   },
   "outputs": [],
   "source": [
    "def get_story(story_id, stories):\n",
    "    url = 'https://hacker-news.firebaseio.com/v0/item/%d.json' % story_id\n",
    "    resp = requests.get(url)\n",
    "    story_data = resp.json()\n",
    "    user_data = get_user(story_data.get('by'))\n",
    "    story_data['user_karma'] = user_data.get('karma') or 0\n",
    "    stories.append(story_data)\n",
    "    return stories"
   ]
  },
  {
   "cell_type": "code",
   "execution_count": 3,
   "metadata": {
    "collapsed": true
   },
   "outputs": [],
   "source": [
    "def get_user(user_id):\n",
    "    url = 'https://hacker-news.firebaseio.com/v0/user/%s.json' % user_id\n",
    "    resp = requests.get(url)\n",
    "    return resp.json()"
   ]
  },
  {
   "cell_type": "code",
   "execution_count": 4,
   "metadata": {
    "collapsed": true
   },
   "outputs": [],
   "source": [
    "def get_top_stories_with_user_karma():\n",
    "    manager = Manager()\n",
    "    stories = manager.list()\n",
    "    url = 'https://hacker-news.firebaseio.com/v0/topstories.json'\n",
    "    ids = requests.get(url)\n",
    "    processes = [Process(target=get_story, args=(sid, stories))\n",
    "                 for sid in ids.json()[:40]]\n",
    "    for p in processes:\n",
    "        p.start()\n",
    "    for p in processes:\n",
    "        p.join()\n",
    "    return stories"
   ]
  },
  {
   "cell_type": "code",
   "execution_count": 5,
   "metadata": {
    "collapsed": true
   },
   "outputs": [],
   "source": [
    "def calculate_summary_karma():\n",
    "    stories = get_top_stories_with_user_karma()\n",
    "    return calculate.summary_stats([\n",
    "        Decimal(s.get('score')) for s in stories])"
   ]
  },
  {
   "cell_type": "code",
   "execution_count": 6,
   "metadata": {
    "collapsed": true
   },
   "outputs": [],
   "source": [
    "def pearsons_karma():\n",
    "    stories = get_top_stories_with_user_karma()\n",
    "    user_karma = [Decimal(s.get('user_karma')) for s in stories]\n",
    "    story_karma = [Decimal(s.get('score')) for s in stories]\n",
    "    return calculate.pearson(user_karma, story_karma)"
   ]
  },
  {
   "cell_type": "code",
   "execution_count": 7,
   "metadata": {
    "collapsed": false
   },
   "outputs": [
    {
     "data": {
      "text/plain": [
       "-0.005659751973886795"
      ]
     },
     "execution_count": 7,
     "metadata": {},
     "output_type": "execute_result"
    }
   ],
   "source": [
    "pearsons_karma()"
   ]
  },
  {
   "cell_type": "code",
   "execution_count": 8,
   "metadata": {
    "collapsed": false
   },
   "outputs": [
    {
     "name": "stdout",
     "output_type": "stream",
     "text": [
      "| Statistic             | Value         |\n",
      "-----------------------------------------\n",
      "| n                     | 40            |\n",
      "| mean                  | 110.3         |\n",
      "| median                | 32.0          |\n",
      "| mode                  | None          |\n",
      "| maximum               | 934           |\n",
      "| minimum               | 1             |\n",
      "| range                 | 933.0         |\n",
      "| standard deviation    | 211.448244258 |\n",
      "| variation coefficient | 1.91702850642 |\n",
      "\n"
     ]
    }
   ],
   "source": [
    "calculate_summary_karma()"
   ]
  },
  {
   "cell_type": "code",
   "execution_count": null,
   "metadata": {
    "collapsed": true
   },
   "outputs": [],
   "source": []
  }
 ],
 "metadata": {
  "kernelspec": {
   "display_name": "Python 2",
   "language": "python",
   "name": "python2"
  },
  "language_info": {
   "codemirror_mode": {
    "name": "ipython",
    "version": 2
   },
   "file_extension": ".py",
   "mimetype": "text/x-python",
   "name": "python",
   "nbconvert_exporter": "python",
   "pygments_lexer": "ipython2",
   "version": "2.7.6"
  }
 },
 "nbformat": 4,
 "nbformat_minor": 0
}
