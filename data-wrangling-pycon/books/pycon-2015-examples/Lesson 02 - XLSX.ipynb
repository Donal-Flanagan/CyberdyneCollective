{
 "cells": [
  {
   "cell_type": "code",
   "execution_count": null,
   "metadata": {
    "collapsed": false
   },
   "outputs": [],
   "source": [
    "import xlrd\n",
    "\n",
    "\n",
    "notebook = xlrd.open_workbook('../../data/wb/GDP_Current_Dollars.xlsx')\n",
    "\n",
    "for sheet in notebook.sheets():\n",
    "    print(sheet.name)"
   ]
  },
  {
   "cell_type": "code",
   "execution_count": null,
   "metadata": {
    "collapsed": false
   },
   "outputs": [],
   "source": [
    "sheet = notebook.sheet_by_name('Data')\n",
    "\n",
    "titles = sheet.row_values(0)\n",
    "print(titles)"
   ]
  },
  {
   "cell_type": "code",
   "execution_count": null,
   "metadata": {
    "collapsed": false
   },
   "outputs": [],
   "source": [
    "def build_array(sheet, titles, start_row=1):\n",
    "    new_arr = []\n",
    "    while start_row < sheet.nrows:\n",
    "        new_arr.append(\n",
    "            dict(zip(titles, sheet.row_values(start_row)))\n",
    "        )\n",
    "        start_row += 1\n",
    "    return new_arr\n",
    "\n",
    "\n",
    "arr = build_array(sheet, titles)\n",
    "\n",
    "for line in arr:\n",
    "    print(line.get('Country Name'), line.get('2014 [YR2014]'))\n"
   ]
  },
  {
   "cell_type": "code",
   "execution_count": null,
   "metadata": {
    "collapsed": false
   },
   "outputs": [],
   "source": []
  }
 ],
 "metadata": {
  "kernelspec": {
   "display_name": "Python 3",
   "language": "python",
   "name": "python3"
  },
  "language_info": {
   "codemirror_mode": {
    "name": "ipython",
    "version": 3
   },
   "file_extension": ".py",
   "mimetype": "text/x-python",
   "name": "python",
   "nbconvert_exporter": "python",
   "pygments_lexer": "ipython3",
   "version": "3.4.5"
  }
 },
 "nbformat": 4,
 "nbformat_minor": 0
}
