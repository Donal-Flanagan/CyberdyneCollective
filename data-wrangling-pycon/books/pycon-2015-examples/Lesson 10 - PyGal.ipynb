{
 "cells": [
  {
   "cell_type": "code",
   "execution_count": 25,
   "metadata": {
    "collapsed": true
   },
   "outputs": [],
   "source": [
    "import pygal\n",
    "from csv import DictReader"
   ]
  },
  {
   "cell_type": "code",
   "execution_count": 54,
   "metadata": {
    "collapsed": true
   },
   "outputs": [],
   "source": [
    "%matplotlib inline\n",
    "#%config InlineBackend.figure_format = 'svg'\n",
    "from IPython.display import set_matplotlib_formats\n",
    "set_matplotlib_formats('pdf', 'svg')\n",
    "\n",
    "from IPython.display import SVG, HTML, Image"
   ]
  },
  {
   "cell_type": "code",
   "execution_count": 71,
   "metadata": {
    "collapsed": true
   },
   "outputs": [],
   "source": [
    "html_pygal = u\"\"\"\n",
    "<figure>\n",
    "      <embed type=\"image/svg+xml\" src=\"/test.svg\" />\n",
    "    </figure>\n",
    "\"\"\""
   ]
  },
  {
   "cell_type": "code",
   "execution_count": 28,
   "metadata": {
    "collapsed": true
   },
   "outputs": [],
   "source": [
    "def load_imf_unemployment():\n",
    "    rdr = DictReader(open('../../data/imf_indicators.tsv', 'rb'), delimiter='\\t')\n",
    "    return [r for r in rdr if r.get('Subject Descriptor') and\n",
    "            'Unemployment' in r.get('Subject Descriptor')]"
   ]
  },
  {
   "cell_type": "code",
   "execution_count": 29,
   "metadata": {
    "collapsed": true
   },
   "outputs": [],
   "source": [
    "def load_iso_codes():\n",
    "    iso_dict = {}\n",
    "    for row in DictReader(open('../../data/iso-2.csv', 'rb')):\n",
    "        iso_dict[row.get('Name')] = row.get('Code')\n",
    "    return iso_dict"
   ]
  },
  {
   "cell_type": "code",
   "execution_count": 30,
   "metadata": {
    "collapsed": true
   },
   "outputs": [],
   "source": [
    "def load_and_merge_data():\n",
    "    iso_dict = load_iso_codes()\n",
    "    imf_data = load_imf_unemployment()\n",
    "    for d in imf_data:\n",
    "        d['iso'] = iso_dict[d.get('Country')]\n",
    "    return imf_data"
   ]
  },
  {
   "cell_type": "code",
   "execution_count": 78,
   "metadata": {
    "collapsed": true
   },
   "outputs": [],
   "source": [
    "def draw_unemployment():\n",
    "    imf_data = load_and_merge_data()\n",
    "    worldmap_data = {}\n",
    "    for row in imf_data:\n",
    "        worldmap_data[row.get('iso').lower()] = float(row.get('2015'))\n",
    "    worldmap_chart = pygal.Worldmap()\n",
    "    worldmap_chart.title = '2015 Unemployment'\n",
    "    worldmap_chart.add('Total Unemployment (%)', worldmap_data)\n",
    "    worldmap_chart.render_to_png('../../../static/test.png')"
   ]
  },
  {
   "cell_type": "code",
   "execution_count": 79,
   "metadata": {
    "collapsed": false
   },
   "outputs": [],
   "source": [
    "draw_unemployment()"
   ]
  },
  {
   "cell_type": "code",
   "execution_count": null,
   "metadata": {
    "collapsed": true
   },
   "outputs": [],
   "source": []
  }
 ],
 "metadata": {
  "kernelspec": {
   "display_name": "Python 2",
   "language": "python",
   "name": "python2"
  },
  "language_info": {
   "codemirror_mode": {
    "name": "ipython",
    "version": 2
   },
   "file_extension": ".py",
   "mimetype": "text/x-python",
   "name": "python",
   "nbconvert_exporter": "python",
   "pygments_lexer": "ipython2",
   "version": "2.7.6"
  }
 },
 "nbformat": 4,
 "nbformat_minor": 0
}
