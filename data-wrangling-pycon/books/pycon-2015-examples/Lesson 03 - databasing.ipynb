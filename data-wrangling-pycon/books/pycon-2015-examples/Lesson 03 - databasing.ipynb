{
 "cells": [
  {
   "cell_type": "code",
   "execution_count": 2,
   "metadata": {
    "collapsed": false
   },
   "outputs": [
    {
     "data": {
      "text/plain": [
       "2"
      ]
     },
     "execution_count": 2,
     "metadata": {},
     "output_type": "execute_result"
    }
   ],
   "source": [
    "import dataset\n",
    "\n",
    "db = dataset.connect('sqlite:///../../data/data_analysis.db')\n",
    "\n",
    "my_sources = db['sources']\n",
    "\n",
    "my_sources.insert({'organization': 'IMF',\n",
    "                   'file_name': 'imf_indicators.tsv',\n",
    "                   'url': 'http://www.imf.org/external/pubs/ft/weo/2015/01/weodata/index.aspx',\n",
    "                   'description': 'IMF World Economic Outlook Dataset',\n",
    "                   })\n",
    "\n",
    "my_sources.insert({'organization': 'World Bank',\n",
    "                   'file_name': 'wb/GDP_Current_Dollars.xlsx',\n",
    "                   'url': 'http://databank.worldbank.org/data/reports.aspx?source=2&series=NY.GDP.MKTP.CD#',\n",
    "                   'description': 'World Bank GDP Dataset',\n",
    "                   })"
   ]
  },
  {
   "cell_type": "code",
   "execution_count": 3,
   "metadata": {
    "collapsed": false
   },
   "outputs": [
    {
     "name": "stdout",
     "output_type": "stream",
     "text": [
      "[u'sources']\n",
      "IMF World Economic Outlook Dataset\n",
      "World Bank GDP Dataset\n"
     ]
    }
   ],
   "source": [
    "print db.tables\n",
    "\n",
    "for row in db['sources']:\n",
    "    print row['description']\n"
   ]
  },
  {
   "cell_type": "code",
   "execution_count": null,
   "metadata": {
    "collapsed": true
   },
   "outputs": [],
   "source": []
  }
 ],
 "metadata": {
  "kernelspec": {
   "display_name": "Python 2",
   "language": "python",
   "name": "python2"
  },
  "language_info": {
   "codemirror_mode": {
    "name": "ipython",
    "version": 2
   },
   "file_extension": ".py",
   "mimetype": "text/x-python",
   "name": "python",
   "nbconvert_exporter": "python",
   "pygments_lexer": "ipython2",
   "version": "2.7.6"
  }
 },
 "nbformat": 4,
 "nbformat_minor": 0
}
