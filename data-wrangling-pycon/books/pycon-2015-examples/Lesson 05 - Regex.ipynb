{
 "cells": [
  {
   "cell_type": "code",
   "execution_count": 1,
   "metadata": {
    "collapsed": true
   },
   "outputs": [],
   "source": [
    "import requests\n",
    "import re\n",
    "from multiprocessing import Process, Manager\n",
    "\n",
    "MATCHING = (\n",
    "    ('Python', '(p|P)ython'),\n",
    "    ('Ruby', '(r|R)uby'),\n",
    "    ('JavaScript', 'js|(J|j)ava(s|S)cript'),\n",
    "    ('NodeJS', 'node(\\.?)(?:\\js|JS)'),\n",
    "    ('Java', '(j|J)ava[^(S|s)cript]'),\n",
    "    ('Objective-C', 'Obj(ective?)(?:\\ |-)(C|c)'),\n",
    ")"
   ]
  },
  {
   "cell_type": "code",
   "execution_count": 2,
   "metadata": {
    "collapsed": true
   },
   "outputs": [],
   "source": [
    "def get_story(story_id, stories):\n",
    "    url = 'https://hacker-news.firebaseio.com/v0/item/%d.json' % story_id\n",
    "    resp = requests.get(url)\n",
    "    stories.append(resp.json())"
   ]
  },
  {
   "cell_type": "code",
   "execution_count": 3,
   "metadata": {
    "collapsed": true
   },
   "outputs": [],
   "source": [
    "def get_top_stories():\n",
    "    manager = Manager()\n",
    "    stories = manager.list()\n",
    "    url = 'https://hacker-news.firebaseio.com/v0/topstories.json'\n",
    "    ids = requests.get(url)\n",
    "    processes = [Process(target=get_story, args=(sid, stories))\n",
    "                 for sid in ids.json()[:40]]\n",
    "    for p in processes:\n",
    "        p.start()\n",
    "    for p in processes:\n",
    "        p.join()\n",
    "    return stories"
   ]
  },
  {
   "cell_type": "code",
   "execution_count": 4,
   "metadata": {
    "collapsed": true
   },
   "outputs": [],
   "source": [
    "def count_languages():\n",
    "    stories = get_top_stories()\n",
    "    final_tallies = {}\n",
    "    for s in stories:\n",
    "        long_string = u'{} {}'.format(s.get('title'), s.get('url'))\n",
    "        for language, regex in dict(MATCHING).items():\n",
    "            if re.search(regex, long_string):\n",
    "                if language not in final_tallies.keys():\n",
    "                    final_tallies[language] = {\n",
    "                        'score': s.get('score'),\n",
    "                        'descendants': s.get('descendants')}\n",
    "                else:\n",
    "                    final_tallies[language]['score'] += s.get('score')\n",
    "                    final_tallies[language][\n",
    "                        'descendants'] += s.get('descendants')\n",
    "    return final_tallies"
   ]
  },
  {
   "cell_type": "code",
   "execution_count": 5,
   "metadata": {
    "collapsed": false
   },
   "outputs": [
    {
     "data": {
      "text/plain": [
       "{'JavaScript': {'descendants': 54, 'score': 88},\n",
       " 'Python': {'descendants': 1, 'score': 28},\n",
       " 'Ruby': {'descendants': 11, 'score': 59}}"
      ]
     },
     "execution_count": 5,
     "metadata": {},
     "output_type": "execute_result"
    }
   ],
   "source": [
    "count_languages()"
   ]
  },
  {
   "cell_type": "code",
   "execution_count": null,
   "metadata": {
    "collapsed": true
   },
   "outputs": [],
   "source": []
  }
 ],
 "metadata": {
  "kernelspec": {
   "display_name": "Python 2",
   "language": "python",
   "name": "python2"
  },
  "language_info": {
   "codemirror_mode": {
    "name": "ipython",
    "version": 2
   },
   "file_extension": ".py",
   "mimetype": "text/x-python",
   "name": "python",
   "nbconvert_exporter": "python",
   "pygments_lexer": "ipython2",
   "version": "2.7.6"
  }
 },
 "nbformat": 4,
 "nbformat_minor": 0
}
