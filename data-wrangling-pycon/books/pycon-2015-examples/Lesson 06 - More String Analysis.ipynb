{
 "cells": [
  {
   "cell_type": "code",
   "execution_count": 3,
   "metadata": {
    "collapsed": false
   },
   "outputs": [],
   "source": [
    "import requests\n",
    "from multiprocessing import Process, Manager\n",
    "from fuzzywuzzy import fuzz\n",
    "from textblob import TextBlob\n",
    "import re"
   ]
  },
  {
   "cell_type": "code",
   "execution_count": 4,
   "metadata": {
    "collapsed": true
   },
   "outputs": [],
   "source": [
    "def get_story(story_id, stories):\n",
    "    url = 'https://hacker-news.firebaseio.com/v0/item/%d.json' % story_id\n",
    "    resp = requests.get(url)\n",
    "    stories.append(resp.json())\n",
    "    return stories"
   ]
  },
  {
   "cell_type": "code",
   "execution_count": 5,
   "metadata": {
    "collapsed": true
   },
   "outputs": [],
   "source": [
    "def get_top_stories():\n",
    "    manager = Manager()\n",
    "    stories = manager.list()\n",
    "    url = 'https://hacker-news.firebaseio.com/v0/topstories.json'\n",
    "    ids = requests.get(url)\n",
    "    processes = [Process(target=get_story, args=(sid, stories))\n",
    "                 for sid in ids.json()[:40]]\n",
    "    for p in processes:\n",
    "        p.start()\n",
    "    for p in processes:\n",
    "        p.join()\n",
    "    return stories"
   ]
  },
  {
   "cell_type": "code",
   "execution_count": 6,
   "metadata": {
    "collapsed": true
   },
   "outputs": [],
   "source": [
    "def get_all_comments(sid):\n",
    "    manager = Manager()\n",
    "    comments = manager.list()\n",
    "    story = get_story(sid, [])\n",
    "    if not story[0].get('kids'):\n",
    "        return []\n",
    "    processes = [Process(target=get_story, args=(cid, comments))\n",
    "                 for cid in story[0].get('kids')]\n",
    "    for p in processes:\n",
    "        p.start()\n",
    "    for p in processes:\n",
    "        p.join()\n",
    "    return [c for c in comments if not c.get('deleted')]"
   ]
  },
  {
   "cell_type": "code",
   "execution_count": 7,
   "metadata": {
    "collapsed": true
   },
   "outputs": [],
   "source": [
    "def remove_html(text):\n",
    "    try:\n",
    "        return re.sub('<[^<]+?>', '', text)\n",
    "    except:\n",
    "        print text\n",
    "    return text"
   ]
  },
  {
   "cell_type": "code",
   "execution_count": 8,
   "metadata": {
    "collapsed": true
   },
   "outputs": [],
   "source": [
    "def is_match(first, second):\n",
    "    ratio = fuzz.token_sort_ratio(first, second)\n",
    "    if ratio > 50:\n",
    "        return True\n",
    "    return False"
   ]
  },
  {
   "cell_type": "code",
   "execution_count": 9,
   "metadata": {
    "collapsed": true
   },
   "outputs": [],
   "source": [
    "def find_matching_comments():\n",
    "    stories = get_top_stories()\n",
    "    comments = []\n",
    "    while len(comments) < 1:\n",
    "        for s in stories:\n",
    "            comments.extend(get_all_comments(s.get('id')))\n",
    "    matches = []\n",
    "    comment_text = ['%s - %s' % (c.get('by'),\n",
    "                                 remove_html(c.get('text'))) for c in comments]\n",
    "    for c in comments:\n",
    "        ctext = remove_html(c.get('text'))\n",
    "        comment_text.remove('%s - %s' % (c.get('by'), ctext))\n",
    "        for txt in comment_text:\n",
    "            if is_match(ctext, txt):\n",
    "                matches.append((c, txt))\n",
    "    return matches"
   ]
  },
  {
   "cell_type": "code",
   "execution_count": 10,
   "metadata": {
    "collapsed": true
   },
   "outputs": [],
   "source": [
    "def comment_sentiment():\n",
    "    stories = get_top_stories()\n",
    "    comments = get_all_comments(stories[0].get('id'))\n",
    "    for comm in comments:\n",
    "        comm['sentiment'] = TextBlob(comm.get(\n",
    "            'text')).sentiment.polarity\n",
    "    comments.sort(key=lambda x: x.get('sentiment'))\n",
    "    return comments"
   ]
  },
  {
   "cell_type": "code",
   "execution_count": 11,
   "metadata": {
    "collapsed": false
   },
   "outputs": [
    {
     "data": {
      "text/plain": [
       "[{u'by': u'seqizz',\n",
       "  u'id': 9921709,\n",
       "  u'kids': [9921739],\n",
       "  u'parent': 9921335,\n",
       "  'sentiment': -1.0,\n",
       "  u'text': u'Don&#x27;t be evil (with exceptions).',\n",
       "  u'time': 1437481801,\n",
       "  u'type': u'comment'},\n",
       " {u'by': u'HN_bias',\n",
       "  u'id': 9921714,\n",
       "  u'kids': [9921748],\n",
       "  u'parent': 9921335,\n",
       "  'sentiment': -0.45,\n",
       "  u'text': u'fuck you silicon valley money obsessed programmer. you are a traitor to hacker culture.',\n",
       "  u'time': 1437481849,\n",
       "  u'type': u'comment'},\n",
       " {u'by': u'dudul',\n",
       "  u'id': 9921780,\n",
       "  u'parent': 9921335,\n",
       "  'sentiment': -0.3333333333333333,\n",
       "  u'text': u'That may be shallow, but I can&#x27;t take her seriously because of the medium she picked to convey her story.<p>This is unreadable.',\n",
       "  u'time': 1437482551,\n",
       "  u'type': u'comment'},\n",
       " {u'by': u'deskamess',\n",
       "  u'id': 9921793,\n",
       "  u'parent': 9921335,\n",
       "  'sentiment': -0.15833333333333333,\n",
       "  u'text': u'For some reason I was under the impression the spreadsheet was set up to detect gender&#x2F;ethnicity based inequality in salaries. Not sure where I got that impression as the tweets do not mention it explicitly other than suggesting that some people asked and got increases.<p>At the end of the day, this is what I am curious about - was there inequality in pay, and if so, what was the difference.',\n",
       "  u'time': 1437482627,\n",
       "  u'type': u'comment'},\n",
       " {u'by': u'dbg31415',\n",
       "  u'id': 9921703,\n",
       "  u'kids': [9921806, 9921729],\n",
       "  u'parent': 9921335,\n",
       "  'sentiment': -0.0961489898989899,\n",
       "  u'text': u'So... here&#x27;s A problem with this.<p>Are you verifying that the users are actually who they say they are when they share salaries?  What if I were to go into the form and say that I was you, and that you made a billion dollars more than everyone else.  Would that cause drama?<p>This just seems like a horrible idea.  Feelings will be hurt.  Productivity will be lost.  Someone will quit.  Maybe someone will benefit, but it&#x27;s almost certainly not good for your team or your company.<p>People agree to work for salaries.  They put down numbers like what they earned at their last job, or what they are looking for in the new job, and then employers make offers based on that.  If someone agreed to work for a number, and is getting paid that... why make drama?',\n",
       "  u'time': 1437481732,\n",
       "  u'type': u'comment'},\n",
       " {u'by': u'deadmik3',\n",
       "  u'id': 9921762,\n",
       "  u'parent': 9921335,\n",
       "  'sentiment': -0.06973684210526317,\n",
       "  u'text': u'Was stringing together a couple dozen tweets really the best format to share a story like this?<p>There is a lot that&#x27;s left out. Once she vaguely mentions that another employee who was &quot;involved&quot; was still getting all of his peer bonuses (which may or may not have been PB&#x27;s for his &quot;involvement&quot;, we don&#x27;t know), the whole thing just crumbled into a victim story for me. OF COURSE the MALE coworker can do WHATEVER HE WANTS, as long as we don&#x27;t actually have any details about it.<p>Also, generally shit will hit the fan if you tell anyone to fuck off, especially if they&#x27;re your manager. Again, we don&#x27;t know that she told her manager to fuck off for being racist (??) because this is a terrible story told in a shitty format. But it&#x27;s implied. Just like everything else in this &quot;article&quot;.<p>tl;dr she got exactly what you would expect when you&#x27;re intentionally stirring shit up at any company. I&#x27;m not sure what she expected.',\n",
       "  u'time': 1437482342,\n",
       "  u'type': u'comment'},\n",
       " {u'by': u'tempodox',\n",
       "  u'id': 9921613,\n",
       "  u'kids': [9921674],\n",
       "  u'parent': 9921335,\n",
       "  'sentiment': -0.050000000000000044,\n",
       "  u'text': u'The article format is completely busted by Twitter&#x27;s display rules and made unreadable.  In this case, formatting the text in a readable way would probably get you sued.  Those tweets belong to Twitter now and are good for nothing else but ferrying ads.  I won&#x27;t have my time wasted by trying to read that crap.',\n",
       "  u'time': 1437480412,\n",
       "  u'type': u'comment'},\n",
       " {u'by': u'HN_bias',\n",
       "  u'id': 9921693,\n",
       "  u'kids': [9921795, 9921753, 9921710],\n",
       "  u'parent': 9921335,\n",
       "  'sentiment': -0.019696969696969702,\n",
       "  u'text': u'ive just discovered HN has an awful neoliberal bias, and is full of cunty fucking capitalist money obsessed techs. its a real shame you have this ignorance amongst supposedly intelligent people. as a result i wont be using it again, and i suggest you look at articles about politically sensitive subjects and watch them being removed from the front page double quick time. the comment strategy makes sure that no alternative opinions will remain online. fuck hacker news.',\n",
       "  u'time': 1437481564,\n",
       "  u'type': u'comment'},\n",
       " {u'by': u'gorgak',\n",
       "  u'dead': True,\n",
       "  u'id': 9921650,\n",
       "  u'parent': 9921335,\n",
       "  'sentiment': 0.0,\n",
       "  u'text': u'this was already on HN two days ago.',\n",
       "  u'time': 1437480989,\n",
       "  u'type': u'comment'},\n",
       " {u'by': u'bronxcoder',\n",
       "  u'id': 9921750,\n",
       "  u'kids': [9921799, 9921804],\n",
       "  u'parent': 9921335,\n",
       "  'sentiment': 0.0074074074074074,\n",
       "  u'text': u'I hate that wage disparity is being heralded as a gender issue. It&#x27;s really a negotiating problem. My coworker and I were hired together, same position, same experience, and offered the same salary. When I was offered the position, I asked for $15,000 more and they gave it to me. My coworker didn&#x27;t ask for more and is therefore now making $15,000 less than me. After six months, I asked for a raise of $5,000. He never asked for a raise. So now he makes $20,000 less than me.',\n",
       "  u'time': 1437482234,\n",
       "  u'type': u'comment'},\n",
       " {u'by': u'bakhy',\n",
       "  u'id': 9921720,\n",
       "  u'kids': [9921768, 9921783],\n",
       "  u'parent': 9921335,\n",
       "  'sentiment': 0.028030303030303023,\n",
       "  u'text': u'i hope things like this serve as a wake up call to all young talents willing to sacrifice their lives for these companies, enamored with some idealized visions of what they are and do.<p>a company is a company. an agent for making money, first and foremost. any positive change they bring is a side-effect, and due to their ever greater power they must constantly be policed, at least by releasing unpleasant information like this.',\n",
       "  u'time': 1437481909,\n",
       "  u'type': u'comment'},\n",
       " {u'by': u'littletimmy',\n",
       "  u'id': 9921769,\n",
       "  u'parent': 9921335,\n",
       "  'sentiment': 0.044444444444444446,\n",
       "  u'text': u'It is important that things like this come out into the open.<p>When the typical doe-eyed college senior steps into the real world and is tempted to drink Eric Schmidt&#x27;s kool-aid about changing the world (and how the honor of working at Google offsets the lower wage), such disclosures will help him understand that Google is just another money-making corporation. No more, no less.',\n",
       "  u'time': 1437482447,\n",
       "  u'type': u'comment'},\n",
       " {u'by': u'mdesq',\n",
       "  u'id': 9921764,\n",
       "  u'parent': 9921335,\n",
       "  'sentiment': 0.09375,\n",
       "  u'text': u'These big tech companies only love &quot;transparency&quot; when it&#x27;s other people&#x27;s data they want to look through.',\n",
       "  u'time': 1437482348,\n",
       "  u'type': u'comment'},\n",
       " {u'by': u'srj',\n",
       "  u'id': 9921717,\n",
       "  u'parent': 9921335,\n",
       "  'sentiment': 0.13571428571428573,\n",
       "  u'text': u'Managers evidently aren&#x27;t supposed to approve more than one peer bonus for the same single act. I work at Google and hadn&#x27;t heard of that policy before (then again, I&#x27;m not a manager) but it came up in an earlier thread.',\n",
       "  u'time': 1437481901,\n",
       "  u'type': u'comment'},\n",
       " {u'by': u'amelius',\n",
       "  u'id': 9921678,\n",
       "  u'kids': [9921771, 9921736, 9921801, 9921721, 9921725],\n",
       "  u'parent': 9921335,\n",
       "  'sentiment': 0.15000000000000002,\n",
       "  u'text': u'Google is a company that wants to have access to all the information in the world.<p>But if somebody rightfully publishes some information that is sensitive to Google, look what happens...',\n",
       "  u'time': 1437481401,\n",
       "  u'type': u'comment'},\n",
       " {u'by': u'thesch',\n",
       "  u'id': 9921654,\n",
       "  u'kids': [9921741, 9921724, 9921681],\n",
       "  u'parent': 9921335,\n",
       "  'sentiment': 0.1503411306042885,\n",
       "  u'text': u'a thing bothered me yesterday and it&#x27;s still bothering me today and so now i want to tell a story.<p>One Sunday, some former coworkers &amp; I were bored, talking about salaries on the internal social network instance. A spreadsheet was created. we put our salaries in the sheet, realized that it was created on a public to the world spreadsheet, so I copied it to internal. I then put a form on it and posted the link to the form and the spreadsheet on my internal social network account.<p>It took off like wildfire.<p>It got reshared all over the place. People started adding pivot tables that did spreadsheet magic that highlighted not great things re: pay. I did some general housekeeping stuff to the sheet (normalizing the gender field where it could be, exchange rate stuff, that sort of thing).<p>More reshares.<p>More people adding pay.<p>It became a thing.<p>I was invited to talk to my manager on Mon or Tues. Higher up people weren&#x27;t happy. She wasn&#x27;t happy. Why did I do it? &quot;Don&#x27;t you know what could happen?&quot; Nothing. It&#x27;s illegal to retaliate against employees for sharing salaries. &quot;Wellll....&quot;.<p>Meeting ended.<p>Sheet kept going.<p>People were thanking me for it. They were also sending me peer bonuses. here&#x27;s how peer bonuses work @ former co:<p>If you did something good, someone peer bonuses you, you get $150 net in your next paycheck. An important thing I learned during that time: peer bonuses are rewarded at managers discretion. My manager was rejecting all of them. Wasn&#x27;t sure if this would be good for the company. Wanted to see what the outcome was. Mind you once a PB is rejected, that can&#x27;t be undone.<p>Meanwhile, one of the other people involved, a white dude (good friend I won&#x27;t name, he can name himself if he wants), was also getting PBs. His weren&#x27;t getting rejected. I told him mine were. He was pissed. Wanted to tell everyone what was happening. I declined. A smattering of people knew what was going on. Backchannels being what they are at former co. (lol IRC #yallknowwhoyouare), it got around. Rejecting PBs was so unheard of, ppl didn&#x27;t know it was possible. There was outrage when they found out. Shock that I wasn&#x27;t talking abt it. Meanwhile, spreadsheet still going, getting spread around, pointed questions being thrown at mgmt about sharing salary ranges (hahah no). Most people agreed that it was A Good Thing. PBs kept rolling in. Rejections kept rolling out. One PB eventually got approved. Way after everything died down. Because the person worded it in a way that was vary vague. Any that were outright about the spreadsheet got rejected. 7 total in the end I think?<p>Higher ups still pissed. Some I used to support as an exec tech would pointedly not interact w&#x2F; me anymore. \\xaf_(\\u30c4)_&#x2F;\\xaf Before I left, about 5% of former co. had shared their salary on that sheet. People asked for &amp; got equitable pay based on data in the sheet. The world didn&#x27;t end. Everything didn&#x27;t go up in flames because salaries got shared. But shit got better for some people.<p>I explicitly gave ownership of the sheet to someone else before I left so it couldn&#x27;t be taken over by mgmt when I was gone (can happen).<p>I am thinking of this because of everyone celebrating the fact that Google put Ida B. Wells in the doodle yesterday. Ida B. Wells was great. She did stuff to affect change of such a magnitude that if I&#x27;m half the woman she was, I&#x27;m doing pretty good. I don&#x27;t claim to come close, but from time to time, I do stuff that will make things better for people at the expense of the establishment. I&#x27;m a pretty big believer in justice and fairness and will fight for both if necessary. Fighting for justice &amp; fairness INSIDE Google doesn&#x27;t go over well. Salary sharing is only 1 example. Blogger porn. Real names. Many others. Shit WILL hit the fan if you tell a racist (a well documented racist) to go fuck themselves though. In defense of the racist, obvi. So sure. Rah rah, Google did an Ida B. Wells doodle. Guaranteed that if Ida Wells were alive &amp; working at Google today, there&#x27;d be many private calendar meetings focused on &quot;her future&quot; there.<p>tl;dr the sharing of one doodle does not a bastion of support for justice and civil disobedience make.',\n",
       "  u'time': 1437481046,\n",
       "  u'type': u'comment'},\n",
       " {u'by': u'zyb09',\n",
       "  u'id': 9921810,\n",
       "  u'parent': 9921335,\n",
       "  'sentiment': 0.21759740259740262,\n",
       "  u'text': u'To be honest, what exactly did she want to accomplish with this? Where I live people are very hesitant of sharing their salary and doing something like this would be considered very rude. All it can possibly lead to is drama about salaries. Drama about why some people getting payed more then others. Should Google now start paying each and everyone exactly the same until everyone is happy? No of course not, it&#x27;s no secret companies have different salaries for different employees. What matters is that YOU feel ok with what you&#x27;re getting payed, not what others are earning.',\n",
       "  u'time': 1437482834,\n",
       "  u'type': u'comment'},\n",
       " {u'by': u'yc1010',\n",
       "  u'id': 9921637,\n",
       "  u'kids': [9921662, 9921655, 9921659, 9921745, 9921738, 9921644],\n",
       "  u'parent': 9921335,\n",
       "  'sentiment': 0.3,\n",
       "  u'text': u'Can someone please tl.dr this<p>First we had articles spread over dozens of pages for the laugh, now we have articles split into 160char segments, grrrrrr',\n",
       "  u'time': 1437480896,\n",
       "  u'type': u'comment'},\n",
       " {u'by': u'FilterSweep',\n",
       "  u'id': 9921682,\n",
       "  u'parent': 9921335,\n",
       "  'sentiment': 0.35714285714285715,\n",
       "  u'text': u'Most employees at large companies are just cogs in a machine.  At Google, they are lab rats.',\n",
       "  u'time': 1437481444,\n",
       "  u'type': u'comment'},\n",
       " {u'by': u'netrus',\n",
       "  u'id': 9921667,\n",
       "  u'kids': [9921722],\n",
       "  u'parent': 9921335,\n",
       "  'sentiment': 0.525,\n",
       "  u'text': u'Sooo ... it would be great to get a look on that sheet ;)',\n",
       "  u'time': 1437481165,\n",
       "  u'type': u'comment'},\n",
       " {u'by': u'Aoyagi',\n",
       "  u'id': 9921785,\n",
       "  u'parent': 9921335,\n",
       "  'sentiment': 0.75,\n",
       "  u'text': u'You&#x27;ve just given their analytics bunch of traffic from HN which looks like it came from Twitter. :P',\n",
       "  u'time': 1437482575,\n",
       "  u'type': u'comment'}]"
      ]
     },
     "execution_count": 11,
     "metadata": {},
     "output_type": "execute_result"
    }
   ],
   "source": [
    "comment_sentiment()"
   ]
  },
  {
   "cell_type": "code",
   "execution_count": 12,
   "metadata": {
    "collapsed": false
   },
   "outputs": [
    {
     "name": "stdout",
     "output_type": "stream",
     "text": [
      "None\n",
      "None\n"
     ]
    },
    {
     "ename": "TypeError",
     "evalue": "s1 is None",
     "output_type": "error",
     "traceback": [
      "\u001b[1;31m---------------------------------------------------------------------------\u001b[0m",
      "\u001b[1;31mTypeError\u001b[0m                                 Traceback (most recent call last)",
      "\u001b[1;32m<ipython-input-12-743894620cc0>\u001b[0m in \u001b[0;36m<module>\u001b[1;34m()\u001b[0m\n\u001b[1;32m----> 1\u001b[1;33m \u001b[0mfind_matching_comments\u001b[0m\u001b[1;33m(\u001b[0m\u001b[1;33m)\u001b[0m\u001b[1;33m\u001b[0m\u001b[0m\n\u001b[0m",
      "\u001b[1;32m<ipython-input-9-475387489fa9>\u001b[0m in \u001b[0;36mfind_matching_comments\u001b[1;34m()\u001b[0m\n\u001b[0;32m     12\u001b[0m         \u001b[0mcomment_text\u001b[0m\u001b[1;33m.\u001b[0m\u001b[0mremove\u001b[0m\u001b[1;33m(\u001b[0m\u001b[1;34m'%s - %s'\u001b[0m \u001b[1;33m%\u001b[0m \u001b[1;33m(\u001b[0m\u001b[0mc\u001b[0m\u001b[1;33m.\u001b[0m\u001b[0mget\u001b[0m\u001b[1;33m(\u001b[0m\u001b[1;34m'by'\u001b[0m\u001b[1;33m)\u001b[0m\u001b[1;33m,\u001b[0m \u001b[0mctext\u001b[0m\u001b[1;33m)\u001b[0m\u001b[1;33m)\u001b[0m\u001b[1;33m\u001b[0m\u001b[0m\n\u001b[0;32m     13\u001b[0m         \u001b[1;32mfor\u001b[0m \u001b[0mtxt\u001b[0m \u001b[1;32min\u001b[0m \u001b[0mcomment_text\u001b[0m\u001b[1;33m:\u001b[0m\u001b[1;33m\u001b[0m\u001b[0m\n\u001b[1;32m---> 14\u001b[1;33m             \u001b[1;32mif\u001b[0m \u001b[0mis_match\u001b[0m\u001b[1;33m(\u001b[0m\u001b[0mctext\u001b[0m\u001b[1;33m,\u001b[0m \u001b[0mtxt\u001b[0m\u001b[1;33m)\u001b[0m\u001b[1;33m:\u001b[0m\u001b[1;33m\u001b[0m\u001b[0m\n\u001b[0m\u001b[0;32m     15\u001b[0m                 \u001b[0mmatches\u001b[0m\u001b[1;33m.\u001b[0m\u001b[0mappend\u001b[0m\u001b[1;33m(\u001b[0m\u001b[1;33m(\u001b[0m\u001b[0mc\u001b[0m\u001b[1;33m,\u001b[0m \u001b[0mtxt\u001b[0m\u001b[1;33m)\u001b[0m\u001b[1;33m)\u001b[0m\u001b[1;33m\u001b[0m\u001b[0m\n\u001b[0;32m     16\u001b[0m     \u001b[1;32mreturn\u001b[0m \u001b[0mmatches\u001b[0m\u001b[1;33m\u001b[0m\u001b[0m\n",
      "\u001b[1;32m<ipython-input-8-123f3e8e5c14>\u001b[0m in \u001b[0;36mis_match\u001b[1;34m(first, second)\u001b[0m\n\u001b[0;32m      1\u001b[0m \u001b[1;32mdef\u001b[0m \u001b[0mis_match\u001b[0m\u001b[1;33m(\u001b[0m\u001b[0mfirst\u001b[0m\u001b[1;33m,\u001b[0m \u001b[0msecond\u001b[0m\u001b[1;33m)\u001b[0m\u001b[1;33m:\u001b[0m\u001b[1;33m\u001b[0m\u001b[0m\n\u001b[1;32m----> 2\u001b[1;33m     \u001b[0mratio\u001b[0m \u001b[1;33m=\u001b[0m \u001b[0mfuzz\u001b[0m\u001b[1;33m.\u001b[0m\u001b[0mtoken_sort_ratio\u001b[0m\u001b[1;33m(\u001b[0m\u001b[0mfirst\u001b[0m\u001b[1;33m,\u001b[0m \u001b[0msecond\u001b[0m\u001b[1;33m)\u001b[0m\u001b[1;33m\u001b[0m\u001b[0m\n\u001b[0m\u001b[0;32m      3\u001b[0m     \u001b[1;32mif\u001b[0m \u001b[0mratio\u001b[0m \u001b[1;33m>\u001b[0m \u001b[1;36m50\u001b[0m\u001b[1;33m:\u001b[0m\u001b[1;33m\u001b[0m\u001b[0m\n\u001b[0;32m      4\u001b[0m         \u001b[1;32mreturn\u001b[0m \u001b[0mTrue\u001b[0m\u001b[1;33m\u001b[0m\u001b[0m\n\u001b[0;32m      5\u001b[0m     \u001b[1;32mreturn\u001b[0m \u001b[0mFalse\u001b[0m\u001b[1;33m\u001b[0m\u001b[0m\n",
      "\u001b[1;32m/usr/local/lib/python2.7/dist-packages/fuzzywuzzy/fuzz.pyc\u001b[0m in \u001b[0;36mtoken_sort_ratio\u001b[1;34m(s1, s2, force_ascii)\u001b[0m\n\u001b[0;32m    137\u001b[0m     \u001b[0mbut\u001b[0m \u001b[0msorting\u001b[0m \u001b[0mthe\u001b[0m \u001b[0mtoken\u001b[0m \u001b[0mbefore\u001b[0m \u001b[0mcomparing\u001b[0m\u001b[1;33m.\u001b[0m\u001b[1;33m\u001b[0m\u001b[0m\n\u001b[0;32m    138\u001b[0m     \"\"\"\n\u001b[1;32m--> 139\u001b[1;33m     \u001b[1;32mreturn\u001b[0m \u001b[0m_token_sort\u001b[0m\u001b[1;33m(\u001b[0m\u001b[0ms1\u001b[0m\u001b[1;33m,\u001b[0m \u001b[0ms2\u001b[0m\u001b[1;33m,\u001b[0m \u001b[0mpartial\u001b[0m\u001b[1;33m=\u001b[0m\u001b[0mFalse\u001b[0m\u001b[1;33m,\u001b[0m \u001b[0mforce_ascii\u001b[0m\u001b[1;33m=\u001b[0m\u001b[0mforce_ascii\u001b[0m\u001b[1;33m)\u001b[0m\u001b[1;33m\u001b[0m\u001b[0m\n\u001b[0m\u001b[0;32m    140\u001b[0m \u001b[1;33m\u001b[0m\u001b[0m\n\u001b[0;32m    141\u001b[0m \u001b[1;33m\u001b[0m\u001b[0m\n",
      "\u001b[1;32m/usr/local/lib/python2.7/dist-packages/fuzzywuzzy/fuzz.pyc\u001b[0m in \u001b[0;36m_token_sort\u001b[1;34m(s1, s2, partial, force_ascii)\u001b[0m\n\u001b[0;32m    121\u001b[0m \u001b[1;33m\u001b[0m\u001b[0m\n\u001b[0;32m    122\u001b[0m     \u001b[1;32mif\u001b[0m \u001b[0ms1\u001b[0m \u001b[1;32mis\u001b[0m \u001b[0mNone\u001b[0m\u001b[1;33m:\u001b[0m\u001b[1;33m\u001b[0m\u001b[0m\n\u001b[1;32m--> 123\u001b[1;33m         \u001b[1;32mraise\u001b[0m \u001b[0mTypeError\u001b[0m\u001b[1;33m(\u001b[0m\u001b[1;34m\"s1 is None\"\u001b[0m\u001b[1;33m)\u001b[0m\u001b[1;33m\u001b[0m\u001b[0m\n\u001b[0m\u001b[0;32m    124\u001b[0m     \u001b[1;32mif\u001b[0m \u001b[0ms2\u001b[0m \u001b[1;32mis\u001b[0m \u001b[0mNone\u001b[0m\u001b[1;33m:\u001b[0m\u001b[1;33m\u001b[0m\u001b[0m\n\u001b[0;32m    125\u001b[0m         \u001b[1;32mraise\u001b[0m \u001b[0mTypeError\u001b[0m\u001b[1;33m(\u001b[0m\u001b[1;34m\"s2 is None\"\u001b[0m\u001b[1;33m)\u001b[0m\u001b[1;33m\u001b[0m\u001b[0m\n",
      "\u001b[1;31mTypeError\u001b[0m: s1 is None"
     ]
    }
   ],
   "source": [
    "find_matching_comments()"
   ]
  },
  {
   "cell_type": "code",
   "execution_count": null,
   "metadata": {
    "collapsed": true
   },
   "outputs": [],
   "source": []
  }
 ],
 "metadata": {
  "kernelspec": {
   "display_name": "Python 2",
   "language": "python",
   "name": "python2"
  },
  "language_info": {
   "codemirror_mode": {
    "name": "ipython",
    "version": 2
   },
   "file_extension": ".py",
   "mimetype": "text/x-python",
   "name": "python",
   "nbconvert_exporter": "python",
   "pygments_lexer": "ipython2",
   "version": "2.7.6"
  }
 },
 "nbformat": 4,
 "nbformat_minor": 0
}
