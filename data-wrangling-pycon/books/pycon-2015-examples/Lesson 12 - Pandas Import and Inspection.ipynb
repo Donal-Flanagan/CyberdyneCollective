{
 "cells": [
  {
   "cell_type": "code",
   "execution_count": 1,
   "metadata": {
    "collapsed": true
   },
   "outputs": [],
   "source": [
    "import pandas as pd"
   ]
  },
  {
   "cell_type": "code",
   "execution_count": 2,
   "metadata": {
    "collapsed": true
   },
   "outputs": [],
   "source": [
    "def get_wb_unemployment_data():\n",
    "    return pd.read_excel('../../data/wb/unemployment.xlsx',\n",
    "                         index_col=0, header=0, skiprows=[1])"
   ]
  },
  {
   "cell_type": "code",
   "execution_count": 3,
   "metadata": {
    "collapsed": true
   },
   "outputs": [],
   "source": [
    "def get_wb_market_data():\n",
    "    return pd.read_excel('../../data/wb/stock_market.xlsx',\n",
    "                         index_col=0, header=0, skiprows=[1])"
   ]
  },
  {
   "cell_type": "code",
   "execution_count": 4,
   "metadata": {
    "collapsed": true
   },
   "outputs": [],
   "source": [
    "def get_metadata():\n",
    "    return pd.read_excel('../../data/wb/stock_metadata.xlsx',\n",
    "                         sheetname=1, index_col=0, header=0)"
   ]
  },
  {
   "cell_type": "code",
   "execution_count": 5,
   "metadata": {
    "collapsed": false
   },
   "outputs": [],
   "source": [
    "market_data = get_wb_market_data()"
   ]
  },
  {
   "cell_type": "code",
   "execution_count": 6,
   "metadata": {
    "collapsed": false
   },
   "outputs": [
    {
     "data": {
      "text/plain": [
       "Int64Index([1996, 1997, 1998, 1999, 2000, 2001, 2002, 2003, 2004, 2005, 2006,\n",
       "            2007, 2008, 2009, 2010, 2011, 2012, 2013, 2014, 2015],\n",
       "           dtype='int64')"
      ]
     },
     "execution_count": 6,
     "metadata": {},
     "output_type": "execute_result"
    }
   ],
   "source": [
    "market_data.index"
   ]
  },
  {
   "cell_type": "code",
   "execution_count": 7,
   "metadata": {
    "collapsed": false
   },
   "outputs": [
    {
     "data": {
      "text/plain": [
       "Index([u'AREDSTKMKTXD', u'ARGDSTKMKTXD', u'AUSDSTKMKTXD', u'AUTDSTKMKTXD',\n",
       "       u'BELDSTKMKTXD', u'BGRDSTKMKTXD', u'BHRDSTKMKTXD', u'BIHDSTKMKTXD',\n",
       "       u'BRADSTKMKTXD', u'CANDSTKMKTXD', u'CHEDSTKMKTXD', u'CHLDSTKMKTXD',\n",
       "       u'CHNDSTKMKTXD', u'COLDSTKMKTXD', u'CZEDSTKMKTXD', u'DEUDSTKMKTXD',\n",
       "       u'DEVDSTKMKTXD', u'DNKDSTKMKTXD', u'EGYDSTKMKTXD', u'ESPDSTKMKTXD',\n",
       "       u'ESTDSTKMKTXD', u'FINDSTKMKTXD', u'FRADSTKMKTXD', u'GBRDSTKMKTXD',\n",
       "       u'GRCDSTKMKTXD', u'HIYDSTKMKTXD', u'HKGDSTKMKTXD', u'HRVDSTKMKTXD',\n",
       "       u'HUNDSTKMKTXD', u'IDNDSTKMKTXD', u'INDDSTKMKTXD', u'IRLDSTKMKTXD',\n",
       "       u'IRNDSTKMKTXD', u'ISLDSTKMKTXD', u'ISRDSTKMKTXD', u'ITADSTKMKTXD',\n",
       "       u'JORDSTKMKTXD', u'JPNDSTKMKTXD', u'KAZDSTKMKTXD', u'KENDSTKMKTXD',\n",
       "       u'KORDSTKMKTXD', u'KWTDSTKMKTXD', u'LACDSTKMKTXD', u'LBNDSTKMKTXD',\n",
       "       u'LKADSTKMKTXD', u'LTUDSTKMKTXD', u'LUXDSTKMKTXD', u'LVADSTKMKTXD',\n",
       "       u'MARDSTKMKTXD', u'MEXDSTKMKTXD', u'MKDDSTKMKTXD', u'MLTDSTKMKTXD',\n",
       "       u'MNEDSTKMKTXD', u'MWIDSTKMKTXD', u'MYSDSTKMKTXD', u'NGADSTKMKTXD',\n",
       "       u'NLDDSTKMKTXD', u'NORDSTKMKTXD', u'NZLDSTKMKTXD', u'OMNDSTKMKTXD',\n",
       "       u'PAKDSTKMKTXD', u'PERDSTKMKTXD', u'PHLDSTKMKTXD', u'POLDSTKMKTXD',\n",
       "       u'PRTDSTKMKTXD', u'QATDSTKMKTXD', u'ROMDSTKMKTXD', u'RUSDSTKMKTXD',\n",
       "       u'SAUDSTKMKTXD', u'SGPDSTKMKTXD', u'SRBDSTKMKTXD', u'SVKDSTKMKTXD',\n",
       "       u'SVNDSTKMKTXD', u'SWEDSTKMKTXD', u'THADSTKMKTXD', u'TUNDSTKMKTXD',\n",
       "       u'TURDSTKMKTXD', u'TWNDSTKMKTXD', u'UGADSTKMKTXD', u'UKRDSTKMKTXD',\n",
       "       u'USADSTKMKTXD', u'VENDSTKMKTXD', u'VNMDSTKMKTXD', u'ZAFDSTKMKTXD'],\n",
       "      dtype='object')"
      ]
     },
     "execution_count": 7,
     "metadata": {},
     "output_type": "execute_result"
    }
   ],
   "source": [
    "market_data.columns"
   ]
  },
  {
   "cell_type": "code",
   "execution_count": 8,
   "metadata": {
    "collapsed": false
   },
   "outputs": [
    {
     "data": {
      "text/plain": [
       "AREDSTKMKTXD    2008\n",
       "ARGDSTKMKTXD    2015\n",
       "AUSDSTKMKTXD    2007\n",
       "AUTDSTKMKTXD    2007\n",
       "BELDSTKMKTXD    2007\n",
       "BGRDSTKMKTXD    2007\n",
       "BHRDSTKMKTXD    2008\n",
       "BIHDSTKMKTXD    2009\n",
       "BRADSTKMKTXD    2010\n",
       "CANDSTKMKTXD    2014\n",
       "CHEDSTKMKTXD    2015\n",
       "CHLDSTKMKTXD    2011\n",
       "CHNDSTKMKTXD    2015\n",
       "COLDSTKMKTXD    2012\n",
       "CZEDSTKMKTXD    2007\n",
       "DEUDSTKMKTXD    2014\n",
       "DEVDSTKMKTXD    2007\n",
       "DNKDSTKMKTXD    2015\n",
       "EGYDSTKMKTXD    2008\n",
       "ESPDSTKMKTXD    2007\n",
       "ESTDSTKMKTXD    2007\n",
       "FINDSTKMKTXD    2007\n",
       "FRADSTKMKTXD    2007\n",
       "GBRDSTKMKTXD    2007\n",
       "GRCDSTKMKTXD    2007\n",
       "HIYDSTKMKTXD    2015\n",
       "HKGDSTKMKTXD    2015\n",
       "HRVDSTKMKTXD    2007\n",
       "HUNDSTKMKTXD    2007\n",
       "IDNDSTKMKTXD    2013\n",
       "                ... \n",
       "MYSDSTKMKTXD    2014\n",
       "NGADSTKMKTXD    2008\n",
       "NLDDSTKMKTXD    2007\n",
       "NORDSTKMKTXD    2014\n",
       "NZLDSTKMKTXD    2007\n",
       "OMNDSTKMKTXD    2008\n",
       "PAKDSTKMKTXD    2007\n",
       "PERDSTKMKTXD    2012\n",
       "PHLDSTKMKTXD    2015\n",
       "POLDSTKMKTXD    2007\n",
       "PRTDSTKMKTXD    2007\n",
       "QATDSTKMKTXD    2008\n",
       "ROMDSTKMKTXD    2007\n",
       "RUSDSTKMKTXD    2007\n",
       "SAUDSTKMKTXD    2006\n",
       "SGPDSTKMKTXD    2013\n",
       "SRBDSTKMKTXD    2011\n",
       "SVKDSTKMKTXD    2008\n",
       "SVNDSTKMKTXD    2007\n",
       "SWEDSTKMKTXD    2014\n",
       "THADSTKMKTXD    2013\n",
       "TUNDSTKMKTXD    2010\n",
       "TURDSTKMKTXD    2013\n",
       "TWNDSTKMKTXD    2015\n",
       "UGADSTKMKTXD    2015\n",
       "UKRDSTKMKTXD    2007\n",
       "USADSTKMKTXD    2015\n",
       "VENDSTKMKTXD    2015\n",
       "VNMDSTKMKTXD    2007\n",
       "ZAFDSTKMKTXD    2014\n",
       "dtype: int64"
      ]
     },
     "execution_count": 8,
     "metadata": {},
     "output_type": "execute_result"
    }
   ],
   "source": [
    "market_data.idxmax()"
   ]
  },
  {
   "cell_type": "code",
   "execution_count": 9,
   "metadata": {
    "collapsed": false
   },
   "outputs": [
    {
     "data": {
      "text/plain": [
       "AREDSTKMKTXD     274.42360\n",
       "ARGDSTKMKTXD     456.72880\n",
       "AUSDSTKMKTXD     117.79100\n",
       "AUTDSTKMKTXD     170.40430\n",
       "BELDSTKMKTXD     168.11300\n",
       "BGRDSTKMKTXD     336.26270\n",
       "BHRDSTKMKTXD     181.43890\n",
       "BIHDSTKMKTXD     112.09670\n",
       "BRADSTKMKTXD      99.28230\n",
       "CANDSTKMKTXD     118.62210\n",
       "CHEDSTKMKTXD     149.90280\n",
       "CHLDSTKMKTXD     123.26000\n",
       "CHNDSTKMKTXD     134.55030\n",
       "COLDSTKMKTXD     135.32290\n",
       "CZEDSTKMKTXD     136.21630\n",
       "DEUDSTKMKTXD     151.46010\n",
       "DEVDSTKMKTXD     107.42510\n",
       "DNKDSTKMKTXD     178.09010\n",
       "EGYDSTKMKTXD     122.73350\n",
       "ESPDSTKMKTXD     128.37630\n",
       "ESTDSTKMKTXD     177.62600\n",
       "FINDSTKMKTXD     162.20250\n",
       "FRADSTKMKTXD     140.24320\n",
       "GBRDSTKMKTXD     148.01340\n",
       "GRCDSTKMKTXD     219.53160\n",
       "HIYDSTKMKTXD     148.66590\n",
       "HKGDSTKMKTXD     120.48600\n",
       "HRVDSTKMKTXD     206.07510\n",
       "HUNDSTKMKTXD     121.22770\n",
       "IDNDSTKMKTXD     156.76020\n",
       "                   ...    \n",
       "MYSDSTKMKTXD     147.13860\n",
       "NGADSTKMKTXD     300.47380\n",
       "NLDDSTKMKTXD     149.45060\n",
       "NORDSTKMKTXD     143.50020\n",
       "NZLDSTKMKTXD     149.36620\n",
       "OMNDSTKMKTXD     165.37920\n",
       "PAKDSTKMKTXD     213.27600\n",
       "PERDSTKMKTXD     152.53990\n",
       "PHLDSTKMKTXD     260.31130\n",
       "POLDSTKMKTXD     152.18880\n",
       "PRTDSTKMKTXD     142.36400\n",
       "QATDSTKMKTXD     138.83280\n",
       "ROMDSTKMKTXD     217.95770\n",
       "RUSDSTKMKTXD     152.16590\n",
       "SAUDSTKMKTXD     204.09200\n",
       "SGPDSTKMKTXD     125.66080\n",
       "SRBDSTKMKTXD      91.86887\n",
       "SVKDSTKMKTXD     186.91100\n",
       "SVNDSTKMKTXD     207.03460\n",
       "SWEDSTKMKTXD     152.08600\n",
       "THADSTKMKTXD     216.71510\n",
       "TUNDSTKMKTXD     102.36570\n",
       "TURDSTKMKTXD     111.23970\n",
       "TWNDSTKMKTXD     119.67010\n",
       "UGADSTKMKTXD     167.64320\n",
       "UKRDSTKMKTXD     238.53840\n",
       "USADSTKMKTXD     170.75440\n",
       "VENDSTKMKTXD    7228.82700\n",
       "VNMDSTKMKTXD     230.84120\n",
       "ZAFDSTKMKTXD     122.20540\n",
       "dtype: float64"
      ]
     },
     "execution_count": 9,
     "metadata": {},
     "output_type": "execute_result"
    }
   ],
   "source": [
    "market_data.max()"
   ]
  },
  {
   "cell_type": "code",
   "execution_count": 11,
   "metadata": {
    "collapsed": false
   },
   "outputs": [
    {
     "data": {
      "text/plain": [
       "1996     66.25207\n",
       "1997     81.93109\n",
       "1998     97.26319\n",
       "1999    105.54330\n",
       "2000    103.27120\n",
       "2001     86.33995\n",
       "2002     74.45201\n",
       "2003     72.44655\n",
       "2004     92.26598\n",
       "2005    105.13290\n",
       "2006    124.69290\n",
       "2007    148.01340\n",
       "2008    114.35700\n",
       "2009     81.92638\n",
       "2010     97.39671\n",
       "2011    105.86250\n",
       "2012    105.85370\n",
       "2013    119.90020\n",
       "2014    131.75080\n",
       "2015    126.10910\n",
       "Name: GBRDSTKMKTXD, dtype: float64"
      ]
     },
     "execution_count": 11,
     "metadata": {},
     "output_type": "execute_result"
    }
   ],
   "source": [
    "market_data.GBRDSTKMKTXD"
   ]
  },
  {
   "cell_type": "code",
   "execution_count": 14,
   "metadata": {
    "collapsed": false
   },
   "outputs": [
    {
     "data": {
      "text/plain": [
       "AREDSTKMKTXD          NaN\n",
       "ARGDSTKMKTXD     23.91518\n",
       "AUSDSTKMKTXD     40.10000\n",
       "AUTDSTKMKTXD     37.32716\n",
       "BELDSTKMKTXD     62.57487\n",
       "BGRDSTKMKTXD          NaN\n",
       "BHRDSTKMKTXD          NaN\n",
       "BIHDSTKMKTXD          NaN\n",
       "BRADSTKMKTXD     15.10200\n",
       "CANDSTKMKTXD     34.27985\n",
       "CHEDSTKMKTXD     46.21229\n",
       "CHLDSTKMKTXD          NaN\n",
       "CHNDSTKMKTXD          NaN\n",
       "COLDSTKMKTXD          NaN\n",
       "CZEDSTKMKTXD     29.71150\n",
       "DEUDSTKMKTXD     39.65702\n",
       "DEVDSTKMKTXD     48.89241\n",
       "DNKDSTKMKTXD     32.19989\n",
       "EGYDSTKMKTXD          NaN\n",
       "ESPDSTKMKTXD     26.72446\n",
       "ESTDSTKMKTXD          NaN\n",
       "FINDSTKMKTXD     27.92461\n",
       "FRADSTKMKTXD     45.62223\n",
       "GBRDSTKMKTXD     66.25207\n",
       "GRCDSTKMKTXD     39.72202\n",
       "HIYDSTKMKTXD     65.71686\n",
       "HKGDSTKMKTXD     53.82249\n",
       "HRVDSTKMKTXD          NaN\n",
       "HUNDSTKMKTXD     16.54737\n",
       "IDNDSTKMKTXD     89.16140\n",
       "                  ...    \n",
       "MYSDSTKMKTXD    118.01740\n",
       "NGADSTKMKTXD          NaN\n",
       "NLDDSTKMKTXD     67.92361\n",
       "NORDSTKMKTXD     30.69806\n",
       "NZLDSTKMKTXD          NaN\n",
       "OMNDSTKMKTXD          NaN\n",
       "PAKDSTKMKTXD          NaN\n",
       "PERDSTKMKTXD     10.54254\n",
       "PHLDSTKMKTXD    176.24130\n",
       "POLDSTKMKTXD     56.63711\n",
       "PRTDSTKMKTXD     49.01035\n",
       "QATDSTKMKTXD          NaN\n",
       "ROMDSTKMKTXD          NaN\n",
       "RUSDSTKMKTXD     53.21031\n",
       "SAUDSTKMKTXD     21.61267\n",
       "SGPDSTKMKTXD     78.40222\n",
       "SRBDSTKMKTXD          NaN\n",
       "SVKDSTKMKTXD          NaN\n",
       "SVNDSTKMKTXD          NaN\n",
       "SWEDSTKMKTXD     40.30775\n",
       "THADSTKMKTXD    209.35410\n",
       "TUNDSTKMKTXD          NaN\n",
       "TURDSTKMKTXD     22.63481\n",
       "TWNDSTKMKTXD     85.58155\n",
       "UGADSTKMKTXD          NaN\n",
       "UKRDSTKMKTXD          NaN\n",
       "USADSTKMKTXD     54.84440\n",
       "VENDSTKMKTXD          NaN\n",
       "VNMDSTKMKTXD          NaN\n",
       "ZAFDSTKMKTXD          NaN\n",
       "Name: 1996, dtype: float64"
      ]
     },
     "execution_count": 14,
     "metadata": {},
     "output_type": "execute_result"
    }
   ],
   "source": [
    "market_data.iloc[0]"
   ]
  },
  {
   "cell_type": "code",
   "execution_count": null,
   "metadata": {
    "collapsed": true
   },
   "outputs": [],
   "source": []
  }
 ],
 "metadata": {
  "kernelspec": {
   "display_name": "Python 2",
   "language": "python",
   "name": "python2"
  },
  "language_info": {
   "codemirror_mode": {
    "name": "ipython",
    "version": 2
   },
   "file_extension": ".py",
   "mimetype": "text/x-python",
   "name": "python",
   "nbconvert_exporter": "python",
   "pygments_lexer": "ipython2",
   "version": "2.7.6"
  }
 },
 "nbformat": 4,
 "nbformat_minor": 0
}
