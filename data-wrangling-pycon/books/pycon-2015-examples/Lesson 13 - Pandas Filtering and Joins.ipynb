{
 "cells": [
  {
   "cell_type": "code",
   "execution_count": null,
   "metadata": {},
   "outputs": [],
   "source": [
    "import pandas as pd"
   ]
  },
  {
   "cell_type": "code",
   "execution_count": null,
   "metadata": {},
   "outputs": [],
   "source": [
    "def get_wb_unemployment_data():\n",
    "    return pd.read_excel('../../data/wb/unemployment.xlsx',\n",
    "                         index_col=0, header=0, skiprows=[1])"
   ]
  },
  {
   "cell_type": "code",
   "execution_count": null,
   "metadata": {},
   "outputs": [],
   "source": [
    "def get_wb_market_data():\n",
    "    return pd.read_excel('../../data/wb/stock_market.xlsx',\n",
    "                         index_col=0, header=0, skiprows=[1])"
   ]
  },
  {
   "cell_type": "code",
   "execution_count": null,
   "metadata": {},
   "outputs": [],
   "source": [
    "def get_metadata():\n",
    "    return pd.read_excel('../../data/wb/stock_metadata.xlsx',\n",
    "                         sheetname=1, index_col=0, header=0)"
   ]
  },
  {
   "cell_type": "code",
   "execution_count": null,
   "metadata": {},
   "outputs": [],
   "source": [
    "def get_gdp():\n",
    "    return pd.read_excel('../../data/wb/GDP_Current_Dollars.xlsx',\n",
    "                         index_col=3, header=0)"
   ]
  },
  {
   "cell_type": "code",
   "execution_count": null,
   "metadata": {},
   "outputs": [],
   "source": [
    "def clean_market_columns():\n",
    "    market_data = get_wb_market_data()\n",
    "    market_data.columns = market_data.columns.map(lambda x: x[:3])\n",
    "    market_data.index = market_data.index.map(lambda x: '{} SM'.format(x))\n",
    "    return market_data.transpose()"
   ]
  },
  {
   "cell_type": "code",
   "execution_count": null,
   "metadata": {},
   "outputs": [],
   "source": [
    "def update_gdp_cols(colname):\n",
    "    if colname[:4].isdigit():\n",
    "        return '{} GDP'.format(colname[:4])\n",
    "    return colname"
   ]
  },
  {
   "cell_type": "code",
   "execution_count": null,
   "metadata": {},
   "outputs": [],
   "source": [
    "def join_market_and_gdp():\n",
    "    market_data = clean_market_columns()\n",
    "    gdp_data = get_gdp()\n",
    "    gdp_data.columns = gdp_data.columns.map(update_gdp_cols)\n",
    "    return market_data.join(gdp_data)"
   ]
  },
  {
   "cell_type": "code",
   "execution_count": null,
   "metadata": {},
   "outputs": [],
   "source": [
    "joined = join_market_and_gdp()"
   ]
  },
  {
   "cell_type": "code",
   "execution_count": null,
   "metadata": {},
   "outputs": [],
   "source": [
    "joined"
   ]
  },
  {
   "cell_type": "code",
   "execution_count": null,
   "metadata": {},
   "outputs": [],
   "source": []
  }
 ],
 "metadata": {
  "kernelspec": {
   "display_name": "Python 2",
   "language": "python",
   "name": "python2"
  },
  "language_info": {
   "codemirror_mode": {
    "name": "ipython",
    "version": 2
   },
   "file_extension": ".py",
   "mimetype": "text/x-python",
   "name": "python",
   "nbconvert_exporter": "python",
   "pygments_lexer": "ipython2",
   "version": "2.7.6"
  }
 },
 "nbformat": 4,
 "nbformat_minor": 0
}
