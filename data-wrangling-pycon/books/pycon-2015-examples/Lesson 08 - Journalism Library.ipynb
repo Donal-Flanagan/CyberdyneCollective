{
 "cells": [
  {
   "cell_type": "code",
   "execution_count": 15,
   "metadata": {
    "collapsed": false
   },
   "outputs": [],
   "source": [
    "import journalism\n",
    "import logging\n",
    "from csv import reader\n",
    "\n",
    "text_type = journalism.TextType()\n",
    "number_type = journalism.NumberType()\n",
    "date_type = journalism.DateType()"
   ]
  },
  {
   "cell_type": "code",
   "execution_count": 16,
   "metadata": {
    "collapsed": true
   },
   "outputs": [],
   "source": [
    "def get_table(datarows, types, titles):\n",
    "    try:\n",
    "        table = journalism.Table(datarows, types, titles)\n",
    "        return table\n",
    "    except:\n",
    "        logging.exception('problem loading table')\n",
    "    return None"
   ]
  },
  {
   "cell_type": "code",
   "execution_count": 17,
   "metadata": {
    "collapsed": true
   },
   "outputs": [],
   "source": [
    "def clean_text(row):\n",
    "    new_row = []\n",
    "    for item in row:\n",
    "        if isinstance(item, (str, unicode)):\n",
    "            item = item.decode('utf-8', 'replace')\n",
    "        if item in [u'--', u'n/a']:\n",
    "            item = None\n",
    "        new_row.append(item)\n",
    "\n",
    "    return new_row"
   ]
  },
  {
   "cell_type": "code",
   "execution_count": 18,
   "metadata": {
    "collapsed": true
   },
   "outputs": [],
   "source": [
    "def clean_rows(all_rows):\n",
    "    new_data = []\n",
    "    for row in all_rows:\n",
    "        new_data.append(clean_text(row))\n",
    "    return new_data"
   ]
  },
  {
   "cell_type": "code",
   "execution_count": 22,
   "metadata": {
    "collapsed": true
   },
   "outputs": [],
   "source": [
    "def load_imf_data():\n",
    "    rdr = reader(open('../../data/imf_indicators.tsv', 'rb'), delimiter='\\t')\n",
    "    all_rows = [r for r in rdr if len(r) > 1]\n",
    "    titles = all_rows.pop(0)\n",
    "    cleaned_rows = clean_rows(all_rows)\n",
    "    types = [text_type, text_type, text_type, text_type, text_type,\n",
    "             number_type, number_type, number_type, number_type,\n",
    "             number_type, number_type, number_type, number_type,\n",
    "             date_type]\n",
    "    return get_table(cleaned_rows, types, titles)"
   ]
  },
  {
   "cell_type": "code",
   "execution_count": 23,
   "metadata": {
    "collapsed": true
   },
   "outputs": [],
   "source": [
    "def add_last_percent_change():\n",
    "    table = load_imf_data()\n",
    "    table = table.where(lambda r: r.get('2015') is not\n",
    "                        None and r.get('2014') is not None)\n",
    "    table = table.where(lambda r: 'Unemployment' in\n",
    "                        r.get('Subject Descriptor'))\n",
    "    table = table.percent_change('2014', '2015', 'last_change')\n",
    "    return table"
   ]
  },
  {
   "cell_type": "code",
   "execution_count": 24,
   "metadata": {
    "collapsed": false
   },
   "outputs": [],
   "source": [
    "table = add_last_percent_change()"
   ]
  },
  {
   "cell_type": "code",
   "execution_count": 25,
   "metadata": {
    "collapsed": false
   },
   "outputs": [
    {
     "data": {
      "text/plain": [
       "Decimal('-2.595430263422718959419383707')"
      ]
     },
     "execution_count": 25,
     "metadata": {},
     "output_type": "execute_result"
    }
   ],
   "source": [
    "table.columns['last_change'].mean()"
   ]
  },
  {
   "cell_type": "code",
   "execution_count": 26,
   "metadata": {
    "collapsed": false
   },
   "outputs": [
    {
     "data": {
      "text/plain": [
       "Decimal('8.016756756756756756756756757')"
      ]
     },
     "execution_count": 26,
     "metadata": {},
     "output_type": "execute_result"
    }
   ],
   "source": [
    "table.columns['2015'].mean()"
   ]
  },
  {
   "cell_type": "code",
   "execution_count": null,
   "metadata": {
    "collapsed": true
   },
   "outputs": [],
   "source": []
  }
 ],
 "metadata": {
  "kernelspec": {
   "display_name": "Python 2",
   "language": "python",
   "name": "python2"
  },
  "language_info": {
   "codemirror_mode": {
    "name": "ipython",
    "version": 2
   },
   "file_extension": ".py",
   "mimetype": "text/x-python",
   "name": "python",
   "nbconvert_exporter": "python",
   "pygments_lexer": "ipython2",
   "version": "2.7.6"
  }
 },
 "nbformat": 4,
 "nbformat_minor": 0
}
