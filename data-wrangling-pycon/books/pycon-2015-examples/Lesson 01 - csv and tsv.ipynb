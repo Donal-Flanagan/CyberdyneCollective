{
 "cells": [
  {
   "cell_type": "code",
   "execution_count": 2,
   "metadata": {
    "collapsed": false
   },
   "outputs": [
    {
     "ename": "SyntaxError",
     "evalue": "invalid syntax (<ipython-input-2-cb988a83f4ed>, line 8)",
     "output_type": "error",
     "traceback": [
      "\u001b[0;36m  File \u001b[0;32m\"<ipython-input-2-cb988a83f4ed>\"\u001b[0;36m, line \u001b[0;32m8\u001b[0m\n\u001b[0;31m    print all_lines[0].keys()\u001b[0m\n\u001b[0m                  ^\u001b[0m\n\u001b[0;31mSyntaxError\u001b[0m\u001b[0;31m:\u001b[0m invalid syntax\n"
     ]
    }
   ],
   "source": [
    "from csv import DictReader\n",
    "\n",
    "\n",
    "rdr = DictReader(open('../../data/imf_indicators.tsv', 'rb'), delimiter='\\t')\n",
    "\n",
    "all_lines = [r for r in rdr]\n",
    "\n",
    "print all_lines[0].keys()\n",
    "\n"
   ]
  },
  {
   "cell_type": "code",
   "execution_count": 3,
   "metadata": {
    "collapsed": false
   },
   "outputs": [
    {
     "ename": "SyntaxError",
     "evalue": "invalid syntax (<ipython-input-3-d832c1899c07>, line 4)",
     "output_type": "error",
     "traceback": [
      "\u001b[0;36m  File \u001b[0;32m\"<ipython-input-3-d832c1899c07>\"\u001b[0;36m, line \u001b[0;32m4\u001b[0m\n\u001b[0;31m    print '{}: {} ({} {})'.format(\u001b[0m\n\u001b[0m                         ^\u001b[0m\n\u001b[0;31mSyntaxError\u001b[0m\u001b[0;31m:\u001b[0m invalid syntax\n"
     ]
    }
   ],
   "source": [
    "for line in all_lines:\n",
    "    try:\n",
    "        if 'Gross domestic product' in line.get('Subject Descriptor') and \\\n",
    "           'international dollar' in line.get('Units'):\n",
    "            print '{}: {} ({} {})'.format(\n",
    "                line.get('Country'), line.get('2015'), '2015', line.get('Scale'))\n",
    "    except:\n",
    "        print \"ERROR: \", line\n"
   ]
  },
  {
   "cell_type": "code",
   "execution_count": null,
   "metadata": {
    "collapsed": true
   },
   "outputs": [],
   "source": []
  }
 ],
 "metadata": {
  "kernelspec": {
   "display_name": "Python 3",
   "language": "python",
   "name": "python3"
  },
  "language_info": {
   "codemirror_mode": {
    "name": "ipython",
    "version": 3
   },
   "file_extension": ".py",
   "mimetype": "text/x-python",
   "name": "python",
   "nbconvert_exporter": "python",
   "pygments_lexer": "ipython3",
   "version": "3.4.5"
  }
 },
 "nbformat": 4,
 "nbformat_minor": 0
}
