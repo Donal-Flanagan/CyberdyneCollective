{
 "cells": [
  {
   "cell_type": "code",
   "execution_count": 1,
   "metadata": {
    "collapsed": false
   },
   "outputs": [
    {
     "name": "stdout",
     "output_type": "stream",
     "text": [
      "['Country/Series-specific Notes', 'Scale', 'Estimates Start After', '2015', 'Country', 'Subject Descriptor', '2020', '2019', '2018', 'Units', '2014', '2017', '2016', '2013']\n"
     ]
    }
   ],
   "source": [
    "from csv import DictReader\n",
    "\n",
    "\n",
    "rdr = DictReader(open('../../data/imf_indicators.tsv', 'rb'), delimiter='\\t')\n",
    "\n",
    "all_lines = [r for r in rdr]\n",
    "\n",
    "print all_lines[0].keys()\n",
    "\n"
   ]
  },
  {
   "cell_type": "code",
   "execution_count": 2,
   "metadata": {
    "collapsed": false
   },
   "outputs": [
    {
     "name": "stdout",
     "output_type": "stream",
     "text": [
      "Australia: 1,136.565 (2015 Billions)\n",
      "Australia: 47,607.697 (2015 Units)\n",
      "Austria: 402.420 (2015 Billions)\n",
      "Austria: 47,031.004 (2015 Units)\n",
      "Belgium: 492.267 (2015 Billions)\n",
      "Belgium: 43,800.208 (2015 Units)\n",
      "Canada: 1,640.370 (2015 Billions)\n",
      "Canada: 45,722.971 (2015 Units)\n",
      "Cyprus: 27.700 (2015 Billions)\n",
      "Cyprus: 30,769.578 (2015 Units)\n",
      "Czech Republic: 325.285 (2015 Billions)\n",
      "Czech Republic: 30,895.365 (2015 Units)\n",
      "Denmark: 255.866 (2015 Billions)\n",
      "Denmark: 45,451.273 (2015 Units)\n",
      "Estonia: 36.845 (2015 Billions)\n",
      "Estonia: 27,994.860 (2015 Units)\n",
      "Finland: 224.846 (2015 Billions)\n",
      "Finland: 40,838.367 (2015 Units)\n",
      "France: 2,633.896 (2015 Billions)\n",
      "France: 41,018.205 (2015 Units)\n",
      "Germany: 3,815.462 (2015 Billions)\n",
      "Germany: 46,895.970 (2015 Units)\n",
      "Greece: 294.014 (2015 Billions)\n",
      "Greece: 26,773.369 (2015 Units)\n",
      "Hong Kong SAR: 412.300 (2015 Billions)\n",
      "Hong Kong SAR: 56,428.069 (2015 Units)\n",
      "Iceland: 14.837 (2015 Billions)\n",
      "Iceland: 45,268.941 (2015 Units)\n",
      "Ireland: 237.629 (2015 Billions)\n",
      "Ireland: 51,118.997 (2015 Units)\n",
      "Israel: 280.390 (2015 Billions)\n",
      "Israel: 33,495.170 (2015 Units)\n",
      "Italy: 2,157.123 (2015 Billions)\n",
      "Italy: 35,811.443 (2015 Units)\n",
      "Japan: 4,843.066 (2015 Billions)\n",
      "Japan: 38,215.917 (2015 Units)\n",
      "Korea: 1,853.515 (2015 Billions)\n",
      "Korea: 36,601.073 (2015 Units)\n",
      "Latvia: 49.731 (2015 Billions)\n",
      "Latvia: 24,540.593 (2015 Units)\n",
      "Lithuania: 82.622 (2015 Billions)\n",
      "Lithuania: 28,210.268 (2015 Units)\n",
      "Luxembourg: 53.174 (2015 Billions)\n",
      "Luxembourg: 93,173.614 (2015 Units)\n",
      "Malta: 14.716 (2015 Billions)\n",
      "Malta: 34,544.387 (2015 Units)\n",
      "Netherlands: 818.249 (2015 Billions)\n",
      "Netherlands: 48,317.050 (2015 Units)\n",
      "New Zealand: 164.965 (2015 Billions)\n",
      "New Zealand: 36,151.808 (2015 Units)\n",
      "Norway: 351.603 (2015 Billions)\n",
      "Norway: 67,445.198 (2015 Units)\n",
      "Portugal: 287.388 (2015 Billions)\n",
      "Portugal: 27,624.227 (2015 Units)\n",
      "San Marino: 1.942 (2015 Billions)\n",
      "San Marino: 61,836.317 (2015 Units)\n",
      "Singapore: 470.551 (2015 Billions)\n",
      "Singapore: 85,198.159 (2015 Units)\n",
      "Slovak Republic: 158.428 (2015 Billions)\n",
      "Slovak Republic: 29,209.564 (2015 Units)\n",
      "Slovenia: 62.949 (2015 Billions)\n",
      "Slovenia: 30,508.288 (2015 Units)\n",
      "Spain: 1,619.093 (2015 Billions)\n",
      "Spain: 34,899.403 (2015 Units)\n",
      "Sweden: 464.264 (2015 Billions)\n",
      "Sweden: 47,228.981 (2015 Units)\n",
      "Switzerland: 480.938 (2015 Billions)\n",
      "Switzerland: 58,730.924 (2015 Units)\n",
      "Taiwan Province of China: 1,125.338 (2015 Billions)\n",
      "Taiwan Province of China: 47,898.660 (2015 Units)\n",
      "United Kingdom: 2,641.432 (2015 Billions)\n",
      "United Kingdom: 40,676.475 (2015 Units)\n",
      "United States: 18,124.731 (2015 Billions)\n",
      "United States: 56,421.393 (2015 Units)\n",
      "ERROR:  {'Country/Series-specific Notes': None, 'Scale': None, 'Estimates Start After': None, '2015': None, 'Country': 'International Monetary Fund, World Economic Outlook Database, April 2015', 'Subject Descriptor': None, '2020': None, '2019': None, '2018': None, 'Units': None, '2014': None, '2017': None, '2016': None, '2013': None}\n"
     ]
    }
   ],
   "source": [
    "for line in all_lines:\n",
    "    try:\n",
    "        if 'Gross domestic product' in line.get('Subject Descriptor') and \\\n",
    "           'international dollar' in line.get('Units'):\n",
    "            print '{}: {} ({} {})'.format(\n",
    "                line.get('Country'), line.get('2015'), '2015', line.get('Scale'))\n",
    "    except:\n",
    "        print \"ERROR: \", line\n"
   ]
  },
  {
   "cell_type": "code",
   "execution_count": null,
   "metadata": {
    "collapsed": true
   },
   "outputs": [],
   "source": []
  }
 ],
 "metadata": {
  "kernelspec": {
   "display_name": "Python 2",
   "language": "python",
   "name": "python2"
  },
  "language_info": {
   "codemirror_mode": {
    "name": "ipython",
    "version": 2
   },
   "file_extension": ".py",
   "mimetype": "text/x-python",
   "name": "python",
   "nbconvert_exporter": "python",
   "pygments_lexer": "ipython2",
   "version": "2.7.6"
  }
 },
 "nbformat": 4,
 "nbformat_minor": 0
}
