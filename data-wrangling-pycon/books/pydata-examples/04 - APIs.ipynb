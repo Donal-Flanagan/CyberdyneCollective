{
 "cells": [
  {
   "cell_type": "code",
   "execution_count": null,
   "metadata": {
    "collapsed": true
   },
   "outputs": [],
   "source": [
    "import requests"
   ]
  },
  {
   "cell_type": "code",
   "execution_count": null,
   "metadata": {
    "collapsed": true
   },
   "outputs": [],
   "source": [
    "def get_story(story_id):\n",
    "    url = 'https://hacker-news.firebaseio.com/v0/item/%d.json' % story_id\n",
    "    resp = requests.get(url)\n",
    "    return resp.json()"
   ]
  },
  {
   "cell_type": "code",
   "execution_count": null,
   "metadata": {
    "collapsed": true
   },
   "outputs": [],
   "source": [
    "def get_top_stories():\n",
    "    url = 'https://hacker-news.firebaseio.com/v0/topstories.json'\n",
    "    resp = requests.get(url)\n",
    "    all_stories = [get_story(sid) for sid in resp.json()[:10]]\n",
    "    return all_stories"
   ]
  },
  {
   "cell_type": "code",
   "execution_count": null,
   "metadata": {
    "collapsed": false
   },
   "outputs": [],
   "source": [
    "import urllib3.contrib.pyopenssl\n",
    "urllib3.contrib.pyopenssl.inject_into_urllib3()"
   ]
  },
  {
   "cell_type": "code",
   "execution_count": null,
   "metadata": {
    "collapsed": false
   },
   "outputs": [],
   "source": [
    "top_stories = get_top_stories()"
   ]
  },
  {
   "cell_type": "code",
   "execution_count": null,
   "metadata": {
    "collapsed": false
   },
   "outputs": [],
   "source": [
    "top_stories[:5]"
   ]
  },
  {
   "cell_type": "code",
   "execution_count": null,
   "metadata": {
    "collapsed": true
   },
   "outputs": [],
   "source": [
    "MATCHING = (\n",
    "    ('Python', '(p|P)ython'),\n",
    "    ('Ruby', '(r|R)uby'),\n",
    "    ('JavaScript', 'js|(J|j)ava(s|S)cript'),\n",
    "    ('NodeJS', 'node(\\.?)(?:\\js|JS)'),\n",
    "    ('Java', '(j|J)ava[^(S|s)cript]'),\n",
    "    ('Objective-C', 'Obj(ective?)(?:\\ |-)(C|c)'),\n",
    "    ('Go', '(g|G)o'),\n",
    "    ('C++',  '(c|C)(\\+)+')\n",
    ")"
   ]
  },
  {
   "cell_type": "code",
   "execution_count": null,
   "metadata": {
    "collapsed": true
   },
   "outputs": [],
   "source": [
    "import re"
   ]
  },
  {
   "cell_type": "code",
   "execution_count": null,
   "metadata": {
    "collapsed": true
   },
   "outputs": [],
   "source": [
    "def count_languages():\n",
    "    stories = get_top_stories()\n",
    "    final_tallies = {}\n",
    "    for s in stories:\n",
    "        long_string = u'{} {}'.format(s.get('title'), s.get('url'))\n",
    "        for language, regex in dict(MATCHING).items():\n",
    "            if re.search(regex, long_string):\n",
    "                if language not in final_tallies.keys():\n",
    "                    final_tallies[language] = {\n",
    "                        'score': s.get('score'),\n",
    "                        'descendants': s.get('descendants')}\n",
    "                else:\n",
    "                    final_tallies[language]['score'] += s.get('score')\n",
    "                    final_tallies[language][\n",
    "                        'descendants'] += s.get('descendants')\n",
    "    return final_tallies"
   ]
  },
  {
   "cell_type": "code",
   "execution_count": null,
   "metadata": {
    "collapsed": false
   },
   "outputs": [],
   "source": [
    "count_languages()"
   ]
  },
  {
   "cell_type": "markdown",
   "metadata": {},
   "source": [
    "### Can you add the URL to this? What about a good Regex for matching Julia?\n",
    "\n",
    "Again, try it yourself first! :)"
   ]
  },
  {
   "cell_type": "code",
   "execution_count": null,
   "metadata": {
    "collapsed": false
   },
   "outputs": [],
   "source": [
    "%load solutions/regex_solution.py"
   ]
  },
  {
   "cell_type": "code",
   "execution_count": null,
   "metadata": {
    "collapsed": true
   },
   "outputs": [],
   "source": []
  }
 ],
 "metadata": {
  "kernelspec": {
   "display_name": "Python 3",
   "language": "python",
   "name": "python3"
  },
  "language_info": {
   "codemirror_mode": {
    "name": "ipython",
    "version": 3
   },
   "file_extension": ".py",
   "mimetype": "text/x-python",
   "name": "python",
   "nbconvert_exporter": "python",
   "pygments_lexer": "ipython3",
   "version": "3.4.3"
  }
 },
 "nbformat": 4,
 "nbformat_minor": 0
}
