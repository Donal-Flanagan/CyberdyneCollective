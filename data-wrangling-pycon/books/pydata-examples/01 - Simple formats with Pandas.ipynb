{
 "cells": [
  {
   "cell_type": "code",
   "execution_count": null,
   "metadata": {
    "collapsed": true
   },
   "outputs": [],
   "source": [
    "import pandas as pd"
   ]
  },
  {
   "cell_type": "code",
   "execution_count": null,
   "metadata": {
    "collapsed": false
   },
   "outputs": [],
   "source": [
    "df = pd.read_csv('../../data/imf_indicators.tsv', delimiter='\\t', encoding='ISO-8859-1')"
   ]
  },
  {
   "cell_type": "code",
   "execution_count": null,
   "metadata": {
    "collapsed": false
   },
   "outputs": [
    {
     "data": {
      "text/html": [
       "<div>\n",
       "<table border=\"1\" class=\"dataframe\">\n",
       "  <thead>\n",
       "    <tr style=\"text-align: right;\">\n",
       "      <th></th>\n",
       "      <th>Country</th>\n",
       "      <th>Subject Descriptor</th>\n",
       "      <th>Units</th>\n",
       "      <th>Scale</th>\n",
       "      <th>Country/Series-specific Notes</th>\n",
       "      <th>2013</th>\n",
       "      <th>2014</th>\n",
       "      <th>2015</th>\n",
       "      <th>2016</th>\n",
       "      <th>2017</th>\n",
       "      <th>2018</th>\n",
       "      <th>2019</th>\n",
       "      <th>2020</th>\n",
       "      <th>Estimates Start After</th>\n",
       "    </tr>\n",
       "  </thead>\n",
       "  <tbody>\n",
       "    <tr>\n",
       "      <th>0</th>\n",
       "      <td>Australia</td>\n",
       "      <td>Gross domestic product, constant prices</td>\n",
       "      <td>National currency</td>\n",
       "      <td>Billions</td>\n",
       "      <td>Source: National Statistical Office. Australia...</td>\n",
       "      <td>1,536.590</td>\n",
       "      <td>1,578.223</td>\n",
       "      <td>1,623.128</td>\n",
       "      <td>1,674.434</td>\n",
       "      <td>1,726.493</td>\n",
       "      <td>1,777.878</td>\n",
       "      <td>1,829.250</td>\n",
       "      <td>1,880.954</td>\n",
       "      <td>2014.0</td>\n",
       "    </tr>\n",
       "    <tr>\n",
       "      <th>1</th>\n",
       "      <td>Australia</td>\n",
       "      <td>Gross domestic product, constant prices</td>\n",
       "      <td>Percent change</td>\n",
       "      <td>NaN</td>\n",
       "      <td>See notes for:  Gross domestic product, consta...</td>\n",
       "      <td>2.057</td>\n",
       "      <td>2.709</td>\n",
       "      <td>2.845</td>\n",
       "      <td>3.161</td>\n",
       "      <td>3.109</td>\n",
       "      <td>2.976</td>\n",
       "      <td>2.890</td>\n",
       "      <td>2.827</td>\n",
       "      <td>2014.0</td>\n",
       "    </tr>\n",
       "    <tr>\n",
       "      <th>2</th>\n",
       "      <td>Australia</td>\n",
       "      <td>Gross domestic product, current prices</td>\n",
       "      <td>National currency</td>\n",
       "      <td>Billions</td>\n",
       "      <td>Source: National Statistical Office. Australia...</td>\n",
       "      <td>1,550.849</td>\n",
       "      <td>1,599.790</td>\n",
       "      <td>1,615.125</td>\n",
       "      <td>1,689.035</td>\n",
       "      <td>1,768.623</td>\n",
       "      <td>1,853.075</td>\n",
       "      <td>1,950.376</td>\n",
       "      <td>2,052.622</td>\n",
       "      <td>2014.0</td>\n",
       "    </tr>\n",
       "    <tr>\n",
       "      <th>3</th>\n",
       "      <td>Australia</td>\n",
       "      <td>Gross domestic product, current prices</td>\n",
       "      <td>U.S. dollars</td>\n",
       "      <td>Billions</td>\n",
       "      <td>See notes for:  Gross domestic product, curren...</td>\n",
       "      <td>1,501.883</td>\n",
       "      <td>1,444.189</td>\n",
       "      <td>1,252.273</td>\n",
       "      <td>1,281.729</td>\n",
       "      <td>1,323.938</td>\n",
       "      <td>1,370.832</td>\n",
       "      <td>1,427.612</td>\n",
       "      <td>1,490.895</td>\n",
       "      <td>2014.0</td>\n",
       "    </tr>\n",
       "    <tr>\n",
       "      <th>4</th>\n",
       "      <td>Australia</td>\n",
       "      <td>Gross domestic product, deflator</td>\n",
       "      <td>Index</td>\n",
       "      <td>NaN</td>\n",
       "      <td>See notes for:  Gross domestic product, consta...</td>\n",
       "      <td>100.928</td>\n",
       "      <td>101.367</td>\n",
       "      <td>99.507</td>\n",
       "      <td>100.872</td>\n",
       "      <td>102.440</td>\n",
       "      <td>104.230</td>\n",
       "      <td>106.622</td>\n",
       "      <td>109.127</td>\n",
       "      <td>2014.0</td>\n",
       "    </tr>\n",
       "  </tbody>\n",
       "</table>\n",
       "</div>"
      ],
      "text/plain": [
       "     Country                       Subject Descriptor              Units  \\\n",
       "0  Australia  Gross domestic product, constant prices  National currency   \n",
       "1  Australia  Gross domestic product, constant prices     Percent change   \n",
       "2  Australia   Gross domestic product, current prices  National currency   \n",
       "3  Australia   Gross domestic product, current prices       U.S. dollars   \n",
       "4  Australia         Gross domestic product, deflator              Index   \n",
       "\n",
       "      Scale                      Country/Series-specific Notes       2013  \\\n",
       "0  Billions  Source: National Statistical Office. Australia...  1,536.590   \n",
       "1       NaN  See notes for:  Gross domestic product, consta...      2.057   \n",
       "2  Billions  Source: National Statistical Office. Australia...  1,550.849   \n",
       "3  Billions  See notes for:  Gross domestic product, curren...  1,501.883   \n",
       "4       NaN  See notes for:  Gross domestic product, consta...    100.928   \n",
       "\n",
       "        2014       2015       2016       2017       2018       2019  \\\n",
       "0  1,578.223  1,623.128  1,674.434  1,726.493  1,777.878  1,829.250   \n",
       "1      2.709      2.845      3.161      3.109      2.976      2.890   \n",
       "2  1,599.790  1,615.125  1,689.035  1,768.623  1,853.075  1,950.376   \n",
       "3  1,444.189  1,252.273  1,281.729  1,323.938  1,370.832  1,427.612   \n",
       "4    101.367     99.507    100.872    102.440    104.230    106.622   \n",
       "\n",
       "        2020  Estimates Start After  \n",
       "0  1,880.954                 2014.0  \n",
       "1      2.827                 2014.0  \n",
       "2  2,052.622                 2014.0  \n",
       "3  1,490.895                 2014.0  \n",
       "4    109.127                 2014.0  "
      ]
     },
     "execution_count": 30,
     "metadata": {},
     "output_type": "execute_result"
    }
   ],
   "source": [
    "df.head()"
   ]
  },
  {
   "cell_type": "code",
   "execution_count": null,
   "metadata": {
    "collapsed": false
   },
   "outputs": [],
   "source": [
    "df.dtypes"
   ]
  },
  {
   "cell_type": "code",
   "execution_count": null,
   "metadata": {
    "collapsed": false
   },
   "outputs": [],
   "source": [
    "df = pd.read_csv('../../data/imf_indicators.tsv', delimiter='\\t', thousands=',', encoding='ISO-8859-1')"
   ]
  },
  {
   "cell_type": "code",
   "execution_count": null,
   "metadata": {
    "collapsed": false
   },
   "outputs": [],
   "source": [
    "df.dtypes"
   ]
  },
  {
   "cell_type": "code",
   "execution_count": null,
   "metadata": {
    "collapsed": false
   },
   "outputs": [],
   "source": [
    "df['2017'].value_counts()"
   ]
  },
  {
   "cell_type": "code",
   "execution_count": null,
   "metadata": {
    "collapsed": false
   },
   "outputs": [],
   "source": [
    "df = pd.read_csv('../../data/imf_indicators.tsv', delimiter='\\t', thousands=',', na_values=['n/a'], \n",
    "                 encoding='ISO-8859-1')"
   ]
  },
  {
   "cell_type": "code",
   "execution_count": null,
   "metadata": {
    "collapsed": false
   },
   "outputs": [],
   "source": [
    "df.dtypes"
   ]
  },
  {
   "cell_type": "code",
   "execution_count": null,
   "metadata": {
    "collapsed": false
   },
   "outputs": [],
   "source": [
    "df['Country'].value_counts()"
   ]
  },
  {
   "cell_type": "code",
   "execution_count": null,
   "metadata": {
    "collapsed": false
   },
   "outputs": [],
   "source": [
    "df[df['Country'] == 'Germany']"
   ]
  },
  {
   "cell_type": "markdown",
   "metadata": {},
   "source": [
    "### Show values and single out a particular subject descriptor or units or use both: & (and join) | (or join)"
   ]
  },
  {
   "cell_type": "code",
   "execution_count": null,
   "metadata": {
    "collapsed": false
   },
   "outputs": [],
   "source": [
    "df[(df['Country'] == 'Germany') & (df['Units'].isin(['National currency']))]"
   ]
  },
  {
   "cell_type": "code",
   "execution_count": null,
   "metadata": {
    "collapsed": true
   },
   "outputs": [],
   "source": []
  }
 ],
 "metadata": {
  "kernelspec": {
   "display_name": "Python 3",
   "language": "python",
   "name": "python3"
  },
  "language_info": {
   "codemirror_mode": {
    "name": "ipython",
    "version": 3
   },
   "file_extension": ".py",
   "mimetype": "text/x-python",
   "name": "python",
   "nbconvert_exporter": "python",
   "pygments_lexer": "ipython3",
   "version": "3.4.3"
  }
 },
 "nbformat": 4,
 "nbformat_minor": 0
}
