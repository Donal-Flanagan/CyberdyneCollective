{
 "cells": [
  {
   "cell_type": "code",
   "execution_count": 1,
   "metadata": {
    "collapsed": true
   },
   "outputs": [],
   "source": [
    "from distributed import Client\n",
    "from time import sleep\n",
    "import random\n",
    "import math"
   ]
  },
  {
   "cell_type": "code",
   "execution_count": 2,
   "metadata": {
    "collapsed": false
   },
   "outputs": [],
   "source": [
    "cl = Client()"
   ]
  },
  {
   "cell_type": "code",
   "execution_count": 3,
   "metadata": {
    "collapsed": false
   },
   "outputs": [
    {
     "data": {
      "text/plain": [
       "<Client: scheduler=\"127.0.0.1:33358\" processes=8 cores=8>"
      ]
     },
     "execution_count": 3,
     "metadata": {},
     "output_type": "execute_result"
    }
   ],
   "source": [
    "cl"
   ]
  },
  {
   "cell_type": "markdown",
   "metadata": {},
   "source": [
    "### Now you should have a scheduler here: http://localhost:8787/status"
   ]
  },
  {
   "cell_type": "code",
   "execution_count": 4,
   "metadata": {
    "collapsed": true
   },
   "outputs": [],
   "source": [
    "def nsleep(num_secs):\n",
    "    sleep(num_secs)\n",
    "    return num_secs"
   ]
  },
  {
   "cell_type": "code",
   "execution_count": 5,
   "metadata": {
    "collapsed": true
   },
   "outputs": [],
   "source": [
    "def get_rand_secs(max_int):\n",
    "    return random.randint(0, max_int)"
   ]
  },
  {
   "cell_type": "code",
   "execution_count": 6,
   "metadata": {
    "collapsed": true
   },
   "outputs": [],
   "source": [
    "def do_some_math_with_errors(number):\n",
    "    if number > 30:\n",
    "        return math.log(number)\n",
    "    elif number > 15:\n",
    "        return round(number / 3.0)\n",
    "    elif number >= 5:\n",
    "        return math.floor(number / 1.5)\n",
    "    elif number <= 2:\n",
    "        return number / 0\n",
    "    return number ** 2"
   ]
  },
  {
   "cell_type": "code",
   "execution_count": 7,
   "metadata": {
    "collapsed": true
   },
   "outputs": [],
   "source": [
    "def do_some_math(number):\n",
    "    if number > 30:\n",
    "        return math.log(number)\n",
    "    elif number > 15:\n",
    "        return round(number / 3.0)\n",
    "    elif number >= 5:\n",
    "        return math.floor(number / 1.5)\n",
    "    elif number <= 2:\n",
    "        return number \n",
    "    return number ** 2"
   ]
  },
  {
   "cell_type": "code",
   "execution_count": 8,
   "metadata": {
    "collapsed": true
   },
   "outputs": [],
   "source": [
    "random_secs = cl.map(get_rand_secs, range(200))"
   ]
  },
  {
   "cell_type": "code",
   "execution_count": 9,
   "metadata": {
    "collapsed": false
   },
   "outputs": [
    {
     "data": {
      "text/plain": [
       "[<Future: status: finished, type: int, key: get_rand_secs-15cf6cc7b778ccba5f338b9642b976f3>,\n",
       " <Future: status: finished, type: int, key: get_rand_secs-8b23bedfee459a48e084267f84f89e9a>,\n",
       " <Future: status: finished, type: int, key: get_rand_secs-f08e5e543792426d21f54ae491a8cd59>,\n",
       " <Future: status: finished, type: int, key: get_rand_secs-72830a7e4b8372fdda9caefec3a028b2>,\n",
       " <Future: status: finished, type: int, key: get_rand_secs-47f7b163368031ba794cba1fbad7ed83>,\n",
       " <Future: status: finished, type: int, key: get_rand_secs-f117ecf78ede714749400d254de49505>,\n",
       " <Future: status: finished, type: int, key: get_rand_secs-1f06e007fcf980654cb4219f6a8dbd00>,\n",
       " <Future: status: finished, type: int, key: get_rand_secs-1fba9bec5cf3604f73fbf8779660e86b>,\n",
       " <Future: status: finished, type: int, key: get_rand_secs-a8e290851ed758218b61926548a3b839>,\n",
       " <Future: status: finished, type: int, key: get_rand_secs-d300f2cdc876f1848452bdabdd3fe457>,\n",
       " <Future: status: finished, type: int, key: get_rand_secs-9bd58d33afc1d28403363adad0d10340>,\n",
       " <Future: status: finished, type: int, key: get_rand_secs-0b419a8ccdf36d8140db8e4493b67bbf>,\n",
       " <Future: status: finished, type: int, key: get_rand_secs-29023129b23449a121a577f8ef56811a>,\n",
       " <Future: status: finished, type: int, key: get_rand_secs-acca4aebb62a5c027093278eea5a01f1>,\n",
       " <Future: status: finished, type: int, key: get_rand_secs-4a8068501ff0f59da2c2c6e6cb4dea42>,\n",
       " <Future: status: finished, type: int, key: get_rand_secs-c5ff471192bdb541b074264a8ef1ee01>,\n",
       " <Future: status: finished, type: int, key: get_rand_secs-8f58e732f3b6693e564bce39fac01992>,\n",
       " <Future: status: finished, type: int, key: get_rand_secs-5b680f46bb2319d28fa830e8cf9ce651>,\n",
       " <Future: status: finished, type: int, key: get_rand_secs-f44aa53a9b8670f9d0b49368ac15527c>,\n",
       " <Future: status: finished, type: int, key: get_rand_secs-9031114f1aab11b0d1850a60ef43133c>,\n",
       " <Future: status: finished, type: int, key: get_rand_secs-3445fada84a02e8c3dcd328150f33111>,\n",
       " <Future: status: finished, type: int, key: get_rand_secs-a81c1958f99eb57e3fe88e2505d62150>,\n",
       " <Future: status: finished, type: int, key: get_rand_secs-0888945851aab75c540b09455aec337d>,\n",
       " <Future: status: finished, type: int, key: get_rand_secs-f5f0ce8cebb4e0ba29056c6acc85ab82>,\n",
       " <Future: status: finished, type: int, key: get_rand_secs-801831d97f9a4aa02c647b84f542e765>,\n",
       " <Future: status: finished, type: int, key: get_rand_secs-01db53119e244b3c8523c6e77bab720c>,\n",
       " <Future: status: finished, type: int, key: get_rand_secs-2bddf513bab157cbc4a6ba824d5124d8>,\n",
       " <Future: status: finished, type: int, key: get_rand_secs-7a9bc947c94f545aba8a6b90741dfb28>,\n",
       " <Future: status: finished, type: int, key: get_rand_secs-8445564e0a1028c8e5d98320867329f8>,\n",
       " <Future: status: finished, type: int, key: get_rand_secs-263a37533a95bba8020e039a2ff155d3>,\n",
       " <Future: status: finished, type: int, key: get_rand_secs-6c69693551e07bffb10f7f9a11517c85>,\n",
       " <Future: status: finished, type: int, key: get_rand_secs-7bdeb4b2b59930d73895eb2134cd0371>,\n",
       " <Future: status: finished, type: int, key: get_rand_secs-8226ab9cb298dc8de1390245d94a8ed3>,\n",
       " <Future: status: finished, type: int, key: get_rand_secs-f8061e805573ddc0fb90d05136647dae>,\n",
       " <Future: status: finished, type: int, key: get_rand_secs-2976991c93d3a9db3af14ca98ef8095e>,\n",
       " <Future: status: finished, type: int, key: get_rand_secs-45ef1de581f3ddd604a8336a4c98efe8>,\n",
       " <Future: status: finished, type: int, key: get_rand_secs-360c72c2b3b482a9420dda75928f8b47>,\n",
       " <Future: status: finished, type: int, key: get_rand_secs-dd52ed4dac8bbf295673ca9e05c260df>,\n",
       " <Future: status: finished, type: int, key: get_rand_secs-5921448cef15c12f6316c7499fab9625>,\n",
       " <Future: status: finished, type: int, key: get_rand_secs-519934b30b54196f787fbb506cee06d5>,\n",
       " <Future: status: finished, type: int, key: get_rand_secs-967510157353e57fb812af11c88cdccd>,\n",
       " <Future: status: finished, type: int, key: get_rand_secs-a582118483e0b0a95bf14871134e7c7d>,\n",
       " <Future: status: finished, type: int, key: get_rand_secs-03b6f93a41c2684b2bd1be1368ca62db>,\n",
       " <Future: status: finished, type: int, key: get_rand_secs-c1979131ad12674e84403de1c9e494a9>,\n",
       " <Future: status: finished, type: int, key: get_rand_secs-a0b36c84c314fe5e4a9483a20ba1bee5>,\n",
       " <Future: status: finished, type: int, key: get_rand_secs-91e652669c6e530b70a7c4a4bc186fba>,\n",
       " <Future: status: finished, type: int, key: get_rand_secs-0e28d52c6157d92b6637b4a4f8d5e85b>,\n",
       " <Future: status: finished, type: int, key: get_rand_secs-3ad76627a8ca73713708f42cbdf7f9e7>,\n",
       " <Future: status: finished, type: int, key: get_rand_secs-ef5a34ccc937e4c61c051d6b216be766>,\n",
       " <Future: status: finished, type: int, key: get_rand_secs-5a09fed39a83a554019b4b95ff066c15>,\n",
       " <Future: status: finished, type: int, key: get_rand_secs-5f968dc4e28a066826351bce9ed719fe>,\n",
       " <Future: status: finished, type: int, key: get_rand_secs-35d0ea7e25f6b0c0ef22f0512a752aae>,\n",
       " <Future: status: finished, type: int, key: get_rand_secs-3a0529d501b30965600861e3de2233b2>,\n",
       " <Future: status: finished, type: int, key: get_rand_secs-e98e68a64c623e39dc21509065d77697>,\n",
       " <Future: status: finished, type: int, key: get_rand_secs-0f4e5960c2a3fd33caa9c77fec92e330>,\n",
       " <Future: status: finished, type: int, key: get_rand_secs-7155651e9dbdbfc35f5d207a5580739f>,\n",
       " <Future: status: finished, type: int, key: get_rand_secs-cd605e00d999b0fe870552a55988e04c>,\n",
       " <Future: status: finished, type: int, key: get_rand_secs-111d6e90c992d0f28fcb7dc77d823744>,\n",
       " <Future: status: finished, type: int, key: get_rand_secs-76e855f7c63f327ceecc252c21a491fe>,\n",
       " <Future: status: finished, type: int, key: get_rand_secs-d73ef4ffacb7e5f9e3a3ac845f13af25>,\n",
       " <Future: status: finished, type: int, key: get_rand_secs-f8ee4dcfcc006f94e5aaf0edac9d8630>,\n",
       " <Future: status: finished, type: int, key: get_rand_secs-bd7b05ef600b7b9cba7a3674db474bd7>,\n",
       " <Future: status: finished, type: int, key: get_rand_secs-385d77d29659039241efbe1af30da507>,\n",
       " <Future: status: finished, type: int, key: get_rand_secs-13440d7eca5e1550c0e84da8c0522811>,\n",
       " <Future: status: finished, type: int, key: get_rand_secs-f382bf1304a402723941b70606746a61>,\n",
       " <Future: status: finished, type: int, key: get_rand_secs-cbfac3053ffbf6bc52e85945d8c0eeba>,\n",
       " <Future: status: finished, type: int, key: get_rand_secs-c48fc5c114a0db51cf010d3274067680>,\n",
       " <Future: status: finished, type: int, key: get_rand_secs-cdf43c576724148aa8642cebda27b44d>,\n",
       " <Future: status: finished, type: int, key: get_rand_secs-7722f0077b01457f3881d7a980c3b887>,\n",
       " <Future: status: finished, type: int, key: get_rand_secs-4252d7350614c7e908de82809cde9109>,\n",
       " <Future: status: finished, type: int, key: get_rand_secs-5ff707a50800c95d908207e9f6204e8b>,\n",
       " <Future: status: finished, type: int, key: get_rand_secs-29416231d91d655787128b5c38ec0b73>,\n",
       " <Future: status: finished, type: int, key: get_rand_secs-3100bffb0f2ce7b8d72dc96360ed0000>,\n",
       " <Future: status: finished, type: int, key: get_rand_secs-6d5530349eede61251149c2696b7beb8>,\n",
       " <Future: status: finished, type: int, key: get_rand_secs-282fd1f64ce156eca111e6a0808e3e77>,\n",
       " <Future: status: finished, type: int, key: get_rand_secs-f2b0f7b6463d21f847a08598106768b2>,\n",
       " <Future: status: finished, type: int, key: get_rand_secs-b83dfd43606dd1afdc4e6b2dde4508d3>,\n",
       " <Future: status: finished, type: int, key: get_rand_secs-894adc96d7efa929e271c137ddcef4cd>,\n",
       " <Future: status: finished, type: int, key: get_rand_secs-614e8c96fa6e6f7c0e8bec062aff31df>,\n",
       " <Future: status: finished, type: int, key: get_rand_secs-5578f380a1ef0a12ecf6056fc19770c5>,\n",
       " <Future: status: finished, type: int, key: get_rand_secs-1bfebf976fbbc43cdfce7e9bdb3157db>,\n",
       " <Future: status: finished, type: int, key: get_rand_secs-6ec71b2f0d45387e087c2e84f0cc9d0a>,\n",
       " <Future: status: finished, type: int, key: get_rand_secs-ca2397cb4231c00a4333d5789098c446>,\n",
       " <Future: status: finished, type: int, key: get_rand_secs-38fe7ae097c612592561e5bd67ece23a>,\n",
       " <Future: status: finished, type: int, key: get_rand_secs-7120a5743635530977bf7ec3362067d5>,\n",
       " <Future: status: finished, type: int, key: get_rand_secs-aa64658970312e0fd8b454a4ce722d8b>,\n",
       " <Future: status: finished, type: int, key: get_rand_secs-7eae2f98124883e8477090a73096219a>,\n",
       " <Future: status: finished, type: int, key: get_rand_secs-125cde2ff3909d0ef76de4759a50be8d>,\n",
       " <Future: status: finished, type: int, key: get_rand_secs-591c9ce6b438e7c7d1724460558258ba>,\n",
       " <Future: status: finished, type: int, key: get_rand_secs-2165e1627655d48d073cfaa4e038dd67>,\n",
       " <Future: status: finished, type: int, key: get_rand_secs-179b16e10202a31cd3b7f0a09cae72f9>,\n",
       " <Future: status: finished, type: int, key: get_rand_secs-61246c18e0d7ad150ea0b327f0bd9fe9>,\n",
       " <Future: status: finished, type: int, key: get_rand_secs-f1b093414ab669c71ec5e2338a6b62c1>,\n",
       " <Future: status: finished, type: int, key: get_rand_secs-62fb21ad0187180f395bb95f070ccb5b>,\n",
       " <Future: status: finished, type: int, key: get_rand_secs-bfe78e5fe74ddd36a454d16dba1c3ea3>,\n",
       " <Future: status: finished, type: int, key: get_rand_secs-aac3958dbf5fc7bc9a5f51f8810f7473>,\n",
       " <Future: status: finished, type: int, key: get_rand_secs-337fcbf0ca844cd873b92a69b0b14a5e>,\n",
       " <Future: status: finished, type: int, key: get_rand_secs-edd4b9c04777a131f83b72c1e7983a26>,\n",
       " <Future: status: finished, type: int, key: get_rand_secs-b561d708390be0e15fa9345cd39d4131>,\n",
       " <Future: status: finished, type: int, key: get_rand_secs-b0eac8019ed9ca90331f91824017d794>,\n",
       " <Future: status: finished, type: int, key: get_rand_secs-f6a7814fa2997d73300c2d090cc40f5d>,\n",
       " <Future: status: finished, type: int, key: get_rand_secs-a43c856ebf03f66aa08e039220ff1b23>,\n",
       " <Future: status: finished, type: int, key: get_rand_secs-9ea07357ac8e37e530926cf972c58b4a>,\n",
       " <Future: status: finished, type: int, key: get_rand_secs-31e98e5d981b42c7981935362f063e86>,\n",
       " <Future: status: finished, type: int, key: get_rand_secs-0b86f7411872b602b3d3a569b69353c2>,\n",
       " <Future: status: finished, type: int, key: get_rand_secs-5d3e21c3b2940529c3854078e77e6e8e>,\n",
       " <Future: status: finished, type: int, key: get_rand_secs-0c11745b444877e05981d57c374ee3de>,\n",
       " <Future: status: finished, type: int, key: get_rand_secs-aebf3e7a2635131455b8f6780765f880>,\n",
       " <Future: status: finished, type: int, key: get_rand_secs-3f824b1a7393c5466b4f0cf00d81c120>,\n",
       " <Future: status: finished, type: int, key: get_rand_secs-aed0cef1fb0777b731b9299daa5b30e9>,\n",
       " <Future: status: finished, type: int, key: get_rand_secs-2a8ae9ba53805536721f571a1889b78a>,\n",
       " <Future: status: finished, type: int, key: get_rand_secs-74dd96ba4a6969bf601c4b08dd928ae0>,\n",
       " <Future: status: finished, type: int, key: get_rand_secs-81fa627b612a7ba3dcf99ede17b5d711>,\n",
       " <Future: status: finished, type: int, key: get_rand_secs-a07c94a0a65381978c12b375e7ce3b59>,\n",
       " <Future: status: finished, type: int, key: get_rand_secs-b579239a49659f51ce72eb12ee0b6646>,\n",
       " <Future: status: finished, type: int, key: get_rand_secs-4c1ad579282bd70664e1c815a2aa78ae>,\n",
       " <Future: status: finished, type: int, key: get_rand_secs-fcc0509df2bc3fe5424cce7ddcb25a46>,\n",
       " <Future: status: finished, type: int, key: get_rand_secs-f40a8cfca817799505dc5d35b545beb9>,\n",
       " <Future: status: finished, type: int, key: get_rand_secs-76cbb53053df63c42ccbc4a29ebee0f5>,\n",
       " <Future: status: finished, type: int, key: get_rand_secs-661b1a40eae687c01f972f6856160645>,\n",
       " <Future: status: finished, type: int, key: get_rand_secs-5e6eafba1e26ba1250aa296c1b867512>,\n",
       " <Future: status: finished, type: int, key: get_rand_secs-8ee90c8ab3a59b869971a0bec44f467b>,\n",
       " <Future: status: finished, type: int, key: get_rand_secs-9904874ea198d397c76967a3832117eb>,\n",
       " <Future: status: finished, type: int, key: get_rand_secs-57b6ca733ef96f1ed94a3fc3545c9d3b>,\n",
       " <Future: status: finished, type: int, key: get_rand_secs-ebe9a89124053320aea7b3604bdda59f>,\n",
       " <Future: status: finished, type: int, key: get_rand_secs-ac516c857dc9314d63d0d82a68065617>,\n",
       " <Future: status: finished, type: int, key: get_rand_secs-6fd10baac46240548c481b4d7a1f9cbe>,\n",
       " <Future: status: finished, type: int, key: get_rand_secs-39024276aec16c97a0b7e32241ed291d>,\n",
       " <Future: status: finished, type: int, key: get_rand_secs-814c1ea86451ed19c8548e2949495fda>,\n",
       " <Future: status: finished, type: int, key: get_rand_secs-d9657e8727f806405d68e0926eec0237>,\n",
       " <Future: status: finished, type: int, key: get_rand_secs-3c6c1dd43a2f37d6d8595f021689695e>,\n",
       " <Future: status: finished, type: int, key: get_rand_secs-7faa1f241f3c37cf18a4ef81fd1468a7>,\n",
       " <Future: status: finished, type: int, key: get_rand_secs-ccfab2b3d7a3abf16d8f07728ab00721>,\n",
       " <Future: status: finished, type: int, key: get_rand_secs-c55f94a0494bed273bc69ee50a5b03fe>,\n",
       " <Future: status: finished, type: int, key: get_rand_secs-f78512f3d73bd5c718e0f58317e05a9b>,\n",
       " <Future: status: finished, type: int, key: get_rand_secs-ff4337efbe81875735cc063584704def>,\n",
       " <Future: status: finished, type: int, key: get_rand_secs-6429edb7954a5664e23a831f70f3e230>,\n",
       " <Future: status: finished, type: int, key: get_rand_secs-b0497bba27632af1c025f4e416611bd5>,\n",
       " <Future: status: finished, type: int, key: get_rand_secs-d751a72130b8de21657c64e8735973c6>,\n",
       " <Future: status: finished, type: int, key: get_rand_secs-f752225705f49d8c89d63fe8e350d282>,\n",
       " <Future: status: finished, type: int, key: get_rand_secs-400486a52f6294fea81bdf1c7b49e9a5>,\n",
       " <Future: status: finished, type: int, key: get_rand_secs-d2825fb14f3f69f9500eb1843d612ff3>,\n",
       " <Future: status: finished, type: int, key: get_rand_secs-78ed61c9998900b389b96f5da416a160>,\n",
       " <Future: status: finished, type: int, key: get_rand_secs-57ed491a523728788b9f00ec6c31113c>,\n",
       " <Future: status: finished, type: int, key: get_rand_secs-39ab9b6e1cbbf0b7ac71c13298da9d0e>,\n",
       " <Future: status: finished, type: int, key: get_rand_secs-9c8c4f8ec06373921be6110f6dd917ae>,\n",
       " <Future: status: finished, type: int, key: get_rand_secs-4277811aa7c3de1fea3cf87dd4eac646>,\n",
       " <Future: status: finished, type: int, key: get_rand_secs-e5ef391e7b369c171294c113f73e6d07>,\n",
       " <Future: status: finished, type: int, key: get_rand_secs-74b23e722e945a59455620ed0578ef5e>,\n",
       " <Future: status: finished, type: int, key: get_rand_secs-3de3dd9a81f2acd25128e830f5b09461>,\n",
       " <Future: status: finished, type: int, key: get_rand_secs-1e33abde1576d8456aa4e008c14d9cb3>,\n",
       " <Future: status: finished, type: int, key: get_rand_secs-745e7ca0e191ee881365e3ded506da5e>,\n",
       " <Future: status: finished, type: int, key: get_rand_secs-40f297c897019517451bb493e61f869c>,\n",
       " <Future: status: finished, type: int, key: get_rand_secs-5fa2d22c9d5d2ed37610af84275be397>,\n",
       " <Future: status: finished, type: int, key: get_rand_secs-81e4764ec0606d64604263955f668ddd>,\n",
       " <Future: status: finished, type: int, key: get_rand_secs-f7eee0650d6ecfc8d0cdad031335a1c2>,\n",
       " <Future: status: finished, type: int, key: get_rand_secs-c9369704c76b577bd5930c014f229b46>,\n",
       " <Future: status: finished, type: int, key: get_rand_secs-3e34ee28b5f84e24af75846463af16d1>,\n",
       " <Future: status: finished, type: int, key: get_rand_secs-6eae70f39c4a14bdc07edca646a3e728>,\n",
       " <Future: status: finished, type: int, key: get_rand_secs-65d6b2380b38220767d2ffc037464a04>,\n",
       " <Future: status: finished, type: int, key: get_rand_secs-a24352c58119e563827c9c6a6de698c4>,\n",
       " <Future: status: finished, type: int, key: get_rand_secs-b460626d6957c7c5858199eeb54e0384>,\n",
       " <Future: status: finished, type: int, key: get_rand_secs-dbfc00cba089d283ed4cf7c480b8a9d0>,\n",
       " <Future: status: finished, type: int, key: get_rand_secs-dee1c3e8247760944c4bdaa34e20b0e8>,\n",
       " <Future: status: finished, type: int, key: get_rand_secs-12434cae93a8ce94db86ca3ee265f925>,\n",
       " <Future: status: finished, type: int, key: get_rand_secs-7f211cd976984db786cbac0fae2de485>,\n",
       " <Future: status: finished, type: int, key: get_rand_secs-6c38be4999682d9120f82ed8849f551d>,\n",
       " <Future: status: finished, type: int, key: get_rand_secs-e85de1ade27343d97ae54a2b9fc0599c>,\n",
       " <Future: status: finished, type: int, key: get_rand_secs-a5f91b3247887566568b6b005f257b74>,\n",
       " <Future: status: finished, type: int, key: get_rand_secs-4eb86cb3906fc5915c5be36f6746980e>,\n",
       " <Future: status: finished, type: int, key: get_rand_secs-8b929f514b3b4b6d46a81997a0a809b6>,\n",
       " <Future: status: finished, type: int, key: get_rand_secs-9588dcfd410e86b5267b4dff3a1bda53>,\n",
       " <Future: status: finished, type: int, key: get_rand_secs-ac9f8f01620f2b2ea50512942f5dad38>,\n",
       " <Future: status: finished, type: int, key: get_rand_secs-163130bce26d829772f72ddd476c3b82>,\n",
       " <Future: status: finished, type: int, key: get_rand_secs-0e5c988df360c40c8ed80220957a68f4>,\n",
       " <Future: status: finished, type: int, key: get_rand_secs-2ceffc61f1fcf4be63d17efda2c9139c>,\n",
       " <Future: status: finished, type: int, key: get_rand_secs-92c9c3ddbd3ef4f9ff29338e48a044d9>,\n",
       " <Future: status: finished, type: int, key: get_rand_secs-15d710801bf9680c29f8370a4210763a>,\n",
       " <Future: status: finished, type: int, key: get_rand_secs-eb535aaaaf81a2a25d5ad55534705c87>,\n",
       " <Future: status: finished, type: int, key: get_rand_secs-60af66e01d6a8a6897c0c422bdca734c>,\n",
       " <Future: status: finished, type: int, key: get_rand_secs-907ae8e82c3695f541c93fd6e0b58d03>,\n",
       " <Future: status: finished, type: int, key: get_rand_secs-5fc565f1792276a25ef3516383293325>,\n",
       " <Future: status: finished, type: int, key: get_rand_secs-dae2b9b31eb571f791bb90edda3b9c69>,\n",
       " <Future: status: finished, type: int, key: get_rand_secs-6ea948ada7d9aa88f0a0b4141f3d8778>,\n",
       " <Future: status: finished, type: int, key: get_rand_secs-f2e827787659c79987795393c10b5390>,\n",
       " <Future: status: finished, type: int, key: get_rand_secs-5f42c91d371efa761a927e3141d31404>,\n",
       " <Future: status: finished, type: int, key: get_rand_secs-e14249495c50cb4ad973d0881eac538e>,\n",
       " <Future: status: finished, type: int, key: get_rand_secs-57402df42de0381a672d1c854c5d1f0a>,\n",
       " <Future: status: finished, type: int, key: get_rand_secs-6c2e096b77ba6beaab9b9a8668f76e9a>,\n",
       " <Future: status: finished, type: int, key: get_rand_secs-e64d9f8024eddf06c6e66fb5692ffa09>,\n",
       " <Future: status: finished, type: int, key: get_rand_secs-a45d7ac3cc09b92ac523a2d0c95d6ebb>,\n",
       " <Future: status: finished, type: int, key: get_rand_secs-704ccacbf5a5acd8c4f462f0d7f7085c>,\n",
       " <Future: status: finished, type: int, key: get_rand_secs-5ca7849a8d0c564ac96d7ad26dde4c02>,\n",
       " <Future: status: finished, type: int, key: get_rand_secs-4e5108b589f96f85849103bcab121900>,\n",
       " <Future: status: finished, type: int, key: get_rand_secs-c345049c9915285c7d0952fc458debac>,\n",
       " <Future: status: finished, type: int, key: get_rand_secs-df453dea80a73eae0dca3347850d6517>,\n",
       " <Future: status: finished, type: int, key: get_rand_secs-ad4dc0c8cd131495419ca52fc902fa57>,\n",
       " <Future: status: finished, type: int, key: get_rand_secs-a56d3ebd39de84d136156fc5223b1c46>,\n",
       " <Future: status: finished, type: int, key: get_rand_secs-7278c6c4a0bedf18969a1b42a9892a16>,\n",
       " <Future: status: finished, type: int, key: get_rand_secs-1587a04e8800b624862e7aa09e40a12a>]"
      ]
     },
     "execution_count": 9,
     "metadata": {},
     "output_type": "execute_result"
    }
   ],
   "source": [
    "random_secs"
   ]
  },
  {
   "cell_type": "code",
   "execution_count": 10,
   "metadata": {
    "collapsed": false
   },
   "outputs": [
    {
     "data": {
      "text/plain": [
       "[0, 0, 0, 1, 0, 4, 1, 7, 5, 7]"
      ]
     },
     "execution_count": 10,
     "metadata": {},
     "output_type": "execute_result"
    }
   ],
   "source": [
    "cl.gather(random_secs)[:10]"
   ]
  },
  {
   "cell_type": "code",
   "execution_count": 11,
   "metadata": {
    "collapsed": false
   },
   "outputs": [],
   "source": [
    "random_math = cl.map(do_some_math_with_errors, random_secs)"
   ]
  },
  {
   "cell_type": "code",
   "execution_count": 12,
   "metadata": {
    "collapsed": false
   },
   "outputs": [],
   "source": [
    "excs = [(e.traceback(), e.exception()) for e in random_math if e.exception()]"
   ]
  },
  {
   "cell_type": "code",
   "execution_count": 13,
   "metadata": {
    "collapsed": false
   },
   "outputs": [
    {
     "data": {
      "text/plain": [
       "(<traceback at 0x7f833c77c908>, ZeroDivisionError('division by zero'))"
      ]
     },
     "execution_count": 13,
     "metadata": {},
     "output_type": "execute_result"
    }
   ],
   "source": [
    "excs[0]"
   ]
  },
  {
   "cell_type": "code",
   "execution_count": 14,
   "metadata": {
    "collapsed": true
   },
   "outputs": [],
   "source": [
    "random_math = cl.map(do_some_math, random_secs)"
   ]
  },
  {
   "cell_type": "code",
   "execution_count": 15,
   "metadata": {
    "collapsed": true
   },
   "outputs": [],
   "source": [
    "random_sleeps = cl.map(nsleep, random_math)"
   ]
  },
  {
   "cell_type": "code",
   "execution_count": 16,
   "metadata": {
    "collapsed": false
   },
   "outputs": [
    {
     "data": {
      "text/plain": [
       "[<Future: status: finished, type: int, key: nsleep-e75087c08cff8ccbe4e10e68ff1c46d4>,\n",
       " <Future: status: finished, type: int, key: nsleep-7d6df8bc10b883eb8532a6d0b42b50fa>,\n",
       " <Future: status: finished, type: int, key: nsleep-40c054137d1c1ea2eaa5f2decbea6ad2>,\n",
       " <Future: status: pending, key: nsleep-c29551ff0a4ce9bc0fb56aa1edc99145>,\n",
       " <Future: status: pending, key: nsleep-2d53657530cd2b850246300b5d0b1a6b>,\n",
       " <Future: status: pending, key: nsleep-e70b3349affe14aeec1b34db52071f3a>,\n",
       " <Future: status: pending, key: nsleep-fec39bfdf1e8293c4880913768ca2768>,\n",
       " <Future: status: pending, key: nsleep-36177ae2cb506a154cec1bebdfd4c813>,\n",
       " <Future: status: pending, key: nsleep-a702fb96763ad9a65137bc5e964ff07f>,\n",
       " <Future: status: pending, key: nsleep-39ff81da710943e123a7272df228a571>,\n",
       " <Future: status: pending, key: nsleep-6adb1bbd32af4a31e2592f0bcb83b5ad>,\n",
       " <Future: status: pending, key: nsleep-e777e9b8832302be3bdcc2f1134cd17a>,\n",
       " <Future: status: pending, key: nsleep-bcd56b100f40100395a4d79add9b98d9>,\n",
       " <Future: status: pending, key: nsleep-bdc63f6e0c2b185360ae3e0890d89997>,\n",
       " <Future: status: pending, key: nsleep-cbd79d857ca99069998273a6eb25d33d>,\n",
       " <Future: status: pending, key: nsleep-57ffcbc4b4a082c46b7d44ea33e546ca>,\n",
       " <Future: status: pending, key: nsleep-afeb47b0d5a102b9901baa7a36dfd12c>,\n",
       " <Future: status: pending, key: nsleep-564cbc5705d03e191add43dbcec2e6ff>,\n",
       " <Future: status: pending, key: nsleep-32aeb5d00bb93fb2f11fba18a5e9b6d9>,\n",
       " <Future: status: pending, key: nsleep-b7b46ab55124a72562185d41a3716985>,\n",
       " <Future: status: pending, key: nsleep-7346062e3b372f0ec4c20430657fbd98>,\n",
       " <Future: status: pending, key: nsleep-55bbb986896bd759ef755cb059a0888c>,\n",
       " <Future: status: pending, key: nsleep-b97bd62f57430d6d9bd5fe0c572f0b14>,\n",
       " <Future: status: pending, key: nsleep-e9c6ea0e03697f765a2feaa1a8e54edd>,\n",
       " <Future: status: pending, key: nsleep-4634b91ff9f76dc37d0f3546535e4cff>,\n",
       " <Future: status: pending, key: nsleep-d206fce43c4846d3726316a1592ae744>,\n",
       " <Future: status: pending, key: nsleep-5bac53d7b0ea4f3b0d18c0e8a757f2b4>,\n",
       " <Future: status: pending, key: nsleep-413d06bb7a43134dc1b4d7af3c9f3b5a>,\n",
       " <Future: status: pending, key: nsleep-0592f9e3a7c4610dddc69dc3d875a83c>,\n",
       " <Future: status: pending, key: nsleep-7e44c051d8c95484c38d29648641ce30>,\n",
       " <Future: status: pending, key: nsleep-405583e37f8b30033322ea0f4e2a92ae>,\n",
       " <Future: status: pending, key: nsleep-e43e7bfcf2e222d599872a91408b4219>,\n",
       " <Future: status: pending, key: nsleep-69aa23d5d9dd4181411aa64dd5a4e1c7>,\n",
       " <Future: status: pending, key: nsleep-8f353fa14b1cbb118535744a24de6b4a>,\n",
       " <Future: status: pending, key: nsleep-a5515d6811ee615dbe643de7a6eb3833>,\n",
       " <Future: status: pending, key: nsleep-8663c81487afe4a03aa3fc4a4979d8d0>,\n",
       " <Future: status: pending, key: nsleep-cdd42eaea5e5eee2a65fc2644aeba5d8>,\n",
       " <Future: status: pending, key: nsleep-c57bff1f8b1db130231c900328a64811>,\n",
       " <Future: status: pending, key: nsleep-de6fcfbf8ee1b843a645a7febde8b08a>,\n",
       " <Future: status: pending, key: nsleep-220d09731923dce6ea09f7aecf28b239>,\n",
       " <Future: status: pending, key: nsleep-3ab02750770ba1c646a89e7e42c75173>,\n",
       " <Future: status: pending, key: nsleep-c766a0c389842a7be1f4847d7f95f19b>,\n",
       " <Future: status: pending, key: nsleep-d9f1af5debb5f87f1a5ae0f08efc8fda>,\n",
       " <Future: status: pending, key: nsleep-70f124abf3de900b1f236f1b3c4da77f>,\n",
       " <Future: status: pending, key: nsleep-c973514544168b38baeeaf048e613282>,\n",
       " <Future: status: pending, key: nsleep-3ed8cc2a85108df88c8e4fbabd3b395e>,\n",
       " <Future: status: pending, key: nsleep-2842593a33e6164b8388d8d501bc85fb>,\n",
       " <Future: status: pending, key: nsleep-8f9b1f4de90a7f14a273e893240f735b>,\n",
       " <Future: status: pending, key: nsleep-ef951dae45e1ce6e5cf8cb30e003253e>,\n",
       " <Future: status: pending, key: nsleep-e5ec2329d7b0a98793fc33e4aa62b034>,\n",
       " <Future: status: pending, key: nsleep-e48ce843ace56eba612aa2e348503cee>,\n",
       " <Future: status: pending, key: nsleep-be1a0764788bc9f1a31487d8b4b47633>,\n",
       " <Future: status: pending, key: nsleep-1d5e65263b1a17d7fae8275595b3e584>,\n",
       " <Future: status: pending, key: nsleep-b8be5324ef9794c8c9c71c439a29051e>,\n",
       " <Future: status: pending, key: nsleep-c01ee492faf3e1f8c8ecc3e61cb996e3>,\n",
       " <Future: status: pending, key: nsleep-a0802e8b0d075afa7aad3db79de65caa>,\n",
       " <Future: status: pending, key: nsleep-0395dacaa0ccc3ecd4505d78e6502021>,\n",
       " <Future: status: pending, key: nsleep-509ea385da9b45a6b57033b3d06f9bf4>,\n",
       " <Future: status: pending, key: nsleep-8e75fd1e101d6cceaee09a089fc9699c>,\n",
       " <Future: status: pending, key: nsleep-d2d908a51627e85023184947afd740d5>,\n",
       " <Future: status: pending, key: nsleep-29d0bd1b32ea6c59dd4199f2c63ad334>,\n",
       " <Future: status: pending, key: nsleep-a1175512cf2c77295ef3f29559c04591>,\n",
       " <Future: status: pending, key: nsleep-7b0232d3f5ef378ca1f93c85185dfdf0>,\n",
       " <Future: status: pending, key: nsleep-29c8dd8a65822d9ef3f17054bf9d6ea1>,\n",
       " <Future: status: pending, key: nsleep-923b20a31480b6e6a986a0d29d7bad4e>,\n",
       " <Future: status: pending, key: nsleep-a9d8ab500a49b36ce9dcd557ee7a0aca>,\n",
       " <Future: status: pending, key: nsleep-a701cd4eafd415b4ed68db333f642ad3>,\n",
       " <Future: status: pending, key: nsleep-719e99c80a4eef3b55a8745c1aba5068>,\n",
       " <Future: status: pending, key: nsleep-db5f16b5bc947908aee32ab1b337bd07>,\n",
       " <Future: status: pending, key: nsleep-d79fb5a5e981af4aca9e108cb59cfbbc>,\n",
       " <Future: status: pending, key: nsleep-4f505006e153486871395ad308017bbf>,\n",
       " <Future: status: pending, key: nsleep-696388f1da93f9d97b8b9a0108bef464>,\n",
       " <Future: status: pending, key: nsleep-de7e2a2b013e45ac56c1696378c44a36>,\n",
       " <Future: status: pending, key: nsleep-136c19966f16a4f074d7641c72804ca5>,\n",
       " <Future: status: pending, key: nsleep-8e2cab5a2b4b3a9edb91334277502bd6>,\n",
       " <Future: status: pending, key: nsleep-8a293da9ea8352a2baecd575fb2e4445>,\n",
       " <Future: status: pending, key: nsleep-72fb7cf9b49ddeeaf919b7329465b145>,\n",
       " <Future: status: pending, key: nsleep-02272fea0764fcc8985d11994de91c3c>,\n",
       " <Future: status: pending, key: nsleep-165b8d566507aeb74ae6b29551c89839>,\n",
       " <Future: status: pending, key: nsleep-de7be093eb6a8e1147a3df0885548914>,\n",
       " <Future: status: pending, key: nsleep-7730159f84091ce780204b4535304ef5>,\n",
       " <Future: status: pending, key: nsleep-7a441d76613b94430ba6a4df5056fed5>,\n",
       " <Future: status: pending, key: nsleep-b182dd762b3e3fa782dc947207a1da9a>,\n",
       " <Future: status: pending, key: nsleep-96c6006de6f741ce2c93f3319609f5a9>,\n",
       " <Future: status: pending, key: nsleep-074aed198c2435eb486b1a7a88facf9b>,\n",
       " <Future: status: pending, key: nsleep-5c689d7c2484d660db6115cda6f3c084>,\n",
       " <Future: status: pending, key: nsleep-585aba3b1104d8ebea3f14f7d8367321>,\n",
       " <Future: status: pending, key: nsleep-12721a3adf6d3178c341d62de3570906>,\n",
       " <Future: status: pending, key: nsleep-43eaec942ade4019067fb62e586d27f4>,\n",
       " <Future: status: pending, key: nsleep-c96fbd954762ab64481488c2716d0c85>,\n",
       " <Future: status: pending, key: nsleep-52c1113c4986793714393a402506cc5a>,\n",
       " <Future: status: pending, key: nsleep-95315ca87eac07bd1e1a6e1bf7faec98>,\n",
       " <Future: status: pending, key: nsleep-e81dbe37e7be845085fded304650b365>,\n",
       " <Future: status: pending, key: nsleep-1ac2b56d54d8aa4b717b777f603be0b2>,\n",
       " <Future: status: pending, key: nsleep-c7f1ea921a538c5d9d0b45e7ed522641>,\n",
       " <Future: status: pending, key: nsleep-d04874393fd03cf4c2ef2977a92dc263>,\n",
       " <Future: status: pending, key: nsleep-00a0cf3cc74c3c71050a8a9b8fae79cd>,\n",
       " <Future: status: pending, key: nsleep-73704448f57f44036a7c9b6f4b4d00fe>,\n",
       " <Future: status: pending, key: nsleep-d6eecb78cb98f2d737dde61e073c6041>,\n",
       " <Future: status: pending, key: nsleep-3f2a8b8493b188f0d53bf6d65da649f4>,\n",
       " <Future: status: pending, key: nsleep-7dca20904a327bf07d44c18a0513d152>,\n",
       " <Future: status: pending, key: nsleep-05d305735c52eb7534eb4c21575fd082>,\n",
       " <Future: status: pending, key: nsleep-9c92455441c1d27723876099b3fb1eae>,\n",
       " <Future: status: pending, key: nsleep-7e457183d0684515c4d126ff46f099ce>,\n",
       " <Future: status: pending, key: nsleep-c30d8d3b497fb39f34f5acde5d4303e4>,\n",
       " <Future: status: pending, key: nsleep-ac4c459c0972866ad566832f33c3edcd>,\n",
       " <Future: status: pending, key: nsleep-5a71d0ace29adf39aa763558b564bb17>,\n",
       " <Future: status: pending, key: nsleep-79303a1b418dbfd604e65234b95be321>,\n",
       " <Future: status: pending, key: nsleep-b8a49c7302016b240e6e8996e336564a>,\n",
       " <Future: status: pending, key: nsleep-e93b76256ef2283fc839616409ceb13b>,\n",
       " <Future: status: pending, key: nsleep-98393ce8c397b0e69ff4e61688c8b990>,\n",
       " <Future: status: pending, key: nsleep-e039653ce35a74c9e593c44ef0b524d0>,\n",
       " <Future: status: pending, key: nsleep-dd064b9e0171e652842d843e52dccd28>,\n",
       " <Future: status: pending, key: nsleep-32cc87252dd1f5b029b12d107f3154ae>,\n",
       " <Future: status: pending, key: nsleep-fb72ae27827679ae037241f80f91dc2b>,\n",
       " <Future: status: pending, key: nsleep-2e983b4f198f33b4544665c3101cd1c0>,\n",
       " <Future: status: pending, key: nsleep-d5dd59547db2b63d950d6b4df3a33866>,\n",
       " <Future: status: pending, key: nsleep-ecdef778fb314d60d858158bc44918b8>,\n",
       " <Future: status: pending, key: nsleep-4ff40d0f92a1e6c34fed61c46552dca9>,\n",
       " <Future: status: pending, key: nsleep-e6799522ac81204add22de0227b09e87>,\n",
       " <Future: status: pending, key: nsleep-85ce143bf72c1e64c5b72a34e2ab6458>,\n",
       " <Future: status: pending, key: nsleep-ca3407b6c745580af2302159b5994daf>,\n",
       " <Future: status: pending, key: nsleep-13a4097f2e9b97800f8295220ea280fe>,\n",
       " <Future: status: pending, key: nsleep-d63af21aa141813bf1f3b5b9deda2942>,\n",
       " <Future: status: pending, key: nsleep-b670ac359d799d6fa2108cd59c43401f>,\n",
       " <Future: status: pending, key: nsleep-cbbe2290f82cbc8e428eef3586007775>,\n",
       " <Future: status: pending, key: nsleep-52bfe1b6a45675371a09c50b1e346bcd>,\n",
       " <Future: status: pending, key: nsleep-052c14e10a35dc30ed4537eccf270928>,\n",
       " <Future: status: pending, key: nsleep-e8661b103c35eb7b3de8b9dfe95c602d>,\n",
       " <Future: status: pending, key: nsleep-35f6efe0abb34f3a6b6747c564698756>,\n",
       " <Future: status: pending, key: nsleep-ee1f6133e04d237dcbc0128bac803ed0>,\n",
       " <Future: status: pending, key: nsleep-f9b2ec67c227ba8ce1afddd26964cb4b>,\n",
       " <Future: status: pending, key: nsleep-39c47cd36acd7db8a026d6c82f1a9807>,\n",
       " <Future: status: pending, key: nsleep-35aa9d3629e0712ed973192b1e156241>,\n",
       " <Future: status: pending, key: nsleep-59a079f8702f1684710b2b43f65545ba>,\n",
       " <Future: status: pending, key: nsleep-2e624861fc5b1a3f61764dae35319766>,\n",
       " <Future: status: pending, key: nsleep-621734bb04877a058c8e58615599c661>,\n",
       " <Future: status: pending, key: nsleep-a9eeb791ce4f8b87a49fcd4794bd6dac>,\n",
       " <Future: status: pending, key: nsleep-e1127f6c47ca5f49184f4a2b30ade3cf>,\n",
       " <Future: status: pending, key: nsleep-82b98cd915f82360698b13f51be32638>,\n",
       " <Future: status: pending, key: nsleep-25fe0da146eb1d068cf459ffe812f618>,\n",
       " <Future: status: pending, key: nsleep-c77ef8575b30c23cc886de18e3934b37>,\n",
       " <Future: status: pending, key: nsleep-013cd6cb27d605ad7029a5deeb5b69a0>,\n",
       " <Future: status: pending, key: nsleep-82d8d5dc99daefa7193c130422836196>,\n",
       " <Future: status: pending, key: nsleep-afbacfd12ed1e93688e846e2e2f77921>,\n",
       " <Future: status: pending, key: nsleep-29c4dacba3af346fcdaacfd1dd759173>,\n",
       " <Future: status: pending, key: nsleep-114798361f27e1209cce5a7daa753446>,\n",
       " <Future: status: pending, key: nsleep-8def93a290b6990176989cc4e364dce1>,\n",
       " <Future: status: pending, key: nsleep-d599e7b2007b3fd81567c56afeaeb3cb>,\n",
       " <Future: status: pending, key: nsleep-90b206eee2da0bcd01879be2f62d06c8>,\n",
       " <Future: status: pending, key: nsleep-080f5adc17be389b76c73b309afc51eb>,\n",
       " <Future: status: pending, key: nsleep-9ab823caabe88ccfc5bc308da12d0b26>,\n",
       " <Future: status: pending, key: nsleep-19c349a3b219400fcad8c11e09300230>,\n",
       " <Future: status: pending, key: nsleep-b4bc2a1969b4de88abeb3fb16a35412c>,\n",
       " <Future: status: pending, key: nsleep-61cab30b7ce2e33476792ceac5d7577c>,\n",
       " <Future: status: pending, key: nsleep-5da0aac547d5c304849790e3a4798015>,\n",
       " <Future: status: pending, key: nsleep-fb02dfb6066382e87afdb7012e903288>,\n",
       " <Future: status: pending, key: nsleep-7da6252016163a63b0dbb167b2ff3540>,\n",
       " <Future: status: pending, key: nsleep-7c07722888e5128f238d68a2c9327403>,\n",
       " <Future: status: pending, key: nsleep-b57e3311a658c0b25eaf50bb78773d98>,\n",
       " <Future: status: pending, key: nsleep-ce200c7a5efaa03bac42253717451c6d>,\n",
       " <Future: status: pending, key: nsleep-545b8f99e0c7adb546493bdd5648aa6d>,\n",
       " <Future: status: pending, key: nsleep-589b30fa67c8a3d7026220ef26843c55>,\n",
       " <Future: status: pending, key: nsleep-8e59d45444bf681567c32a342a77cb23>,\n",
       " <Future: status: pending, key: nsleep-4d4bdc1640b7f2298630dcd6d1f1db8e>,\n",
       " <Future: status: pending, key: nsleep-6ac8b2ed3792173104d067cd9327c523>,\n",
       " <Future: status: pending, key: nsleep-bd12520aacb8d35e70e4275beaf8e8d7>,\n",
       " <Future: status: pending, key: nsleep-20147dfd89e40a9883fbffc1e53a899c>,\n",
       " <Future: status: pending, key: nsleep-1f389ac1dd5bfc756377f27e43820599>,\n",
       " <Future: status: pending, key: nsleep-5c3b80e6f8ae562b39659c107263295b>,\n",
       " <Future: status: pending, key: nsleep-9724fee5ba6495aa600cf4d8121c7b31>,\n",
       " <Future: status: pending, key: nsleep-5062227cd6af66da88bb3f27f9a8a646>,\n",
       " <Future: status: pending, key: nsleep-caf1527a5b47b9b893fc87f2bcf06d2b>,\n",
       " <Future: status: pending, key: nsleep-788ab0f520587de708885aadd483ac72>,\n",
       " <Future: status: pending, key: nsleep-56dc8318a298b36375ce6701b8c03d76>,\n",
       " <Future: status: pending, key: nsleep-8ab38f5e8f096e0c89302a695391d639>,\n",
       " <Future: status: pending, key: nsleep-2aaeb97bf68c131fd615103d090f4843>,\n",
       " <Future: status: pending, key: nsleep-defea89820893ea9dbd5d2eb80a43065>,\n",
       " <Future: status: pending, key: nsleep-bd2416d5316d5a6c4f1f90a60b2e63de>,\n",
       " <Future: status: pending, key: nsleep-72edb983a553143a980f1a9280c9f9a5>,\n",
       " <Future: status: pending, key: nsleep-c35ae1af569c881031c66228f4627691>,\n",
       " <Future: status: pending, key: nsleep-47759aa4c35ccdf8f7dbbc31889d84bf>,\n",
       " <Future: status: pending, key: nsleep-16adc3514561e904b6fee08472355622>,\n",
       " <Future: status: pending, key: nsleep-a7d72d62cb353aa678052c00748d5b18>,\n",
       " <Future: status: pending, key: nsleep-0e90d04161b9af60f8b26b55aefbc223>,\n",
       " <Future: status: pending, key: nsleep-a31aee2a14760c600eef3729748c2e59>,\n",
       " <Future: status: pending, key: nsleep-8573b5ca611dd0cb214546d9854a1f70>,\n",
       " <Future: status: pending, key: nsleep-b82e81ce78dcd8078e5fdd7c0d356cae>,\n",
       " <Future: status: pending, key: nsleep-c9062d79e39f9e867e13322ff28a4b44>,\n",
       " <Future: status: pending, key: nsleep-e0f1e8a528fba4c6bbd709ee55ac6a53>,\n",
       " <Future: status: pending, key: nsleep-98c50e4f378a290bed96fc6de4741f35>,\n",
       " <Future: status: pending, key: nsleep-bca922f28875a242c049f5f45fc0f336>,\n",
       " <Future: status: pending, key: nsleep-063499eda5d5680816dfb37a236e84e5>,\n",
       " <Future: status: pending, key: nsleep-f5248108cd8f14edb78ccded19963b61>,\n",
       " <Future: status: pending, key: nsleep-7ac252707df2f30b99d28f5a8394fd0f>,\n",
       " <Future: status: pending, key: nsleep-7f2e3296536473a1ffeb8c2cf03ba687>,\n",
       " <Future: status: pending, key: nsleep-b687dca48b80363b99f9c9ccaafdda37>,\n",
       " <Future: status: pending, key: nsleep-bd06263151ff965c0079017d919ad48e>,\n",
       " <Future: status: pending, key: nsleep-4256cd2d6144d63bf70f00cd1586e6e2>,\n",
       " <Future: status: pending, key: nsleep-4b0459361d6751cd0c4d1c6c8019c34e>]"
      ]
     },
     "execution_count": 16,
     "metadata": {},
     "output_type": "execute_result"
    }
   ],
   "source": [
    "random_sleeps"
   ]
  },
  {
   "cell_type": "code",
   "execution_count": 17,
   "metadata": {
    "collapsed": true
   },
   "outputs": [],
   "source": [
    "sum_sleep = cl.submit(sum, random_sleeps)"
   ]
  },
  {
   "cell_type": "code",
   "execution_count": 18,
   "metadata": {
    "collapsed": false
   },
   "outputs": [
    {
     "data": {
      "text/plain": [
       "<Future: status: pending, key: sum-dc03cb9f2ab049c238c983d24c2a01f0>"
      ]
     },
     "execution_count": 18,
     "metadata": {},
     "output_type": "execute_result"
    }
   ],
   "source": [
    "sum_sleep"
   ]
  },
  {
   "cell_type": "code",
   "execution_count": null,
   "metadata": {
    "collapsed": false
   },
   "outputs": [],
   "source": [
    "sum_sleep.result()"
   ]
  },
  {
   "cell_type": "code",
   "execution_count": null,
   "metadata": {
    "collapsed": true
   },
   "outputs": [],
   "source": []
  }
 ],
 "metadata": {
  "kernelspec": {
   "display_name": "Python 3",
   "language": "python",
   "name": "python3"
  },
  "language_info": {
   "codemirror_mode": {
    "name": "ipython",
    "version": 3
   },
   "file_extension": ".py",
   "mimetype": "text/x-python",
   "name": "python",
   "nbconvert_exporter": "python",
   "pygments_lexer": "ipython3",
   "version": "3.4.3"
  }
 },
 "nbformat": 4,
 "nbformat_minor": 1
}
