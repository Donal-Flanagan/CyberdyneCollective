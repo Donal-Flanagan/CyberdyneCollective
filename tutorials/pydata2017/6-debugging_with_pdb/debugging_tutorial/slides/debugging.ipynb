{
 "cells": [
  {
   "cell_type": "markdown",
   "metadata": {
    "slideshow": {
     "slide_type": "slide"
    }
   },
   "source": [
    "# Debugging Python Programs\n",
    "  \n",
    "Material download: [github.com/krother/talks](http://github.com/krother/talks)\n",
    "\n",
    "**Dr. Kristian Rother**\n",
    "\n",
    "www.academis.eu"
   ]
  },
  {
   "cell_type": "markdown",
   "metadata": {
    "slideshow": {
     "slide_type": "slide"
    }
   },
   "source": [
    "# Goal: are monkeys and bananas genetically similar?\n",
    "\n",
    "![](images/monkey_banana.png)\n"
   ]
  },
  {
   "cell_type": "markdown",
   "metadata": {
    "slideshow": {
     "slide_type": "subslide"
    }
   },
   "source": [
    "# Goal: are monkeys and bananas genetically similar?\n",
    "\n",
    "## Input: Protein sequences (strings)\n",
    "\n",
    "    >tr|A0A075B6H5|A0A075B6H5_HUMAN T cell receptor..\n",
    "    METVVTTLPREGGVGPSRKMLLLLLLLGPGSGLSAV\n",
    "    ...\n",
    "\n",
    "## Output\n",
    "\n",
    "Average character count in **chimp**, **banana** and **human** (as reference)."
   ]
  },
  {
   "cell_type": "markdown",
   "metadata": {
    "slideshow": {
     "slide_type": "subslide"
    }
   },
   "source": [
    "# What is a protein?\n",
    "\n",
    "Proteins are tiny molecular machines that do all kinds of things in living cells. For example, antibodies, digestive enzymes and spider silk are all made of protein.\n",
    "\n",
    "Proteins are **chains made of 20 chemical building blocks**, which is why we can easily represent and analyze them as strings.\n",
    "\n",
    "![](images/1mr8.png)\n",
    "\n",
    "*[Protein S100A8 PDB 1mr8 by Emw - Own work, CC BY-SA 3.0](https://commons.wikimedia.org/w/index.php?curid=8821449)*"
   ]
  },
  {
   "cell_type": "markdown",
   "metadata": {
    "slideshow": {
     "slide_type": "slide"
    }
   },
   "source": [
    "# Task: execute `code_buggy/parse_uniprot.py`\n",
    "\n",
    "## Fix all bugs"
   ]
  },
  {
   "cell_type": "markdown",
   "metadata": {
    "slideshow": {
     "slide_type": "slide"
    }
   },
   "source": [
    "# Technique #1: Read the Error Message\n",
    "\n",
    "    parse_uniprot.py \n",
    "      File \"parse_uniprot.py\", line 65\n",
    "        for aa in AMINO_ACIDS\n",
    "                            ^\n",
    "    SyntaxError: invalid syntax\n",
    "\n",
    "**Rule of thumb: read Python error messages from bottom to top.**"
   ]
  },
  {
   "cell_type": "markdown",
   "metadata": {
    "slideshow": {
     "slide_type": "subslide"
    }
   },
   "source": [
    "# SyntaxError: Something obvious is wrong\n",
    "\n",
    "![](images/indentation.png)"
   ]
  },
  {
   "cell_type": "markdown",
   "metadata": {
    "slideshow": {
     "slide_type": "subslide"
    }
   },
   "source": [
    "# Exceptions at Runtime \n",
    "\n",
    "![](images/fire.png)"
   ]
  },
  {
   "cell_type": "markdown",
   "metadata": {
    "slideshow": {
     "slide_type": "subslide"
    }
   },
   "source": [
    "# Python is not the easiest language to debug"
   ]
  },
  {
   "cell_type": "code",
   "execution_count": null,
   "metadata": {},
   "outputs": [],
   "source": [
    "data = [1, 2, 3, 4"
   ]
  },
  {
   "cell_type": "code",
   "execution_count": null,
   "metadata": {
    "slideshow": {
     "slide_type": "fragment"
    }
   },
   "outputs": [],
   "source": [
    "data = 1, 2, 3, 4]"
   ]
  },
  {
   "cell_type": "markdown",
   "metadata": {
    "slideshow": {
     "slide_type": "subslide"
    }
   },
   "source": [
    "# Nasty fact: Errors propagate\n",
    "\n",
    "![](images/propagation.png)"
   ]
  },
  {
   "cell_type": "markdown",
   "metadata": {
    "slideshow": {
     "slide_type": "slide"
    }
   },
   "source": [
    "# Technique #3: Minimize the input\n",
    "\n",
    "**our input file is TOO BIG!**\n",
    "\n",
    "Create a smaller file with just 3 entries, e.g.:\n",
    "\n",
    "    > tr | ABC12345 | python fake protein (Os=Homo sapiens) tail\n",
    "    PYTHQNMMXVII\n"
   ]
  },
  {
   "cell_type": "markdown",
   "metadata": {
    "slideshow": {
     "slide_type": "slide"
    }
   },
   "source": [
    "# Technique #4: Scientific Method\n",
    "\n",
    "![](images/scimethod.png)"
   ]
  },
  {
   "cell_type": "markdown",
   "metadata": {
    "slideshow": {
     "slide_type": "slide"
    }
   },
   "source": [
    "# Technique #5: Add print Statements\n",
    "  \n",
    "![print statements](images/print.png)\n",
    "\n",
    "`print()` is a bit like shooting holes into a wall to see what is inside"
   ]
  },
  {
   "cell_type": "markdown",
   "metadata": {
    "slideshow": {
     "slide_type": "subslide"
    }
   },
   "source": [
    "# Introspection functions\n",
    "\n",
    "**more elegant alternatives to `print()`:**\n",
    "\n",
    "| function | purpose |\n",
    "|----------|---------|\n",
    "| `dir(x)`    | examine local namespace |\n",
    "| `locals(x)`    | examine local namespace |\n",
    "| `globals(x)`    | examine global namespace |\n",
    "| `help(x)`   | access help interactively |\n",
    "| `type(x)`   | examine object type     |\n",
    "| `isinstance(x, cl)`    | examine object type    |\n",
    "| `issubclass(cl1, cl2)` | examine class hierarchy |\n"
   ]
  },
  {
   "cell_type": "markdown",
   "metadata": {
    "slideshow": {
     "slide_type": "slide"
    }
   },
   "source": [
    "# Technique #6: Assertions\n",
    "\n",
    "We creating a consistency check for **failing early**. Add the following assertion:\n",
    "\n",
    "    assert sum(aa_counts) == len(seq)\n",
    "\n",
    "in `parse_uniprot.py` at the end of the `parse()` function."
   ]
  },
  {
   "cell_type": "markdown",
   "metadata": {
    "slideshow": {
     "slide_type": "slide"
    }
   },
   "source": [
    "# Technique #7: Explain the problem to someone\n",
    "\n",
    "![Rubber Duck by Florentijn Hofman](images/rubber_duck.jpg)\n",
    "\n",
    "Rubber Duck by Florentijn Hofman in Hong Kong, CC-BY-SA 3.0\n",
    "  \n",
    "*Also see: [https://en.wikipedia.org/wiki/Rubber_duck_debugging](https://en.wikipedia.org/wiki/Rubber_duck_debugging)*"
   ]
  },
  {
   "cell_type": "markdown",
   "metadata": {
    "slideshow": {
     "slide_type": "slide"
    }
   },
   "source": [
    "# Technique #8: Interactive Debugger\n",
    "\n",
    "**An interactive debugger allows us to watch our program at work in slow motion**"
   ]
  },
  {
   "cell_type": "code",
   "execution_count": null,
   "metadata": {
    "slideshow": {
     "slide_type": "-"
    }
   },
   "outputs": [],
   "source": [
    "import pdb\n",
    "pdb.set_trace()"
   ]
  },
  {
   "cell_type": "markdown",
   "metadata": {
    "slideshow": {
     "slide_type": "subslide"
    }
   },
   "source": [
    "# Stepwise Execution in ipdb\n",
    "\n",
    "| command | description |\n",
    "|---------|-------------|\n",
    "| `l`, `ll`      | list lines  |\n",
    "| `n`       | execute next line |\n",
    "| `s`       | step into function |\n",
    "| `c`       | continue execution |\n",
    "| `q`       | abort |\n",
    "| `?`       | see other commands |\n"
   ]
  },
  {
   "cell_type": "markdown",
   "metadata": {
    "slideshow": {
     "slide_type": "subslide"
    }
   },
   "source": [
    "# Breakpoints in ipdb\n",
    "\n",
    "| command | description |\n",
    "|---------|-------------|\n",
    "| `b` | list breakpoints |\n",
    "| `b <file:line>` | add breakpoint |\n",
    "| `b <function>` | add breakpoint |\n",
    "| `b <file:line>, <condition>` | add breakpoint with condition |\n",
    "| `cl <number>` | remove breakpoint |\n"
   ]
  },
  {
   "cell_type": "markdown",
   "metadata": {
    "slideshow": {
     "slide_type": "slide"
    }
   },
   "source": [
    "# Technique #9: Code Review\n",
    "\n",
    "Conduct a code review of `pipeline.py` with your neighbour. \n",
    "\n",
    "* Which part of the code is clear to you? Which is not?\n",
    "* Do you find any bugs?\n",
    "* What would you improve in the code?"
   ]
  },
  {
   "cell_type": "markdown",
   "metadata": {
    "slideshow": {
     "slide_type": "subslide"
    }
   },
   "source": [
    "# Code Review\n",
    "\n",
    "The control mechanism of the lock of a vault for nuclear waste has been designed for safe operation. It makes sure that it is only possible to access the vault, if the radiation shields are in place or the radiation level in the vault is below a threshold (DANGER_LEVEL). That means:\n",
    "\n",
    "* If the remote-controlled radiation shields are in place, the door may be opened by an authorized operator.\n",
    "* If the radiation level in the room is below the threshold, the door may be opened by an authorized operator.\n",
    "* An authorized operator may open the door by entering a code.\n",
    "\n",
    "The code below controls the door lock. Note that the safe state is that no entry is possible. Develop an argument for safety that shows that the code is potentially unsafe. \n",
    "\n",
    "(adopted from *I.Sommerville, Software Engineering, 9th edition*)\n",
    "\n",
    "*Trivia: Code reviews are seen as superior to automated testing when engineering **safety-critical software**.*"
   ]
  },
  {
   "cell_type": "markdown",
   "metadata": {
    "slideshow": {
     "slide_type": "subslide"
    }
   },
   "source": [
    "# Code Review\n",
    "\n",
    "**Review the following (fictional!) code for a nuclear vault door:**\n",
    "\n",
    "    entry_code = lock.get_entry_code()\n",
    "    if entry_code == lock.authorised_code:\n",
    "        shield_status = shield.get_status()\n",
    "        radiation_level = rad_sensor.get()\n",
    "        if radiation_level < DANGER_LEVEL:\n",
    "            state = SAFE\n",
    "        else:\n",
    "            state = UNSAFE\n",
    "        if shield_status == shield.in_place():\n",
    "            state = SAFE\n",
    "        if state == SAFE:\n",
    "            door.locked = False\n",
    "            door.unlock()\n",
    "        else:\n",
    "            door.lock()\n",
    "            door.locked = True\n",
    "\n",
    "(code adopted from *I.Sommerville, Software Engineering, 9th edition*)"
   ]
  },
  {
   "cell_type": "markdown",
   "metadata": {
    "slideshow": {
     "slide_type": "slide"
    }
   },
   "source": [
    "# Technique #10: Log information\n",
    "\n",
    "![log](images/log.png)"
   ]
  },
  {
   "cell_type": "markdown",
   "metadata": {
    "slideshow": {
     "slide_type": "subslide"
    }
   },
   "source": [
    "# Log verbosity levels\n",
    "\n",
    "![](images/verbosity_levels.png)\n"
   ]
  },
  {
   "cell_type": "markdown",
   "metadata": {
    "slideshow": {
     "slide_type": "slide"
    }
   },
   "source": [
    "# Summary: What we know about debugging\n",
    "\n",
    "* error messages in Python are not always helpful\n",
    "* syntax errors are when Python does not do anything\n",
    "* some errors cause a program to stop with an Exception\n",
    "* read error messages from bottom to top\n",
    "* semantic errors: the program does not do the right thing\n",
    "* errors are distinct from the underlying defects\n",
    "* defects propagate through the program\n",
    "\n"
   ]
  },
  {
   "cell_type": "markdown",
   "metadata": {
    "slideshow": {
     "slide_type": "subslide"
    }
   },
   "source": [
    "# 10 Debugging Techniques\n",
    "\n",
    "1. **read the error message** first\n",
    "2. use **minimal input** for diagnosing bugs\n",
    "3. **reproduce** the bug\n",
    "4. use the **scientific method** instead of guessing blindly\n",
    "5. add **print statements** to get diagnostic information\n",
    "6. **assertions** check for consistency\n",
    "7. **explaining the problem** to someone often helps\n",
    "8. use an **interactive debugger** \n",
    "9. **code reviews** are a superior method for creating reliable software\n",
    "10. **logging** creates more diagnostic information\n"
   ]
  },
  {
   "cell_type": "markdown",
   "metadata": {
    "slideshow": {
     "slide_type": "slide"
    }
   },
   "source": [
    "# More on Debugging\n",
    "\n",
    "**Pro Python Best Practices (Apress, 2017)**\n",
    "\n",
    "![](images/propythonbp.png)"
   ]
  },
  {
   "cell_type": "markdown",
   "metadata": {
    "slideshow": {
     "slide_type": "slide"
    }
   },
   "source": [
    "# More on Python: www.academis.eu\n",
    "\n",
    "![Thank you](images/thank_you.png)\n",
    "\n",
    "**Contact: krother@academis.eu**"
   ]
  },
  {
   "cell_type": "code",
   "execution_count": null,
   "metadata": {},
   "outputs": [],
   "source": []
  }
 ],
 "metadata": {
  "celltoolbar": "Slideshow",
  "kernelspec": {
   "display_name": "Python 3",
   "language": "python",
   "name": "python3"
  },
  "language_info": {
   "codemirror_mode": {
    "name": "ipython",
    "version": 3
   },
   "file_extension": ".py",
   "mimetype": "text/x-python",
   "name": "python",
   "nbconvert_exporter": "python",
   "pygments_lexer": "ipython3",
   "version": "3.6.1"
  }
 },
 "nbformat": 4,
 "nbformat_minor": 2
}
