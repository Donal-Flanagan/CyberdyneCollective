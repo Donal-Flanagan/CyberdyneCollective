{
 "cells": [
  {
   "cell_type": "markdown",
   "metadata": {},
   "source": [
    "# Solving Sudoku"
   ]
  },
  {
   "cell_type": "code",
   "execution_count": null,
   "metadata": {},
   "outputs": [],
   "source": [
    "from sudoku import solve_sudoku, draw_sudoku\n",
    "\n",
    "def test_sudoku(constraints):\n",
    "    status, solution = solve_sudoku(constraints)\n",
    "    return \"PASS\" if status == 'Optimal' else \"FAIL\""
   ]
  },
  {
   "cell_type": "markdown",
   "metadata": {},
   "source": [
    "## Constraints\n",
    "Tuples of (x, y, number)"
   ]
  },
  {
   "cell_type": "code",
   "execution_count": null,
   "metadata": {},
   "outputs": [],
   "source": [
    "constraints = [(1,1,9), (1,2,3), (8,3,7), (2,2,9)]\n",
    "print(draw_sudoku(constraints))"
   ]
  },
  {
   "cell_type": "markdown",
   "metadata": {},
   "source": [
    "## The Delta Debugging Algorithm"
   ]
  },
  {
   "cell_type": "code",
   "execution_count": null,
   "metadata": {},
   "outputs": [],
   "source": [
    "from ddebug import get_partitions\n",
    "from covenant import pre, post\n",
    "\n",
    "@pre(lambda data, test, granularity: test(data)=='FAIL')\n",
    "@post(lambda result, data, test, granularity: test(result)=='FAIL')\n",
    "\n",
    "def delta_debug(data, test, granularity=2):\n",
    "    print('\\n\"{2}\", granularity={1}'.format(len(data), granularity, data))    \n",
    "    for subset in get_partitions(data, granularity):\n",
    "        result = test(subset)\n",
    "        print('\"{}\" -> {}'.format(subset, result))\n",
    "        \n",
    "        if result == 'FAIL':\n",
    "            if len(subset) > 1:\n",
    "                return delta_debug(subset, test, granularity)\n",
    "            else:\n",
    "                return subset # minimal failing subset\n",
    "            \n",
    "    if granularity < len(data):\n",
    "        return delta_debug(data, test, granularity + 1)\n",
    "    return data"
   ]
  },
  {
   "cell_type": "markdown",
   "metadata": {},
   "source": [
    "## Simple string example"
   ]
  },
  {
   "cell_type": "code",
   "execution_count": null,
   "metadata": {},
   "outputs": [],
   "source": [
    "def no_rats(s): return \"FAIL\" if 'rat' in s else \"PASS\"\n",
    "\n",
    "text = \"ten wooden crates\"\n",
    "delta_debug(text, no_rats)"
   ]
  },
  {
   "cell_type": "markdown",
   "metadata": {},
   "source": [
    "## Solving a Sudoku"
   ]
  },
  {
   "cell_type": "code",
   "execution_count": null,
   "metadata": {},
   "outputs": [],
   "source": [
    "constraints = [(1,1,9), (1,2,3), (8,3,7), (2,2,9)]\n",
    "minimal = delta_debug(constraints, test_sudoku)\n",
    "print(draw_sudoku(minimal))"
   ]
  },
  {
   "cell_type": "markdown",
   "metadata": {},
   "source": [
    "## More complicated Sudoku example"
   ]
  },
  {
   "cell_type": "code",
   "execution_count": null,
   "metadata": {},
   "outputs": [],
   "source": [
    "constraints = [(1,1,1), (2,1,2), (3,1,3), (4,2,1), (5,2,2), (6,2,3), (7,3,7), (8,3,8), (9,3,9)]\n",
    "print(draw_sudoku(constraints))\n",
    "minimal = delta_debug(constraints, test_sudoku)\n",
    "print(draw_sudoku(minimal))"
   ]
  }
 ],
 "metadata": {
  "kernelspec": {
   "display_name": "Python 3",
   "language": "python",
   "name": "python3"
  },
  "language_info": {
   "codemirror_mode": {
    "name": "ipython",
    "version": 3
   },
   "file_extension": ".py",
   "mimetype": "text/x-python",
   "name": "python",
   "nbconvert_exporter": "python",
   "pygments_lexer": "ipython3",
   "version": "3.4.0"
  }
 },
 "nbformat": 4,
 "nbformat_minor": 0
}
