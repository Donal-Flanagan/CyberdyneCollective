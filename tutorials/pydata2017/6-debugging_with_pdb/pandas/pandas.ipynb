{
 "cells": [
  {
   "cell_type": "markdown",
   "metadata": {
    "slideshow": {
     "slide_type": "slide"
    }
   },
   "source": [
    "# pandas - a Pythonic interface\n",
    "\n",
    "**Dr. Kristian Rother** \n",
    "\n",
    "[www.academis.eu](http://www.academis.eu)\n",
    "\n",
    "![Academis Logo](images/academis_logo.png)"
   ]
  },
  {
   "cell_type": "markdown",
   "metadata": {
    "slideshow": {
     "slide_type": "slide"
    }
   },
   "source": [
    "# Ovogena lano-lakto-porko\n",
    "\n",
    "![Wollmilchsau](images/wollmilchsau.png)\n",
    "\n",
    "(Esperanto for *\"eierlegende Wollmilchsau\"*)\n",
    "\n",
    "*photograph by Georg Mittenecker [kamelopedia.mormo.org](http://kamelopedia.mormo.org/index.php/Datei:Wollmilchsau.jpg) CC BY-SA 2.5*"
   ]
  },
  {
   "cell_type": "markdown",
   "metadata": {
    "slideshow": {
     "slide_type": "slide"
    }
   },
   "source": [
    "# Sometimes you need to make a compromise\n",
    "\n",
    "![Platypus](images/platypus.jpg)\n",
    "\n",
    "*image by Heinrich Harder, Public Domain [wikimedia commons](https://commons.wikimedia.org/w/index.php?curid=2425503)*"
   ]
  },
  {
   "cell_type": "markdown",
   "metadata": {
    "slideshow": {
     "slide_type": "slide"
    }
   },
   "source": [
    "# The Dataset of U.S. Baby Names\n",
    "\n",
    "![Ewa](images/baby.png)\n",
    "\n",
    "**all names used more than 5x a year since 1880**\n",
    "\n",
    "available at [www.ssa.gov/oact/babynames/limits.html](http://www.ssa.gov/oact/babynames/limits.html)"
   ]
  },
  {
   "cell_type": "markdown",
   "metadata": {
    "slideshow": {
     "slide_type": "slide"
    }
   },
   "source": [
    "# Reading a dataset with pandas"
   ]
  },
  {
   "cell_type": "code",
   "execution_count": null,
   "metadata": {
    "slideshow": {
     "slide_type": "-"
    }
   },
   "outputs": [],
   "source": [
    "import pandas as pd\n",
    "\n",
    "names = []\n",
    "PATH = 'names'\n",
    "\n",
    "for year in range(1880, 2015):\n",
    "    fn = '{}/yob{}.txt'.format(PATH, year)\n",
    "    \n",
    "    data_frame = pd.read_csv(fn, names=['name', 'gender', 'count'])\n",
    "    data_frame['year'] = year\n",
    "    \n",
    "    names.append(data_frame)"
   ]
  },
  {
   "cell_type": "markdown",
   "metadata": {
    "slideshow": {
     "slide_type": "-"
    }
   },
   "source": [
    "*`pandas` looks like the average Python library so far.*"
   ]
  },
  {
   "cell_type": "markdown",
   "metadata": {
    "slideshow": {
     "slide_type": "slide"
    }
   },
   "source": [
    "# Reading a dataset with pandas"
   ]
  },
  {
   "cell_type": "code",
   "execution_count": null,
   "metadata": {
    "slideshow": {
     "slide_type": "-"
    }
   },
   "outputs": [],
   "source": [
    "names = pd.concat(names)\n",
    "names[:10]"
   ]
  },
  {
   "cell_type": "markdown",
   "metadata": {
    "slideshow": {
     "slide_type": "slide"
    }
   },
   "source": [
    "# Statistics for girls names\n",
    "*boolean expressions inside an index?*"
   ]
  },
  {
   "cell_type": "code",
   "execution_count": null,
   "metadata": {
    "slideshow": {
     "slide_type": "-"
    }
   },
   "outputs": [],
   "source": [
    "def findname(df, name): \n",
    "    return df[df['name']==name].sort_values(by='year')\n",
    "\n",
    "girls = names[names.gender=='F']\n",
    "findname(girls, \"Khaleesi\")"
   ]
  },
  {
   "cell_type": "markdown",
   "metadata": {
    "slideshow": {
     "slide_type": "slide"
    }
   },
   "source": [
    "# Statistics for boys names\n",
    "*the double square bracket is not a typo!*"
   ]
  },
  {
   "cell_type": "code",
   "execution_count": null,
   "metadata": {
    "slideshow": {
     "slide_type": "-"
    }
   },
   "outputs": [],
   "source": [
    "boys = names[names.gender=='M']\n",
    "\n",
    "tyrion = findname(boys, \"Tyrion\")\n",
    "tyrion = tyrion[[\"year\", \"count\"]]\n",
    "tyrion = tyrion.set_index('year')\n",
    "tyrion.transpose()"
   ]
  },
  {
   "cell_type": "markdown",
   "metadata": {
    "slideshow": {
     "slide_type": "slide"
    }
   },
   "source": [
    "# Like a Prayer"
   ]
  },
  {
   "cell_type": "code",
   "execution_count": null,
   "metadata": {
    "slideshow": {
     "slide_type": "-"
    }
   },
   "outputs": [],
   "source": [
    "madonna = findname(girls, \"Madonna\")"
   ]
  },
  {
   "cell_type": "markdown",
   "metadata": {
    "slideshow": {
     "slide_type": "-"
    }
   },
   "source": [
    "![Madonna](images/madonna.png)"
   ]
  },
  {
   "cell_type": "markdown",
   "metadata": {
    "slideshow": {
     "slide_type": "slide"
    }
   },
   "source": [
    "# Total population\n",
    "*group, select, sum, slice all in one*"
   ]
  },
  {
   "cell_type": "code",
   "execution_count": null,
   "metadata": {
    "slideshow": {
     "slide_type": "-"
    }
   },
   "outputs": [],
   "source": [
    "names.groupby('year')['count'].apply(sum)[::20]"
   ]
  },
  {
   "cell_type": "markdown",
   "metadata": {
    "slideshow": {
     "slide_type": "slide"
    }
   },
   "source": [
    "# Names with four e's\n",
    "*apply a function and create a new column*"
   ]
  },
  {
   "cell_type": "code",
   "execution_count": null,
   "metadata": {
    "slideshow": {
     "slide_type": "-"
    }
   },
   "outputs": [],
   "source": [
    "def eeee(x): return x.lower().count('e') == 4\n",
    "\n",
    "names['eeee'] = names['name'].apply(eeee)\n",
    "names[names['eeee']]['name'][:3]"
   ]
  },
  {
   "cell_type": "markdown",
   "metadata": {
    "slideshow": {
     "slide_type": "slide"
    }
   },
   "source": [
    "# First character preference: boy/girl ratio"
   ]
  },
  {
   "cell_type": "code",
   "execution_count": null,
   "metadata": {
    "slideshow": {
     "slide_type": "-"
    }
   },
   "outputs": [],
   "source": [
    "names['first_char'] = names['name'].apply(lambda x:x[0])\n",
    "\n",
    "mrc = names[names.gender=='M'].groupby('first_char')['count'].apply(sum)\n",
    "frc = names[names.gender=='F'].groupby('first_char')['count'].apply(sum)\n",
    "ratio = mrc / frc\n",
    "ratio[:10]"
   ]
  },
  {
   "cell_type": "markdown",
   "metadata": {
    "slideshow": {
     "slide_type": "slide"
    }
   },
   "source": [
    "# Conclusions\n",
    "## Pro pandas\n",
    "* powerful expressions in a few lines\n",
    "* based on numpy --> fast, millions of lines\n",
    "* copes with gaps in data well\n",
    "* integration with scikit-learn\n",
    "\n",
    "## Con pandas\n",
    "* syntax is a bit obscure at times\n",
    "* steep learning curve"
   ]
  },
  {
   "cell_type": "markdown",
   "metadata": {
    "slideshow": {
     "slide_type": "slide"
    }
   },
   "source": [
    "# Don't try using all features at the same time!\n",
    "\n",
    "![Milk](images/milch-junkie.jpg)\n",
    "\n",
    "### Contact\n",
    "\n",
    "e-Mail: `krother@academis.eu`\n",
    "\n",
    "Twitter: `@k_rother`"
   ]
  },
  {
   "cell_type": "code",
   "execution_count": null,
   "metadata": {
    "slideshow": {
     "slide_type": "skip"
    }
   },
   "outputs": [],
   "source": [
    "# generating Madonna plot\n",
    "madonna = madonna.set_index('year')\n",
    "%matplotlib inline\n",
    "madonna.plot()"
   ]
  },
  {
   "cell_type": "code",
   "execution_count": null,
   "metadata": {},
   "outputs": [],
   "source": []
  }
 ],
 "metadata": {
  "celltoolbar": "Slideshow",
  "kernelspec": {
   "display_name": "Python 3",
   "language": "python",
   "name": "python3"
  },
  "language_info": {
   "codemirror_mode": {
    "name": "ipython",
    "version": 3
   },
   "file_extension": ".py",
   "mimetype": "text/x-python",
   "name": "python",
   "nbconvert_exporter": "python",
   "pygments_lexer": "ipython3",
   "version": "3.4.3"
  }
 },
 "nbformat": 4,
 "nbformat_minor": 1
}
