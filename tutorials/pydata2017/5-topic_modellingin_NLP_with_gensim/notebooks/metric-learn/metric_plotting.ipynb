{
 "cells": [
  {
   "cell_type": "markdown",
   "metadata": {},
   "source": [
    "### Metric Learning and Plotting\n",
    "\n",
    "This is a small walkthrough which illustrates all the Metric Learning algorithms implemented in metric_learn, and also does a quick visualisation which can help understand which algorithm might be best suited for you.\n",
    "\n",
    "Of course, depending on the data set and the constraints your results will look very different; you can just follow this and change your data and constraints accordingly. "
   ]
  },
  {
   "cell_type": "markdown",
   "metadata": {},
   "source": [
    "#### Imports "
   ]
  },
  {
   "cell_type": "code",
   "execution_count": null,
   "metadata": {},
   "outputs": [],
   "source": [
    "%matplotlib inline\n",
    "\n",
    "import metric_learn\n",
    "import numpy as np\n",
    "from sklearn.datasets import load_iris\n",
    "\n",
    "# visualisation imports\n",
    "import matplotlib.pyplot as plt\n",
    "from mpl_toolkits.mplot3d import Axes3D"
   ]
  },
  {
   "cell_type": "markdown",
   "metadata": {},
   "source": [
    "### Loading our data-set and setting up plotting\n",
    "\n",
    "We will be using the IRIS data-set to illustrate the plotting. You can read more about the IRIS data-set here: [link](https://en.wikipedia.org/wiki/Iris_flower_data_set). \n",
    "\n",
    "We would like to point out that only two features - Sepal Width and Sepal Length are being plotted. This is because it is tough to visualise more features than this. The purpose of the plotting is to understand how each of the new learned metrics transform the input space. "
   ]
  },
  {
   "cell_type": "code",
   "execution_count": null,
   "metadata": {},
   "outputs": [],
   "source": [
    "# loading our dataset\n",
    "\n",
    "iris_data = load_iris()\n",
    "# this is our data\n",
    "X = iris_data['data']\n",
    "# these are our constraints\n",
    "Y = iris_data['target']\n",
    "\n",
    "# function to plot the results\n",
    "def plot(X, Y):\n",
    "    x_min, x_max = X[:, 0].min() - .5, X[:, 0].max() + .5\n",
    "    y_min, y_max = X[:, 1].min() - .5, X[:, 1].max() + .5\n",
    "    plt.figure(2, figsize=(8, 6))\n",
    "\n",
    "    # clean the figure\n",
    "    plt.clf()\n",
    "\n",
    "    plt.scatter(X[:, 0], X[:, 1], c=Y, cmap=plt.cm.Paired)\n",
    "    plt.xlabel('Sepal length')\n",
    "    plt.ylabel('Sepal width')\n",
    "\n",
    "    plt.xlim(x_min, x_max)\n",
    "    plt.ylim(y_min, y_max)\n",
    "    plt.xticks(())\n",
    "    plt.yticks(())\n",
    "\n",
    "    plt.show()"
   ]
  },
  {
   "cell_type": "code",
   "execution_count": null,
   "metadata": {},
   "outputs": [],
   "source": [
    "# plotting the dataset as is.\n",
    "plot(X, Y)"
   ]
  },
  {
   "cell_type": "markdown",
   "metadata": {},
   "source": [
    "### Metric Learning\n",
    "\n",
    "Why is Metric Learning useful? We can, with prior knowledge of which points are supposed to be closer, figure out a better way to understand distances between points. Especially in higher dimensions when Euclidean distances are a poor way to measure distance, this becomes very useful.\n",
    "\n",
    "Basically, we learn this distance:  $D(x,y)=\\sqrt{(x-y)\\,M^{-1}(x-y)}$.\n",
    "And we learn this distance by learning a Matrix $M$, based on certain constraints.\n",
    "\n",
    "Some good reading material for the same can be found [here](https://arxiv.org/pdf/1306.6709.pdf). It serves as a good literature review of Metric Learning. \n",
    "\n",
    "We will briefly explain the metric-learning algorithms implemented by metric-learn, before providing some examples for it's usage, and also discuss how to go about doing manual constraints.\n",
    "\n",
    "Metric-learn can be easily integrated with your other machine learning pipelines, and follows (for the most part) scikit-learn conventions."
   ]
  },
  {
   "cell_type": "markdown",
   "metadata": {},
   "source": [
    "### Large Margin Nearest Neighbour\n",
    "\n",
    "LMNN is a metric learning algorithm primarily designed for k-nearest neighbor classification. The algorithm is based on semidefinite programming, a sub-class of convex programming (as most Metric Learning algorithms are).\n",
    "\n",
    "The main intuition behind LMNN is to learn a pseudometric under which all data instances in the training set are surrounded by at least k instances that share the same class label. If this is achieved, the leave-one-out error (a special case of cross validation) is minimized. \n",
    "\n",
    "You can find the paper [here](http://jmlr.csail.mit.edu/papers/volume10/weinberger09a/weinberger09a.pdf)."
   ]
  },
  {
   "cell_type": "markdown",
   "metadata": {},
   "source": [
    "#### Fit and then transform!"
   ]
  },
  {
   "cell_type": "code",
   "execution_count": null,
   "metadata": {},
   "outputs": [],
   "source": [
    "# setting up LMNN\n",
    "lmnn = metric_learn.LMNN(k=5, learn_rate=1e-6)\n",
    "\n",
    "# fit the data!\n",
    "lmnn.fit(X, Y)\n",
    "\n",
    "# transform our input space\n",
    "X_lmnn = lmnn.transform()"
   ]
  },
  {
   "cell_type": "markdown",
   "metadata": {},
   "source": [
    "So what have we learned? The matrix $M$ we talked about before.\n",
    "Let's see what it looks like."
   ]
  },
  {
   "cell_type": "code",
   "execution_count": null,
   "metadata": {},
   "outputs": [],
   "source": [
    "lmnn.metric()"
   ]
  },
  {
   "cell_type": "markdown",
   "metadata": {},
   "source": [
    "Now let us plot the transformed space - this tells us what the original space looks like after being transformed with the new learned metric."
   ]
  },
  {
   "cell_type": "code",
   "execution_count": null,
   "metadata": {},
   "outputs": [],
   "source": [
    "plot(X_lmnn, Y)"
   ]
  },
  {
   "cell_type": "markdown",
   "metadata": {},
   "source": [
    "Pretty neat, huh?\n",
    "\n",
    "The rest of this notebook will briefly explain the other Metric Learning algorithms before plottting them.\n",
    "Also, while we have first run `fit` and then `transform` to see our data transformed, we can also use `fit_transform` if you are using the bleeding edge version of the code. The rest of the examples and illustrations will use `fit_transform`."
   ]
  },
  {
   "cell_type": "markdown",
   "metadata": {},
   "source": [
    "###  Information Theoretic Metric Learning \n",
    "\n",
    "ITML uses a regularizer that automatically enforces a Semi-Definite Positive Matrix condition - the LogDet divergence. It uses soft must-link or cannot like constraints, and a simple algorithm based on Bregman projections. \n",
    "\n",
    "Link to paper: [ITML](http://www.cs.utexas.edu/users/pjain/pubs/metriclearning_icml.pdf). "
   ]
  },
  {
   "cell_type": "code",
   "execution_count": null,
   "metadata": {},
   "outputs": [],
   "source": [
    "itml = metric_learn.ITML_Supervised(num_constraints=200)\n",
    "X_itml = itml.fit_transform(X, Y)"
   ]
  },
  {
   "cell_type": "code",
   "execution_count": null,
   "metadata": {},
   "outputs": [],
   "source": [
    "plot(X_itml, Y)"
   ]
  },
  {
   "cell_type": "markdown",
   "metadata": {},
   "source": [
    "###  Sparse Determinant Metric Learning\n",
    "\n",
    "Implements an efficient sparse metric learning algorithm in high dimensional space via an $l_1$-penalised log-determinant regularization. Compare to the most existing distance metric learning algorithms, the algorithm exploits the sparsity nature underlying the intrinsic high dimensional feature space.\n",
    "\n",
    "Link to paper here: [SDML](http://lms.comp.nus.edu.sg/sites/default/files/publication-attachments/icml09-guojun.pdf). \n",
    "\n",
    "One feature which we'd like to show off here is the use of random seeds.\n",
    "Some of the algorithms feature randomised algorithms for selecting constraints - to fix these, and get constant results for each run, we pass a numpy random seed as shown in the example below."
   ]
  },
  {
   "cell_type": "code",
   "execution_count": null,
   "metadata": {},
   "outputs": [],
   "source": [
    "sdml = metric_learn.SDML_Supervised(num_constraints=200)\n",
    "X_sdml = sdml.fit_transform(X, Y, random_state = np.random.RandomState(1234))"
   ]
  },
  {
   "cell_type": "code",
   "execution_count": null,
   "metadata": {},
   "outputs": [],
   "source": [
    "plot(X_sdml, Y)"
   ]
  },
  {
   "cell_type": "markdown",
   "metadata": {},
   "source": [
    "### Least Squares Metric Learning\n",
    "\n",
    "LSML is a simple, yet effective, algorithm that learns a Mahalanobis metric from a given set of relative comparisons. This is done by formulating and minimizing a convex loss function that corresponds to the sum of squared hinge loss of violated constraints. \n",
    "\n",
    "Link to paper: [LSML](http://web.cs.ucla.edu/~weiwang/paper/ICDM12.pdf)"
   ]
  },
  {
   "cell_type": "code",
   "execution_count": null,
   "metadata": {},
   "outputs": [],
   "source": [
    "lsml = metric_learn.LSML_Supervised(num_constraints=200)\n",
    "X_lsml = lsml.fit_transform(X, Y)"
   ]
  },
  {
   "cell_type": "code",
   "execution_count": null,
   "metadata": {},
   "outputs": [],
   "source": [
    "plot(X_lsml, Y)"
   ]
  },
  {
   "cell_type": "markdown",
   "metadata": {},
   "source": [
    "### Neighborhood Components Analysis\n",
    "\n",
    "NCA is an extrememly popular metric-learning algorithm, and one of the first few (published back in 2005).\n",
    "\n",
    "Neighbourhood components analysis aims at \"learning\" a distance metric by finding a linear transformation of input data such that the average leave-one-out (LOO) classification performance is maximized in the transformed space. The key insight to the algorithm is that a matrix $A$ corresponding to the transformation can be found by defining a differentiable objective function for $A$, followed by use of an iterative solver such as conjugate gradient descent. One of the benefits of this algorithm is that the number of classes $k$ can be determined as a function of $A$, up to a scalar constant. This use of the algorithm therefore addresses the issue of model selection.\n",
    "\n",
    "You can read more about it in the paper here: [NCA](https://papers.nips.cc/paper/2566-neighbourhood-components-analysis.pdf). "
   ]
  },
  {
   "cell_type": "code",
   "execution_count": null,
   "metadata": {},
   "outputs": [],
   "source": [
    "nca = metric_learn.NCA(max_iter=1000, learning_rate=0.01)\n",
    "X_nca = nca.fit_transform(X, Y)"
   ]
  },
  {
   "cell_type": "code",
   "execution_count": null,
   "metadata": {},
   "outputs": [],
   "source": [
    "plot(X_nca, Y)"
   ]
  },
  {
   "cell_type": "markdown",
   "metadata": {},
   "source": [
    "### Local Fischer Discriminant Analysis\n",
    "\n",
    "LFDA is a linear supervised dimensionality reduction method. It is particularly useful when dealing with multimodality, where one ore more classes consist of separate clusters in input space. The core optimization problem of LFDA is solved as a generalized eigenvalue problem.\n",
    "\n",
    "Link to paper: [LFDA](http://www.machinelearning.org/proceedings/icml2006/114_Local_Fisher_Discrim.pdf)"
   ]
  },
  {
   "cell_type": "code",
   "execution_count": null,
   "metadata": {},
   "outputs": [],
   "source": [
    "lfda = metric_learn.LFDA(k=2, dim=2)\n",
    "X_lfda = lfda.fit_transform(X, Y)"
   ]
  },
  {
   "cell_type": "code",
   "execution_count": null,
   "metadata": {},
   "outputs": [],
   "source": [
    "plot(X_lfda, Y)"
   ]
  },
  {
   "cell_type": "markdown",
   "metadata": {},
   "source": [
    "### Relative Components Analysis\n",
    "\n",
    "RCA is another one of the older algorithms.\n",
    "It learns a full rank Mahalanobis distance metric based on a weighted sum of in-class covariance matrices. It applies a global linear transformation to assign large weights to relevant dimensions and low weights to irrelevant dimensions. Those relevant dimensions are estimated using “chunklets”, subsets of points that are known to belong to the same class.\n",
    "\n",
    "Link to paper: [RCA](https://www.aaai.org/Papers/ICML/2003/ICML03-005.pdf)"
   ]
  },
  {
   "cell_type": "code",
   "execution_count": null,
   "metadata": {},
   "outputs": [],
   "source": [
    "rca = metric_learn.RCA_Supervised(num_chunks=30, chunk_size=2)\n",
    "X_rca = rca.fit_transform(X, Y)"
   ]
  },
  {
   "cell_type": "code",
   "execution_count": null,
   "metadata": {},
   "outputs": [],
   "source": [
    "plot(X_rca, Y)"
   ]
  },
  {
   "cell_type": "markdown",
   "metadata": {},
   "source": [
    "### Manual Constraints\n",
    "\n",
    "Some of the algorithms we've mentioned have alternate ways to pass constraints.\n",
    "So far we've been passing them as just class labels - and letting the internals of metric-learn deal with creating our constrints.\n",
    "\n",
    "We'll be looking at one other way to do this - which is to pass a Matrix X such that - (a,b,c,d) indices into X, such that $d(X[a],X[b]) < d(X[c],X[d])$. \n",
    "\n",
    "This kind of input is possible for ITML and LSML.\n",
    "\n",
    "We're going to create these constraints through the labels we have, i.e $Y$.\n",
    "\n",
    "This is done internally through metric learn anyway (do check out the `constraints` class!) - but we'll try our own version of this. I'm going to go ahead and assume that two points labelled the same will be closer than two points in different labels.\n",
    "\n",
    "Do keep in mind that we are doing this method because we know the labels - we can actually create the constraints any way we want to depending on the data!"
   ]
  },
  {
   "cell_type": "code",
   "execution_count": null,
   "metadata": {},
   "outputs": [],
   "source": [
    "def create_constraints(labels):\n",
    "    import itertools\n",
    "    import random\n",
    "    \n",
    "    # aggregate indices of same class\n",
    "    zeros = np.where(Y==0)[0]\n",
    "    ones = np.where(Y==1)[0]\n",
    "    twos = np.where(Y==2)[0]\n",
    "    # make permutations of all those points in the same class\n",
    "    zeros_ = list(itertools.combinations(zeros, 2))\n",
    "    ones_ = list(itertools.combinations(ones, 2))\n",
    "    twos_ = list(itertools.combinations(twos, 2))\n",
    "    # put them together!\n",
    "    sim = np.array(zeros_ + ones_ + twos_)\n",
    "    \n",
    "    # similarily, put together indices in different classes\n",
    "    dis = []\n",
    "    for zero in zeros:\n",
    "        for one in ones:\n",
    "            dis.append((zero, one))\n",
    "        for two in twos:\n",
    "            dis.append((zero, two))\n",
    "    for one in ones:\n",
    "        for two in twos:\n",
    "            dis.append((one, two))\n",
    "            \n",
    "    # pick up just enough dissimilar examples as we have similar examples\n",
    "    dis = np.array(random.sample(dis, len(sim)))\n",
    "    \n",
    "    # return a four-tuple of arrays with d(X[a],X[b])<d(X[c],X[d])\n",
    "    return sim[:,0], sim[:,1], dis[:,0], dis[:,1]"
   ]
  },
  {
   "cell_type": "code",
   "execution_count": null,
   "metadata": {},
   "outputs": [],
   "source": [
    "constraint = create_constraints(Y)"
   ]
  },
  {
   "cell_type": "markdown",
   "metadata": {},
   "source": [
    "Now that we've created our constraints, let's see what it looks like!"
   ]
  },
  {
   "cell_type": "code",
   "execution_count": null,
   "metadata": {},
   "outputs": [],
   "source": [
    "constraint"
   ]
  },
  {
   "cell_type": "markdown",
   "metadata": {},
   "source": [
    "Using our constraints, let's now train ITML again.\n",
    "We should keep in mind that internally, ITML_Supervised does pretty much the same thing we are doing; I was just giving an example to better explain how the constraints are structured. "
   ]
  },
  {
   "cell_type": "code",
   "execution_count": null,
   "metadata": {},
   "outputs": [],
   "source": [
    "itml = metric_learn.ITML()\n",
    "X_itml = itml.fit_transform(X, constraints=constraint)"
   ]
  },
  {
   "cell_type": "code",
   "execution_count": null,
   "metadata": {},
   "outputs": [],
   "source": [
    "plot(X_itml, Y)"
   ]
  },
  {
   "cell_type": "markdown",
   "metadata": {},
   "source": [
    "And that's the result of ITML after being trained on our manual constraints! A bit different from our old result but not too different. We can also notice that it might be better to rely on the randomised algorithms under the hood to make our constraints if we are not very sure how we want our transformed space to be.\n",
    "\n",
    "RCA and SDML also have their own specific ways of taking in inputs - it's worth one's while to poke around in the constraints.py file to see how exactly this is going on.\n",
    "\n",
    "This brings us to the end of this tutorial!\n",
    "Have fun Metric Learning :)"
   ]
  }
 ],
 "metadata": {
  "kernelspec": {
   "display_name": "Python 2",
   "language": "python",
   "name": "python2"
  },
  "language_info": {
   "codemirror_mode": {
    "name": "ipython",
    "version": 2
   },
   "file_extension": ".py",
   "mimetype": "text/x-python",
   "name": "python",
   "nbconvert_exporter": "python",
   "pygments_lexer": "ipython2",
   "version": "2.7.12"
  }
 },
 "nbformat": 4,
 "nbformat_minor": 1
}
