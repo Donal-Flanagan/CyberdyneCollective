{
 "cells": [
  {
   "cell_type": "markdown",
   "metadata": {},
   "source": [
    "## Playing with Regression\n",
    "\n",
    "This notebook will help us with testing different regression techniques, and eventually, test COBRA. \n",
    "\n",
    "So for now we will generate a random data-set and try some of the popular regression techniques on it, after it has been loaded to COBRA.\n",
    "\n",
    "#### Imports"
   ]
  },
  {
   "cell_type": "code",
   "execution_count": null,
   "metadata": {},
   "outputs": [],
   "source": [
    "from pycobra.cobra import cobra\n",
    "from pycobra.diagnostics import diagnostics\n",
    "import numpy as np\n",
    "%matplotlib inline"
   ]
  },
  {
   "cell_type": "markdown",
   "metadata": {},
   "source": [
    "#### Setting up data set"
   ]
  },
  {
   "cell_type": "code",
   "execution_count": null,
   "metadata": {},
   "outputs": [],
   "source": [
    "# setting up our random data-set\n",
    "rng = np.random.RandomState(1)\n",
    "\n",
    "# D1 = train machines; D2 = create COBRA; D3 = calibrate epsilon, alpha; D4 = testing\n",
    "n_features = 20\n",
    "D1, D2, D3, D4 = 200, 200, 200, 200\n",
    "D = D1 + D2 + D3 + D4\n",
    "X = rng.uniform(-1, 1, D * n_features).reshape(D, n_features)\n",
    "Y = np.power(X[:,1], 2) + np.power(X[:,3], 3) + np.exp(X[:,10]) \n",
    "# Y = np.power(X[:,0], 2) + np.power(X[:,1], 3)\n",
    "\n",
    "# training data-set\n",
    "X_train = X[:D1 + D2]\n",
    "X_test = X[D1 + D2 + D3:D1 + D2 + D3 + D4]\n",
    "X_eps = X[D1 + D2:D1 + D2 + D3]\n",
    "# for testing\n",
    "Y_train = Y[:D1 + D2]\n",
    "Y_test = Y[D1 + D2 + D3:D1 + D2 + D3 + D4]\n",
    "Y_eps = Y[D1 + D2:D1 + D2 + D3]"
   ]
  },
  {
   "cell_type": "markdown",
   "metadata": {},
   "source": [
    "### Setting up COBRA\n",
    "\n",
    "Let's up our COBRA machine with the data."
   ]
  },
  {
   "cell_type": "code",
   "execution_count": null,
   "metadata": {},
   "outputs": [],
   "source": [
    "COBRA = cobra(X_train, Y_train, epsilon=0.5, default=False, random_state=0)"
   ]
  },
  {
   "cell_type": "markdown",
   "metadata": {},
   "source": [
    "In the above line, we initialise COBRA with an epsilon value of $0.5$ - this is because we are aware of the distribution and 0.5 is a fair guess of what would be a \"good\" epsilon value, because the data varies from $-1$ to $1$. \n",
    "\n",
    "If we do not pass the $\\epsilon$ parameter, it auto sets it as $\\frac{\\epsilon_{max} - \\epsilon_{min}}{2}$, or if test_data is passed it sets it to an epsilon value optimised to the test-data.\n",
    "\n",
    "It can be noticed that the `default` parameter is set as false: this is so we can walk you through what happens when COBRA is set-up, instead of the deafult settings being used."
   ]
  },
  {
   "cell_type": "markdown",
   "metadata": {},
   "source": [
    "We're now going to split our dataset into two parts, and shuffle data points."
   ]
  },
  {
   "cell_type": "code",
   "execution_count": null,
   "metadata": {},
   "outputs": [],
   "source": [
    "COBRA.split_data(D1, D1 + D2, shuffle_data=True)"
   ]
  },
  {
   "cell_type": "markdown",
   "metadata": {},
   "source": [
    "Let's load the default machines to COBRA."
   ]
  },
  {
   "cell_type": "code",
   "execution_count": null,
   "metadata": {},
   "outputs": [],
   "source": [
    "COBRA.load_default()"
   ]
  },
  {
   "cell_type": "markdown",
   "metadata": {},
   "source": [
    "We note here that further machines can be loaded using either the `loadMachine()` and `loadSKMachine()` methods. The only prerequisite is that the machine has a valid `predict()` method."
   ]
  },
  {
   "cell_type": "markdown",
   "metadata": {},
   "source": [
    "## Using COBRA's machines\n",
    "\n",
    "We've created our random dataset and now we're going to use the default sci-kit machines to see what the results look like."
   ]
  },
  {
   "cell_type": "code",
   "execution_count": null,
   "metadata": {},
   "outputs": [],
   "source": [
    "query = X_test[9].reshape(1, -1)"
   ]
  },
  {
   "cell_type": "code",
   "execution_count": null,
   "metadata": {},
   "outputs": [],
   "source": [
    "COBRA.machines"
   ]
  },
  {
   "cell_type": "code",
   "execution_count": null,
   "metadata": {},
   "outputs": [],
   "source": [
    "COBRA.machines['lasso'].predict(query)"
   ]
  },
  {
   "cell_type": "code",
   "execution_count": null,
   "metadata": {},
   "outputs": [],
   "source": [
    "COBRA.machines['tree'].predict(query)"
   ]
  },
  {
   "cell_type": "code",
   "execution_count": null,
   "metadata": {},
   "outputs": [],
   "source": [
    "COBRA.machines['ridge'].predict(query)"
   ]
  },
  {
   "cell_type": "code",
   "execution_count": null,
   "metadata": {},
   "outputs": [],
   "source": [
    "COBRA.machines['random_forest'].predict(query)"
   ]
  },
  {
   "cell_type": "markdown",
   "metadata": {},
   "source": [
    "## Aggregate!\n",
    "\n",
    "By using the aggregate function we can combine our predictors.\n",
    "You can read about the aggregation procedure either in the original COBRA paper or look around in the source code for the algorithm.\n",
    "\n",
    "We start by loading each machine's predictions now."
   ]
  },
  {
   "cell_type": "code",
   "execution_count": null,
   "metadata": {},
   "outputs": [],
   "source": [
    "COBRA.load_machine_predictions()"
   ]
  },
  {
   "cell_type": "code",
   "execution_count": null,
   "metadata": {},
   "outputs": [],
   "source": [
    "COBRA.predict(query)"
   ]
  },
  {
   "cell_type": "code",
   "execution_count": null,
   "metadata": {},
   "outputs": [],
   "source": [
    "Y_test[9]"
   ]
  },
  {
   "cell_type": "markdown",
   "metadata": {},
   "source": [
    "### Optimizing COBRA\n",
    "\n",
    "To squeeze the best out of COBRA we make use of the COBRA diagnostics class. With a grid based approach to optimizing hyperparameters, we can find out the best epsilon value, number of machines (alpha value), and combination of machines."
   ]
  },
  {
   "cell_type": "markdown",
   "metadata": {},
   "source": [
    "Let's check the MSE for each of COBRAs machines:"
   ]
  },
  {
   "cell_type": "code",
   "execution_count": null,
   "metadata": {},
   "outputs": [],
   "source": [
    "cobra_diagnostics = diagnostics(COBRA, X_test, Y_test, load_MSE=True)"
   ]
  },
  {
   "cell_type": "code",
   "execution_count": null,
   "metadata": {},
   "outputs": [],
   "source": [
    "cobra_diagnostics.machine_MSE"
   ]
  },
  {
   "cell_type": "markdown",
   "metadata": {},
   "source": [
    "This error is bound by the value $C\\mathscr{l}^{\\frac{-2}{M + 2}}$ upto a constant $C$, which is problem dependant. For more details, we refer the user to the original [paper](http://www.sciencedirect.com/science/article/pii/S0047259X15000950)."
   ]
  },
  {
   "cell_type": "code",
   "execution_count": null,
   "metadata": {},
   "outputs": [],
   "source": [
    "cobra_diagnostics.error_bound"
   ]
  },
  {
   "cell_type": "markdown",
   "metadata": {},
   "source": [
    "### Playing with Data-Splitting\n",
    "\n",
    "When we initially started to set up COBRA, we split our training data into two further parts - $D_k$, and $D_l$. \n",
    "This split was done 50-50, but it is upto us how we wish to do this. \n",
    "The following section will compare 20-80, 60-40, 50-50, 40-60, 80-20 and check for which case we get the best MSE values, for a fixed Epsilon (or use a grid)."
   ]
  },
  {
   "cell_type": "code",
   "execution_count": null,
   "metadata": {},
   "outputs": [],
   "source": [
    "cobra_diagnostics.optimal_split(X_eps, Y_eps)"
   ]
  },
  {
   "cell_type": "markdown",
   "metadata": {},
   "source": [
    "What we saw was the default result, with the optimal split ratio and the corresponding MSE. We can do a further analysis here by enabling the info and graph options, and using more values to split on."
   ]
  },
  {
   "cell_type": "code",
   "execution_count": null,
   "metadata": {},
   "outputs": [],
   "source": [
    "split = [(0.05, 0.95), (0.10, 0.90), (0.20, 0.80), (0.40, 0.60), (0.50, 0.50), (0.60, 0.40), (0.80, 0.20), (0.90, 0.10), (0.95, 0.05)]"
   ]
  },
  {
   "cell_type": "code",
   "execution_count": null,
   "metadata": {},
   "outputs": [],
   "source": [
    "cobra_diagnostics.optimal_split(X_eps, Y_eps, split=split, info=True, graph=True)"
   ]
  },
  {
   "cell_type": "markdown",
   "metadata": {},
   "source": [
    "### Alpha, Epsilon and Machines\n",
    "\n",
    "The following are methods to idetify the optimal epislon values, alpha values, and combination of machines. \n",
    "The grid methods allow for us to predict for a single point the optimal alpha/machines and epsilon combination."
   ]
  },
  {
   "cell_type": "code",
   "execution_count": null,
   "metadata": {},
   "outputs": [],
   "source": [
    "cobra_diagnostics.optimal_epsilon(X_eps, Y_eps, line_points=100)"
   ]
  },
  {
   "cell_type": "code",
   "execution_count": null,
   "metadata": {},
   "outputs": [],
   "source": [
    "cobra_diagnostics.optimal_alpha(X_eps, Y_eps, info=True)"
   ]
  },
  {
   "cell_type": "code",
   "execution_count": null,
   "metadata": {},
   "outputs": [],
   "source": [
    "cobra_diagnostics.optimal_machines(X_eps, Y_eps, info=True)"
   ]
  },
  {
   "cell_type": "code",
   "execution_count": null,
   "metadata": {},
   "outputs": [],
   "source": [
    "cobra_diagnostics.optimal_alpha_grid(X_eps[0], Y_eps[0], line_points=100)"
   ]
  },
  {
   "cell_type": "code",
   "execution_count": null,
   "metadata": {},
   "outputs": [],
   "source": [
    "cobra_diagnostics.optimal_machines_grid(X_eps[0], Y_eps[0], line_points=100)"
   ]
  },
  {
   "cell_type": "markdown",
   "metadata": {},
   "source": [
    "Increasing the number of line points helps in finding a better optimal value. These are the results for the same point. The MSEs are to the second value of the tuple.\n",
    "\n",
    "With 10:\n",
    "((('ridge', 'random_forest', 'lasso'), 1.1063905961135443), 0.96254542159345469)\n",
    " \n",
    "With 20: \n",
    "((('tree', 'random_forest'), 0.87346626008964035), 0.53850941611803993)\n",
    "\n",
    "With 50:\n",
    "((('ridge', 'tree'), 0.94833479666875231), 0.48256303899450931)\n",
    "\n",
    "With 100:\n",
    "((('ridge', 'tree', 'random_forest'), 0.10058096328304948), 0.30285776885759158)\n",
    "\n",
    "With 200: \n",
    "((('ridge', 'tree', 'lasso'), 0.10007553130675276), 0.30285776885759158)"
   ]
  }
 ],
 "metadata": {
  "kernelspec": {
   "display_name": "Python 2",
   "language": "python",
   "name": "python2"
  },
  "language_info": {
   "codemirror_mode": {
    "name": "ipython",
    "version": 2
   },
   "file_extension": ".py",
   "mimetype": "text/x-python",
   "name": "python",
   "nbconvert_exporter": "python",
   "pygments_lexer": "ipython2",
   "version": "2.7.12"
  }
 },
 "nbformat": 4,
 "nbformat_minor": 1
}
