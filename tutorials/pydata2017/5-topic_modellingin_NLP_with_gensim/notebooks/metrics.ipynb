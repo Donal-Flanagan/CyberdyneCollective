{
 "cells": [
  {
   "cell_type": "markdown",
   "metadata": {},
   "source": [
    "### Distance Metrics for Probability Distributions\n",
    "\n",
    "We'll be looking at 3 different distance metrics, and see how different probability distributions look with them.\n",
    "\n",
    "### Creating probability distributions"
   ]
  },
  {
   "cell_type": "code",
   "execution_count": null,
   "metadata": {},
   "outputs": [],
   "source": [
    "import pymc3 as pm\n",
    "import numpy as np"
   ]
  },
  {
   "cell_type": "code",
   "execution_count": null,
   "metadata": {},
   "outputs": [],
   "source": [
    "import matplotlib.pyplot as plt\n",
    "\n",
    "# Initialize random number generator\n",
    "np.random.seed(123)\n",
    "\n",
    "# True parameter values\n",
    "alpha, sigma = 1, 1\n",
    "beta = [1, 2.5]\n",
    "\n",
    "# Size of dataset\n",
    "size = 100\n",
    "\n",
    "# Predictor variable\n",
    "X1 = np.random.randn(size)\n",
    "X2 = np.random.randn(size) * 0.2\n",
    "\n",
    "# Simulate outcome variable\n",
    "Y = alpha + beta[0]*X1 + beta[1]*X2 + np.random.randn(size)*sigma"
   ]
  },
  {
   "cell_type": "markdown",
   "metadata": {},
   "source": [
    "### Create Models\n",
    "\n",
    "Let's create traces based on different sampling methods."
   ]
  },
  {
   "cell_type": "code",
   "execution_count": null,
   "metadata": {},
   "outputs": [],
   "source": [
    "basic_model = pm.Model()\n",
    "\n",
    "with basic_model:\n",
    "    \n",
    "    # Priors for unknown model parameters\n",
    "    alpha = pm.Normal('alpha', mu=0, sd=10)\n",
    "    beta = pm.Normal('beta', mu=0, sd=10, shape=2)\n",
    "    sigma = pm.HalfNormal('sigma', sd=1)\n",
    "    \n",
    "    # Expected value of outcome\n",
    "    mu = alpha + beta[0]*X1 + beta[1]*X2\n",
    "    \n",
    "    # Likelihood (sampling distribution) of observations\n",
    "    Y_obs = pm.Normal('Y_obs', mu=mu, sd=sigma, observed=Y)"
   ]
  },
  {
   "cell_type": "code",
   "execution_count": null,
   "metadata": {},
   "outputs": [],
   "source": [
    "from scipy import optimize\n",
    "\n",
    "with basic_model:\n",
    "    # draw 500 posterior samples\n",
    "    trace_default = pm.sample()"
   ]
  },
  {
   "cell_type": "code",
   "execution_count": null,
   "metadata": {},
   "outputs": [],
   "source": [
    "with basic_model:\n",
    "    # obtain starting values via MAP\n",
    "    start = pm.find_MAP(fmin=optimize.fmin_powell)\n",
    "    # instantiate sampler\n",
    "    step = pm.Slice() \n",
    "    # draw 5000 posterior samples\n",
    "    trace_slice = pm.sample(5000, step=step, start=start)"
   ]
  },
  {
   "cell_type": "code",
   "execution_count": null,
   "metadata": {},
   "outputs": [],
   "source": [
    "with basic_model:\n",
    "    # instantiate sampler\n",
    "    step = pm.HamiltonianMC()\n",
    "    # draw 5000 posterior samples\n",
    "    trace_HMC = pm.sample(5000, step=step)"
   ]
  },
  {
   "cell_type": "code",
   "execution_count": null,
   "metadata": {},
   "outputs": [],
   "source": [
    "with basic_model:\n",
    "    step = pm.NUTS()\n",
    "    # draw 5000 posterior samples\n",
    "    trace_NUTS = pm.sample(5000, step=step)"
   ]
  },
  {
   "cell_type": "code",
   "execution_count": null,
   "metadata": {},
   "outputs": [],
   "source": [
    "with basic_model:\n",
    "    step = pm.Metropolis()\n",
    "    # draw 5000 posterior samples\n",
    "    trace_metropolis = pm.sample(5000, step=step)"
   ]
  },
  {
   "cell_type": "code",
   "execution_count": null,
   "metadata": {},
   "outputs": [],
   "source": [
    "# SMC is still an experimental method.\n",
    "# with basic_model:\n",
    "#     step = pm.SMC()\n",
    "#     # draw 5000 posterior samples\n",
    "#     trace_SMC = pm.sample(5000, step=step)"
   ]
  },
  {
   "cell_type": "markdown",
   "metadata": {},
   "source": [
    "### Creating Manifolds\n",
    "\n",
    "Torus. Sphere?"
   ]
  },
  {
   "cell_type": "code",
   "execution_count": null,
   "metadata": {},
   "outputs": [],
   "source": []
  },
  {
   "cell_type": "markdown",
   "metadata": {},
   "source": [
    "### Kullback–Leibler divergence"
   ]
  },
  {
   "cell_type": "code",
   "execution_count": null,
   "metadata": {},
   "outputs": [],
   "source": [
    "def KLdivergence(dist_1, dist_2):\n",
    "    distance = np.sum(dist_1 * np.log(dist_1 / dist_2))\n",
    "    return distance"
   ]
  },
  {
   "cell_type": "markdown",
   "metadata": {},
   "source": [
    "### Hellinger Distance"
   ]
  },
  {
   "cell_type": "code",
   "execution_count": null,
   "metadata": {},
   "outputs": [],
   "source": [
    "def hellinger(dist_1, dist_2):\n",
    "    distance = np.sqrt(0.5 * ((np.sqrt(dist_1) - np.sqrt(dist_2))**2).sum())\n",
    "    return distance"
   ]
  },
  {
   "cell_type": "markdown",
   "metadata": {},
   "source": [
    "### Fischer-Rao Metric\n",
    "\n",
    "The Fischer-Rao metric is a particular Riemannian metric. We normally have a statistical manifold with coordinates at each point; in this small snippet we will make do with pseudo code."
   ]
  },
  {
   "cell_type": "code",
   "execution_count": null,
   "metadata": {},
   "outputs": [],
   "source": [
    "def fischer_rao(distribution, coordinate_1, coordinate_2):\n",
    "    distance = np.sum(np.log(distribution(coordinate_1)) * np.log(distribution(coordinate_2))*distribution)\n",
    "    return distance"
   ]
  },
  {
   "cell_type": "markdown",
   "metadata": {},
   "source": [
    "### SoftAbs Metric\n",
    "\n",
    "The SoftAbs metric is based on an exponential map.\n",
    "We need to compute the gradient of the quadratic form, and the log determinant. \n",
    "Here p is the momenta and pi(q) is the N-dimensional Target density.\n",
    "\n",
    "H = Q . $lambda$ . $Q^T$\n",
    "\n",
    "$lambda$ = Diag($lambda_{i}$)\n",
    "\n",
    "Lambda is the diagonal matrix of eigenvalues and Q is the corresponding matrix of eigenvectors. "
   ]
  },
  {
   "cell_type": "code",
   "execution_count": null,
   "metadata": {},
   "outputs": [],
   "source": [
    "def grad_quad(H_ij, p):\n",
    "    Q, lambda_i = decompose(H_ij)\n",
    "    D = diag(Q_t . p / (lambda_i . coth(alpha . lambda_i))\n",
    "    J = d(lambda_i . coth(alpha . lambda_i))\n",
    "    grad = - Trace(Q . D . J . D . Q_t . d(H))\n",
    "    return grad"
   ]
  },
  {
   "cell_type": "code",
   "execution_count": null,
   "metadata": {},
   "outputs": [],
   "source": [
    "def grad_log(H_ij):\n",
    "    Q, lambda_i = decompose(H_ij)\n",
    "    J = d(lambda_i . coth(alpha . lambda_i))\n",
    "    R = diag(1 / lambda_i . coth(alpha . lambda_i)\n",
    "    grad = Trace(Q . (R ◦ J). Q_t . dH)\n",
    "    return grad"
   ]
  }
 ],
 "metadata": {
  "kernelspec": {
   "display_name": "Python 2",
   "language": "python",
   "name": "python2"
  },
  "language_info": {
   "codemirror_mode": {
    "name": "ipython",
    "version": 2
   },
   "file_extension": ".py",
   "mimetype": "text/x-python",
   "name": "python",
   "nbconvert_exporter": "python",
   "pygments_lexer": "ipython2",
   "version": "2.7.12"
  }
 },
 "nbformat": 4,
 "nbformat_minor": 0
}
