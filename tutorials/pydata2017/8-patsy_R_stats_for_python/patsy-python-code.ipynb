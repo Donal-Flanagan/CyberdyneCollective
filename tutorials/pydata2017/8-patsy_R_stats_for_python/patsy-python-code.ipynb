{
 "cells": [
  {
   "cell_type": "markdown",
   "metadata": {
    "deletable": true,
    "editable": true,
    "inputHidden": false,
    "outputHidden": false
   },
   "source": [
    "# Patsy\n",
    "#### PyData Berlin\n",
    "#### Canada Day, 2017\n",
    "#### @maxhumber"
   ]
  },
  {
   "cell_type": "code",
   "execution_count": null,
   "metadata": {
    "deletable": true,
    "editable": true,
    "inputHidden": false,
    "outputHidden": false
   },
   "outputs": [],
   "source": [
    "import numpy as np\n",
    "import pandas as pd\n",
    "from matplotlib import pyplot as plt\n",
    "import random\n",
    "\n",
    "%matplotlib inline"
   ]
  },
  {
   "cell_type": "code",
   "execution_count": null,
   "metadata": {
    "deletable": true,
    "editable": true,
    "inputHidden": false,
    "outputHidden": false
   },
   "outputs": [],
   "source": [
    "def create_data():\n",
    "    N = 1000\n",
    "    beer = np.random.normal(loc=0, scale=1, size=N)\n",
    "    warm = np.random.normal(loc=0, scale=1, size=N)\n",
    "    family = np.random.randint(2, size=N)\n",
    "    # linear combination\n",
    "    z = 1 + 2*beer + -3*warm + 0.5*family\n",
    "    # inv-logit function\n",
    "    pr = [1 / (1 + np.exp(-i)) for i in z]\n",
    "    canada = np.random.binomial(1, p=pr, size=N)\n",
    "    # fake family into factor\n",
    "    family = np.where(family == 0, 'No', 'Yes')\n",
    "    return canada, beer, warm, family"
   ]
  },
  {
   "cell_type": "code",
   "execution_count": null,
   "metadata": {
    "deletable": true,
    "editable": true,
    "inputHidden": false,
    "outputHidden": false
   },
   "outputs": [],
   "source": [
    "np.random.seed(42)\n",
    "canada, beer, warm, family = create_data()\n",
    "\n",
    "df = pd.DataFrame({\n",
    "    'canada':canada, \n",
    "    'beer':beer, \n",
    "    'warm':warm,\n",
    "    'family':family})"
   ]
  },
  {
   "cell_type": "code",
   "execution_count": null,
   "metadata": {
    "deletable": true,
    "editable": true,
    "inputHidden": false,
    "outputHidden": false
   },
   "outputs": [],
   "source": [
    "df.head(10)"
   ]
  },
  {
   "cell_type": "code",
   "execution_count": null,
   "metadata": {
    "deletable": true,
    "editable": true,
    "inputHidden": false,
    "outputHidden": false
   },
   "outputs": [],
   "source": [
    "df.to_csv('canada.csv', index=False)"
   ]
  },
  {
   "cell_type": "markdown",
   "metadata": {
    "deletable": true,
    "editable": true,
    "inputHidden": false,
    "outputHidden": false
   },
   "source": [
    "# Python Logistic Regression"
   ]
  },
  {
   "cell_type": "code",
   "execution_count": null,
   "metadata": {
    "deletable": true,
    "editable": true,
    "inputHidden": false,
    "outputHidden": false
   },
   "outputs": [],
   "source": [
    "# 0 - load modules\n",
    "\n",
    "import pandas as pd\n",
    "import statsmodels.api as sm\n",
    "\n",
    "# 1 - load data \n",
    "\n",
    "df = pd.read_csv('canada.csv')\n",
    "\n",
    "# X - dummy-fy \n",
    "\n",
    "df_dummy = pd.get_dummies(df, drop_first=True)\n",
    "\n",
    "# X - create design matrix\n",
    "\n",
    "X = df_dummy[['beer', 'warm', 'family_Yes']]\n",
    "y = df_dummy['canada']\n",
    "\n",
    "# X - add intercept\n",
    "\n",
    "X['Intercept'] = 1\n",
    "\n",
    "# 2 - test/train split\n",
    "\n",
    "from sklearn.model_selection import train_test_split\n",
    "\n",
    "X_train, X_test, y_train, y_test = train_test_split(X, y, train_size=0.8, random_state=0)\n",
    "\n",
    "# 3 - model\n",
    "\n",
    "mod = sm.Logit(y_train, X_train)\n",
    "\n",
    "# X - fit model ??\n",
    "\n",
    "result = mod.fit()\n",
    "\n",
    "# 4 - peak \n",
    "\n",
    "result.summary()"
   ]
  },
  {
   "cell_type": "markdown",
   "metadata": {
    "deletable": true,
    "editable": true,
    "inputHidden": false,
    "outputHidden": false
   },
   "source": [
    "# Patsy Logistic Regression"
   ]
  },
  {
   "cell_type": "code",
   "execution_count": null,
   "metadata": {
    "deletable": true,
    "editable": true
   },
   "outputs": [],
   "source": [
    "# 0 - load modules\n",
    "\n",
    "from patsy import dmatrices, build_design_matrices\n",
    "from sklearn.linear_model import LogisticRegression\n",
    "from sklearn import metrics\n",
    "from sklearn.utils import resample\n",
    "\n",
    "# 1 - load data \n",
    "\n",
    "df = pd.read_csv('canada.csv')\n",
    "\n",
    "# X - build design matrix with patsy \n",
    "\n",
    "y, X = dmatrices('canada ~ beer + warm + family', df, return_type='dataframe')\n",
    "y = np.ravel(y)\n",
    "\n",
    "# 2 - test/train split\n",
    "\n",
    "X_train, X_test, y_train, y_test = train_test_split(X, y, train_size=0.8, random_state=0)\n",
    "\n",
    "# 3 - model\n",
    "\n",
    "from sklearn.linear_model import LogisticRegression\n",
    "\n",
    "model = LogisticRegression(fit_intercept=False)\n",
    "model.fit(X_train, y_train)\n",
    "\n",
    "# 4A - peak\n",
    "\n",
    "from sklearn.metrics import accuracy_score, roc_auc_score\n",
    "\n",
    "predicted = model.predict(X_test)\n",
    "probs = model.predict_proba(X_test)\n",
    "\n",
    "print(accuracy_score(y_test, predicted))\n",
    "print(roc_auc_score(y_test, probs[:, 1]))\n",
    "\n",
    "# 4B - peak\n",
    "\n",
    "from sklearn.model_selection import cross_val_score\n",
    "\n",
    "scores = cross_val_score(LogisticRegression(), X, y, scoring='accuracy', cv=10)\n",
    "print(scores)\n",
    "print(scores.mean())\n",
    "\n",
    "# 4C - peak\n",
    "\n",
    "from sklearn.metrics import classification_report, confusion_matrix\n",
    "\n",
    "expected = y_test\n",
    "predicted = model.predict(X_test)\n",
    "\n",
    "print(classification_report(expected, predicted))\n",
    "print(confusion_matrix(expected, predicted))"
   ]
  },
  {
   "cell_type": "markdown",
   "metadata": {
    "deletable": true,
    "editable": true,
    "inputHidden": false,
    "outputHidden": false
   },
   "source": [
    "# Bonus"
   ]
  },
  {
   "cell_type": "code",
   "execution_count": null,
   "metadata": {
    "deletable": true,
    "editable": true,
    "inputHidden": false,
    "outputHidden": false
   },
   "outputs": [],
   "source": [
    "y_true = y_test\n",
    "y_pred = model.predict_proba(X_test)[:, 1]\n",
    "\n",
    "def separation_plot(y_true, y_pred):\n",
    "    # prepare data\n",
    "    sp = pd.DataFrame({'y_true': y_true, 'y_pred': y_pred})\n",
    "    sp.sort_values('y_pred', inplace=True)\n",
    "    sp['order'] = sp['y_pred'].rank(method='dense')\n",
    "    sp['order'] = sp.order.astype(np.int64) \n",
    "    sp['height'] = 1\n",
    "    sp['y_true'] = sp.y_true.astype(np.int64)   \n",
    "    sp['color'] = ['b' if i == 0 else 'r' for i in sp['y_true']]\n",
    "    sp = sp.reset_index(drop=True)\n",
    "    # plot data\n",
    "    plt.rcParams[\"figure.figsize\"] = (12, 4)\n",
    "    plt.bar(sp['order'], sp['height'], color=sp['color'], \n",
    "        alpha = 0.75, width = 1.01, antialiased=True)\n",
    "    plt.plot(sp['order'], sp['y_pred'], c='black')\n",
    "    plt.scatter(sp['y_pred'].sum(), 0.01, c='black', s=100, marker=\"^\")\n",
    "    plt.xticks([])\n",
    "    plt.yticks([0, 0.5, 1])\n",
    "    plt.ylabel('Predicted Value')\n",
    "    plt.show()"
   ]
  },
  {
   "cell_type": "code",
   "execution_count": null,
   "metadata": {
    "deletable": true,
    "editable": true,
    "inputHidden": false,
    "outputHidden": false
   },
   "outputs": [],
   "source": [
    "y_true = y_test\n",
    "y_pred = model.predict_proba(X_test)[:, 1]\n",
    "\n",
    "separation_plot(y_true, y_pred)"
   ]
  },
  {
   "cell_type": "markdown",
   "metadata": {
    "deletable": true,
    "editable": true,
    "inputHidden": false,
    "outputHidden": false
   },
   "source": [
    "# Patsy Continued"
   ]
  },
  {
   "cell_type": "code",
   "execution_count": null,
   "metadata": {
    "deletable": true,
    "editable": true,
    "inputHidden": false,
    "outputHidden": false
   },
   "outputs": [],
   "source": [
    "design_info = X.design_info\n",
    "\n",
    "def patsy_predict(design_info, model, new_data={}):\n",
    "    new_data = pd.DataFrame(new_data, index=[0])\n",
    "    print(new_data)\n",
    "    (new_dmat, ) = build_design_matrices([design_info], new_data)\n",
    "    return model.predict_proba(new_dmat)[:,1][0]"
   ]
  },
  {
   "cell_type": "code",
   "execution_count": null,
   "metadata": {
    "deletable": true,
    "editable": true,
    "inputHidden": false,
    "outputHidden": false
   },
   "outputs": [],
   "source": [
    "patsy_predict(design_info, model, {'beer': 1.5, 'warm': -0.5, 'family': 'Yes'})"
   ]
  },
  {
   "cell_type": "code",
   "execution_count": null,
   "metadata": {
    "deletable": true,
    "editable": true,
    "inputHidden": false,
    "outputHidden": false
   },
   "outputs": [],
   "source": [
    "patsy_predict(design_info, model, {'beer': -0.9, 'warm': 0.3, 'family': 'No'})"
   ]
  },
  {
   "cell_type": "markdown",
   "metadata": {
    "deletable": true,
    "editable": true,
    "inputHidden": false,
    "outputHidden": false
   },
   "source": [
    "# Patsy Extended"
   ]
  },
  {
   "cell_type": "code",
   "execution_count": null,
   "metadata": {
    "deletable": true,
    "editable": true,
    "inputHidden": false,
    "outputHidden": false
   },
   "outputs": [],
   "source": [
    "import patsy\n",
    "\n",
    "def easy_scatter(formula, data={}):\n",
    "    formula += ' - 1'\n",
    "    y, X = patsy.dmatrices(formula, data, return_type='dataframe')\n",
    "    y = np.ravel(y)\n",
    "    return plt.scatter(X[X.columns[0]], X[X.columns[1]], c=y, alpha=0.5)\n",
    "    \n",
    "easy_scatter('canada ~ beer + warm', data = df)"
   ]
  },
  {
   "cell_type": "markdown",
   "metadata": {
    "deletable": true,
    "editable": true,
    "inputHidden": false,
    "outputHidden": false
   },
   "source": [
    "# PyMC3"
   ]
  },
  {
   "cell_type": "code",
   "execution_count": null,
   "metadata": {
    "deletable": true,
    "editable": true,
    "inputHidden": false,
    "outputHidden": false
   },
   "outputs": [],
   "source": [
    "import pymc3 as pm\n",
    "\n",
    "model = pm.Model()\n",
    "\n",
    "with model:\n",
    "    pm.glm.GLM.from_formula(\n",
    "        'canada ~ beer + warm + family',\n",
    "        data=df, family=pm.glm.families.Binomial())\n",
    "    start = pm.find_MAP() # Use Maximum A Posteriori optimization as initial value for MCMC\n",
    "    step = pm.NUTS(scaling=start) # Instantiate MCMC sampling algorithm\n",
    "    trace = pm.sample(2000, step, progressbar=True) # draw 2000 posterior samples using\n",
    "\n",
    "plt.figure(figsize=(7, 7))\n",
    "pm.traceplot(trace[100:])\n",
    "plt.tight_layout();\n",
    "\n",
    "pm.df_summary(trace)"
   ]
  }
 ],
 "metadata": {
  "kernel_info": {
   "name": "python3"
  },
  "kernelspec": {
   "display_name": "Python 3",
   "language": "python",
   "name": "python3"
  },
  "language_info": {
   "codemirror_mode": {
    "name": "ipython",
    "version": 3
   },
   "file_extension": ".py",
   "mimetype": "text/x-python",
   "name": "python",
   "nbconvert_exporter": "python",
   "pygments_lexer": "ipython3",
   "version": "3.6.1"
  },
  "toc": {
   "colors": {
    "hover_highlight": "#DAA520",
    "navigate_num": "#000000",
    "navigate_text": "#333333",
    "running_highlight": "#FF0000",
    "selected_highlight": "#FFD700",
    "sidebar_border": "#EEEEEE",
    "wrapper_background": "#FFFFFF"
   },
   "moveMenuLeft": true,
   "nav_menu": {
    "height": "192px",
    "width": "252px"
   },
   "navigate_menu": true,
   "number_sections": true,
   "sideBar": true,
   "threshold": 4,
   "toc_cell": false,
   "toc_section_display": "block",
   "toc_window_display": false,
   "widenNotebook": false
  }
 },
 "nbformat": 4,
 "nbformat_minor": 4
}
