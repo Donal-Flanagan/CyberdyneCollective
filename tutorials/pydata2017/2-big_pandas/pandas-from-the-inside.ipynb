{
 "cells": [
  {
   "cell_type": "markdown",
   "metadata": {
    "deletable": true,
    "editable": true
   },
   "source": [
    "# Pandas from the Inside\n",
    "\n",
    "## PyData Berlin tutorial, 30 June 2017\n",
    "## Stephen Simmons - mail@stevesimmons.com \n",
    "## http://github.com/stevesimmons"
   ]
  },
  {
   "cell_type": "markdown",
   "metadata": {
    "deletable": true,
    "editable": true
   },
   "source": [
    "### Imports and setting sensible defaults"
   ]
  },
  {
   "cell_type": "code",
   "execution_count": null,
   "metadata": {
    "deletable": true,
    "editable": true
   },
   "outputs": [],
   "source": [
    "# Sample code from the tutorial 'Pandas from the Inside'\n",
    "# Stephen Simmons - mail@stevesimmons.com\n",
    "# PyData Amsterdam, Fri 7 April 2017\n",
    "#\n",
    "# Requires python3, pandas and numpy. \n",
    "# Jupyter/IPython are also useful. \n",
    "# Best with pandas > 0.18.1. \n",
    "# Pandas 0.18.0 requires a workaround for an indexing bug.\n",
    "\n",
    "import csv\n",
    "import os\n",
    "\n",
    "import numpy as np\n",
    "import pandas as pd\n",
    "print(\"numpy=%s; pandas=%s\" % (np.__version__, pd.__version__))\n",
    "\n",
    "# Don't wrap tables \n",
    "pd.options.display.max_rows = 20\n",
    "pd.options.display.width = 200"
   ]
  },
  {
   "cell_type": "markdown",
   "metadata": {
    "deletable": true,
    "editable": true
   },
   "source": [
    "### Overall program flow\n",
    "\n",
    "If run as a standalone script, a `main()` function mirroring the structure of the slides would look like this:"
   ]
  },
  {
   "cell_type": "code",
   "execution_count": null,
   "metadata": {
    "deletable": true,
    "editable": true
   },
   "outputs": [],
   "source": [
    "def main(name='bg3.txt'):\n",
    "    # Download sample data from www.afltables.com if not present\n",
    "    if not os.path.exists(name):\n",
    "        download_sample_data(names=[name])\n",
    "\n",
    "    # Part 1 - Load sample data as a DataFrame (1 game => 1 row)\n",
    "    raw_df = load_data(name)\n",
    "    # Part 2 - Reshape to give team scores (1 game => 2 rows)\n",
    "    scores_df = prepare_game_scores(raw_df)\n",
    "    # Parts 3 and 4 - GroupBy to get Wins/Draws/Losses/Points\n",
    "    ladder_df = calc_team_ladder(scores_df)\n",
    "    return ladder_df\n",
    "\n",
    "\n",
    "#if __name__ == '__main__':\n",
    "#    main()"
   ]
  },
  {
   "cell_type": "markdown",
   "metadata": {
    "deletable": true,
    "editable": true
   },
   "source": [
    "### Download sample data\n",
    "\n",
    "The sample data here is historical Australian Rules Football (AFL) game results, going back to the start of the first competition in 1897. \n",
    "\n",
    "This data can be downloaded from the web site http://www.afltables.com. The site's focus is week/game-level HTML tables formatted for human footy enthusiasts to read. We want something easier for pandas to consume, so instead grab the large text file ```bg3.txt```.   "
   ]
  },
  {
   "cell_type": "code",
   "execution_count": null,
   "metadata": {
    "deletable": true,
    "editable": true
   },
   "outputs": [],
   "source": [
    "def download_sample_data(names=('bg3.txt', 'bg7.txt')):\n",
    "    '''\n",
    "    Download results and attendance stats for every AFL match \n",
    "    since 1897 from www.afltables.com into files \n",
    "    'bg3.txt' and 'bg7.txt' in the current directory. \n",
    "    '''\n",
    "    import urllib.request\n",
    "\n",
    "    base_url = 'http://afltables.com/afl/stats/biglists/'\n",
    "    for filename in names:\n",
    "        url = base_url + filename\n",
    "        print(\"Downloading from %s\" % url)\n",
    "        txt = urllib.request.urlopen(url).read()\n",
    "        with open(filename, 'wb') as f:\n",
    "            f.write(txt)\n",
    "            print(\"Wrote %d bytes to %s\" % (len(txt), filename))"
   ]
  },
  {
   "cell_type": "code",
   "execution_count": null,
   "metadata": {
    "deletable": true,
    "editable": true
   },
   "outputs": [],
   "source": [
    "name = 'bg3.txt'\n",
    "if not os.path.exists(name):\n",
    "    download_sample_data([name])"
   ]
  },
  {
   "cell_type": "markdown",
   "metadata": {
    "deletable": true,
    "editable": true
   },
   "source": [
    "Note I prepared the slides in today's tutorial last year for PyData London, when the 2016 season was only part-way through.\n",
    "\n",
    "If you download the data now, it includes results for the whole of the 2016 season. The last 2016 match is the Grand Final on Saturday 1 October, where the Western Bulldogs beat the Sydney Swans 13.11.89 to 10.7.67.\n"
   ]
  },
  {
   "cell_type": "markdown",
   "metadata": {
    "deletable": true,
    "editable": true
   },
   "source": [
    "### Load raw data into a pandas DataFrame\n",
    "\n",
    "The pandas function ```pd.read_csv()``` is surprisingly powerful. Here we use its ability to split text into columns using a regular expression. This is a little tricky because most columns are separated by two or more spaces. The exception is the row numbers, where the separator is a fot (from the row number) plus a single space, once the row numbers are above 99,999, "
   ]
  },
  {
   "cell_type": "code",
   "execution_count": null,
   "metadata": {
    "deletable": true,
    "editable": true
   },
   "outputs": [],
   "source": [
    "def load_data(name='bg3.txt'):\n",
    "    '''\n",
    "    Pandas DataFrames from loading csv files bg3.txt (games) or\n",
    "    bg7.txt (attendance) csvs downloaded from www.afltables.com.\n",
    "    '''\n",
    "    if name == 'bg3.txt':\n",
    "        # Scores with rounds\n",
    "        # - GameNum ends with '.', single space for nums > 100k\n",
    "        # - Rounds are 'R1'-'R22' or 'QF', 'PF', 'GF'.\n",
    "        # - Three grand finals were drawn and replayed the next week\n",
    "        # - Scores are strings '12.5.65' with goals/behinds/points\n",
    "        # - Venue may end with a '.', e.g. 'M.C.G.' though always at EOL\n",
    "        cols = 'GameNum Date Round HomeTeam HomeScore AwayTeam AwayScore Venue'\n",
    "        sep = '[. ] +'\n",
    "        sep = '[. ] +'\n",
    "\n",
    "    elif name == 'bg7.txt':\n",
    "        # Attendance stats\n",
    "        # - RowNum ends with '.', single space for nums > 100k\n",
    "        # - Spectators ends with '*' for finals games\n",
    "        # - Venue may end with a '.', e.g. 'M.C.G.'\n",
    "        # - Dates are 'dd-Mmm-yyyy'.\n",
    "        # - Date/Venue unique, except for two days in 1980s, when\n",
    "        #   M.C.G. hosted games at 2pm and 5pm with same num of spectators.\n",
    "        cols = 'RowNum Spectators HomeTeam HomeScore AwayTeam AwayScore Venue Date'\n",
    "        sep = '(?:(?<=[0-9])[.*] +)|(?:  +)'\n",
    "\n",
    "    else:\n",
    "        raise ValueError(\"Unexpected data file\")\n",
    "\n",
    "    df = pd.read_csv(name, skiprows=2, sep=sep,\n",
    "                     names=cols.split(), parse_dates=['Date'],\n",
    "                     quoting=csv.QUOTE_NONE, engine='python')\n",
    "    return df"
   ]
  },
  {
   "cell_type": "code",
   "execution_count": null,
   "metadata": {
    "deletable": true,
    "editable": true
   },
   "outputs": [],
   "source": [
    "import os\n",
    "os.getcwd()"
   ]
  },
  {
   "cell_type": "code",
   "execution_count": null,
   "metadata": {
    "deletable": true,
    "editable": true
   },
   "outputs": [],
   "source": [
    "raw_df = load_data('bg3.txt')\n",
    "raw_df.info()"
   ]
  },
  {
   "cell_type": "markdown",
   "metadata": {
    "deletable": true,
    "editable": true
   },
   "source": [
    "Here is an example of timing an operation with the IPython magic `%timeit`."
   ]
  },
  {
   "cell_type": "code",
   "execution_count": null,
   "metadata": {
    "deletable": true,
    "editable": true
   },
   "outputs": [],
   "source": [
    "%timeit raw_df.groupby('HomeTeam').size().sort_values()"
   ]
  },
  {
   "cell_type": "code",
   "execution_count": null,
   "metadata": {
    "deletable": true,
    "editable": true
   },
   "outputs": [],
   "source": [
    "raw_df.groupby('HomeTeam').size().sort_values()"
   ]
  },
  {
   "cell_type": "markdown",
   "metadata": {
    "deletable": true,
    "editable": true
   },
   "source": [
    "### Reformat the raw table\n",
    "\n",
    "This function illustrates some powerful ways to process the raw data. In particular, notice how ```Series.str.extract(regex, expand=True)``` can split a Series of strings into a DataFrame with columns given by a regular expression."
   ]
  },
  {
   "cell_type": "code",
   "execution_count": null,
   "metadata": {
    "deletable": true,
    "editable": true
   },
   "outputs": [],
   "source": [
    "def prepare_game_scores(df):\n",
    "    '''\n",
    "    DataFrame with rows giving each team's results in a game\n",
    "    (1 game -> 2 rows for home and away teams)\n",
    "    '''\n",
    "    scores_raw = df.drop('GameNum', axis=1).set_index(['Date', 'Venue', 'Round'])\n",
    "\n",
    "    # Convert into sections for both teams\n",
    "    home_teams = scores_raw['HomeTeam'].rename('Team')\n",
    "    away_teams = scores_raw['AwayTeam'].rename('Team')\n",
    "\n",
    "    # Split the score strings into Goals/Behinds, and points For and Against\n",
    "    regex = '(?P<G>\\d+).(?P<B>\\d+).(?P<F>\\d+)'\n",
    "    home_scores = scores_raw['HomeScore'].str.extract(regex, expand=True).astype(int)\n",
    "    away_scores = scores_raw['AwayScore'].str.extract(regex, expand=True).astype(int)\n",
    "    home_scores['A'] = away_scores['F']\n",
    "    away_scores['A'] = home_scores['F']\n",
    "\n",
    "    home_games = pd.concat([home_teams, home_scores], axis=1)\n",
    "    away_games = pd.concat([away_teams, away_scores], axis=1)\n",
    "\n",
    "    scores = home_games.append(away_games).sort_index().set_index('Team', append=True)\n",
    "    # scores = pd.concat([home_games, away_games], axis=0).sort_index()\n",
    "\n",
    "    # Rather than moving Team to MultiIndex with scores.set_index('Team', append=True),\n",
    "    # keep it as a data column so we can see what an inhomogeneous DataFrame looks like.\n",
    "    return scores"
   ]
  },
  {
   "cell_type": "code",
   "execution_count": null,
   "metadata": {
    "deletable": true,
    "editable": true
   },
   "outputs": [],
   "source": [
    "scores_df = prepare_game_scores(raw_df)\n",
    "scores_df"
   ]
  },
  {
   "cell_type": "markdown",
   "metadata": {
    "deletable": true,
    "editable": true
   },
   "source": [
    "### Calculate season ladder\n",
    "\n",
    "To calculate the ladder for a season, we need to pull out all round robin games for that year (i.e. excluding the finals games SF, QF, PF, GF). A quick way of doing this is noting there are never more than 23 rounds in a season (i.e. R1 to R23). So we can select Rounds in the range 'R1':'R9' inclusive. "
   ]
  },
  {
   "cell_type": "markdown",
   "metadata": {
    "deletable": true,
    "editable": true
   },
   "source": [
    "Recents versions of pandas can get this directly using multidimensional slicing, so long as the index is sorted."
   ]
  },
  {
   "cell_type": "code",
   "execution_count": null,
   "metadata": {
    "deletable": true,
    "editable": true
   },
   "outputs": [],
   "source": [
    "#scores_df.loc(axis=0)[str(year), :, 'R1':'R9', :]\n",
    "scores_df.info()"
   ]
  },
  {
   "cell_type": "code",
   "execution_count": null,
   "metadata": {
    "deletable": true,
    "editable": true
   },
   "outputs": [],
   "source": [
    "scores_df.index.is_lexsorted()"
   ]
  },
  {
   "cell_type": "code",
   "execution_count": null,
   "metadata": {
    "deletable": true,
    "editable": true
   },
   "outputs": [],
   "source": [
    "scores_df.sort_index(inplace=True)\n",
    "scores_df.index.is_lexsorted()"
   ]
  },
  {
   "cell_type": "markdown",
   "metadata": {
    "deletable": true,
    "editable": true
   },
   "source": [
    "Now the scores DataFrame is sorted, we can easily select subsets of the rows:"
   ]
  },
  {
   "cell_type": "code",
   "execution_count": null,
   "metadata": {
    "deletable": true,
    "editable": true
   },
   "outputs": [],
   "source": [
    "scores_df.loc(axis=0)['2016', :, 'R1':'R9', :]"
   ]
  },
  {
   "cell_type": "markdown",
   "metadata": {
    "deletable": true,
    "editable": true
   },
   "source": [
    "Here is the complete code to produce the ladder. \n",
    "\n",
    "Note there is a bug in pandas 0.18.0's multidimensional slicing which we have to work around."
   ]
  },
  {
   "cell_type": "code",
   "execution_count": null,
   "metadata": {
    "deletable": true,
    "editable": true
   },
   "outputs": [],
   "source": [
    "def calc_team_ladder(scores_df, year=2016):\n",
    "    '''\n",
    "    DataFrame with championship ladder with round-robin games for the given year.\n",
    "    Wins, draws and losses are worth 4, 2 and 0 points respectively.\n",
    "    '''\n",
    "    # Select a subset of the rows\n",
    "    # df.loc[] matches dates as strings like '20160506' or '2016'.\n",
    "    # Note here rounds are simple strings so sort with R1 < R10 < R2 < .. < R9\n",
    "    #      (we could change this with a CategoricalIndex)\n",
    "    if pd.__version__ > '0.18.0':\n",
    "        # MultiIndex slicing works ok\n",
    "        scores2 = scores_df.sort_index()\n",
    "        x = scores2.loc(axis=0)[str(year), :, 'R1':'R9', :]\n",
    "    else:\n",
    "        # pandas 0.18.0 has a bug with .loc on MultiIndexes\n",
    "        # if dates are the first level. It works as expected if we\n",
    "        # move the dates to the end before slicing\n",
    "        scores2 = scores_df.reorder_levels([1, 2, 3, 0]).sort_index()\n",
    "        x = scores2.loc(axis=0)[:, 'R1':'R9', :, str(year):str(year)]\n",
    "        # Don't need to put levels back in order as we are about to drop 3 of them\n",
    "        # x = x.reorder_levels([3, 0, 1, 2]).sort_index()\n",
    "\n",
    "    # Just keep Team. This does a copy too, avoiding SettingWithCopy warning\n",
    "    y = x.reset_index(['Date', 'Venue', 'Round'], drop=True)\n",
    "\n",
    "    # Add cols with 0/1 for number of games played, won, drawn and lost\n",
    "    y['P'] = 1\n",
    "    y['W'] = (y['F'] > y['A']).astype(int)\n",
    "    y['D'] = 0\n",
    "    y.loc[y['F'] == y['A'], 'D'] = 1\n",
    "    y.eval('L = 1*(A>F)', inplace=True)\n",
    "    #print(y)\n",
    "\n",
    "    # Subtotal by team and then sort by Points/Percentage\n",
    "    t = y.groupby(level='Team').sum()\n",
    "    t['PCT'] = 100.0 * t.F / t.A\n",
    "    t['PTS'] = 4 * t['W'] + 2 * t['D']\n",
    "    ladder = t.sort_values(['PTS', 'PCT'], ascending=False)\n",
    "\n",
    "    # Add ladder position (note: assumes no ties!)\n",
    "    ladder['Pos'] = pd.RangeIndex(1, len(ladder) + 1)\n",
    "    #print(ladder)\n",
    "\n",
    "    return ladder"
   ]
  },
  {
   "cell_type": "code",
   "execution_count": null,
   "metadata": {
    "deletable": true,
    "editable": true
   },
   "outputs": [],
   "source": [
    "ladder_df = calc_team_ladder(scores_df, 2015)\n",
    "ladder_df"
   ]
  },
  {
   "cell_type": "code",
   "execution_count": null,
   "metadata": {},
   "outputs": [],
   "source": [
    "df.columns"
   ]
  },
  {
   "cell_type": "code",
   "execution_count": null,
   "metadata": {
    "deletable": true,
    "editable": true
   },
   "outputs": [],
   "source": [
    "df = raw_df\n",
    "%timeit df.loc[14300:14400,'HomeScore']"
   ]
  },
  {
   "cell_type": "code",
   "execution_count": null,
   "metadata": {
    "deletable": true,
    "editable": true
   },
   "outputs": [],
   "source": [
    "%timeit df.iloc[14300:14400,4]"
   ]
  },
  {
   "cell_type": "code",
   "execution_count": null,
   "metadata": {},
   "outputs": [],
   "source": [
    "%timeit df['HomeScore'].values[14300:14400]"
   ]
  },
  {
   "cell_type": "code",
   "execution_count": null,
   "metadata": {},
   "outputs": [],
   "source": []
  }
 ],
 "metadata": {
  "kernelspec": {
   "display_name": "Python 3",
   "language": "python",
   "name": "python3"
  },
  "language_info": {
   "codemirror_mode": {
    "name": "ipython",
    "version": 3
   },
   "file_extension": ".py",
   "mimetype": "text/x-python",
   "name": "python",
   "nbconvert_exporter": "python",
   "pygments_lexer": "ipython3",
   "version": "3.6.1"
  }
 },
 "nbformat": 4,
 "nbformat_minor": 1
}
