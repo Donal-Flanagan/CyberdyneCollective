{
 "cells": [
  {
   "cell_type": "markdown",
   "metadata": {
    "deletable": true,
    "editable": true
   },
   "source": [
    "# \"Big Pandas\" - Dask from the Inside\n",
    "## Part 2 - Retrieving BTS OTP sample data \n",
    "### PyData Berlin tutorial, 30 June 2017\n",
    "## Stephen Simmons\n",
    "\n",
    "    "
   ]
  },
  {
   "cell_type": "markdown",
   "metadata": {
    "deletable": true,
    "editable": true
   },
   "source": [
    "This notebook is for downloading and preparing the original source data.\n",
    "\n",
    "You can also downloading pre-prepared data from here:  \n",
    "* http://www.stevesimmons.com/pydata-ams2017/flights-201601-201701-csv-xz.tar (151MB)\n",
    "* http://www.stevesimmons.com/pydata-ams2017/flights-201601-201701-parq.tar (158MB)\n"
   ]
  },
  {
   "cell_type": "code",
   "execution_count": null,
   "metadata": {
    "deletable": true,
    "editable": true
   },
   "outputs": [],
   "source": [
    "import numpy as np\n",
    "import pandas as pd\n",
    "import dask\n",
    "import dask.dataframe as dd\n",
    "\n",
    "import graphviz\n",
    "import os\n",
    "import time\n",
    "\n",
    "np.__version__, pd.__version__, dask.__version__"
   ]
  },
  {
   "cell_type": "code",
   "execution_count": null,
   "metadata": {
    "deletable": true,
    "editable": true
   },
   "outputs": [],
   "source": [
    "# Support multiple lines of output in each cell\n",
    "from IPython.core.interactiveshell import InteractiveShell\n",
    "InteractiveShell.ast_node_interactivity = \"all\"\n",
    "\n",
    "# Don't wrap tables\n",
    "pd.options.display.max_rows = 20\n",
    "pd.options.display.width = 200\n",
    "\n",
    "# Show matplotlib graphs inline in Jupyter notebook\n",
    "%matplotlib inline"
   ]
  },
  {
   "cell_type": "code",
   "execution_count": null,
   "metadata": {
    "deletable": true,
    "editable": true
   },
   "outputs": [],
   "source": [
    "# The sample data is the USA Bureau of Transportation Statistics 'On-Time' monthly series.\n",
    "# This has actual arrival/departure times versus schedule for every domestic flight\n",
    "# by major US carriers. For details, see the BTS website:\n",
    "#    https://www.transtats.bts.gov/DL_SelectFields.asp?Table_ID=236&DB_Short_Name=On-Time\n",
    "\n",
    "# We can download the monthly results directly from this URL, filling in the\n",
    "# two parameters with the year (e.g. '2016') and month ('1' for January, '12' for December).\n",
    "# The resulting zip files, each around 23MB in size when compressed,\n",
    "# contain a 200MB .csv file with the same name (On_Time_On_Time_Performance_2016_1.csv)\n",
    "# plus a 'readme.html' explaining the fields.\n",
    "OTP_URL = 'https://transtats.bts.gov/PREZIP/On_Time_On_Time_Performance_%s_%s.zip'\n",
    "\n",
    "OTP_COLUMNS_TO_LOAD = [\n",
    "        'FlightDate', 'Origin', 'Dest', 'Distance',\n",
    "        'Carrier', 'FlightNum', 'TailNum',\n",
    "        'CRSDepTime', 'CRSArrTime', 'CRSElapsedTime',\n",
    "        'Flights', 'Cancelled','Diverted',\n",
    "        'DepTime', 'ArrTime', 'ActualElapsedTime',\n",
    "        'DepDelay', 'ArrDelay', 'AirTime',\n",
    "    ]\n",
    "\n",
    "# Directory to store the resulting .zip files\n",
    "if os.path.exists('/home/stephen/do-not-backup'):\n",
    "    DIR_NAME = '/home/stephen/do-not-backup/data/usa-flights-otp'\n",
    "else:\n",
    "    DIR_NAME = '~/pydata-pandas/data'"
   ]
  },
  {
   "cell_type": "code",
   "execution_count": null,
   "metadata": {
    "deletable": true,
    "editable": true
   },
   "outputs": [],
   "source": [
    "# Download USA flight data as described at \n",
    "# https://www.transtats.bts.gov/DL_SelectFields.asp?Table_ID=236&DB_Short_Name=On-Time\n",
    "import logging\n",
    "import multiprocessing\n",
    "import ssl\n",
    "import urllib.request\n",
    "\n",
    "BASE_URL = 'https://transtats.bts.gov//PREZIP/On_Time_On_Time_Performance_%s_%s.zip'\n",
    "DIR_NAME = '/home/stephen/do-not-backup/data/usa-flights-otp'\n",
    "\n",
    "def retrieve_data(year_month):\n",
    "    \"\"\"\n",
    "    Retrieve BTS on-time flight data for given year and month,\n",
    "    unpack csv data from zip file and save as 'flights-yyyy-mm.xz'.\n",
    "     \n",
    "    year_month  - Month of data to retrieve, in form of a tuple of ints \n",
    "                    like (2016, 1) for January 2016.\n",
    "    \"\"\"\n",
    "    os.makedirs(DIR_NAME, exist_ok=True)\n",
    "    filename = 'flights-%04d-%02d' % year_month\n",
    "    zip_path = os.path.join(DIR_NAME, filename + '.zip')\n",
    "    xz_path  = os.path.join(DIR_NAME, filename + '.xz' )\n",
    "    csv_filename = 'On_Time_On_Time_Performance_%s_%s.csv' % year_month\n",
    "\n",
    "    if os.path.exists(xz_path):\n",
    "        print(\"%s - Already have .xz file\" % filename)\n",
    "    else:\n",
    "        started = time.time()\n",
    "        # Get zip file's data\n",
    "        if os.path.exists(zip_path):\n",
    "            # Extract from previously downloaded zip file\n",
    "            print(\"%s - Reading csv from %s\" % (filename, zip_path))\n",
    "            zip_src = zip_path\n",
    "        else:\n",
    "            # Download zip file to memory\n",
    "            url = OTP_URL % year_month\n",
    "            print(\"%s - Downloading %s\" % (filename, url))\n",
    "            # We would like to do simply this:\n",
    "            #   urllib.request.urlretrieve(url, dest_path)\n",
    "            # but that gives SSL errors\n",
    "            ctx = ssl.create_default_context()\n",
    "            ctx.check_hostname = False\n",
    "            ctx.verify_mode = ssl.CERT_NONE\n",
    "            zip_data = urllib.request.urlopen(url, context=ctx).read() # 25MB\n",
    "            zip_src = io.BytesIO(zip_data)\n",
    "        # Extract csv data and recompress to .xz archive\n",
    "        csv_data = zipfile.ZipFile(zip_src).open(csv_filename).read()  # 200MB!\n",
    "        MB = 1024.0 * 1024.0\n",
    "        print(\"%s - csv data is %0.1fMB. Now compressing...\"\n",
    "                        % (filename, len(csv_data) / MB))\n",
    "        with lzma.open(xz_path, 'wb') as xzf:\n",
    "            xzf.write(csv_data)\n",
    "            csv_MB = xzf.tell() / MB\n",
    "            xz_MB = xzf._fp.tell() / MB\n",
    "        mins, secs = divmod(time.time() - started, 60)\n",
    "        print(\"%s - Compressed csv from %0.1fMB to %0.1fMB [%02d:%02d, %0.1fMB mem]\"\n",
    "                        % (filename, csv_MB, xz_MB, mins, secs, memory_usage() ))\n",
    "\n",
    "\n",
    "def download_flight_data(start='1988-01', end=None, num_threads=4):\n",
    "    \"\"\"\n",
    "    Download BTS On-Time flight data for one month or a range of months.\n",
    "    Data is available from '1987-12' to '2017-01' inclusive.\n",
    "    The resulting zip files are named 'files-yyyy-mm.zip'.\n",
    "    \"\"\"\n",
    "    end   = tuple(map(int, min(end or start, '2017-01').split('-')))\n",
    "    start = tuple(map(int, max(start,        '1987-12').split('-')))\n",
    "\n",
    "    dates = (\n",
    "        (year, month)\n",
    "            for year in range(end[0], start[0] - 1, -1)\n",
    "                for month in range(12, 0, -1)\n",
    "                    if start <= (year, month) <= end\n",
    "    )\n",
    "\n",
    "    multiprocessing.Pool(num_threads).map(retrieve_data, dates)\n"
   ]
  },
  {
   "cell_type": "code",
   "execution_count": null,
   "metadata": {
    "deletable": true,
    "editable": true
   },
   "outputs": [],
   "source": [
    "download_flight_data('2016-01', '2016-12')"
   ]
  },
  {
   "cell_type": "markdown",
   "metadata": {
    "deletable": true,
    "editable": true
   },
   "source": [
    "The downloaded zip files are around 23MB each, and contain two files:\n",
    "- The `.csv` data, around 220MB in size, with a name like `On_Time_On_Time_Performance_2014_8.csv`\n",
    "- `readme.html` explaining the fields.\n",
    "\n",
    "To simplify subsequent mass processing, let's recompress just the .csv file. Using xz compression results in files around 12MB, half the size of zip. \n",
    "\n",
    "```\n",
    "  $ for file in flights-*.zip; do \n",
    "      if [ ! -a \"${file%.zip}.xz\" ]; then \n",
    "        unzip -p \"$file\" *.csv | xz > \"${file%.zip}.xz\" \n",
    "      fi\n",
    "    done\n",
    "```\n"
   ]
  },
  {
   "cell_type": "code",
   "execution_count": null,
   "metadata": {
    "deletable": true,
    "editable": true
   },
   "outputs": [],
   "source": [
    "path = os.path.join(DIR_NAME, 'flights-2017-01.xz')\n",
    "df = pd.read_csv(path, dialect=\"excel\", nrows=10)\n",
    "df.info()"
   ]
  },
  {
   "cell_type": "code",
   "execution_count": null,
   "metadata": {
    "deletable": true,
    "editable": true
   },
   "outputs": [],
   "source": [
    "def memory_usage(log=False):\n",
    "    \"\"\"Return current memory usage or print in log. Requires `psutil` package installed.\"\"\"\n",
    "    pid = os.getpid()\n",
    "    try:\n",
    "        import psutil\n",
    "        mem_MB = psutil.Process(pid).memory_info().rss / 1024.0 / 1024.0\n",
    "        msg = \"Memory for process %s is %0.1fMB\" % (pid, mem_MB)\n",
    "    except:\n",
    "        mem_MB = None\n",
    "        msg = \"Process is pid %s. Memory usage unavailable\" % pid\n",
    "    if log:\n",
    "        logging.info(msg)\n",
    "    return mem_MB"
   ]
  },
  {
   "cell_type": "code",
   "execution_count": null,
   "metadata": {
    "deletable": true,
    "editable": true
   },
   "outputs": [],
   "source": [
    "def load_one_month(yyyy_mm, nrows=None):\n",
    "    \"\"\"\n",
    "    Load one month's data as a pandas DataFrame. \n",
    "    Optionally limit max number of rows read.\n",
    "    \"\"\"\n",
    "    started = time.time()\n",
    "\n",
    "    # Load the csv from xz-compressed file\n",
    "    path = os.path.join(DIR_NAME, 'flights-%s.xz' % yyyy_mm)\n",
    "    df = pd.read_csv(path,\n",
    "                     dialect=\"excel\",\n",
    "                     usecols=OTP_COLUMNS_TO_LOAD,\n",
    "                     nrows=nrows,\n",
    "                     parse_dates=['FlightDate'],\n",
    "                     dtype={ 'FlightNum': str, }, # Keep as string, to later combine with carrier\n",
    "                     )\n",
    "\n",
    "    # Put columns in our standard order\n",
    "    df = df[OTP_COLUMNS_TO_LOAD]\n",
    "    df['FlightNum'] = df['Carrier'] + df['FlightNum']   # to give 'AA494'\n",
    "\n",
    "    mm, ss = divmod(time.time() - started, 60)\n",
    "    logging.info(\"Loading pd.DataFrame for %s took %02d:%02d (%dMB mem)\", yyyy_mm, mm, ss, memory_usage())\n",
    "    return df"
   ]
  },
  {
   "cell_type": "code",
   "execution_count": null,
   "metadata": {
    "deletable": true,
    "editable": true
   },
   "outputs": [],
   "source": [
    "%timeit\n",
    "df = load_one_month('2017-01')\n",
    "df.info()"
   ]
  },
  {
   "cell_type": "code",
   "execution_count": null,
   "metadata": {
    "deletable": true,
    "editable": true
   },
   "outputs": [],
   "source": [
    "for col in ['FlightDate','Origin','Dest','Carrier','FlightNum','TailNum']:\n",
    "    df[col] = df[col].astype('category', ordered=True)\n",
    "df.info()"
   ]
  },
  {
   "cell_type": "code",
   "execution_count": null,
   "metadata": {
    "deletable": true,
    "editable": true
   },
   "outputs": [],
   "source": [
    "df['Carrier'].cat.categories"
   ]
  },
  {
   "cell_type": "code",
   "execution_count": null,
   "metadata": {
    "deletable": true,
    "editable": true
   },
   "outputs": [],
   "source": [
    "df"
   ]
  },
  {
   "cell_type": "code",
   "execution_count": null,
   "metadata": {
    "deletable": true,
    "editable": true
   },
   "outputs": [],
   "source": [
    "df.memory_usage(deep=True).sum()"
   ]
  }
 ],
 "metadata": {
  "kernelspec": {
   "display_name": "Python 3",
   "language": "python",
   "name": "python3"
  },
  "language_info": {
   "codemirror_mode": {
    "name": "ipython",
    "version": 3
   },
   "file_extension": ".py",
   "mimetype": "text/x-python",
   "name": "python",
   "nbconvert_exporter": "python",
   "pygments_lexer": "ipython3",
   "version": "3.6.1"
  }
 },
 "nbformat": 4,
 "nbformat_minor": 2
}
