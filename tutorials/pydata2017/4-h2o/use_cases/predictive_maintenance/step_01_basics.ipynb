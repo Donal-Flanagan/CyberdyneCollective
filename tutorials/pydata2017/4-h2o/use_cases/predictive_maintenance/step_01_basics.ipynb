{
 "cells": [
  {
   "cell_type": "markdown",
   "metadata": {},
   "source": [
    "# H2O Use Case - Predictive Maintenance\n",
    "\n",
    "- Source: https://archive.ics.uci.edu/ml/datasets/SECOM\n",
    "- H2O Basics: train a default Gradient Boosting Machine (GBM) for binary classification."
   ]
  },
  {
   "cell_type": "code",
   "execution_count": null,
   "metadata": {},
   "outputs": [],
   "source": [
    "# Load h2o library\n",
    "suppressPackageStartupMessages(library(h2o))"
   ]
  },
  {
   "cell_type": "code",
   "execution_count": null,
   "metadata": {},
   "outputs": [],
   "source": [
    "# Start and connect to a local H2O cluster\n",
    "h2o.init(nthreads = -1)"
   ]
  },
  {
   "cell_type": "code",
   "execution_count": null,
   "metadata": {},
   "outputs": [],
   "source": [
    "# Importing data from local CSV\n",
    "h_secom <- h2o.importFile(path = \"secom.csv\", destination_frame = \"h_secom\")"
   ]
  },
  {
   "cell_type": "code",
   "execution_count": null,
   "metadata": {},
   "outputs": [],
   "source": [
    "# Print out column names\n",
    "colnames(h_secom)"
   ]
  },
  {
   "cell_type": "code",
   "execution_count": null,
   "metadata": {},
   "outputs": [],
   "source": [
    "# Look at \"Classification\"\n",
    "summary(h_secom$Classification, exact_quantiles=TRUE)"
   ]
  },
  {
   "cell_type": "code",
   "execution_count": null,
   "metadata": {},
   "outputs": [],
   "source": [
    "# \"Classification\" is a column of numerical values\n",
    "# Convert \"Classification\" in secom dataset from numerical to categorical value\n",
    "h_secom$Classification <- as.factor(h_secom$Classification)"
   ]
  },
  {
   "cell_type": "code",
   "execution_count": null,
   "metadata": {},
   "outputs": [],
   "source": [
    "# Look at \"Classification\" again\n",
    "summary(h_secom$Classification, exact_quantiles=TRUE)"
   ]
  },
  {
   "cell_type": "code",
   "execution_count": null,
   "metadata": {},
   "outputs": [],
   "source": [
    "# Define target (y) and features (x)\n",
    "target <- \"Classification\"\n",
    "features <- setdiff(colnames(h_secom), target)\n",
    "print(features)"
   ]
  },
  {
   "cell_type": "code",
   "execution_count": null,
   "metadata": {},
   "outputs": [],
   "source": [
    "# Splitting dataset into training and test\n",
    "h_split <- h2o.splitFrame(h_secom, ratios = 0.7, seed = 1234)\n",
    "h_train <- h_split[[1]] # 70%\n",
    "h_test  <- h_split[[2]] # 30%"
   ]
  },
  {
   "cell_type": "code",
   "execution_count": null,
   "metadata": {},
   "outputs": [],
   "source": [
    "# Look at the size\n",
    "dim(h_train)\n",
    "dim(h_test)"
   ]
  },
  {
   "cell_type": "code",
   "execution_count": null,
   "metadata": {},
   "outputs": [],
   "source": [
    "# Check Classification in each dataset\n",
    "summary(h_train$Classification, exact_quantiles = TRUE)\n",
    "summary(h_test$Classification, exact_quantiles = TRUE)"
   ]
  },
  {
   "cell_type": "code",
   "execution_count": null,
   "metadata": {},
   "outputs": [],
   "source": [
    "# H2O Gradient Boosting Machine with default settings\n",
    "model <- h2o.gbm(x = features, \n",
    "                 y = target, \n",
    "                 training_frame = h_train,\n",
    "                 seed = 1234)"
   ]
  },
  {
   "cell_type": "code",
   "execution_count": null,
   "metadata": {},
   "outputs": [],
   "source": [
    "# Print out model summary\n",
    "summary(model)"
   ]
  },
  {
   "cell_type": "code",
   "execution_count": null,
   "metadata": {},
   "outputs": [],
   "source": [
    "# Check performance on test set\n",
    "h2o.performance(model, h_test)"
   ]
  },
  {
   "cell_type": "markdown",
   "metadata": {},
   "source": [
    "# Making Predictions"
   ]
  },
  {
   "cell_type": "code",
   "execution_count": null,
   "metadata": {},
   "outputs": [],
   "source": [
    "# Use the model for predictions\n",
    "yhat_test <- h2o.predict(model, h_test)"
   ]
  },
  {
   "cell_type": "code",
   "execution_count": null,
   "metadata": {},
   "outputs": [],
   "source": [
    "# Show first 10 rows\n",
    "head(yhat_test, 10)"
   ]
  }
 ],
 "metadata": {
  "anaconda-cloud": {},
  "kernelspec": {
   "display_name": "R",
   "language": "R",
   "name": "ir"
  },
  "language_info": {
   "codemirror_mode": "r",
   "file_extension": ".r",
   "mimetype": "text/x-r-source",
   "name": "R",
   "pygments_lexer": "r",
   "version": "3.3.2"
  }
 },
 "nbformat": 4,
 "nbformat_minor": 1
}
