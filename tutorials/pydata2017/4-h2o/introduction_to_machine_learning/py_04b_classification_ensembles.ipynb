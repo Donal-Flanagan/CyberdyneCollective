{
 "cells": [
  {
   "cell_type": "markdown",
   "metadata": {},
   "source": [
    "# Machine Learning with H2O - Tutorial 4b: Classification Models (Ensembles)\n",
    "\n",
    "<hr>\n",
    "\n",
    "**Objective**:\n",
    "\n",
    "- This tutorial explains how to create stacked ensembles of classification models for better out-of-bag performance.\n",
    "\n",
    "<hr>\n",
    "\n",
    "**Titanic Dataset:**\n",
    "\n",
    "- Source: https://www.kaggle.com/c/titanic/data\n",
    "\n",
    "<hr>\n",
    "    \n",
    "**Steps**:\n",
    "\n",
    "1. Build GBM models using random grid search and extract the best one.\n",
    "2. Build DRF models using random grid search and extract the best one. \n",
    "3. Use model stacking to combining different models.\n",
    "\n",
    "\n",
    "<hr>\n",
    "\n",
    "**Full Technical Reference:**\n",
    "\n",
    "- http://docs.h2o.ai/h2o/latest-stable/h2o-py/docs/modeling.html\n",
    "- http://docs.h2o.ai/h2o/latest-stable/h2o-docs/data-science/stacked-ensembles.html\n",
    "\n",
    "<br>\n"
   ]
  },
  {
   "cell_type": "code",
   "execution_count": null,
   "metadata": {},
   "outputs": [],
   "source": [
    "# Import all required modules\n",
    "import h2o\n",
    "from h2o.estimators.gbm import H2OGradientBoostingEstimator\n",
    "from h2o.estimators.random_forest import H2ORandomForestEstimator\n",
    "from h2o.estimators.deeplearning import H2ODeepLearningEstimator\n",
    "from h2o.estimators.stackedensemble import H2OStackedEnsembleEstimator\n",
    "from h2o.grid.grid_search import H2OGridSearch\n",
    "\n",
    "# Start and connect to a local H2O cluster\n",
    "h2o.init(nthreads = -1)"
   ]
  },
  {
   "cell_type": "markdown",
   "metadata": {},
   "source": [
    "<br>"
   ]
  },
  {
   "cell_type": "code",
   "execution_count": null,
   "metadata": {},
   "outputs": [],
   "source": [
    "# Import Titanic data (local CSV)\n",
    "titanic = h2o.import_file(\"kaggle_titanic.csv\")\n",
    "titanic.head(5)"
   ]
  },
  {
   "cell_type": "code",
   "execution_count": null,
   "metadata": {},
   "outputs": [],
   "source": [
    "# Convert 'Survived' and 'Pclass' to categorical values\n",
    "titanic['Survived'] = titanic['Survived'].asfactor()\n",
    "titanic['Pclass'] = titanic['Pclass'].asfactor()"
   ]
  },
  {
   "cell_type": "code",
   "execution_count": null,
   "metadata": {},
   "outputs": [],
   "source": [
    "# Define features (or predictors) manually\n",
    "features = ['Pclass', 'Sex', 'Age', 'SibSp', 'Parch', 'Fare', 'Embarked']"
   ]
  },
  {
   "cell_type": "code",
   "execution_count": null,
   "metadata": {},
   "outputs": [],
   "source": [
    "# Split the H2O data frame into training/test sets\n",
    "# so we can evaluate out-of-bag performance\n",
    "titanic_split = titanic.split_frame(ratios = [0.8], seed = 1234)\n",
    "\n",
    "titanic_train = titanic_split[0] # using 80% for training\n",
    "titanic_test = titanic_split[1]  # using the rest 20% for out-of-bag evaluation"
   ]
  },
  {
   "cell_type": "code",
   "execution_count": null,
   "metadata": {},
   "outputs": [],
   "source": [
    "titanic_train.shape"
   ]
  },
  {
   "cell_type": "code",
   "execution_count": null,
   "metadata": {},
   "outputs": [],
   "source": [
    "titanic_test.shape"
   ]
  },
  {
   "cell_type": "markdown",
   "metadata": {},
   "source": [
    "<br>"
   ]
  },
  {
   "cell_type": "markdown",
   "metadata": {},
   "source": [
    "## Define Search Criteria for Random Grid Search"
   ]
  },
  {
   "cell_type": "code",
   "execution_count": null,
   "metadata": {},
   "outputs": [],
   "source": [
    "# define the criteria for random grid search\n",
    "search_criteria = {'strategy': \"RandomDiscrete\", \n",
    "                   'max_models': 9,\n",
    "                   'seed': 1234}"
   ]
  },
  {
   "cell_type": "markdown",
   "metadata": {},
   "source": [
    "<br>"
   ]
  },
  {
   "cell_type": "markdown",
   "metadata": {},
   "source": [
    "## Step 1: Build GBM Models using Random Grid Search and Extract the Best Model"
   ]
  },
  {
   "cell_type": "code",
   "execution_count": null,
   "metadata": {},
   "outputs": [],
   "source": [
    "# define the range of hyper-parameters for GBM grid search\n",
    "# 27 combinations in total\n",
    "hyper_params = {'sample_rate': [0.7, 0.8, 0.9],\n",
    "                'col_sample_rate': [0.7, 0.8, 0.9],\n",
    "                'max_depth': [3, 5, 7]}"
   ]
  },
  {
   "cell_type": "code",
   "execution_count": null,
   "metadata": {},
   "outputs": [],
   "source": [
    "# Set up GBM grid search\n",
    "# Add a seed for reproducibility\n",
    "gbm_rand_grid = H2OGridSearch(\n",
    "                    H2OGradientBoostingEstimator(\n",
    "                        model_id = 'gbm_rand_grid', \n",
    "                        seed = 1234,\n",
    "                        ntrees = 10000,   \n",
    "                        nfolds = 5,\n",
    "                        fold_assignment = \"Modulo\",               # needed for stacked ensembles\n",
    "                        keep_cross_validation_predictions = True, # needed for stacked ensembles\n",
    "                        stopping_metric = 'mse', \n",
    "                        stopping_rounds = 15,     \n",
    "                        score_tree_interval = 1),\n",
    "                    search_criteria = search_criteria, # full grid search\n",
    "                    hyper_params = hyper_params)"
   ]
  },
  {
   "cell_type": "code",
   "execution_count": null,
   "metadata": {},
   "outputs": [],
   "source": [
    "# Use .train() to start the grid search\n",
    "gbm_rand_grid.train(x = features, \n",
    "                    y = 'Survived', \n",
    "                    training_frame = titanic_train)"
   ]
  },
  {
   "cell_type": "code",
   "execution_count": null,
   "metadata": {},
   "outputs": [],
   "source": [
    "# Sort and show the grid search results\n",
    "gbm_rand_grid_sorted = gbm_rand_grid.get_grid(sort_by='auc', decreasing=True)\n",
    "print(gbm_rand_grid_sorted)"
   ]
  },
  {
   "cell_type": "code",
   "execution_count": null,
   "metadata": {},
   "outputs": [],
   "source": [
    "# Extract the best model from random grid search\n",
    "best_gbm_model_id = gbm_rand_grid_sorted.model_ids[0]\n",
    "best_gbm_from_rand_grid = h2o.get_model(best_gbm_model_id)\n",
    "best_gbm_from_rand_grid.summary()"
   ]
  },
  {
   "cell_type": "markdown",
   "metadata": {},
   "source": [
    "<br>"
   ]
  },
  {
   "cell_type": "markdown",
   "metadata": {},
   "source": [
    "## Step 2: Build DRF Models using Random Grid Search and Extract the Best Model"
   ]
  },
  {
   "cell_type": "code",
   "execution_count": null,
   "metadata": {},
   "outputs": [],
   "source": [
    "# define the range of hyper-parameters for DRF grid search\n",
    "# 27 combinations in total\n",
    "hyper_params = {'sample_rate': [0.5, 0.6, 0.7],\n",
    "                'col_sample_rate_per_tree': [0.7, 0.8, 0.9],\n",
    "                'max_depth': [3, 5, 7]}"
   ]
  },
  {
   "cell_type": "code",
   "execution_count": null,
   "metadata": {},
   "outputs": [],
   "source": [
    "# Set up DRF grid search\n",
    "# Add a seed for reproducibility\n",
    "drf_rand_grid = H2OGridSearch(\n",
    "                    H2ORandomForestEstimator(\n",
    "                        model_id = 'drf_rand_grid', \n",
    "                        seed = 1234,\n",
    "                        ntrees = 200,   \n",
    "                        nfolds = 5,\n",
    "                        fold_assignment = \"Modulo\",                # needed for stacked ensembles\n",
    "                        keep_cross_validation_predictions = True), # needed for stacked ensembles\n",
    "                    search_criteria = search_criteria, # full grid search\n",
    "                    hyper_params = hyper_params)"
   ]
  },
  {
   "cell_type": "code",
   "execution_count": null,
   "metadata": {},
   "outputs": [],
   "source": [
    "# Use .train() to start the grid search\n",
    "drf_rand_grid.train(x = features, \n",
    "                    y = 'Survived', \n",
    "                    training_frame = titanic_train)"
   ]
  },
  {
   "cell_type": "code",
   "execution_count": null,
   "metadata": {},
   "outputs": [],
   "source": [
    "# Sort and show the grid search results\n",
    "drf_rand_grid_sorted = drf_rand_grid.get_grid(sort_by='auc', decreasing=True)\n",
    "print(drf_rand_grid_sorted)"
   ]
  },
  {
   "cell_type": "code",
   "execution_count": null,
   "metadata": {},
   "outputs": [],
   "source": [
    "# Extract the best model from random grid search\n",
    "best_drf_model_id = drf_rand_grid_sorted.model_ids[0]\n",
    "best_drf_from_rand_grid = h2o.get_model(best_drf_model_id)\n",
    "best_drf_from_rand_grid.summary()"
   ]
  },
  {
   "cell_type": "markdown",
   "metadata": {},
   "source": [
    "<br>"
   ]
  },
  {
   "cell_type": "markdown",
   "metadata": {},
   "source": [
    "## Model Stacking"
   ]
  },
  {
   "cell_type": "code",
   "execution_count": null,
   "metadata": {},
   "outputs": [],
   "source": [
    "# Define a list of models to be stacked\n",
    "# i.e. best model from each grid\n",
    "all_ids = [best_gbm_model_id, best_drf_model_id]"
   ]
  },
  {
   "cell_type": "code",
   "execution_count": null,
   "metadata": {},
   "outputs": [],
   "source": [
    "# Set up Stacked Ensemble\n",
    "ensemble = H2OStackedEnsembleEstimator(model_id = \"my_ensemble\",\n",
    "                                       base_models = all_ids)"
   ]
  },
  {
   "cell_type": "code",
   "execution_count": null,
   "metadata": {},
   "outputs": [],
   "source": [
    "# use .train to start model stacking\n",
    "# GLM as the default metalearner\n",
    "ensemble.train(x = features, \n",
    "               y = 'Survived', \n",
    "               training_frame = titanic_train)"
   ]
  },
  {
   "cell_type": "markdown",
   "metadata": {},
   "source": [
    "<br>"
   ]
  },
  {
   "cell_type": "markdown",
   "metadata": {},
   "source": [
    "## Comparison of Model Performance on Test Data"
   ]
  },
  {
   "cell_type": "code",
   "execution_count": null,
   "metadata": {},
   "outputs": [],
   "source": [
    "print('Best GBM model from Grid (AUC) : ', best_gbm_from_rand_grid.model_performance(titanic_test).auc())\n",
    "print('Best DRF model from Grid (AUC) : ', best_drf_from_rand_grid.model_performance(titanic_test).auc())\n",
    "print('Stacked Ensembles        (AUC) : ', ensemble.model_performance(titanic_test).auc())"
   ]
  },
  {
   "cell_type": "markdown",
   "metadata": {},
   "source": [
    "<br>"
   ]
  },
  {
   "cell_type": "markdown",
   "metadata": {},
   "source": [
    "<br>"
   ]
  }
 ],
 "metadata": {
  "anaconda-cloud": {},
  "kernelspec": {
   "display_name": "Python 3",
   "language": "python",
   "name": "python3"
  },
  "language_info": {
   "codemirror_mode": {
    "name": "ipython",
    "version": 3
   },
   "file_extension": ".py",
   "mimetype": "text/x-python",
   "name": "python",
   "nbconvert_exporter": "python",
   "pygments_lexer": "ipython3",
   "version": "3.6.1"
  }
 },
 "nbformat": 4,
 "nbformat_minor": 1
}
