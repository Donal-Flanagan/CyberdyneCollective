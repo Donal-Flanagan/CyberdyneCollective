{
 "cells": [
  {
   "cell_type": "markdown",
   "metadata": {},
   "source": [
    "# Machine Learning with H2O - Tutorial 3c: Regression Models (Ensembles)\n",
    "\n",
    "<hr>\n",
    "\n",
    "**Objective**:\n",
    "\n",
    "- This tutorial explains how to create stacked ensembles of regression models for better out-of-bag performance.\n",
    "\n",
    "<hr>\n",
    "\n",
    "**Wine Quality Dataset:**\n",
    "\n",
    "- Source: https://archive.ics.uci.edu/ml/datasets/Wine+Quality\n",
    "- CSV (https://archive.ics.uci.edu/ml/machine-learning-databases/wine-quality/winequality-white.csv)\n",
    "\n",
    "<hr>\n",
    "    \n",
    "**Steps**:\n",
    "\n",
    "1. Build GBM models using random grid search and extract the best one.\n",
    "2. Build DRF models using random grid search and extract the best one. \n",
    "3. Build DNN models using random grid search and extract the best one.\n",
    "4. Use model stacking to combining different models.\n",
    "\n",
    "\n",
    "<hr>\n",
    "\n",
    "**Full Technical Reference:**\n",
    "\n",
    "- http://docs.h2o.ai/h2o/latest-stable/h2o-docs/booklets/RBooklet.pdf\n",
    "- http://docs.h2o.ai/h2o/latest-stable/h2o-docs/data-science/stacked-ensembles.html\n",
    "\n",
    "<br>\n"
   ]
  },
  {
   "cell_type": "code",
   "execution_count": null,
   "metadata": {},
   "outputs": [],
   "source": [
    "# Start and connect to a local H2O cluster\n",
    "suppressPackageStartupMessages(library(h2o))\n",
    "h2o.init(nthreads = -1)"
   ]
  },
  {
   "cell_type": "markdown",
   "metadata": {},
   "source": [
    "<br>"
   ]
  },
  {
   "cell_type": "code",
   "execution_count": null,
   "metadata": {},
   "outputs": [],
   "source": [
    "# Import wine quality data from a local CSV file\n",
    "wine = h2o.importFile(\"winequality-white.csv\")\n",
    "head(wine, 5)"
   ]
  },
  {
   "cell_type": "code",
   "execution_count": null,
   "metadata": {},
   "outputs": [],
   "source": [
    "# Define features (or predictors)\n",
    "features = colnames(wine)  # we want to use all the information\n",
    "features = setdiff(features, 'quality')    # we need to exclude the target 'quality'\n",
    "features"
   ]
  },
  {
   "cell_type": "code",
   "execution_count": null,
   "metadata": {},
   "outputs": [],
   "source": [
    "# Split the H2O data frame into training/test sets\n",
    "# so we can evaluate out-of-bag performance\n",
    "wine_split = h2o.splitFrame(wine, ratios = 0.8, seed = 1234)\n",
    "\n",
    "wine_train = wine_split[[1]] # using 80% for training\n",
    "wine_test = wine_split[[2]]  # using the rest 20% for out-of-bag evaluation"
   ]
  },
  {
   "cell_type": "code",
   "execution_count": null,
   "metadata": {},
   "outputs": [],
   "source": [
    "dim(wine_train)"
   ]
  },
  {
   "cell_type": "code",
   "execution_count": null,
   "metadata": {},
   "outputs": [],
   "source": [
    "dim(wine_test)"
   ]
  },
  {
   "cell_type": "markdown",
   "metadata": {},
   "source": [
    "<br>"
   ]
  },
  {
   "cell_type": "markdown",
   "metadata": {},
   "source": [
    "## Define Search Criteria for Random Grid Search"
   ]
  },
  {
   "cell_type": "code",
   "execution_count": null,
   "metadata": {},
   "outputs": [],
   "source": [
    "# define the criteria for random grid search\n",
    "search_criteria = list(strategy = \"RandomDiscrete\",\n",
    "                       max_models = 9,\n",
    "                       seed = 1234)"
   ]
  },
  {
   "cell_type": "markdown",
   "metadata": {},
   "source": [
    "<br>"
   ]
  },
  {
   "cell_type": "markdown",
   "metadata": {},
   "source": [
    "## Step 1: Build GBM Models using Random Grid Search and Extract the Best Model"
   ]
  },
  {
   "cell_type": "code",
   "execution_count": null,
   "metadata": {},
   "outputs": [],
   "source": [
    "# define the range of hyper-parameters for GBM grid search\n",
    "# 27 combinations in total\n",
    "hyper_params <- list(\n",
    "    sample_rate = c(0.7, 0.8, 0.9),\n",
    "    col_sample_rate = c(0.7, 0.8, 0.9),\n",
    "    max_depth = c(3, 5, 7)\n",
    ")"
   ]
  },
  {
   "cell_type": "code",
   "execution_count": null,
   "metadata": {},
   "outputs": [],
   "source": [
    "# Set up GBM grid search\n",
    "# Add a seed for reproducibility\n",
    "# Set up GBM grid search\n",
    "# Add a seed for reproducibility\n",
    "gbm_rand_grid <- h2o.grid(\n",
    "  \n",
    "    # Core parameters for model training\n",
    "    x = features,\n",
    "    y = 'quality',\n",
    "    training_frame = wine_train,\n",
    "    ntrees = 10000,\n",
    "    nfolds = 5,\n",
    "    seed = 1234,\n",
    "\n",
    "    # Parameters for grid search\n",
    "    grid_id = \"gbm_rand_grid\",\n",
    "    hyper_params = hyper_params,\n",
    "    algorithm = \"gbm\",\n",
    "    search_criteria = search_criteria,\n",
    "\n",
    "    # Parameters for early stopping\n",
    "    stopping_metric = \"MSE\",\n",
    "    stopping_rounds = 15,\n",
    "    score_tree_interval = 1,\n",
    "    \n",
    "    # Parameters required for stacked ensembles\n",
    "    fold_assignment = \"Modulo\",\n",
    "    keep_cross_validation_predictions = TRUE\n",
    "  \n",
    ")"
   ]
  },
  {
   "cell_type": "code",
   "execution_count": null,
   "metadata": {},
   "outputs": [],
   "source": [
    "# Sort and show the grid search results\n",
    "gbm_rand_grid <- h2o.getGrid(grid_id = \"gbm_rand_grid\", sort_by = \"mse\", decreasing = FALSE)\n",
    "print(gbm_rand_grid)"
   ]
  },
  {
   "cell_type": "code",
   "execution_count": null,
   "metadata": {},
   "outputs": [],
   "source": [
    "# Extract the best model from random grid search\n",
    "best_gbm_model_id <- gbm_rand_grid@model_ids[[1]] # top of the list\n",
    "best_gbm_from_rand_grid <- h2o.getModel(best_gbm_model_id)\n",
    "summary(best_gbm_from_rand_grid)"
   ]
  },
  {
   "cell_type": "markdown",
   "metadata": {},
   "source": [
    "<br>"
   ]
  },
  {
   "cell_type": "markdown",
   "metadata": {},
   "source": [
    "## Step 2: Build DRF Models using Random Grid Search and Extract the Best Model"
   ]
  },
  {
   "cell_type": "code",
   "execution_count": null,
   "metadata": {},
   "outputs": [],
   "source": [
    "# define the range of hyper-parameters for DRF grid search\n",
    "# 27 combinations in total\n",
    "hyper_params <- list(\n",
    "    sample_rate = c(0.5, 0.6, 0.7),\n",
    "    col_sample_rate_per_tree = c(0.7, 0.8, 0.9),\n",
    "    max_depth = c(3, 5, 7)\n",
    ")"
   ]
  },
  {
   "cell_type": "code",
   "execution_count": null,
   "metadata": {},
   "outputs": [],
   "source": [
    "# Set up DRF grid search\n",
    "# Add a seed for reproducibility\n",
    "drf_rand_grid <- h2o.grid(\n",
    "  \n",
    "    # Core parameters for model training\n",
    "    x = features,\n",
    "    y = 'quality',\n",
    "    training_frame = wine_train,\n",
    "    ntrees = 200,\n",
    "    nfolds = 5,\n",
    "    seed = 1234,\n",
    "\n",
    "    # Parameters for grid search\n",
    "    grid_id = \"drf_rand_grid\",\n",
    "    hyper_params = hyper_params,\n",
    "    algorithm = \"randomForest\",\n",
    "    search_criteria = search_criteria,\n",
    "    \n",
    "    # Parameters required for stacked ensembles\n",
    "    fold_assignment = \"Modulo\",\n",
    "    keep_cross_validation_predictions = TRUE\n",
    "  \n",
    ")"
   ]
  },
  {
   "cell_type": "code",
   "execution_count": null,
   "metadata": {},
   "outputs": [],
   "source": [
    "# Sort and show the grid search results\n",
    "drf_rand_grid <- h2o.getGrid(grid_id = \"drf_rand_grid\", sort_by = \"mse\", decreasing = FALSE)\n",
    "print(drf_rand_grid)"
   ]
  },
  {
   "cell_type": "code",
   "execution_count": null,
   "metadata": {},
   "outputs": [],
   "source": [
    "# Extract the best model from random grid search\n",
    "best_drf_model_id <- drf_rand_grid@model_ids[[1]] # top of the list\n",
    "best_drf_from_rand_grid <- h2o.getModel(best_drf_model_id)\n",
    "summary(best_drf_from_rand_grid)"
   ]
  },
  {
   "cell_type": "markdown",
   "metadata": {},
   "source": [
    "<br>"
   ]
  },
  {
   "cell_type": "markdown",
   "metadata": {},
   "source": [
    "## Step 3: Build DNN Models using Random Grid Search and Extract the Best Model"
   ]
  },
  {
   "cell_type": "code",
   "execution_count": null,
   "metadata": {},
   "outputs": [],
   "source": [
    "# define the range of hyper-parameters for DNN grid search\n",
    "# 81 combinations in total\n",
    "hyper_params <- list(\n",
    "    activation = c('tanh', 'rectifier', 'maxout'),\n",
    "    hidden = list(c(50), c(50,50), c(50,50,50)),\n",
    "    l1 = c(0, 1e-3, 1e-5),\n",
    "    l2 = c(0, 1e-3, 1e-5)\n",
    ")"
   ]
  },
  {
   "cell_type": "code",
   "execution_count": null,
   "metadata": {},
   "outputs": [],
   "source": [
    "# Set up DNN grid search\n",
    "# Add a seed for reproducibility\n",
    "dnn_rand_grid <- h2o.grid(\n",
    "  \n",
    "    # Core parameters for model training\n",
    "    x = features,\n",
    "    y = 'quality',\n",
    "    training_frame = wine_train,\n",
    "    epochs = 20,\n",
    "    nfolds = 5,\n",
    "    seed = 1234,\n",
    "\n",
    "    # Parameters for grid search\n",
    "    grid_id = \"dnn_rand_grid\",\n",
    "    hyper_params = hyper_params,\n",
    "    algorithm = \"deeplearning\",\n",
    "    search_criteria = search_criteria,\n",
    "    \n",
    "    # Parameters required for stacked ensembles\n",
    "    fold_assignment = \"Modulo\",\n",
    "    keep_cross_validation_predictions = TRUE\n",
    "  \n",
    ")"
   ]
  },
  {
   "cell_type": "code",
   "execution_count": null,
   "metadata": {},
   "outputs": [],
   "source": [
    "# Sort and show the grid search results\n",
    "dnn_rand_grid <- h2o.getGrid(grid_id = \"dnn_rand_grid\", sort_by = \"mse\", decreasing = FALSE)\n",
    "print(dnn_rand_grid)"
   ]
  },
  {
   "cell_type": "code",
   "execution_count": null,
   "metadata": {},
   "outputs": [],
   "source": [
    "# Extract the best model from random grid search\n",
    "best_dnn_model_id <- dnn_rand_grid@model_ids[[1]] # top of the list\n",
    "best_dnn_from_rand_grid <- h2o.getModel(best_dnn_model_id)\n",
    "summary(best_dnn_from_rand_grid)"
   ]
  },
  {
   "cell_type": "markdown",
   "metadata": {},
   "source": [
    "<br>"
   ]
  },
  {
   "cell_type": "markdown",
   "metadata": {},
   "source": [
    "## Model Stacking"
   ]
  },
  {
   "cell_type": "code",
   "execution_count": null,
   "metadata": {},
   "outputs": [],
   "source": [
    "# Define a list of models to be stacked\n",
    "# i.e. best model from each grid\n",
    "all_ids = list(best_gbm_model_id, best_drf_model_id, best_dnn_model_id)"
   ]
  },
  {
   "cell_type": "code",
   "execution_count": null,
   "metadata": {},
   "outputs": [],
   "source": [
    "# Stack models\n",
    "# GLM as the default metalearner\n",
    "ensemble = h2o.stackedEnsemble(x = features,\n",
    "                               y = 'quality',\n",
    "                               training_frame = wine_train,\n",
    "                               model_id = \"my_ensemble\",\n",
    "                               base_models = all_ids)"
   ]
  },
  {
   "cell_type": "markdown",
   "metadata": {},
   "source": [
    "<br>"
   ]
  },
  {
   "cell_type": "markdown",
   "metadata": {},
   "source": [
    "## Comparison of Model Performance on Test Data"
   ]
  },
  {
   "cell_type": "code",
   "execution_count": null,
   "metadata": {},
   "outputs": [],
   "source": [
    "cat('Best GBM model from Grid (MSE) : ', h2o.performance(best_gbm_from_rand_grid, wine_test)@metrics$MSE, \"\\n\")\n",
    "cat('Best DRF model from Grid (MSE) : ', h2o.performance(best_drf_from_rand_grid, wine_test)@metrics$MSE, \"\\n\")\n",
    "cat('Best DNN model from Grid (MSE) : ', h2o.performance(best_dnn_from_rand_grid, wine_test)@metrics$MSE, \"\\n\")\n",
    "cat('Stacked Ensembles        (MSE) : ', h2o.performance(ensemble, wine_test)@metrics$MSE, \"\\n\")"
   ]
  },
  {
   "cell_type": "markdown",
   "metadata": {},
   "source": [
    "<br>"
   ]
  },
  {
   "cell_type": "markdown",
   "metadata": {},
   "source": [
    "<br>"
   ]
  }
 ],
 "metadata": {
  "anaconda-cloud": {},
  "kernelspec": {
   "display_name": "R",
   "language": "R",
   "name": "ir"
  },
  "language_info": {
   "codemirror_mode": "r",
   "file_extension": ".r",
   "mimetype": "text/x-r-source",
   "name": "R",
   "pygments_lexer": "r",
   "version": "3.3.2"
  }
 },
 "nbformat": 4,
 "nbformat_minor": 1
}
