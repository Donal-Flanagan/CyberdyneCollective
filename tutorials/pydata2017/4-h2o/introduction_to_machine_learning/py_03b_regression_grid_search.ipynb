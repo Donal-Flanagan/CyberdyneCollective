{
 "cells": [
  {
   "cell_type": "markdown",
   "metadata": {},
   "source": [
    "# Machine Learning with H2O - Tutorial 3b: Regression Models (Grid Search)\n",
    "\n",
    "<hr>\n",
    "\n",
    "**Objective**:\n",
    "\n",
    "- This tutorial explains how to fine-tune regression models for better out-of-bag performance.\n",
    "\n",
    "<hr>\n",
    "\n",
    "**Wine Quality Dataset:**\n",
    "\n",
    "- Source: https://archive.ics.uci.edu/ml/datasets/Wine+Quality\n",
    "- CSV (https://archive.ics.uci.edu/ml/machine-learning-databases/wine-quality/winequality-white.csv)\n",
    "\n",
    "<hr>\n",
    "    \n",
    "**Steps**:\n",
    "\n",
    "1. GBM with default settings\n",
    "2. GBM with manual settings\n",
    "3. GBM with manual settings & cross-validation\n",
    "4. GBM with manual settings, cross-validation and early stopping\n",
    "5. GBM with cross-validation, early stopping and full grid search\n",
    "6. GBM with cross-validation, early stopping and random grid search\n",
    "7. Model stacking (combining different GLM, DRF, GBM and DNN models)\n",
    "\n",
    "\n",
    "<hr>\n",
    "\n",
    "**Full Technical Reference:**\n",
    "\n",
    "- http://docs.h2o.ai/h2o/latest-stable/h2o-py/docs/modeling.html\n",
    "\n",
    "<br>\n"
   ]
  },
  {
   "cell_type": "code",
   "execution_count": null,
   "metadata": {},
   "outputs": [],
   "source": [
    "# Start and connect to a local H2O cluster\n",
    "import h2o\n",
    "h2o.init(nthreads = -1)"
   ]
  },
  {
   "cell_type": "markdown",
   "metadata": {},
   "source": [
    "<br>"
   ]
  },
  {
   "cell_type": "code",
   "execution_count": null,
   "metadata": {},
   "outputs": [],
   "source": [
    "# Import wine quality data from a local CSV file\n",
    "wine = h2o.import_file(\"winequality-white.csv\")\n",
    "wine.head(5)"
   ]
  },
  {
   "cell_type": "code",
   "execution_count": null,
   "metadata": {},
   "outputs": [],
   "source": [
    "# Define features (or predictors)\n",
    "features = list(wine.columns) # we want to use all the information\n",
    "features.remove('quality')    # we need to exclude the target 'quality' (otherwise there is nothing to predict)\n",
    "features"
   ]
  },
  {
   "cell_type": "code",
   "execution_count": null,
   "metadata": {},
   "outputs": [],
   "source": [
    "# Split the H2O data frame into training/test sets\n",
    "# so we can evaluate out-of-bag performance\n",
    "wine_split = wine.split_frame(ratios = [0.8], seed = 1234)\n",
    "\n",
    "wine_train = wine_split[0] # using 80% for training\n",
    "wine_test = wine_split[1]  # using the rest 20% for out-of-bag evaluation"
   ]
  },
  {
   "cell_type": "code",
   "execution_count": null,
   "metadata": {},
   "outputs": [],
   "source": [
    "wine_train.shape"
   ]
  },
  {
   "cell_type": "code",
   "execution_count": null,
   "metadata": {},
   "outputs": [],
   "source": [
    "wine_test.shape"
   ]
  },
  {
   "cell_type": "markdown",
   "metadata": {},
   "source": [
    "<br>\n",
    "\n",
    "## Step 1 - Gradient Boosting Machines (GBM) with Default Settings"
   ]
  },
  {
   "cell_type": "code",
   "execution_count": null,
   "metadata": {},
   "outputs": [],
   "source": [
    "# Build a Gradient Boosting Machines (GBM) model with default settings\n",
    "\n",
    "# Import the function for GBM\n",
    "from h2o.estimators.gbm import H2OGradientBoostingEstimator\n",
    "\n",
    "# Set up GBM for regression\n",
    "# Add a seed for reproducibility\n",
    "gbm_default = H2OGradientBoostingEstimator(model_id = 'gbm_default', \n",
    "                                           seed = 1234)\n",
    "\n",
    "# Use .train() to build the model\n",
    "gbm_default.train(x = features, \n",
    "                  y = 'quality', \n",
    "                  training_frame = wine_train)"
   ]
  },
  {
   "cell_type": "code",
   "execution_count": null,
   "metadata": {},
   "outputs": [],
   "source": [
    "# Check the model performance on test dataset\n",
    "gbm_default.model_performance(wine_test)"
   ]
  },
  {
   "cell_type": "markdown",
   "metadata": {},
   "source": [
    "<br>\n",
    "\n",
    "## Step 2 - GBM with Manual Settings"
   ]
  },
  {
   "cell_type": "code",
   "execution_count": null,
   "metadata": {},
   "outputs": [],
   "source": [
    "# Build a GBM with manual settings\n",
    "\n",
    "# Set up GBM for regression\n",
    "# Add a seed for reproducibility\n",
    "gbm_manual = H2OGradientBoostingEstimator(model_id = 'gbm_manual', \n",
    "                                          seed = 1234,\n",
    "                                          ntrees = 100,\n",
    "                                          sample_rate = 0.9,\n",
    "                                          col_sample_rate = 0.9)\n",
    "\n",
    "# Use .train() to build the model\n",
    "gbm_manual.train(x = features, \n",
    "                 y = 'quality', \n",
    "                 training_frame = wine_train)"
   ]
  },
  {
   "cell_type": "code",
   "execution_count": null,
   "metadata": {},
   "outputs": [],
   "source": [
    "# Check the model performance on test dataset\n",
    "gbm_manual.model_performance(wine_test)"
   ]
  },
  {
   "cell_type": "markdown",
   "metadata": {},
   "source": [
    "<br>\n",
    "\n",
    "## Step 3 - GBM with Manual Settings & Cross-Validation (CV)"
   ]
  },
  {
   "cell_type": "code",
   "execution_count": null,
   "metadata": {},
   "outputs": [],
   "source": [
    "# Build a GBM with manual settings & cross-validation\n",
    "\n",
    "# Set up GBM for regression\n",
    "# Add a seed for reproducibility\n",
    "gbm_manual_cv = H2OGradientBoostingEstimator(model_id = 'gbm_manual_cv', \n",
    "                                             seed = 1234,\n",
    "                                             ntrees = 100,\n",
    "                                             sample_rate = 0.9,\n",
    "                                             col_sample_rate = 0.9,\n",
    "                                             nfolds = 5)\n",
    "                                            \n",
    "# Use .train() to build the model\n",
    "gbm_manual_cv.train(x = features, \n",
    "                    y = 'quality', \n",
    "                    training_frame = wine_train)"
   ]
  },
  {
   "cell_type": "code",
   "execution_count": null,
   "metadata": {},
   "outputs": [],
   "source": [
    "# Check the cross-validation model performance\n",
    "gbm_manual_cv"
   ]
  },
  {
   "cell_type": "code",
   "execution_count": null,
   "metadata": {},
   "outputs": [],
   "source": [
    "# Check the model performance on test dataset\n",
    "gbm_manual_cv.model_performance(wine_test)\n",
    "# It should be the same as gbm_manual above as the model is trained with same parameters"
   ]
  },
  {
   "cell_type": "markdown",
   "metadata": {},
   "source": [
    "<br>\n",
    "\n",
    "## Step 4 - GBM with Manual Settings, CV and Early Stopping"
   ]
  },
  {
   "cell_type": "code",
   "execution_count": null,
   "metadata": {},
   "outputs": [],
   "source": [
    "# Build a GBM with manual settings, CV and early stopping\n",
    "\n",
    "# Set up GBM for regression\n",
    "# Add a seed for reproducibility\n",
    "gbm_manual_cv_es = H2OGradientBoostingEstimator(model_id = 'gbm_manual_cv_es', \n",
    "                                                seed = 1234,\n",
    "                                                ntrees = 10000,   # increase the number of trees \n",
    "                                                sample_rate = 0.9,\n",
    "                                                col_sample_rate = 0.9,\n",
    "                                                nfolds = 5,\n",
    "                                                stopping_metric = 'mse', # let early stopping feature determine\n",
    "                                                stopping_rounds = 15,     # the optimal number of trees\n",
    "                                                score_tree_interval = 1) # by looking at the MSE metric\n",
    "# Use .train() to build the model\n",
    "gbm_manual_cv_es.train(x = features, \n",
    "                       y = 'quality', \n",
    "                       training_frame = wine_train)"
   ]
  },
  {
   "cell_type": "code",
   "execution_count": null,
   "metadata": {},
   "outputs": [],
   "source": [
    "# Check the model summary\n",
    "gbm_manual_cv_es.summary()"
   ]
  },
  {
   "cell_type": "code",
   "execution_count": null,
   "metadata": {},
   "outputs": [],
   "source": [
    "# Check the cross-validation model performance\n",
    "gbm_manual_cv_es"
   ]
  },
  {
   "cell_type": "code",
   "execution_count": null,
   "metadata": {},
   "outputs": [],
   "source": [
    "# Check the model performance on test dataset\n",
    "gbm_manual_cv_es.model_performance(wine_test)"
   ]
  },
  {
   "cell_type": "markdown",
   "metadata": {},
   "source": [
    "<br>\n",
    "\n",
    "## Step 5 - GBM with CV, Early Stopping and Full Grid Search"
   ]
  },
  {
   "cell_type": "code",
   "execution_count": null,
   "metadata": {},
   "outputs": [],
   "source": [
    "# import Grid Search\n",
    "from h2o.grid.grid_search import H2OGridSearch"
   ]
  },
  {
   "cell_type": "code",
   "execution_count": null,
   "metadata": {},
   "outputs": [],
   "source": [
    "# define the criteria for full grid search\n",
    "search_criteria = {'strategy': \"Cartesian\"}"
   ]
  },
  {
   "cell_type": "code",
   "execution_count": null,
   "metadata": {},
   "outputs": [],
   "source": [
    "# define the range of hyper-parameters for grid search\n",
    "hyper_params = {'sample_rate': [0.7, 0.8, 0.9],\n",
    "                'col_sample_rate': [0.7, 0.8, 0.9]}"
   ]
  },
  {
   "cell_type": "code",
   "execution_count": null,
   "metadata": {},
   "outputs": [],
   "source": [
    "# Set up GBM grid search\n",
    "# Add a seed for reproducibility\n",
    "gbm_full_grid = H2OGridSearch(\n",
    "                    H2OGradientBoostingEstimator(\n",
    "                        model_id = 'gbm_full_grid', \n",
    "                        seed = 1234,\n",
    "                        ntrees = 10000,   \n",
    "                        nfolds = 5,\n",
    "                        stopping_metric = 'mse', \n",
    "                        stopping_rounds = 15,     \n",
    "                        score_tree_interval = 1),\n",
    "                    search_criteria = search_criteria, # full grid search\n",
    "                    hyper_params = hyper_params)"
   ]
  },
  {
   "cell_type": "code",
   "execution_count": null,
   "metadata": {},
   "outputs": [],
   "source": [
    "# Use .train() to start the grid search\n",
    "gbm_full_grid.train(x = features, \n",
    "                    y = 'quality', \n",
    "                    training_frame = wine_train)"
   ]
  },
  {
   "cell_type": "code",
   "execution_count": null,
   "metadata": {},
   "outputs": [],
   "source": [
    "# Sort and show the grid search results\n",
    "gbm_full_grid_sorted = gbm_full_grid.get_grid(sort_by='mse', decreasing=False)\n",
    "print(gbm_full_grid_sorted)"
   ]
  },
  {
   "cell_type": "code",
   "execution_count": null,
   "metadata": {},
   "outputs": [],
   "source": [
    "# Extract the best model from full grid search\n",
    "best_model_id = gbm_full_grid_sorted.model_ids[0]\n",
    "best_gbm_from_full_grid = h2o.get_model(best_model_id)\n",
    "best_gbm_from_full_grid.summary()"
   ]
  },
  {
   "cell_type": "code",
   "execution_count": null,
   "metadata": {},
   "outputs": [],
   "source": [
    "# Check the model performance on test dataset\n",
    "best_gbm_from_full_grid.model_performance(wine_test)"
   ]
  },
  {
   "cell_type": "markdown",
   "metadata": {},
   "source": [
    "## GBM with CV, Early Stopping and Random Grid Search"
   ]
  },
  {
   "cell_type": "code",
   "execution_count": null,
   "metadata": {},
   "outputs": [],
   "source": [
    "# define the criteria for random grid search\n",
    "search_criteria = {'strategy': \"RandomDiscrete\", \n",
    "                   'max_models': 9,\n",
    "                   'seed': 1234}"
   ]
  },
  {
   "cell_type": "code",
   "execution_count": null,
   "metadata": {},
   "outputs": [],
   "source": [
    "# define the range of hyper-parameters for grid search\n",
    "# 27 combinations in total\n",
    "hyper_params = {'sample_rate': [0.7, 0.8, 0.9],\n",
    "                'col_sample_rate': [0.7, 0.8, 0.9],\n",
    "                'max_depth': [3, 5, 7]}"
   ]
  },
  {
   "cell_type": "code",
   "execution_count": null,
   "metadata": {},
   "outputs": [],
   "source": [
    "# Set up GBM grid search\n",
    "# Add a seed for reproducibility\n",
    "gbm_rand_grid = H2OGridSearch(\n",
    "                    H2OGradientBoostingEstimator(\n",
    "                        model_id = 'gbm_rand_grid', \n",
    "                        seed = 1234,\n",
    "                        ntrees = 10000,   \n",
    "                        nfolds = 5,\n",
    "                        stopping_metric = 'mse', \n",
    "                        stopping_rounds = 15,     \n",
    "                        score_tree_interval = 1),\n",
    "                    search_criteria = search_criteria, # full grid search\n",
    "                    hyper_params = hyper_params)"
   ]
  },
  {
   "cell_type": "code",
   "execution_count": null,
   "metadata": {},
   "outputs": [],
   "source": [
    "# Use .train() to start the grid search\n",
    "gbm_rand_grid.train(x = features, \n",
    "                    y = 'quality', \n",
    "                    training_frame = wine_train)"
   ]
  },
  {
   "cell_type": "code",
   "execution_count": null,
   "metadata": {},
   "outputs": [],
   "source": [
    "# Sort and show the grid search results\n",
    "gbm_rand_grid_sorted = gbm_rand_grid.get_grid(sort_by='mse', decreasing=False)\n",
    "print(gbm_rand_grid_sorted)"
   ]
  },
  {
   "cell_type": "code",
   "execution_count": null,
   "metadata": {},
   "outputs": [],
   "source": [
    "# Extract the best model from random grid search\n",
    "best_model_id = gbm_rand_grid_sorted.model_ids[0]\n",
    "best_gbm_from_rand_grid = h2o.get_model(best_model_id)\n",
    "best_gbm_from_rand_grid.summary()"
   ]
  },
  {
   "cell_type": "code",
   "execution_count": null,
   "metadata": {},
   "outputs": [],
   "source": [
    "# Check the model performance on test dataset\n",
    "best_gbm_from_rand_grid.model_performance(wine_test)"
   ]
  },
  {
   "cell_type": "markdown",
   "metadata": {},
   "source": [
    "<br>"
   ]
  },
  {
   "cell_type": "markdown",
   "metadata": {},
   "source": [
    "## Comparison of Model Performance on Test Data"
   ]
  },
  {
   "cell_type": "code",
   "execution_count": null,
   "metadata": {},
   "outputs": [],
   "source": [
    "print('GBM with Default Settings                        :', gbm_default.model_performance(wine_test).mse())\n",
    "print('GBM with Manual Settings                         :', gbm_manual.model_performance(wine_test).mse())\n",
    "print('GBM with Manual Settings & CV                    :', gbm_manual_cv.model_performance(wine_test).mse())\n",
    "print('GBM with Manual Settings, CV & Early Stopping    :', gbm_manual_cv_es.model_performance(wine_test).mse())\n",
    "print('GBM with CV, Early Stopping & Full Grid Search   :', \n",
    "          best_gbm_from_full_grid.model_performance(wine_test).mse())\n",
    "print('GBM with CV, Early Stopping & Random Grid Search :', \n",
    "          best_gbm_from_rand_grid.model_performance(wine_test).mse())"
   ]
  },
  {
   "cell_type": "markdown",
   "metadata": {},
   "source": [
    "<br>"
   ]
  }
 ],
 "metadata": {
  "anaconda-cloud": {},
  "kernelspec": {
   "display_name": "Python 3",
   "language": "python",
   "name": "python3"
  },
  "language_info": {
   "codemirror_mode": {
    "name": "ipython",
    "version": 3
   },
   "file_extension": ".py",
   "mimetype": "text/x-python",
   "name": "python",
   "nbconvert_exporter": "python",
   "pygments_lexer": "ipython3",
   "version": "3.6.1"
  }
 },
 "nbformat": 4,
 "nbformat_minor": 1
}
