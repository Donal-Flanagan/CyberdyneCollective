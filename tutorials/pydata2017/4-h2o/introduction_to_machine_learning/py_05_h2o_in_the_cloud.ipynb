{
 "cells": [
  {
   "cell_type": "markdown",
   "metadata": {},
   "source": [
    "# Machine Learning with H2O - Tutorial 5: H2O in the Cloud\n",
    "\n",
    "<hr>\n",
    "\n",
    "**Objective**:\n",
    "\n",
    "- This tutorial demonstrates how to connect to a H2O cluster in the cloud.\n",
    "\n",
    "<hr>\n",
    "    \n",
    "**Steps**:\n",
    "\n",
    "1. Create a H2O cluster in the cloud. Follow instructions from http://h2o-release.s3.amazonaws.com/h2o/latest_stable.html\n",
    "2. Import h2o module.\n",
    "3. Connect to cluster using h2o.connect(...) with specific IP address.\n",
    "\n",
    "<br>"
   ]
  },
  {
   "cell_type": "markdown",
   "metadata": {},
   "source": [
    "## Step 1: Create a H2O cluster in the Cloud\n",
    "\n",
    "Follow the instructions from http://h2o-release.s3.amazonaws.com/h2o/latest_stable.html"
   ]
  },
  {
   "cell_type": "markdown",
   "metadata": {},
   "source": [
    "## Step 2: Import H2O module"
   ]
  },
  {
   "cell_type": "code",
   "execution_count": null,
   "metadata": {},
   "outputs": [],
   "source": [
    "# Import module\n",
    "import h2o"
   ]
  },
  {
   "cell_type": "markdown",
   "metadata": {},
   "source": [
    "## Step 3: Connect to H2O cluster with IP address"
   ]
  },
  {
   "cell_type": "code",
   "execution_count": null,
   "metadata": {},
   "outputs": [],
   "source": [
    "# In order to connect to a H2O cluster in the cloud, you need to specify the IP address\n",
    "h2o.connect(ip = \"xxx.xxx.xxx.xxx\") # fill in the real IP"
   ]
  },
  {
   "cell_type": "markdown",
   "metadata": {},
   "source": [
    "##  That is all you need to do\n",
    "\n",
    "All other tasks (importing data, training models, making predictions etc) are exactly the same as shown in previous code examples."
   ]
  }
 ],
 "metadata": {
  "anaconda-cloud": {},
  "kernelspec": {
   "display_name": "Python [conda root]",
   "language": "python",
   "name": "conda-root-py"
  },
  "language_info": {
   "codemirror_mode": {
    "name": "ipython",
    "version": 3
   },
   "file_extension": ".py",
   "mimetype": "text/x-python",
   "name": "python",
   "nbconvert_exporter": "python",
   "pygments_lexer": "ipython3",
   "version": "3.5.2"
  }
 },
 "nbformat": 4,
 "nbformat_minor": 1
}
