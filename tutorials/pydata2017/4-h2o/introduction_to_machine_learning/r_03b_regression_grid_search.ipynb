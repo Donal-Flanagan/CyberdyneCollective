{
 "cells": [
  {
   "cell_type": "markdown",
   "metadata": {},
   "source": [
    "# Machine Learning with H2O - Tutorial 3b: Regression Models (Grid Search)\n",
    "\n",
    "<hr>\n",
    "\n",
    "**Objective**:\n",
    "\n",
    "- This tutorial explains how to fine-tune regression models for better out-of-bag performance.\n",
    "\n",
    "<hr>\n",
    "\n",
    "**Wine Quality Dataset:**\n",
    "\n",
    "- Source: https://archive.ics.uci.edu/ml/datasets/Wine+Quality\n",
    "- CSV (https://archive.ics.uci.edu/ml/machine-learning-databases/wine-quality/winequality-white.csv)\n",
    "\n",
    "<hr>\n",
    "    \n",
    "**Steps**:\n",
    "\n",
    "1. GBM with default settings\n",
    "2. GBM with manual settings\n",
    "3. GBM with manual settings & cross-validation\n",
    "4. GBM with manual settings, cross-validation and early stopping\n",
    "5. GBM with cross-validation, early stopping and full grid search\n",
    "6. GBM with cross-validation, early stopping and random grid search\n",
    "7. Model stacking (combining different GLM, DRF, GBM and DNN models)\n",
    "\n",
    "\n",
    "<hr>\n",
    "\n",
    "**Full Technical Reference:**\n",
    "\n",
    "- http://docs.h2o.ai/h2o/latest-stable/h2o-docs/booklets/RBooklet.pdf\n",
    "\n",
    "<br>\n"
   ]
  },
  {
   "cell_type": "code",
   "execution_count": null,
   "metadata": {},
   "outputs": [],
   "source": [
    "# Start and connect to a local H2O cluster\n",
    "suppressPackageStartupMessages(library(h2o))\n",
    "h2o.init(nthreads = -1)"
   ]
  },
  {
   "cell_type": "markdown",
   "metadata": {},
   "source": [
    "<br>"
   ]
  },
  {
   "cell_type": "code",
   "execution_count": null,
   "metadata": {},
   "outputs": [],
   "source": [
    "# Import wine quality data from a local CSV file\n",
    "wine = h2o.importFile(\"winequality-white.csv\")\n",
    "head(wine, 5)"
   ]
  },
  {
   "cell_type": "code",
   "execution_count": null,
   "metadata": {},
   "outputs": [],
   "source": [
    "# Define features (or predictors)\n",
    "features = colnames(wine)  # we want to use all the information\n",
    "features = setdiff(features, 'quality')    # we need to exclude the target 'quality'\n",
    "features"
   ]
  },
  {
   "cell_type": "code",
   "execution_count": null,
   "metadata": {},
   "outputs": [],
   "source": [
    "# Split the H2O data frame into training/test sets\n",
    "# so we can evaluate out-of-bag performance\n",
    "wine_split = h2o.splitFrame(wine, ratios = 0.8, seed = 1234)\n",
    "\n",
    "wine_train = wine_split[[1]] # using 80% for training\n",
    "wine_test = wine_split[[2]]  # using the rest 20% for out-of-bag evaluation"
   ]
  },
  {
   "cell_type": "code",
   "execution_count": null,
   "metadata": {},
   "outputs": [],
   "source": [
    "dim(wine_train)"
   ]
  },
  {
   "cell_type": "code",
   "execution_count": null,
   "metadata": {},
   "outputs": [],
   "source": [
    "dim(wine_test)"
   ]
  },
  {
   "cell_type": "markdown",
   "metadata": {},
   "source": [
    "<br>\n",
    "\n",
    "## Step 1 - Gradient Boosting Machines (GBM) with Default Settings"
   ]
  },
  {
   "cell_type": "code",
   "execution_count": null,
   "metadata": {},
   "outputs": [],
   "source": [
    "# Build a Gradient Boosting Machines (GBM) model with default settings\n",
    "gbm_default = h2o.gbm(x = features,\n",
    "                      y = 'quality',\n",
    "                      training_frame = wine_train,\n",
    "                      seed = 1234,\n",
    "                      model_id = 'gbm_default')"
   ]
  },
  {
   "cell_type": "code",
   "execution_count": null,
   "metadata": {},
   "outputs": [],
   "source": [
    "# Check the model performance on test dataset\n",
    "h2o.performance(gbm_default, wine_test)"
   ]
  },
  {
   "cell_type": "markdown",
   "metadata": {},
   "source": [
    "<br>\n",
    "\n",
    "## Step 2 - GBM with Manual Settings"
   ]
  },
  {
   "cell_type": "code",
   "execution_count": null,
   "metadata": {},
   "outputs": [],
   "source": [
    "# Build a GBM with manual settings\n",
    "gbm_manual = h2o.gbm(x = features,\n",
    "                     y = 'quality',\n",
    "                     training_frame = wine_train,\n",
    "                     seed = 1234,\n",
    "                     model_id = 'gbm_manual',\n",
    "                     ntrees = 100,\n",
    "                     sample_rate = 0.9,\n",
    "                     col_sample_rate = 0.9)"
   ]
  },
  {
   "cell_type": "code",
   "execution_count": null,
   "metadata": {},
   "outputs": [],
   "source": [
    "# Check the model performance on test dataset\n",
    "h2o.performance(gbm_manual, wine_test)"
   ]
  },
  {
   "cell_type": "markdown",
   "metadata": {},
   "source": [
    "<br>\n",
    "\n",
    "## Step 3 - GBM with Manual Settings & Cross-Validation (CV)"
   ]
  },
  {
   "cell_type": "code",
   "execution_count": null,
   "metadata": {},
   "outputs": [],
   "source": [
    "# Build a GBM with manual settings & cross-validation\n",
    "gbm_manual_cv = h2o.gbm(x = features,\n",
    "                        y = 'quality',\n",
    "                        training_frame = wine_train,\n",
    "                        seed = 1234,\n",
    "                        model_id = 'gbm_manual_cv',\n",
    "                        ntrees = 100,\n",
    "                        sample_rate = 0.9,\n",
    "                        col_sample_rate = 0.9,\n",
    "                        nfolds = 5)"
   ]
  },
  {
   "cell_type": "code",
   "execution_count": null,
   "metadata": {},
   "outputs": [],
   "source": [
    "# Check the cross-validation model performance\n",
    "gbm_manual_cv"
   ]
  },
  {
   "cell_type": "code",
   "execution_count": null,
   "metadata": {},
   "outputs": [],
   "source": [
    "# Check the model performance on test dataset\n",
    "h2o.performance(gbm_manual_cv, wine_test)\n",
    "# It should be the same as gbm_manual above as the model is trained with same parameters"
   ]
  },
  {
   "cell_type": "markdown",
   "metadata": {},
   "source": [
    "<br>\n",
    "\n",
    "## Step 4 - GBM with Manual Settings, CV and Early Stopping"
   ]
  },
  {
   "cell_type": "code",
   "execution_count": null,
   "metadata": {},
   "outputs": [],
   "source": [
    "# Build a GBM with manual settings, CV and early stopping\n",
    "gbm_manual_cv_es = h2o.gbm(x = features,\n",
    "                           y = 'quality',\n",
    "                           training_frame = wine_train,\n",
    "                           seed = 1234,\n",
    "                           model_id = 'gbm_manual_cv_es',\n",
    "                           ntrees = 10000,              # increase the number of trees\n",
    "                           sample_rate = 0.9,\n",
    "                           col_sample_rate = 0.9,\n",
    "                           nfolds = 5,\n",
    "                           stopping_metric = 'MSE',     # let early stopping feature determine\n",
    "                           stopping_rounds = 15,        # the optimal number of trees\n",
    "                           score_tree_interval = 1)     # by looking at the MSE metric"
   ]
  },
  {
   "cell_type": "code",
   "execution_count": null,
   "metadata": {},
   "outputs": [],
   "source": [
    "# Check the model summary\n",
    "# which also includes cross-validation model performance\n",
    "summary(gbm_manual_cv_es)"
   ]
  },
  {
   "cell_type": "code",
   "execution_count": null,
   "metadata": {},
   "outputs": [],
   "source": [
    "# Check the model performance on test dataset\n",
    "h2o.performance(gbm_manual_cv_es, wine_test)"
   ]
  },
  {
   "cell_type": "markdown",
   "metadata": {},
   "source": [
    "<br>\n",
    "\n",
    "## Step 5 - GBM with CV, Early Stopping and Full Grid Search"
   ]
  },
  {
   "cell_type": "code",
   "execution_count": null,
   "metadata": {},
   "outputs": [],
   "source": [
    "# define the criteria for full grid search\n",
    "search_criteria = list(strategy = \"Cartesian\")"
   ]
  },
  {
   "cell_type": "code",
   "execution_count": null,
   "metadata": {},
   "outputs": [],
   "source": [
    "# define the range of hyper-parameters for grid search\n",
    "param_list <- list(\n",
    "  sample_rate = c(0.7, 0.8, 0.9),\n",
    "  col_sample_rate = c(0.7, 0.8, 0.9)\n",
    ")"
   ]
  },
  {
   "cell_type": "code",
   "execution_count": null,
   "metadata": {},
   "outputs": [],
   "source": [
    "# Set up GBM grid search\n",
    "# Add a seed for reproducibility\n",
    "# Full Grid Search\n",
    "gbm_full_grid <- h2o.grid(\n",
    "  \n",
    "    # Core parameters for model training\n",
    "    x = features,\n",
    "    y = 'quality',\n",
    "    training_frame = wine_train,\n",
    "    ntrees = 10000,\n",
    "    nfolds = 5,\n",
    "    seed = 1234,\n",
    "\n",
    "    # Parameters for grid search\n",
    "    grid_id = \"gbm_full_grid\",\n",
    "    hyper_params = param_list,\n",
    "    algorithm = \"gbm\",\n",
    "    search_criteria = search_criteria,\n",
    "\n",
    "    # Parameters for early stopping\n",
    "    stopping_metric = \"MSE\",\n",
    "    stopping_rounds = 15,\n",
    "    score_tree_interval = 1\n",
    "  \n",
    ")"
   ]
  },
  {
   "cell_type": "code",
   "execution_count": null,
   "metadata": {},
   "outputs": [],
   "source": [
    "# Sort and show the grid search results\n",
    "gbm_full_grid <- h2o.getGrid(grid_id = \"gbm_full_grid\", sort_by = \"mse\")\n",
    "print(gbm_full_grid)"
   ]
  },
  {
   "cell_type": "code",
   "execution_count": null,
   "metadata": {},
   "outputs": [],
   "source": [
    "# Extract the best model from full grid search\n",
    "best_model_id <- gbm_full_grid@model_ids[[1]] # top of the list\n",
    "best_gbm_from_full_grid <- h2o.getModel(best_model_id)\n",
    "summary(best_gbm_from_full_grid)"
   ]
  },
  {
   "cell_type": "code",
   "execution_count": null,
   "metadata": {},
   "outputs": [],
   "source": [
    "# Check the model performance on test dataset\n",
    "h2o.performance(best_gbm_from_full_grid, wine_test)"
   ]
  },
  {
   "cell_type": "markdown",
   "metadata": {},
   "source": [
    "<br>\n",
    "\n",
    "## GBM with CV, Early Stopping and Random Grid Search"
   ]
  },
  {
   "cell_type": "code",
   "execution_count": null,
   "metadata": {},
   "outputs": [],
   "source": [
    "# define the criteria for random grid search\n",
    "search_criteria = list(strategy = \"RandomDiscrete\",\n",
    "                       max_models = 9,\n",
    "                       seed = 1234)"
   ]
  },
  {
   "cell_type": "code",
   "execution_count": null,
   "metadata": {},
   "outputs": [],
   "source": [
    "# define the range of hyper-parameters for grid search\n",
    "# 27 combinations in total\n",
    "param_list <- list(\n",
    "    sample_rate = c(0.7, 0.8, 0.9),\n",
    "    col_sample_rate = c(0.7, 0.8, 0.9),\n",
    "    max_depth = c(3, 5, 7)\n",
    ")"
   ]
  },
  {
   "cell_type": "code",
   "execution_count": null,
   "metadata": {},
   "outputs": [],
   "source": [
    "# Set up GBM grid search\n",
    "# Add a seed for reproducibility\n",
    "gbm_rand_grid <- h2o.grid(\n",
    "  \n",
    "    # Core parameters for model training\n",
    "    x = features,\n",
    "    y = 'quality',\n",
    "    training_frame = wine_train,\n",
    "    ntrees = 10000,\n",
    "    nfolds = 5,\n",
    "    seed = 1234,\n",
    "\n",
    "    # Parameters for grid search\n",
    "    grid_id = \"gbm_rand_grid\",\n",
    "    hyper_params = param_list,\n",
    "    algorithm = \"gbm\",\n",
    "    search_criteria = search_criteria,\n",
    "\n",
    "    # Parameters for early stopping\n",
    "    stopping_metric = \"MSE\",\n",
    "    stopping_rounds = 15,\n",
    "    score_tree_interval = 1\n",
    "  \n",
    ")"
   ]
  },
  {
   "cell_type": "code",
   "execution_count": null,
   "metadata": {},
   "outputs": [],
   "source": [
    "# Sort and show the grid search results\n",
    "gbm_rand_grid <- h2o.getGrid(grid_id = \"gbm_rand_grid\", sort_by = \"mse\", decreasing = FALSE)\n",
    "print(gbm_rand_grid)"
   ]
  },
  {
   "cell_type": "code",
   "execution_count": null,
   "metadata": {},
   "outputs": [],
   "source": [
    "# Extract the best model from random grid search\n",
    "best_model_id <- gbm_rand_grid@model_ids[[1]] # top of the list\n",
    "best_gbm_from_rand_grid <- h2o.getModel(best_model_id)\n",
    "summary(best_gbm_from_rand_grid)"
   ]
  },
  {
   "cell_type": "code",
   "execution_count": null,
   "metadata": {},
   "outputs": [],
   "source": [
    "# Check the model performance on test dataset\n",
    "h2o.performance(best_gbm_from_rand_grid, wine_test)"
   ]
  },
  {
   "cell_type": "code",
   "execution_count": null,
   "metadata": {},
   "outputs": [],
   "source": [
    "h2o.performance(best_gbm_from_rand_grid, wine_test)@metrics$MSE"
   ]
  },
  {
   "cell_type": "markdown",
   "metadata": {},
   "source": [
    "<br>"
   ]
  },
  {
   "cell_type": "markdown",
   "metadata": {},
   "source": [
    "## Comparison of Model Performance on Test Data"
   ]
  },
  {
   "cell_type": "code",
   "execution_count": null,
   "metadata": {},
   "outputs": [],
   "source": [
    "cat('GBM with Default Settings                        :', \n",
    "          h2o.performance(gbm_default, wine_test)@metrics$MSE, \"\\n\")\n",
    "cat('GBM with Manual Settings                         :', \n",
    "          h2o.performance(gbm_manual, wine_test)@metrics$MSE, \"\\n\")\n",
    "cat('GBM with Manual Settings & CV                    :', \n",
    "          h2o.performance(gbm_manual_cv, wine_test)@metrics$MSE, \"\\n\")\n",
    "cat('GBM with Manual Settings, CV & Early Stopping    :', \n",
    "          h2o.performance(gbm_manual_cv_es, wine_test)@metrics$MSE, \"\\n\")\n",
    "cat('GBM with CV, Early Stopping & Full Grid Search   :', \n",
    "          h2o.performance(best_gbm_from_full_grid, wine_test)@metrics$MSE, \"\\n\")\n",
    "cat('GBM with CV, Early Stopping & Random Grid Search :', \n",
    "          h2o.performance(best_gbm_from_rand_grid, wine_test)@metrics$MSE, \"\\n\")"
   ]
  },
  {
   "cell_type": "markdown",
   "metadata": {},
   "source": [
    "<br>"
   ]
  }
 ],
 "metadata": {
  "anaconda-cloud": {},
  "kernelspec": {
   "display_name": "R",
   "language": "R",
   "name": "ir"
  },
  "language_info": {
   "codemirror_mode": "r",
   "file_extension": ".r",
   "mimetype": "text/x-r-source",
   "name": "R",
   "pygments_lexer": "r",
   "version": "3.3.2"
  }
 },
 "nbformat": 4,
 "nbformat_minor": 1
}
