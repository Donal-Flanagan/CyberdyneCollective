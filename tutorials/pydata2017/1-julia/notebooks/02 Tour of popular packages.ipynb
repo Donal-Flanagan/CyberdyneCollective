{
 "cells": [
  {
   "cell_type": "markdown",
   "metadata": {},
   "source": [
    "# Introduction to Packages\n",
    "\n",
    "Julia code is organized in packages, and package management is built into the Julia language.\n",
    "\n",
    "The assumption is that packages are developed with `git` and Julia will clone the whole repository when installing a package.\n",
    "\n",
    "Users can have their packages registered on a special GitHub repository: [METADATA.jl](https://github.com/JuliaLang/METADATA.jl). Dependencies are tracked in the `REQUIRE` file."
   ]
  },
  {
   "cell_type": "code",
   "execution_count": null,
   "metadata": {},
   "outputs": [],
   "source": [
    "# update the local copy of METADATA\n",
    "Pkg.update()\n",
    "\n",
    "# install a registered package\n",
    "Pkg.add(\"DataFrames\")\n",
    "\n",
    "# install any other package\n",
    "#Pkg.clone(\"https://github.com/leethargo/PipeLayout.jl\")\n",
    "\n",
    "# checkout a branch of a package (default: master)\n",
    "#Pkg.checkout(\"PipeLayout\")\n",
    "\n",
    "# list installed packages with versions\n",
    "Pkg.status()"
   ]
  },
  {
   "cell_type": "markdown",
   "metadata": {},
   "source": [
    "# Creating an index fund\n",
    "\n",
    "The goal of this project is the definition of an index fund, following the Dow Jones. That is, we want to select few stocks of the index, together with weights, that show a similar behavior to the overall index.\n",
    "\n",
    "We start with price data of all the Dow Jones stocks from 2016. From the averages prices, we define weights of the stocks to be used"
   ]
  },
  {
   "cell_type": "markdown",
   "metadata": {},
   "source": [
    "## Loading the price data\n",
    "\n",
    "The data is provided in a file using comma-separated values and three columns:"
   ]
  },
  {
   "cell_type": "code",
   "execution_count": null,
   "metadata": {},
   "outputs": [],
   "source": [
    "# ; runs shell command\n",
    ";head dowjones2016.csv"
   ]
  },
  {
   "cell_type": "markdown",
   "metadata": {},
   "source": [
    "Julia provides a function to read csv files into arrays:"
   ]
  },
  {
   "cell_type": "code",
   "execution_count": null,
   "metadata": {},
   "outputs": [],
   "source": [
    "?readcsv"
   ]
  },
  {
   "cell_type": "code",
   "execution_count": null,
   "metadata": {},
   "outputs": [],
   "source": [
    "data = readcsv(\"dowjones2016.csv\")\n",
    "data[1:5,:]"
   ]
  },
  {
   "cell_type": "markdown",
   "metadata": {},
   "source": [
    "But we will use the DataFrames package for easier processing."
   ]
  },
  {
   "cell_type": "code",
   "execution_count": null,
   "metadata": {},
   "outputs": [],
   "source": [
    "using DataFrames"
   ]
  },
  {
   "cell_type": "code",
   "execution_count": null,
   "metadata": {},
   "outputs": [],
   "source": [
    "df = readtable(\"dowjones2016.csv\")\n",
    "df[1:4, :]"
   ]
  },
  {
   "cell_type": "markdown",
   "metadata": {},
   "source": [
    "We can now access the columns by name:"
   ]
  },
  {
   "cell_type": "code",
   "execution_count": null,
   "metadata": {},
   "outputs": [],
   "source": [
    "df[:price]"
   ]
  },
  {
   "cell_type": "markdown",
   "metadata": {},
   "source": [
    "Let's compute mean prices for the stocks, using a groupby-and-aggregate approach."
   ]
  },
  {
   "cell_type": "code",
   "execution_count": null,
   "metadata": {},
   "outputs": [],
   "source": [
    "# anonymous function: ->\n",
    "avg = by(df, :symbol, d -> DataFrame(avgprice = mean(d[:price])))\n",
    "avg[1:4, :]"
   ]
  },
  {
   "cell_type": "markdown",
   "metadata": {},
   "source": [
    "We can now use these averages to compute weights."
   ]
  },
  {
   "cell_type": "code",
   "execution_count": null,
   "metadata": {},
   "outputs": [],
   "source": [
    "weights = DataFrame(symbol = avg[:symbol],\n",
    "                    weight = avg[:avgprice] / sum(avg[:avgprice]))\n",
    "weights[1:4, :]"
   ]
  },
  {
   "cell_type": "markdown",
   "metadata": {},
   "source": [
    "We can also _pivot_ the table into a two-way format."
   ]
  },
  {
   "cell_type": "code",
   "execution_count": null,
   "metadata": {},
   "outputs": [],
   "source": [
    "# original dataframe\n",
    "df[1:4, :]"
   ]
  },
  {
   "cell_type": "code",
   "execution_count": null,
   "metadata": {},
   "outputs": [],
   "source": [
    "# two-way table with symbols as columns\n",
    "#                    rows   columns  data\n",
    "prices = unstack(df, :date, :symbol, :price)\n",
    "prices[1:4, 1:4]"
   ]
  },
  {
   "cell_type": "code",
   "execution_count": null,
   "metadata": {},
   "outputs": [],
   "source": [
    "joined = join(df, weights, on=:symbol)\n",
    "joined[1:4, :]"
   ]
  },
  {
   "cell_type": "code",
   "execution_count": null,
   "metadata": {},
   "outputs": [],
   "source": [
    "joined[:contribution] = joined[:weight] .* joined[:price]\n",
    "joined[1:4, :]"
   ]
  },
  {
   "cell_type": "code",
   "execution_count": null,
   "metadata": {},
   "outputs": [],
   "source": [
    "index = by(joined, :date, d -> DataFrame(value = sum(d[:contribution])))\n",
    "index[1:4, :]"
   ]
  },
  {
   "cell_type": "markdown",
   "metadata": {},
   "source": [
    "## Visualization the time series"
   ]
  },
  {
   "cell_type": "code",
   "execution_count": null,
   "metadata": {},
   "outputs": [],
   "source": [
    "using Plots      # general plotting\n",
    "pyplot()         # backend, based on Python's matplotlib"
   ]
  },
  {
   "cell_type": "code",
   "execution_count": null,
   "metadata": {},
   "outputs": [],
   "source": [
    "x = cumsum(randn(10, 3))"
   ]
  },
  {
   "cell_type": "markdown",
   "metadata": {},
   "source": [
    "Plots will interprete the *columns* of the data as *series* to be plotted independently:"
   ]
  },
  {
   "cell_type": "code",
   "execution_count": null,
   "metadata": {},
   "outputs": [],
   "source": [
    "plot(x)"
   ]
  },
  {
   "cell_type": "code",
   "execution_count": null,
   "metadata": {},
   "outputs": [],
   "source": [
    "plot(x')"
   ]
  },
  {
   "cell_type": "markdown",
   "metadata": {},
   "source": [
    "You can also add to existing plots, using the call `plot!`."
   ]
  },
  {
   "cell_type": "code",
   "execution_count": null,
   "metadata": {},
   "outputs": [],
   "source": [
    "plot(x, color=[:red :green])\n",
    "# plot! adds to the last plot\n",
    "plot!(x + 3, color=:black, alpha=0.5)"
   ]
  },
  {
   "cell_type": "code",
   "execution_count": null,
   "metadata": {},
   "outputs": [],
   "source": [
    "using StatPlots  # for DataFrames integration"
   ]
  },
  {
   "cell_type": "markdown",
   "metadata": {},
   "source": [
    "We can set common attributes for several plots using the `with` wrapper:"
   ]
  },
  {
   "cell_type": "code",
   "execution_count": null,
   "metadata": {},
   "outputs": [],
   "source": [
    "with(grid=false, legend=false, xticks=false, ylim=(0,300)) do\n",
    "    plot(df, :date, :price, group=:symbol, color=:grey, alpha=0.4)\n",
    "    plot!(index, :date, :value, linewidth=2)\n",
    "end"
   ]
  },
  {
   "cell_type": "code",
   "execution_count": null,
   "metadata": {},
   "outputs": [],
   "source": [
    "bar(weights, :symbol, :weight, xrotation=50, color=:weight, grid=false)"
   ]
  },
  {
   "cell_type": "markdown",
   "metadata": {},
   "source": [
    "## Picking stocks\n",
    "\n",
    "We know come to the decision problem, where we want to pick a small subset of the stocks together with some weights, such that this portfolio has a similar behavior to our overall Dow Jones index.\n",
    "\n",
    "The model is based on a linear regression over the time series, but we minimize the loss using the L1-norm (absolute value), and allow only a fixed number of weights to take nonzero variable.\n",
    "\n",
    "A high-level mathematical model might look like this ($w$: weights, $P$: prices, $I$: value of index):\n",
    "\n",
    "\\begin{align*}\n",
    "\\text{minimize}   \\quad & \\lVert w^T P - I \\rVert_1 \\\\\n",
    "\\text{subject to} \\quad & \\lVert w \\rVert_0 \\le K\n",
    "\\end{align*}\n",
    "\n",
    "For the curious: this can be expressed as a [Mixed-Integer Linear Program](https://en.wikipedia.org/wiki/Integer_programming) in the following form:\n",
    "\n",
    "\\begin{align*}\n",
    "\\text{minimize}   \\quad & \\sum_d \\Delta^+_d + \\Delta^-_d & \\\\\n",
    "\\text{subject to} \\quad & \\sum_s P_{d,s} w_s = I_d + \\Delta^+_d + \\Delta^-_d & (\\forall d) \\\\\n",
    "                        & w_s \\le p_s & (\\forall s) \\\\\n",
    "                        & \\sum_s p_s \\le K & \\\\\n",
    "                        & w_s \\ge 0, \\quad p_s \\in \\{0,1\\} & (\\forall s) \\\\\n",
    "                        & \\Delta^+_d \\ge 0, \\quad \\Delta^-_d \\ge 0 &  (\\forall d)\n",
    "\\end{align*}\n",
    "\n",
    "Several Julia packages are devoted to this kind of optimization, such as [JuMP](https://github.com/JuliaOpt/JuMP.jl) and [Convex](https://github.com/JuliaOpt/Convex.jl) for modeling, solver backends like [Cbc](https://github.com/JuliaOpt/Cbc.jl) or [SCIP](https://github.com/SCIP-Interfaces/SCIP.jl) and [MathProgBase](https://github.com/JuliaOpt/MathProgBase.jl) as glue. See [JuliaOpt](http://www.juliaopt.org/) for an overview."
   ]
  },
  {
   "cell_type": "code",
   "execution_count": null,
   "metadata": {},
   "outputs": [],
   "source": [
    "using JuMP # modeling\n",
    "using Cbc  # solver backend"
   ]
  },
  {
   "cell_type": "code",
   "execution_count": null,
   "metadata": {},
   "outputs": [],
   "source": [
    "# preparing data for indexing\n",
    "syms = [Symbol(s) for s in weights[:symbol]]\n",
    "days = 1:length(prices[:date])\n",
    "\n",
    "@show size(syms) size(days);"
   ]
  },
  {
   "cell_type": "markdown",
   "metadata": {},
   "source": [
    "We will formulate a model that should look quite close to the mathematical notation above.\n",
    "\n",
    "Note the heavy use of Julia macros to define variables and constraints. The expressions are used as parsed by the Julia language and directly translated to the solver's internal form."
   ]
  },
  {
   "cell_type": "code",
   "execution_count": null,
   "metadata": {},
   "outputs": [],
   "source": [
    "function find_fund(maxstocks; timelimit=10.0, gaplimit=0.01, lastday=200)\n",
    "    days = 1:lastday\n",
    "\n",
    "    fund = Model(solver=CbcSolver(seconds=timelimit, ratioGap=gaplimit))\n",
    "\n",
    "    # decisions\n",
    "    @variable(fund, pick[syms], Bin)    # is stock included?\n",
    "    @variable(fund, weight[syms] ≥ 0)   # what part of the portfolio\n",
    "\n",
    "    # auxiliary variables\n",
    "    @variable(fund, Δ⁺[days] ≥ 0) # positive slack\n",
    "    @variable(fund, Δ⁻[days] ≥ 0) # negative slack\n",
    "\n",
    "    # fit to Dow Jones index\n",
    "    for d in days\n",
    "        @constraint(fund, sum(prices[d,s] * weight[s] for s in syms) == index[d, :value] + Δ⁺[d] - Δ⁻[d])\n",
    "    end\n",
    "\n",
    "    # can only use stock if picked\n",
    "    for s in syms\n",
    "        @constraint(fund, weight[s] ≤ pick[s])\n",
    "    end\n",
    "                \n",
    "    # few stocks allowed\n",
    "    @constraint(fund, sum(pick[s] for s in syms) ≤ maxstocks)\n",
    "                          \n",
    "    # minimize the absolute violation (L1 norm)\n",
    "    @objective(fund, :Min, sum(Δ⁺[d] + Δ⁻[d] for d in days))\n",
    "                            \n",
    "                            \n",
    "    status = solve(fund)\n",
    "    @show status\n",
    "    \n",
    "    getvalue(weight)\n",
    "end"
   ]
  },
  {
   "cell_type": "code",
   "execution_count": null,
   "metadata": {},
   "outputs": [],
   "source": [
    "trainingdays = 100\n",
    "sol = find_fund(3, timelimit=6, lastday=trainingdays)"
   ]
  },
  {
   "cell_type": "code",
   "execution_count": null,
   "metadata": {},
   "outputs": [],
   "source": [
    "solfund = sum(sol[s] * prices[:, s] for s in syms);"
   ]
  },
  {
   "cell_type": "code",
   "execution_count": null,
   "metadata": {},
   "outputs": [],
   "source": [
    "with(xticks=[0, trainingdays, length(days)], yticks=[]) do\n",
    "    plot(index, :date, :value, label=\"Dow Jones\")\n",
    "    plot!(solfund, label=\"Index Fund\")\n",
    "end"
   ]
  },
  {
   "cell_type": "code",
   "execution_count": null,
   "metadata": {},
   "outputs": [],
   "source": [
    "errors = abs.(index[:value] - solfund)\n",
    "\n",
    "with(bins=20) do\n",
    "    histogram(errors[trainingdays:252], label=\"later\", color=:red)\n",
    "    histogram!(errors[1:trainingdays], alpha=0.8, label=\"training\", color=:green)\n",
    "end"
   ]
  },
  {
   "cell_type": "code",
   "execution_count": null,
   "metadata": {},
   "outputs": [],
   "source": []
  }
 ],
 "metadata": {
  "kernelspec": {
   "display_name": "Julia 0.6.0",
   "language": "julia",
   "name": "julia-0.6"
  },
  "language_info": {
   "file_extension": ".jl",
   "mimetype": "application/julia",
   "name": "julia",
   "version": "0.6.0"
  }
 },
 "nbformat": 4,
 "nbformat_minor": 2
}
