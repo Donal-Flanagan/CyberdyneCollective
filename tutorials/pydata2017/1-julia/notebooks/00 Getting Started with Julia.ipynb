{
 "cells": [
  {
   "cell_type": "markdown",
   "metadata": {
    "slideshow": {
     "slide_type": "slide"
    }
   },
   "source": [
    "# What is Julia?\n"
   ]
  },
  {
   "cell_type": "markdown",
   "metadata": {},
   "source": [
    "Julia is a scripted programming language, which has been designed for\n",
    "- ease of writing\n",
    "- speed\n",
    "- numerical processing\n"
   ]
  },
  {
   "cell_type": "markdown",
   "metadata": {},
   "source": [
    "It is a complete programming language, ie. you could in theory use it for any programming tasks.\n",
    "\n",
    "But it is particularly designed with\n",
    "- numerics\n",
    "- parallelisation\n",
    "\n",
    "in mind."
   ]
  },
  {
   "cell_type": "markdown",
   "metadata": {},
   "source": [
    "The goal of development is that one language can span the gap from _quick_ and _dirty_ prototyping to large scale numerical computations on a dedicated hardware system."
   ]
  },
  {
   "cell_type": "markdown",
   "metadata": {},
   "source": [
    "## Workshop Outline\n",
    "\n",
    "1. Introduction\n",
    "    - How to get up and running with Julia\n",
    "    2. Language basics\n",
    "    3. What should I know if I'm coming from Python/Matlab/C?\n",
    "    4. What makes Julia Julia?\n",
    "2. The Package Ecosystem\n",
    "    - DataFrames\n",
    "    - Plots\n",
    "    - JuMP\n",
    "3. Speed and Accuracy\n",
    "    - CCall, OpenCL\n",
    "    2. Timing, Benchmarking, Profiling\n",
    "    3. Debugging"
   ]
  },
  {
   "cell_type": "markdown",
   "metadata": {},
   "source": [
    "# Getting up and running with Julia"
   ]
  },
  {
   "cell_type": "markdown",
   "metadata": {},
   "source": [
    "## How to obtain Julia"
   ]
  },
  {
   "cell_type": "markdown",
   "metadata": {},
   "source": [
    "You can download binaries from https://julialang.org/downloads/ Current options include Windows, MacOS and Linux.\n",
    "\n",
    "In addition, most Linux distributions come with Julia packages in their repositories. However, these may lag somewhat behind the current rather fast development cycle."
   ]
  },
  {
   "cell_type": "markdown",
   "metadata": {},
   "source": [
    "You can also try online via https://www.juliabox.com/ which provides hosted Julia notebooks on Google Cloud."
   ]
  },
  {
   "cell_type": "markdown",
   "metadata": {},
   "source": [
    "If you need corporate support, https://juliacomputing.com/products/juliapro.html provides a _batteries included_ installation of Julia. The company is run by some of the creators of the language and provides a single install with all of the most important add-ons."
   ]
  },
  {
   "cell_type": "markdown",
   "metadata": {},
   "source": [
    "## For the workshop"
   ]
  },
  {
   "cell_type": "markdown",
   "metadata": {},
   "source": [
    "We will be using Julia 0.6 combined with Jupyter Notebooks.\n",
    "\n",
    "If you haven't already got an installation, wifi permitting, maybe you can follow along on https://www.juliabox.com/ \n",
    "\n",
    "We will be posting the notebooks on GitHub, https://github.com/daveh19/pydataberlin2017\n",
    "\n",
    "The following packages are used and should be installed ahead of time:"
   ]
  },
  {
   "cell_type": "code",
   "execution_count": null,
   "metadata": {},
   "outputs": [],
   "source": [
    "# executing the following will install them, you will need to be internet connected to do this\n",
    "Pkg.add(\"IJulia\")\n",
    "\n",
    "Pkg.add(\"DataFrames\")\n",
    "\n",
    "Pkg.add(\"Plots\")\n",
    "Pkg.add(\"StatPlots\")\n",
    "Pkg.add(\"PyPlot\")\n",
    "\n",
    "Pkg.add(\"JuMP\")\n",
    "Pkg.add(\"Cbc\")\n",
    "\n",
    "Pkg.add(\"BenchmarkTools\")\n",
    "Pkg.add(\"ProfileView\")\n",
    "Pkg.add(\"Gallium\")\n",
    "\n",
    "# executing the following will import them once\n",
    "# on the initial import backend files are compiled and pre-computed this may take some time!\n",
    "using IJulia\n",
    "using DataFrames\n",
    "using Plots\n",
    "using PyPlot\n",
    "using JuMP\n",
    "using Cbc\n",
    "using BenchmarkTools\n",
    "using ProfileView\n",
    "using Gallium"
   ]
  },
  {
   "cell_type": "markdown",
   "metadata": {},
   "source": [
    "You can run the above cell to install the requirements. But it will take some time to complete!\n",
    "\n",
    "If you are planning on following the OpenCL examples in real-time, then please also run the following:"
   ]
  },
  {
   "cell_type": "code",
   "execution_count": null,
   "metadata": {},
   "outputs": [],
   "source": [
    "Pkg.add(\"OpenCL\")"
   ]
  },
  {
   "cell_type": "code",
   "execution_count": null,
   "metadata": {},
   "outputs": [],
   "source": [
    "using OpenCL"
   ]
  },
  {
   "cell_type": "markdown",
   "metadata": {},
   "source": [
    "## How to access Julia"
   ]
  },
  {
   "cell_type": "markdown",
   "metadata": {},
   "source": [
    "The main options for executing Julia code are\n",
    "- REPL\n",
    "- command-line\n",
    "> julia myprog.jl\n",
    "- jupyter (julia) notebooks\n",
    "- Atom + Juno\n",
    "\n",
    "\n"
   ]
  },
  {
   "cell_type": "markdown",
   "metadata": {},
   "source": [
    "I personally use Atom for development, it provides syntax highlighting and code completion (along with Git integrations and a host of other features). \n",
    "\n",
    "But I run my code either in the REPL, typically via an 'import', or from the command-line."
   ]
  },
  {
   "cell_type": "markdown",
   "metadata": {},
   "source": [
    "# Julia Language"
   ]
  },
  {
   "cell_type": "markdown",
   "metadata": {},
   "source": [
    "## Buzzword description of the language"
   ]
  },
  {
   "cell_type": "markdown",
   "metadata": {},
   "source": [
    "- dynamically typed\n",
    "- but with optional types \n",
    "- built-in types are equivalent to user-defined types\n",
    "- is JIT compiled using LLVM\n",
    "- utilises dynamic multiple dispatch\n",
    "- has full metaprogramming capabilities\n",
    "- can call C and Fortran libraries natively\n",
    "\n",
    "- can call Python libraries via PyCall package"
   ]
  },
  {
   "cell_type": "markdown",
   "metadata": {},
   "source": [
    "## What happens when I run my code?"
   ]
  },
  {
   "cell_type": "markdown",
   "metadata": {},
   "source": [
    "Julia is first translated into an intermediate representation.\n",
    "\n",
    "Then LLVM compiles it for your machine.\n",
    "\n",
    "This means that\n",
    "- re-running the same code is faster the second time around\n",
    "- it runs at speeds comparable to compiled C or Fortran code"
   ]
  },
  {
   "cell_type": "markdown",
   "metadata": {},
   "source": [
    "In contrast, Python and Matlab _interpret_ your code and, for speed, can _call_ specialised functions in the background."
   ]
  }
 ],
 "metadata": {
  "kernelspec": {
   "display_name": "Julia 0.6.0",
   "language": "julia",
   "name": "julia-0.6"
  },
  "language_info": {
   "file_extension": ".jl",
   "mimetype": "application/julia",
   "name": "julia",
   "version": "0.6.0"
  }
 },
 "nbformat": 4,
 "nbformat_minor": 2
}
