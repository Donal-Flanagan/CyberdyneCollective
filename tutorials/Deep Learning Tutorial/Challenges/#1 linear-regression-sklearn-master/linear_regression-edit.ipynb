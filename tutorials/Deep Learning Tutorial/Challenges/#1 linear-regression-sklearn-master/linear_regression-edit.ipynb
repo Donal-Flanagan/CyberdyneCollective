{
 "cells": [
  {
   "cell_type": "markdown",
   "metadata": {},
   "source": [
    "# Linear Regression"
   ]
  },
  {
   "cell_type": "markdown",
   "metadata": {},
   "source": [
    "Submission to \"How to Make a Prediction - Intro to Deep Learning 1\" by Siraj Raval on YouTube"
   ]
  },
  {
   "cell_type": "code",
   "execution_count": null,
   "metadata": {},
   "outputs": [],
   "source": [
    "%matplotlib inline\n",
    "\n",
    "# Imports\n",
    "import matplotlib.pyplot as plt\n",
    "import matplotlib as mpl\n",
    "import pandas as pd\n",
    "import seaborn as sns\n",
    "import sklearn\n",
    "import numpy as np"
   ]
  },
  {
   "cell_type": "markdown",
   "metadata": {},
   "source": [
    "## Regression with 2 variables"
   ]
  },
  {
   "cell_type": "markdown",
   "metadata": {},
   "source": [
    "### 1. Import and visualize data"
   ]
  },
  {
   "cell_type": "code",
   "execution_count": null,
   "metadata": {},
   "outputs": [],
   "source": [
    "df = pd.read_csv('challenge_dataset.txt', names=['X','Y'])"
   ]
  },
  {
   "cell_type": "code",
   "execution_count": null,
   "metadata": {},
   "outputs": [],
   "source": [
    "sns.regplot(x='X', y='Y', data=df, fit_reg=False)\n",
    "plt.show()"
   ]
  },
  {
   "cell_type": "markdown",
   "metadata": {},
   "source": [
    "### 2. 2D Regression"
   ]
  },
  {
   "cell_type": "code",
   "execution_count": null,
   "metadata": {},
   "outputs": [],
   "source": [
    "from sklearn.model_selection import train_test_split\n",
    "\n",
    "X_train, X_test, y_train, y_test = np.asarray(train_test_split(df['X'], df['Y'], test_size=0.1))"
   ]
  },
  {
   "cell_type": "code",
   "execution_count": null,
   "metadata": {},
   "outputs": [],
   "source": [
    "from sklearn.linear_model import LinearRegression\n",
    "\n",
    "reg = LinearRegression()\n",
    "reg.fit(X_train.values.reshape(-1,1), y_train.values.reshape(-1,1))#reshape?"
   ]
  },
  {
   "cell_type": "code",
   "execution_count": null,
   "metadata": {},
   "outputs": [],
   "source": [
    "print('Score: ', reg.score(X_test.values.reshape(-1,1), y_test.values.reshape(-1,1)))"
   ]
  },
  {
   "cell_type": "markdown",
   "metadata": {},
   "source": [
    "### 3. Plot regression and visualize results"
   ]
  },
  {
   "cell_type": "code",
   "execution_count": null,
   "metadata": {},
   "outputs": [],
   "source": [
    "x_line = np.arange(5,25).reshape(-1,1)\n",
    "sns.regplot(x=df['X'], y=df['Y'], data=df, fit_reg=False)\n",
    "plt.plot(x_line, reg.predict(x_line))\n",
    "plt.show()"
   ]
  },
  {
   "cell_type": "markdown",
   "metadata": {},
   "source": [
    "## 3 Variables"
   ]
  },
  {
   "cell_type": "markdown",
   "metadata": {},
   "source": [
    "### 1. Data preprocessing"
   ]
  },
  {
   "cell_type": "code",
   "execution_count": null,
   "metadata": {},
   "outputs": [],
   "source": [
    "# Import data\n",
    "co2_df = pd.read_csv('global_co2.csv')\n",
    "temp_df = pd.read_csv('annual_temp.csv')\n",
    "print(co2_df.head())\n",
    "print(temp_df.head())"
   ]
  },
  {
   "cell_type": "code",
   "execution_count": null,
   "metadata": {},
   "outputs": [],
   "source": [
    "# Clean data\n",
    "co2_df = co2_df.ix[:,:2]                     # Keep only total CO2\n",
    "co2_df = co2_df.ix[co2_df['Year'] >= 1960]   # Keep only 1960 - 2010\n",
    "co2_df.columns=['Year','CO2']                # Rename columns\n",
    "co2_df = co2_df.reset_index(drop=True)                # Reset index\n",
    "\n",
    "temp_df = temp_df[temp_df.Source != 'GISTEMP']                              # Keep only one source\n",
    "temp_df.drop('Source', inplace=True, axis=1)                                # Drop name of source\n",
    "temp_df = temp_df.reindex(index=temp_df.index[::-1])                        # Reset index\n",
    "temp_df = temp_df.ix[temp_df['Year'] >= 1960].ix[temp_df['Year'] <= 2010]   # Keep only 1960 - 2010\n",
    "temp_df.columns=['Year','Temperature']                                      # Rename columns\n",
    "temp_df = temp_df.reset_index(drop=True)                                             # Reset index\n",
    "\n",
    "print(co2_df.head())\n",
    "print(temp_df.head())"
   ]
  },
  {
   "cell_type": "code",
   "execution_count": null,
   "metadata": {},
   "outputs": [],
   "source": [
    "# Concatenate\n",
    "climate_change_df = pd.concat([co2_df, temp_df.Temperature], axis=1)\n",
    "\n",
    "print(climate_change_df.head())"
   ]
  },
  {
   "cell_type": "markdown",
   "metadata": {},
   "source": [
    "### 2. Vizualize initial data"
   ]
  },
  {
   "cell_type": "markdown",
   "metadata": {},
   "source": [
    "#### 3D Plot"
   ]
  },
  {
   "cell_type": "code",
   "execution_count": null,
   "metadata": {},
   "outputs": [],
   "source": [
    "from mpl_toolkits.mplot3d import Axes3D\n",
    "fig = plt.figure()\n",
    "fig.set_size_inches(12.5, 7.5)\n",
    "ax = fig.add_subplot(111, projection='3d')\n",
    "\n",
    "ax.scatter(xs=climate_change_df['Year'], ys=climate_change_df['Temperature'], zs=climate_change_df['CO2'])\n",
    "\n",
    "ax.set_ylabel('Relative tempature'); ax.set_xlabel('Year'); ax.set_zlabel('CO2 Emissions')\n",
    "ax.view_init(10, -45)"
   ]
  },
  {
   "cell_type": "markdown",
   "metadata": {},
   "source": [
    "#### Projected 2D plots"
   ]
  },
  {
   "cell_type": "code",
   "execution_count": null,
   "metadata": {},
   "outputs": [],
   "source": [
    "f, axarr = plt.subplots(2, sharex=True)\n",
    "f.set_size_inches(12.5, 7.5)\n",
    "axarr[0].plot(climate_change_df['Year'], climate_change_df['CO2'])\n",
    "axarr[0].set_ylabel('CO2 Emissions')\n",
    "axarr[1].plot(climate_change_df['Year'], climate_change_df['Temperature'])\n",
    "axarr[1].set_xlabel('Year')\n",
    "axarr[1].set_ylabel('Relative temperature')"
   ]
  },
  {
   "cell_type": "markdown",
   "metadata": {},
   "source": [
    "### 3. Linear Regression"
   ]
  },
  {
   "cell_type": "code",
   "execution_count": null,
   "metadata": {},
   "outputs": [],
   "source": [
    "X = climate_change_df.as_matrix(['Year'])\n",
    "Y = climate_change_df.as_matrix(['CO2', 'Temperature']).astype('float32') # 2 data columns in Y?\n",
    "\n",
    "X_train, X_test, y_train, y_test = np.asarray(train_test_split(X, Y, test_size=0.1))"
   ]
  },
  {
   "cell_type": "code",
   "execution_count": null,
   "metadata": {},
   "outputs": [],
   "source": [
    "reg = LinearRegression()\n",
    "reg.fit(X_train, y_train)"
   ]
  },
  {
   "cell_type": "code",
   "execution_count": null,
   "metadata": {},
   "outputs": [],
   "source": [
    "print('Score: ', reg.score(X_test.reshape(-1, 1), y_test))"
   ]
  },
  {
   "cell_type": "markdown",
   "metadata": {},
   "source": [
    "### 4. Plot regression and visualize results"
   ]
  },
  {
   "cell_type": "code",
   "execution_count": null,
   "metadata": {},
   "outputs": [],
   "source": [
    "x_line = np.arange(1960,2011).reshape(-1,1)\n",
    "p = reg.predict(x_line).T"
   ]
  },
  {
   "cell_type": "markdown",
   "metadata": {},
   "source": [
    "#### 3D Plot"
   ]
  },
  {
   "cell_type": "code",
   "execution_count": null,
   "metadata": {},
   "outputs": [],
   "source": [
    "fig2 = plt.figure()\n",
    "fig2.set_size_inches(12.5, 7.5)\n",
    "ax = fig2.add_subplot(111, projection='3d')\n",
    "ax.scatter(xs=climate_change_df['Year'], ys=climate_change_df['Temperature'], zs=climate_change_df['CO2'])\n",
    "ax.set_ylabel('Relative tempature'); ax.set_xlabel('Year'); ax.set_zlabel('CO2 Emissions')\n",
    "ax.plot(xs=x_line, ys=p[1], zs=p[0], color='green')\n",
    "ax.view_init(10, -45)"
   ]
  },
  {
   "cell_type": "markdown",
   "metadata": {},
   "source": [
    "#### Projected 2D plots"
   ]
  },
  {
   "cell_type": "code",
   "execution_count": null,
   "metadata": {},
   "outputs": [],
   "source": [
    "f, axarr = plt.subplots(2, sharex=True)\n",
    "f.set_size_inches(12.5, 7.5)\n",
    "axarr[0].plot(climate_change_df['Year'], climate_change_df['CO2'])\n",
    "axarr[0].plot(x_line, p[0])\n",
    "axarr[0].set_ylabel('CO2 Emissions')\n",
    "axarr[1].plot(climate_change_df['Year'], climate_change_df['Temperature'])\n",
    "axarr[1].plot(x_line, p[1])\n",
    "axarr[1].set_xlabel('Year')\n",
    "axarr[1].set_ylabel('Relative temperature')"
   ]
  },
  {
   "cell_type": "code",
   "execution_count": null,
   "metadata": {},
   "outputs": [],
   "source": []
  }
 ],
 "metadata": {
  "anaconda-cloud": {},
  "kernelspec": {
   "display_name": "Python 3",
   "language": "python",
   "name": "python3"
  },
  "language_info": {
   "codemirror_mode": {
    "name": "ipython",
    "version": 3
   },
   "file_extension": ".py",
   "mimetype": "text/x-python",
   "name": "python",
   "nbconvert_exporter": "python",
   "pygments_lexer": "ipython3",
   "version": "3.5.3"
  }
 },
 "nbformat": 4,
 "nbformat_minor": 1
}
