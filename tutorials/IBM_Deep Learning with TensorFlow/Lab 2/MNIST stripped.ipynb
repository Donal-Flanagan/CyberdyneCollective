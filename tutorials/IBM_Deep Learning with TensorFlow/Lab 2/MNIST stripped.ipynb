{
 "cells": [
  {
   "cell_type": "code",
   "execution_count": 6,
   "metadata": {},
   "outputs": [
    {
     "name": "stdout",
     "output_type": "stream",
     "text": [
      "Extracting MNIST_data\\train-images-idx3-ubyte.gz\n",
      "Extracting MNIST_data\\train-labels-idx1-ubyte.gz\n",
      "Extracting MNIST_data\\t10k-images-idx3-ubyte.gz\n",
      "Extracting MNIST_data\\t10k-labels-idx1-ubyte.gz\n"
     ]
    }
   ],
   "source": [
    "# Based on the MNIST exercise\n",
    "# extracting all the code\n",
    "\n",
    "import tensorflow as tf\n",
    "tf.__version__\n",
    "\n",
    "from tensorflow.examples.tutorials.mnist import input_data\n",
    "mnist = input_data.read_data_sets('MNIST_data', one_hot=True)\n",
    "#import input_data\n",
    "#mnist = input_data.read_data_sets(\"MNIST_data/\", one_hot=True)\n",
    "\n",
    "sess = tf.InteractiveSession()\n",
    "\n"
   ]
  },
  {
   "cell_type": "code",
   "execution_count": 8,
   "metadata": {
    "collapsed": true
   },
   "outputs": [],
   "source": [
    "# Create placeholders\n",
    "\n",
    "# Placeholder 'X': represents the \"space\" allocated input or the images. \n",
    "#   * Each input has 784 pixels distributed by a 28 width x 28 height matrix   \n",
    "#   * The 'shape' argument defines the tensor size by its dimensions.  \n",
    "#   * 1st dimension = None. Indicates that the batch size, can be of any size.  \n",
    "#   * 2nd dimension = 784. Indicates the number of pixels on a single flattened MNIST image.  \n",
    "\n",
    "#Placeholder 'Y':_ represents the final output or the labels.\n",
    "#   * 10 possible classes (0,1,2,3,4,5,6,7,8,9)  \n",
    "#   * The 'shape' argument defines the tensor size by its dimensions.  \n",
    "#   * 1st dimension = None. Indicates that the batch size, can be of any size.   \n",
    "#   * 2nd dimension = 10. Indicates the number of targets/outcomes \n",
    "#dtype for both placeholders: if you not sure, use tf.float32. \n",
    "#The limitation here is that the later presented softmax function only accepts float32 or float64 dtypes. \n",
    "    \n",
    "x  = tf.placeholder(tf.float32, shape=[None, 784])\n",
    "y_ = tf.placeholder(tf.float32, shape=[None, 10])"
   ]
  },
  {
   "cell_type": "code",
   "execution_count": 9,
   "metadata": {
    "collapsed": true
   },
   "outputs": [],
   "source": [
    "# Assigning bias and weights to null tensors\n",
    "\n",
    "# Weight tensor\n",
    "W = tf.Variable(tf.zeros([784,10],tf.float32)) # weights zero matrix: input x output\n",
    "# Bias tensor\n",
    "b = tf.Variable(tf.zeros([10],tf.float32)) # bias zero matrix: outputs"
   ]
  },
  {
   "cell_type": "code",
   "execution_count": 12,
   "metadata": {},
   "outputs": [],
   "source": [
    "# Execute the assignment operation \n",
    "\n",
    "# run the op initialize_all_variables using an interactive session\n",
    "#sess.run(tf.initialize_all_variables()) -- depricated\n",
    "\n",
    "sess.run(tf.global_variables_initializer())"
   ]
  },
  {
   "cell_type": "code",
   "execution_count": 13,
   "metadata": {},
   "outputs": [
    {
     "data": {
      "text/plain": [
       "<tf.Tensor 'add:0' shape=(?, 10) dtype=float32>"
      ]
     },
     "execution_count": 13,
     "metadata": {},
     "output_type": "execute_result"
    }
   ],
   "source": [
    "# Adding Weights and Biases to input\n",
    "\n",
    "#mathematical operation to add weights and biases to the inputs\n",
    "tf.matmul(x,W) + b"
   ]
  },
  {
   "cell_type": "code",
   "execution_count": 16,
   "metadata": {
    "collapsed": true
   },
   "outputs": [],
   "source": [
    "# Softmax Regression\n",
    "#probability that the input was i.e. nr \"9\". \"9\" should have the largest probability\n",
    "\n",
    "y = tf.nn.softmax(tf.matmul(x,W) + b)\n",
    "#Logistic function output is used for the classification between two target classes 0/1. \n",
    "#Softmax function is generalized type of logistic function. \n",
    "#That is, Softmax can output a multiclass categorical probability distribution. "
   ]
  },
  {
   "cell_type": "code",
   "execution_count": 17,
   "metadata": {
    "collapsed": true
   },
   "outputs": [],
   "source": [
    "# Cost function\n",
    "\n",
    "cross_entropy = tf.reduce_mean(-tf.reduce_sum(y_ * tf.log(y), reduction_indices=[1]))"
   ]
  },
  {
   "cell_type": "code",
   "execution_count": 18,
   "metadata": {
    "collapsed": true
   },
   "outputs": [],
   "source": [
    "# Type of optimization: Gradient Descent\n",
    "\n",
    "train_step = tf.train.GradientDescentOptimizer(0.5).minimize(cross_entropy)"
   ]
  },
  {
   "cell_type": "code",
   "execution_count": 19,
   "metadata": {
    "collapsed": true
   },
   "outputs": [],
   "source": [
    "# Training batches\n",
    "\n",
    "#Train using minibatch Gradient Descent.\n",
    "#In practice, Batch Gradient Descent is not often used because is too computationally expensive. \n",
    "\n",
    "#Load 50 training examples for each training iteration   \n",
    "for i in range(1000):\n",
    "    batch = mnist.train.next_batch(50)\n",
    "    train_step.run(feed_dict={x: batch[0], y_: batch[1]})"
   ]
  },
  {
   "cell_type": "code",
   "execution_count": 20,
   "metadata": {},
   "outputs": [
    {
     "name": "stdout",
     "output_type": "stream",
     "text": [
      "The final accuracy for the simple ANN model is: 90.87001085281372 % \n"
     ]
    }
   ],
   "source": [
    "# Test\n",
    "\n",
    "correct_prediction = tf.equal(tf.argmax(y,1), tf.argmax(y_,1))\n",
    "accuracy = tf.reduce_mean(tf.cast(correct_prediction, tf.float32))\n",
    "acc = accuracy.eval(feed_dict={x: mnist.test.images, y_: mnist.test.labels}) * 100\n",
    "print(\"The final accuracy for the simple ANN model is: {} % \".format(acc) )"
   ]
  },
  {
   "cell_type": "code",
   "execution_count": 21,
   "metadata": {
    "collapsed": true
   },
   "outputs": [],
   "source": [
    "sess.close() #finish the session"
   ]
  },
  {
   "cell_type": "code",
   "execution_count": null,
   "metadata": {
    "collapsed": true
   },
   "outputs": [],
   "source": []
  }
 ],
 "metadata": {
  "kernelspec": {
   "display_name": "Python 3",
   "language": "python",
   "name": "python3"
  },
  "language_info": {
   "codemirror_mode": {
    "name": "ipython",
    "version": 3
   },
   "file_extension": ".py",
   "mimetype": "text/x-python",
   "name": "python",
   "nbconvert_exporter": "python",
   "pygments_lexer": "ipython3",
   "version": "3.6.3"
  }
 },
 "nbformat": 4,
 "nbformat_minor": 2
}
