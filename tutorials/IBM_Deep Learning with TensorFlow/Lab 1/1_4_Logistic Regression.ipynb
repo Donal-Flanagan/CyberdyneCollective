{
 "cells": [
  {
   "cell_type": "code",
   "execution_count": 108,
   "metadata": {},
   "outputs": [],
   "source": [
    "import tensorflow as tf\n",
    "import pandas as pd\n",
    "import numpy as np\n",
    "import time\n",
    "from sklearn.datasets import load_iris\n",
    "from sklearn.cross_validation import train_test_split #-- depricated\n",
    "#from sklearn.model_selection import train_test_split\n",
    "import matplotlib.pyplot as plt"
   ]
  },
  {
   "cell_type": "code",
   "execution_count": 109,
   "metadata": {
    "collapsed": true
   },
   "outputs": [],
   "source": [
    "# Load data -- Iris database\n",
    "iris = load_iris()\n",
    "iris_X, iris_y = iris.data[:-1,:], iris.target[:-1]\n",
    "iris_y= pd.get_dummies(iris_y).values\n",
    "\n",
    "# training and test sets of [X, Y] -- in this case 2/3, 1/3 of set\n",
    "trainX, testX, trainY, testY = train_test_split(iris_X, iris_y, test_size=0.33, random_state=42)"
   ]
  },
  {
   "cell_type": "code",
   "execution_count": 110,
   "metadata": {},
   "outputs": [],
   "source": [
    "# Placeholders\n",
    "# To construct alorithm first, with structure and all\n",
    "# To change training set sizes on the fly\n",
    "\n",
    "# numFeatures is the number of features in our input data.\n",
    "# In the iris dataset, this number is '4'.\n",
    "numFeatures = trainX.shape[1]\n",
    "\n",
    "# numLabels is the number of classes our data points can be in.\n",
    "# In the iris dataset, this number is '3'.\n",
    "numLabels = trainY.shape[1]\n",
    "\n",
    "\n",
    "# Placeholders\n",
    "# 'None' means TensorFlow shouldn't expect a fixed number in that dimension\n",
    "X = tf.placeholder(tf.float32, [None, numFeatures]) # Iris has 4 features, so X is a tensor to hold our data.\n",
    "yGold = tf.placeholder(tf.float32, [None, numLabels]) # This will be our correct answers matrix for 3 classes."
   ]
  },
  {
   "cell_type": "code",
   "execution_count": 111,
   "metadata": {
    "collapsed": true
   },
   "outputs": [],
   "source": [
    "# Initialize weights and bias\n",
    "# dim(W) = #Features x #Lables\n",
    "W = tf.Variable(tf.zeros([4, 3]))  # 4-dimensional input and  3 classes\n",
    "b = tf.Variable(tf.zeros([3])) # 3-dimensional output [0,0,1],[0,1,0],[1,0,0]"
   ]
  },
  {
   "cell_type": "code",
   "execution_count": 112,
   "metadata": {
    "collapsed": true
   },
   "outputs": [],
   "source": [
    "#Randomly sample from a normal distribution with standard deviation .01\n",
    "\n",
    "# wat is dis?!?\n",
    "\n",
    "weights = tf.Variable(tf.random_normal([numFeatures,numLabels],\n",
    "                                       mean=0,\n",
    "                                       stddev=0.01,\n",
    "                                       name=\"weights\"))\n",
    "\n",
    "bias = tf.Variable(tf.random_normal([1,numLabels],\n",
    "                                    mean=0,\n",
    "                                    stddev=0.01,\n",
    "                                    name=\"bias\"))"
   ]
  },
  {
   "cell_type": "code",
   "execution_count": 113,
   "metadata": {
    "collapsed": true
   },
   "outputs": [],
   "source": [
    "# -- LogReg model -- \n",
    "\n",
    "# Three-component breakdown of the Logistic Regression equation.\n",
    "# Note that these feed into each other.\n",
    "apply_weights_OP = tf.matmul(X, weights, name=\"apply_weights\")\n",
    "add_bias_OP = tf.add(apply_weights_OP, bias, name=\"add_bias\") \n",
    "activation_OP = tf.nn.sigmoid(add_bias_OP, name=\"activation\")"
   ]
  },
  {
   "cell_type": "code",
   "execution_count": 114,
   "metadata": {
    "collapsed": true
   },
   "outputs": [],
   "source": [
    "# Cost function - Squared Mean Error\n",
    "\n",
    "# Number of Epochs in our training\n",
    "numEpochs = 700\n",
    "\n",
    "# Defining our learning rate iterations (decay)\n",
    "learningRate = tf.train.exponential_decay(learning_rate=0.0008,\n",
    "                                          global_step= 1,\n",
    "                                          decay_steps=trainX.shape[0],\n",
    "                                          decay_rate= 0.95,\n",
    "                                          staircase=True)"
   ]
  },
  {
   "cell_type": "code",
   "execution_count": 115,
   "metadata": {
    "collapsed": true
   },
   "outputs": [],
   "source": [
    "#Defining our cost function - Squared Mean Error (MSE)\n",
    "# mean[(y_hat - y)^2]\n",
    "\n",
    "# yGold - Correct answers\n",
    "error = activation_OP - yGold\n",
    "cost_OP = tf.nn.l2_loss(error, name=\"squared_error_cost\")\n",
    "\n",
    "#Defining our Gradient Descent\n",
    "training_OP = tf.train.GradientDescentOptimizer(learningRate).minimize(cost_OP)"
   ]
  },
  {
   "cell_type": "code",
   "execution_count": 116,
   "metadata": {
    "collapsed": true
   },
   "outputs": [],
   "source": [
    "# Create a tensorflow session\n",
    "sess = tf.Session()\n",
    "\n",
    "# Initialize our weights and biases variables.\n",
    "init_OP = tf.global_variables_initializer()\n",
    "\n",
    "# Initialize all tensorflow variables\n",
    "sess.run(init_OP)"
   ]
  },
  {
   "cell_type": "code",
   "execution_count": 117,
   "metadata": {
    "collapsed": true
   },
   "outputs": [],
   "source": [
    "# Keep track of our model's efficiency over time\n",
    "\n",
    "# argmax(activation_OP, 1) returns the label with the most probability\n",
    "# argmax(yGold, 1) is the correct label\n",
    "correct_predictions_OP = tf.equal(tf.argmax(activation_OP,1),tf.argmax(yGold,1))\n",
    "\n",
    "# If every false prediction is 0 and every true prediction is 1, the average returns us the accuracy\n",
    "accuracy_OP = tf.reduce_mean(tf.cast(correct_predictions_OP, \"float\"))\n",
    "\n",
    "# Summary op for regression output\n",
    "activation_summary_OP = tf.summary.histogram(\"output\", activation_OP)\n",
    "\n",
    "# Summary op for accuracy\n",
    "accuracy_summary_OP = tf.summary.scalar(\"accuracy\", accuracy_OP)\n",
    "\n",
    "# Summary op for cost\n",
    "cost_summary_OP = tf.summary.scalar(\"cost\", cost_OP)\n",
    "\n",
    "# Summary ops to check how variables (W, b) are updating after each iteration\n",
    "weightSummary = tf.summary.histogram(\"weights\", weights.eval(session=sess))\n",
    "biasSummary = tf.summary.histogram(\"biases\", bias.eval(session=sess))\n",
    "\n",
    "# Merge all summaries\n",
    "merged = tf.summary.merge([activation_summary_OP, accuracy_summary_OP, cost_summary_OP, weightSummary, biasSummary])\n",
    "\n",
    "# Summary writer\n",
    "writer = tf.summary.FileWriter(\"summary_logs\", sess.graph)"
   ]
  },
  {
   "cell_type": "code",
   "execution_count": 118,
   "metadata": {
    "collapsed": true
   },
   "outputs": [],
   "source": [
    "# Initialize reporting variables\n",
    "cost = 0\n",
    "diff = 1\n",
    "epoch_values = []\n",
    "accuracy_values = []\n",
    "cost_values = []\n"
   ]
  },
  {
   "cell_type": "code",
   "execution_count": 129,
   "metadata": {},
   "outputs": [
    {
     "name": "stdout",
     "output_type": "stream",
     "text": [
      "step 0, training accuracy 0.939394, cost 10.9519, change in cost 0.0014286\n",
      "step 10, training accuracy 0.939394, cost 10.9504, change in cost 0.0014267\n",
      "step 20, training accuracy 0.939394, cost 10.949, change in cost 0.00142384\n",
      "step 30, training accuracy 0.939394, cost 10.9476, change in cost 0.00142002\n",
      "step 40, training accuracy 0.939394, cost 10.9462, change in cost 0.00141811\n",
      "step 50, training accuracy 0.939394, cost 10.9448, change in cost 0.00141621\n",
      "step 60, training accuracy 0.939394, cost 10.9434, change in cost 0.00141048\n",
      "step 70, training accuracy 0.939394, cost 10.942, change in cost 0.00140858\n",
      "step 80, training accuracy 0.939394, cost 10.9405, change in cost 0.00140762\n",
      "step 90, training accuracy 0.939394, cost 10.9391, change in cost 0.0014019\n",
      "step 100, training accuracy 0.939394, cost 10.9377, change in cost 0.00139999\n",
      "step 110, training accuracy 0.939394, cost 10.9363, change in cost 0.00139809\n",
      "step 120, training accuracy 0.939394, cost 10.9349, change in cost 0.00139618\n",
      "step 130, training accuracy 0.939394, cost 10.9336, change in cost 0.00139141\n",
      "step 140, training accuracy 0.939394, cost 10.9322, change in cost 0.0013895\n",
      "step 150, training accuracy 0.939394, cost 10.9308, change in cost 0.00138664\n",
      "step 160, training accuracy 0.939394, cost 10.9294, change in cost 0.00138283\n",
      "step 170, training accuracy 0.939394, cost 10.928, change in cost 0.00138187\n",
      "step 180, training accuracy 0.939394, cost 10.9266, change in cost 0.00137711\n",
      "step 190, training accuracy 0.939394, cost 10.9253, change in cost 0.00137615\n",
      "step 200, training accuracy 0.939394, cost 10.9239, change in cost 0.00137234\n",
      "step 210, training accuracy 0.939394, cost 10.9225, change in cost 0.00137043\n",
      "step 220, training accuracy 0.939394, cost 10.9212, change in cost 0.00136757\n",
      "step 230, training accuracy 0.939394, cost 10.9198, change in cost 0.00136471\n",
      "step 240, training accuracy 0.939394, cost 10.9184, change in cost 0.00136185\n",
      "step 250, training accuracy 0.939394, cost 10.9171, change in cost 0.00135899\n",
      "step 260, training accuracy 0.939394, cost 10.9157, change in cost 0.00135612\n",
      "step 270, training accuracy 0.939394, cost 10.9144, change in cost 0.00135517\n",
      "step 280, training accuracy 0.939394, cost 10.913, change in cost 0.00135136\n",
      "step 290, training accuracy 0.939394, cost 10.9117, change in cost 0.0013485\n",
      "step 300, training accuracy 0.939394, cost 10.9103, change in cost 0.00134659\n",
      "step 310, training accuracy 0.939394, cost 10.909, change in cost 0.00134087\n",
      "step 320, training accuracy 0.939394, cost 10.9076, change in cost 0.00134277\n",
      "step 330, training accuracy 0.939394, cost 10.9063, change in cost 0.00133705\n",
      "step 340, training accuracy 0.939394, cost 10.905, change in cost 0.0013361\n",
      "step 350, training accuracy 0.939394, cost 10.9036, change in cost 0.00133228\n",
      "step 360, training accuracy 0.939394, cost 10.9023, change in cost 0.00133133\n",
      "step 370, training accuracy 0.939394, cost 10.901, change in cost 0.00132656\n",
      "step 380, training accuracy 0.939394, cost 10.8996, change in cost 0.00132465\n",
      "step 390, training accuracy 0.949495, cost 10.8983, change in cost 0.00132465\n",
      "step 400, training accuracy 0.949495, cost 10.897, change in cost 0.00131893\n",
      "step 410, training accuracy 0.949495, cost 10.8957, change in cost 0.00131893\n",
      "step 420, training accuracy 0.949495, cost 10.8944, change in cost 0.00131512\n",
      "step 430, training accuracy 0.949495, cost 10.893, change in cost 0.00131226\n",
      "step 440, training accuracy 0.949495, cost 10.8917, change in cost 0.00130939\n",
      "step 450, training accuracy 0.949495, cost 10.8904, change in cost 0.00130749\n",
      "step 460, training accuracy 0.949495, cost 10.8891, change in cost 0.00130653\n",
      "step 470, training accuracy 0.949495, cost 10.8878, change in cost 0.00130272\n",
      "step 480, training accuracy 0.949495, cost 10.8865, change in cost 0.00130081\n",
      "step 490, training accuracy 0.949495, cost 10.8852, change in cost 0.001297\n",
      "step 500, training accuracy 0.949495, cost 10.8839, change in cost 0.00129414\n",
      "step 510, training accuracy 0.949495, cost 10.8826, change in cost 0.00129223\n",
      "step 520, training accuracy 0.949495, cost 10.8813, change in cost 0.00129223\n",
      "step 530, training accuracy 0.949495, cost 10.8801, change in cost 0.00128746\n",
      "step 540, training accuracy 0.949495, cost 10.8788, change in cost 0.0012846\n",
      "step 550, training accuracy 0.949495, cost 10.8775, change in cost 0.00128365\n",
      "step 560, training accuracy 0.949495, cost 10.8762, change in cost 0.00128078\n",
      "step 570, training accuracy 0.949495, cost 10.8749, change in cost 0.00127792\n",
      "step 580, training accuracy 0.949495, cost 10.8737, change in cost 0.00127602\n",
      "step 590, training accuracy 0.949495, cost 10.8724, change in cost 0.00127411\n",
      "step 600, training accuracy 0.949495, cost 10.8711, change in cost 0.00127125\n",
      "step 610, training accuracy 0.949495, cost 10.8698, change in cost 0.00126839\n",
      "step 620, training accuracy 0.949495, cost 10.8686, change in cost 0.00126553\n",
      "step 630, training accuracy 0.949495, cost 10.8673, change in cost 0.00126553\n",
      "step 640, training accuracy 0.949495, cost 10.866, change in cost 0.00126266\n",
      "step 650, training accuracy 0.949495, cost 10.8648, change in cost 0.00125885\n",
      "step 660, training accuracy 0.949495, cost 10.8635, change in cost 0.00125694\n",
      "step 670, training accuracy 0.949495, cost 10.8623, change in cost 0.00125504\n",
      "step 680, training accuracy 0.949495, cost 10.861, change in cost 0.00125217\n",
      "step 690, training accuracy 0.949495, cost 10.8598, change in cost 0.00124931\n",
      "final accuracy on test set: 1.0\n"
     ]
    }
   ],
   "source": [
    "\n",
    "# Training epochs\n",
    "for i in range(numEpochs):\n",
    "    if i > 1 and diff < .0001:\n",
    "        print(\"change in cost %g; convergence.\"%diff)\n",
    "        break\n",
    "    else:\n",
    "        # Run training step\n",
    "        step = sess.run(training_OP, feed_dict={X: trainX, yGold: trainY})\n",
    "        # Report occasional stats\n",
    "        if i % 10 == 0:\n",
    "            # Add epoch to epoch_values\n",
    "            epoch_values.append(i)\n",
    "            # Generate accuracy stats on test data\n",
    "            train_accuracy, newCost = sess.run([accuracy_OP, cost_OP], feed_dict={X: trainX, yGold: trainY})\n",
    "            # Add accuracy to live graphing variable\n",
    "            accuracy_values.append(train_accuracy)\n",
    "            # Add cost to live graphing variable\n",
    "            cost_values.append(newCost)\n",
    "            # Re-assign values for variables\n",
    "            diff = abs(newCost - cost)\n",
    "            cost = newCost\n",
    "\n",
    "            #generate print statements\n",
    "            print(\"step %d, training accuracy %g, cost %g, change in cost %g\"%(i, train_accuracy, newCost, diff))\n",
    "\n",
    "\n",
    "# How well do we perform on held-out test data?\n",
    "print(\"final accuracy on test set: %s\" %str(sess.run(accuracy_OP, \n",
    "                                                     feed_dict={X: testX, \n",
    "                                                                yGold: testY})))"
   ]
  },
  {
   "cell_type": "code",
   "execution_count": null,
   "metadata": {
    "collapsed": true
   },
   "outputs": [],
   "source": []
  }
 ],
 "metadata": {
  "kernelspec": {
   "display_name": "Python 3",
   "language": "python",
   "name": "python3"
  },
  "language_info": {
   "codemirror_mode": {
    "name": "ipython",
    "version": 3
   },
   "file_extension": ".py",
   "mimetype": "text/x-python",
   "name": "python",
   "nbconvert_exporter": "python",
   "pygments_lexer": "ipython3",
   "version": "3.6.3"
  }
 },
 "nbformat": 4,
 "nbformat_minor": 2
}
