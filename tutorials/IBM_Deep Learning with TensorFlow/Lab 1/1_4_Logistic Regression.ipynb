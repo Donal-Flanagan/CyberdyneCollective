{
 "cells": [
  {
   "cell_type": "code",
   "execution_count": 1,
   "metadata": {},
   "outputs": [
    {
     "name": "stderr",
     "output_type": "stream",
     "text": [
      "C:\\Users\\Ülari\\Anaconda3\\lib\\site-packages\\sklearn\\cross_validation.py:41: DeprecationWarning: This module was deprecated in version 0.18 in favor of the model_selection module into which all the refactored classes and functions are moved. Also note that the interface of the new CV iterators are different from that of this module. This module will be removed in 0.20.\n",
      "  \"This module will be removed in 0.20.\", DeprecationWarning)\n"
     ]
    }
   ],
   "source": [
    "import tensorflow as tf\n",
    "import pandas as pd\n",
    "import numpy as np\n",
    "import time\n",
    "from sklearn.datasets import load_iris\n",
    "from sklearn.cross_validation import train_test_split #-- depricated\n",
    "#from sklearn.model_selection import train_test_split\n",
    "import matplotlib.pyplot as plt"
   ]
  },
  {
   "cell_type": "code",
   "execution_count": 2,
   "metadata": {
    "collapsed": true
   },
   "outputs": [],
   "source": [
    "# Load data -- Iris database\n",
    "iris = load_iris()\n",
    "iris_X, iris_y = iris.data[:-1,:], iris.target[:-1]\n",
    "iris_y= pd.get_dummies(iris_y).values\n",
    "\n",
    "# training and test sets of [X, Y] -- in this case 2/3, 1/3 of set\n",
    "trainX, testX, trainY, testY = train_test_split(iris_X, iris_y, test_size=0.33, random_state=42)"
   ]
  },
  {
   "cell_type": "code",
   "execution_count": 3,
   "metadata": {
    "collapsed": true
   },
   "outputs": [],
   "source": [
    "# Placeholders\n",
    "# To construct alorithm first, with structure and all\n",
    "# To change training set sizes on the fly\n",
    "\n",
    "# numFeatures is the number of features in our input data.\n",
    "# In the iris dataset, this number is '4'.\n",
    "numFeatures = trainX.shape[1]\n",
    "\n",
    "# numLabels is the number of classes our data points can be in.\n",
    "# In the iris dataset, this number is '3'.\n",
    "numLabels = trainY.shape[1]\n",
    "\n",
    "\n",
    "# Placeholders\n",
    "# 'None' means TensorFlow shouldn't expect a fixed number in that dimension\n",
    "X = tf.placeholder(tf.float32, [None, numFeatures]) # Iris has 4 features, so X is a tensor to hold our data.\n",
    "yGold = tf.placeholder(tf.float32, [None, numLabels]) # This will be our correct answers matrix for 3 classes."
   ]
  },
  {
   "cell_type": "code",
   "execution_count": 4,
   "metadata": {
    "collapsed": true
   },
   "outputs": [],
   "source": [
    "# Initialize weights and bias\n",
    "# dim(W) = #Features x #Lables\n",
    "W = tf.Variable(tf.zeros([4, 3]))  # 4-dimensional input and  3 classes\n",
    "b = tf.Variable(tf.zeros([3])) # 3-dimensional output [0,0,1],[0,1,0],[1,0,0]"
   ]
  },
  {
   "cell_type": "code",
   "execution_count": 5,
   "metadata": {
    "collapsed": true
   },
   "outputs": [],
   "source": [
    "#Randomly sample from a normal distribution with standard deviation .01\n",
    "\n",
    "# wat is dis?!?\n",
    "\n",
    "weights = tf.Variable(tf.random_normal([numFeatures,numLabels],\n",
    "                                       mean=0,\n",
    "                                       stddev=0.01,\n",
    "                                       name=\"weights\"))\n",
    "\n",
    "bias = tf.Variable(tf.random_normal([1,numLabels],\n",
    "                                    mean=0,\n",
    "                                    stddev=0.01,\n",
    "                                    name=\"bias\"))"
   ]
  },
  {
   "cell_type": "code",
   "execution_count": 6,
   "metadata": {
    "collapsed": true
   },
   "outputs": [],
   "source": [
    "# -- LogReg model -- \n",
    "\n",
    "# Three-component breakdown of the Logistic Regression equation.\n",
    "# Note that these feed into each other.\n",
    "apply_weights_OP = tf.matmul(X, weights, name=\"apply_weights\")\n",
    "add_bias_OP = tf.add(apply_weights_OP, bias, name=\"add_bias\") \n",
    "activation_OP = tf.nn.sigmoid(add_bias_OP, name=\"activation\")"
   ]
  },
  {
   "cell_type": "code",
   "execution_count": 7,
   "metadata": {
    "collapsed": true
   },
   "outputs": [],
   "source": [
    "# Cost function - Squared Mean Error\n",
    "\n",
    "# Number of Epochs in our training\n",
    "numEpochs = 700\n",
    "\n",
    "# Defining our learning rate iterations (decay)\n",
    "learningRate = tf.train.exponential_decay(learning_rate=0.0008,\n",
    "                                          global_step= 1,\n",
    "                                          decay_steps=trainX.shape[0],\n",
    "                                          decay_rate= 0.95,\n",
    "                                          staircase=True)"
   ]
  },
  {
   "cell_type": "code",
   "execution_count": 8,
   "metadata": {
    "collapsed": true
   },
   "outputs": [],
   "source": [
    "#Defining our cost function - Squared Mean Error (MSE)\n",
    "# mean[(y_hat - y)^2]\n",
    "\n",
    "# yGold - Correct answers\n",
    "error = activation_OP - yGold\n",
    "cost_OP = tf.nn.l2_loss(error, name=\"squared_error_cost\")\n",
    "\n",
    "#Defining our Gradient Descent\n",
    "training_OP = tf.train.GradientDescentOptimizer(learningRate).minimize(cost_OP)"
   ]
  },
  {
   "cell_type": "code",
   "execution_count": 9,
   "metadata": {
    "collapsed": true
   },
   "outputs": [],
   "source": [
    "# Create a tensorflow session\n",
    "sess = tf.Session()\n",
    "\n",
    "# Initialize our weights and biases variables.\n",
    "init_OP = tf.global_variables_initializer()\n",
    "\n",
    "# Initialize all tensorflow variables\n",
    "sess.run(init_OP)"
   ]
  },
  {
   "cell_type": "code",
   "execution_count": 10,
   "metadata": {
    "collapsed": true
   },
   "outputs": [],
   "source": [
    "# Keep track of our model's efficiency over time\n",
    "\n",
    "# argmax(activation_OP, 1) returns the label with the most probability\n",
    "# argmax(yGold, 1) is the correct label\n",
    "correct_predictions_OP = tf.equal(tf.argmax(activation_OP,1),tf.argmax(yGold,1))\n",
    "\n",
    "# If every false prediction is 0 and every true prediction is 1, the average returns us the accuracy\n",
    "accuracy_OP = tf.reduce_mean(tf.cast(correct_predictions_OP, \"float\"))\n",
    "\n",
    "# Summary op for regression output\n",
    "activation_summary_OP = tf.summary.histogram(\"output\", activation_OP)\n",
    "\n",
    "# Summary op for accuracy\n",
    "accuracy_summary_OP = tf.summary.scalar(\"accuracy\", accuracy_OP)\n",
    "\n",
    "# Summary op for cost\n",
    "cost_summary_OP = tf.summary.scalar(\"cost\", cost_OP)\n",
    "\n",
    "# Summary ops to check how variables (W, b) are updating after each iteration\n",
    "weightSummary = tf.summary.histogram(\"weights\", weights.eval(session=sess))\n",
    "biasSummary = tf.summary.histogram(\"biases\", bias.eval(session=sess))\n",
    "\n",
    "# Merge all summaries\n",
    "merged = tf.summary.merge([activation_summary_OP, accuracy_summary_OP, cost_summary_OP, weightSummary, biasSummary])\n",
    "\n",
    "# Summary writer\n",
    "writer = tf.summary.FileWriter(\"summary_logs\", sess.graph)"
   ]
  },
  {
   "cell_type": "code",
   "execution_count": 11,
   "metadata": {
    "collapsed": true
   },
   "outputs": [],
   "source": [
    "# Initialize reporting variables\n",
    "cost = 0\n",
    "diff = 1\n",
    "epoch_values = []\n",
    "accuracy_values = []\n",
    "cost_values = []\n"
   ]
  },
  {
   "cell_type": "code",
   "execution_count": 12,
   "metadata": {},
   "outputs": [
    {
     "name": "stdout",
     "output_type": "stream",
     "text": [
      "step 0, training accuracy 0.353535, cost 34.3228, change in cost 34.3228\n",
      "step 10, training accuracy 0.59596, cost 30.0269, change in cost 4.29587\n",
      "step 20, training accuracy 0.646465, cost 28.1008, change in cost 1.9261\n",
      "step 30, training accuracy 0.646465, cost 26.4757, change in cost 1.62515\n",
      "step 40, training accuracy 0.646465, cost 25.1247, change in cost 1.35096\n",
      "step 50, training accuracy 0.646465, cost 24.0076, change in cost 1.11708\n",
      "step 60, training accuracy 0.646465, cost 23.082, change in cost 0.925613\n",
      "step 70, training accuracy 0.646465, cost 22.3101, change in cost 0.771935\n",
      "step 80, training accuracy 0.646465, cost 21.6606, change in cost 0.649443\n",
      "step 90, training accuracy 0.646465, cost 21.1089, change in cost 0.551756\n",
      "step 100, training accuracy 0.656566, cost 20.6354, change in cost 0.473478\n",
      "step 110, training accuracy 0.666667, cost 20.2251, change in cost 0.410299\n",
      "step 120, training accuracy 0.666667, cost 19.8662, change in cost 0.358898\n",
      "step 130, training accuracy 0.666667, cost 19.5495, change in cost 0.316713\n",
      "step 140, training accuracy 0.666667, cost 19.2677, change in cost 0.281782\n",
      "step 150, training accuracy 0.666667, cost 19.0151, change in cost 0.252617\n",
      "step 160, training accuracy 0.676768, cost 18.787, change in cost 0.228073\n",
      "step 170, training accuracy 0.686869, cost 18.5798, change in cost 0.207245\n",
      "step 180, training accuracy 0.69697, cost 18.3903, change in cost 0.189449\n",
      "step 190, training accuracy 0.707071, cost 18.2162, change in cost 0.174126\n",
      "step 200, training accuracy 0.717172, cost 18.0553, change in cost 0.160862\n",
      "step 210, training accuracy 0.737374, cost 17.906, change in cost 0.149292\n",
      "step 220, training accuracy 0.737374, cost 17.7669, change in cost 0.139154\n",
      "step 230, training accuracy 0.747475, cost 17.6367, change in cost 0.130211\n",
      "step 240, training accuracy 0.757576, cost 17.5144, change in cost 0.122286\n",
      "step 250, training accuracy 0.777778, cost 17.3992, change in cost 0.115229\n",
      "step 260, training accuracy 0.787879, cost 17.2902, change in cost 0.108915\n",
      "step 270, training accuracy 0.787879, cost 17.187, change in cost 0.103239\n",
      "step 280, training accuracy 0.787879, cost 17.0889, change in cost 0.0981197\n",
      "step 290, training accuracy 0.787879, cost 16.9954, change in cost 0.0934772\n",
      "step 300, training accuracy 0.79798, cost 16.9061, change in cost 0.0892582\n",
      "step 310, training accuracy 0.79798, cost 16.8207, change in cost 0.0854073\n",
      "step 320, training accuracy 0.79798, cost 16.7389, change in cost 0.0818787\n",
      "step 330, training accuracy 0.79798, cost 16.6602, change in cost 0.0786381\n",
      "step 340, training accuracy 0.79798, cost 16.5846, change in cost 0.0756531\n",
      "step 350, training accuracy 0.818182, cost 16.5117, change in cost 0.0728912\n",
      "step 360, training accuracy 0.828283, cost 16.4413, change in cost 0.0703335\n",
      "step 370, training accuracy 0.838384, cost 16.3734, change in cost 0.0679569\n",
      "step 380, training accuracy 0.838384, cost 16.3076, change in cost 0.0657444\n",
      "step 390, training accuracy 0.838384, cost 16.244, change in cost 0.0636749\n",
      "step 400, training accuracy 0.848485, cost 16.1822, change in cost 0.0617409\n",
      "step 410, training accuracy 0.848485, cost 16.1223, change in cost 0.0599251\n",
      "step 420, training accuracy 0.848485, cost 16.0641, change in cost 0.058218\n",
      "step 430, training accuracy 0.858586, cost 16.0075, change in cost 0.056612\n",
      "step 440, training accuracy 0.858586, cost 15.9524, change in cost 0.0550966\n",
      "step 450, training accuracy 0.868687, cost 15.8987, change in cost 0.0536633\n",
      "step 460, training accuracy 0.868687, cost 15.8464, change in cost 0.0523071\n",
      "step 470, training accuracy 0.878788, cost 15.7954, change in cost 0.0510187\n",
      "step 480, training accuracy 0.878788, cost 15.7456, change in cost 0.0497961\n",
      "step 490, training accuracy 0.878788, cost 15.697, change in cost 0.0486355\n",
      "step 500, training accuracy 0.878788, cost 15.6494, change in cost 0.0475273\n",
      "step 510, training accuracy 0.878788, cost 15.603, change in cost 0.0464668\n",
      "step 520, training accuracy 0.878788, cost 15.5575, change in cost 0.0454617\n",
      "step 530, training accuracy 0.888889, cost 15.513, change in cost 0.0444946\n",
      "step 540, training accuracy 0.888889, cost 15.4694, change in cost 0.0435705\n",
      "step 550, training accuracy 0.89899, cost 15.4268, change in cost 0.0426836\n",
      "step 560, training accuracy 0.89899, cost 15.3849, change in cost 0.0418329\n",
      "step 570, training accuracy 0.89899, cost 15.3439, change in cost 0.0410147\n",
      "step 580, training accuracy 0.89899, cost 15.3037, change in cost 0.0402317\n",
      "step 590, training accuracy 0.89899, cost 15.2642, change in cost 0.0394745\n",
      "step 600, training accuracy 0.909091, cost 15.2255, change in cost 0.0387459\n",
      "step 610, training accuracy 0.909091, cost 15.1874, change in cost 0.0380421\n",
      "step 620, training accuracy 0.909091, cost 15.15, change in cost 0.0373678\n",
      "step 630, training accuracy 0.909091, cost 15.1133, change in cost 0.0367088\n",
      "step 640, training accuracy 0.909091, cost 15.0773, change in cost 0.0360785\n",
      "step 650, training accuracy 0.909091, cost 15.0418, change in cost 0.0354671\n",
      "step 660, training accuracy 0.909091, cost 15.0069, change in cost 0.034873\n",
      "step 670, training accuracy 0.909091, cost 14.9726, change in cost 0.0343018\n",
      "step 680, training accuracy 0.909091, cost 14.9389, change in cost 0.0337458\n",
      "step 690, training accuracy 0.909091, cost 14.9057, change in cost 0.0332031\n",
      "final accuracy on test set: 0.9\n"
     ]
    }
   ],
   "source": [
    "\n",
    "# Training epochs\n",
    "for i in range(numEpochs):\n",
    "    if i > 1 and diff < .0001:\n",
    "        print(\"change in cost %g; convergence.\"%diff)\n",
    "        break\n",
    "    else:\n",
    "        # Run training step\n",
    "        step = sess.run(training_OP, feed_dict={X: trainX, yGold: trainY})\n",
    "        # Report occasional stats\n",
    "        if i % 10 == 0:\n",
    "            # Add epoch to epoch_values\n",
    "            epoch_values.append(i)\n",
    "            # Generate accuracy stats on test data\n",
    "            train_accuracy, newCost = sess.run([accuracy_OP, cost_OP], feed_dict={X: trainX, yGold: trainY})\n",
    "            # Add accuracy to live graphing variable\n",
    "            accuracy_values.append(train_accuracy)\n",
    "            # Add cost to live graphing variable\n",
    "            cost_values.append(newCost)\n",
    "            # Re-assign values for variables\n",
    "            diff = abs(newCost - cost)\n",
    "            cost = newCost\n",
    "\n",
    "            #generate print statements\n",
    "            print(\"step %d, training accuracy %g, cost %g, change in cost %g\"%(i, train_accuracy, newCost, diff))\n",
    "\n",
    "\n",
    "# How well do we perform on held-out test data?\n",
    "print(\"final accuracy on test set: %s\" %str(sess.run(accuracy_OP, \n",
    "                                                     feed_dict={X: testX, \n",
    "                                                                yGold: testY})))"
   ]
  },
  {
   "cell_type": "code",
   "execution_count": null,
   "metadata": {
    "collapsed": true
   },
   "outputs": [],
   "source": []
  }
 ],
 "metadata": {
  "kernelspec": {
   "display_name": "Python 3",
   "language": "python",
   "name": "python3"
  },
  "language_info": {
   "codemirror_mode": {
    "name": "ipython",
    "version": 3
   },
   "file_extension": ".py",
   "mimetype": "text/x-python",
   "name": "python",
   "nbconvert_exporter": "python",
   "pygments_lexer": "ipython3",
   "version": "3.6.3"
  }
 },
 "nbformat": 4,
 "nbformat_minor": 2
}
