{
 "cells": [
  {
   "cell_type": "code",
   "execution_count": null,
   "metadata": {},
   "outputs": [],
   "source": [
    "import requests\n",
    "from multiprocessing import Process, Manager\n",
    "from fuzzywuzzy import fuzz\n",
    "from textblob import TextBlob\n",
    "import re"
   ]
  },
  {
   "cell_type": "code",
   "execution_count": null,
   "metadata": {},
   "outputs": [],
   "source": [
    "def get_story(story_id, stories):\n",
    "    url = 'https://hacker-news.firebaseio.com/v0/item/%d.json' % story_id\n",
    "    resp = requests.get(url)\n",
    "    stories.append(resp.json())\n",
    "    return stories"
   ]
  },
  {
   "cell_type": "code",
   "execution_count": null,
   "metadata": {},
   "outputs": [],
   "source": [
    "def get_top_stories():\n",
    "    manager = Manager()\n",
    "    stories = manager.list()\n",
    "    url = 'https://hacker-news.firebaseio.com/v0/topstories.json'\n",
    "    ids = requests.get(url)\n",
    "    processes = [Process(target=get_story, args=(sid, stories))\n",
    "                 for sid in ids.json()[:40]]\n",
    "    for p in processes:\n",
    "        p.start()\n",
    "    for p in processes:\n",
    "        p.join()\n",
    "    return stories"
   ]
  },
  {
   "cell_type": "code",
   "execution_count": null,
   "metadata": {},
   "outputs": [],
   "source": [
    "def get_all_comments(sid):\n",
    "    manager = Manager()\n",
    "    comments = manager.list()\n",
    "    story = get_story(sid, [])\n",
    "    if not story[0].get('kids'):\n",
    "        return []\n",
    "    processes = [Process(target=get_story, args=(cid, comments))\n",
    "                 for cid in story[0].get('kids')]\n",
    "    for p in processes:\n",
    "        p.start()\n",
    "    for p in processes:\n",
    "        p.join()\n",
    "    return [c for c in comments if not c.get('deleted')]"
   ]
  },
  {
   "cell_type": "code",
   "execution_count": null,
   "metadata": {},
   "outputs": [],
   "source": [
    "def remove_html(text):\n",
    "    try:\n",
    "        return re.sub('<[^<]+?>', '', text)\n",
    "    except:\n",
    "        print text\n",
    "    return text"
   ]
  },
  {
   "cell_type": "code",
   "execution_count": null,
   "metadata": {},
   "outputs": [],
   "source": [
    "def is_match(first, second):\n",
    "    ratio = fuzz.token_sort_ratio(first, second)\n",
    "    if ratio > 50:\n",
    "        return True\n",
    "    return False"
   ]
  },
  {
   "cell_type": "code",
   "execution_count": null,
   "metadata": {},
   "outputs": [],
   "source": [
    "def find_matching_comments():\n",
    "    stories = get_top_stories()\n",
    "    comments = []\n",
    "    while len(comments) < 1:\n",
    "        for s in stories:\n",
    "            comments.extend(get_all_comments(s.get('id')))\n",
    "    matches = []\n",
    "    comment_text = ['%s - %s' % (c.get('by'),\n",
    "                                 remove_html(c.get('text'))) for c in comments]\n",
    "    for c in comments:\n",
    "        ctext = remove_html(c.get('text'))\n",
    "        comment_text.remove('%s - %s' % (c.get('by'), ctext))\n",
    "        for txt in comment_text:\n",
    "            if is_match(ctext, txt):\n",
    "                matches.append((c, txt))\n",
    "    return matches"
   ]
  },
  {
   "cell_type": "code",
   "execution_count": null,
   "metadata": {},
   "outputs": [],
   "source": [
    "def comment_sentiment():\n",
    "    stories = get_top_stories()\n",
    "    comments = get_all_comments(stories[0].get('id'))\n",
    "    for comm in comments:\n",
    "        comm['sentiment'] = TextBlob(comm.get(\n",
    "            'text')).sentiment.polarity\n",
    "    comments.sort(key=lambda x: x.get('sentiment'))\n",
    "    return comments"
   ]
  },
  {
   "cell_type": "code",
   "execution_count": null,
   "metadata": {},
   "outputs": [],
   "source": [
    "comment_sentiment()"
   ]
  },
  {
   "cell_type": "code",
   "execution_count": null,
   "metadata": {},
   "outputs": [],
   "source": [
    "find_matching_comments()"
   ]
  },
  {
   "cell_type": "code",
   "execution_count": null,
   "metadata": {},
   "outputs": [],
   "source": []
  }
 ],
 "metadata": {
  "kernelspec": {
   "display_name": "Python 2",
   "language": "python",
   "name": "python2"
  },
  "language_info": {
   "codemirror_mode": {
    "name": "ipython",
    "version": 2
   },
   "file_extension": ".py",
   "mimetype": "text/x-python",
   "name": "python",
   "nbconvert_exporter": "python",
   "pygments_lexer": "ipython2",
   "version": "2.7.6"
  }
 },
 "nbformat": 4,
 "nbformat_minor": 0
}
