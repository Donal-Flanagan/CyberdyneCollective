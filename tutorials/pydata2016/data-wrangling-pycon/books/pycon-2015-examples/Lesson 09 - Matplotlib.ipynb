{
 "cells": [
  {
   "cell_type": "code",
   "execution_count": null,
   "metadata": {},
   "outputs": [],
   "source": [
    "%matplotlib inline"
   ]
  },
  {
   "cell_type": "code",
   "execution_count": null,
   "metadata": {},
   "outputs": [],
   "source": [
    "from csv import DictReader\n",
    "from decimal import Decimal\n",
    "import calculate\n",
    "import pylab"
   ]
  },
  {
   "cell_type": "code",
   "execution_count": null,
   "metadata": {},
   "outputs": [],
   "source": [
    "def load_imf_unemployment():\n",
    "    rdr = DictReader(open('../../data/imf_indicators.tsv', 'rb'), delimiter='\\t')\n",
    "    return [r for r in rdr if r.get('Subject Descriptor') and\n",
    "            'Unemployment' in r.get('Subject Descriptor')]"
   ]
  },
  {
   "cell_type": "code",
   "execution_count": null,
   "metadata": {},
   "outputs": [],
   "source": [
    "def get_avg_unemployment(data, start_year=2013, end_year=2015):\n",
    "    avgs = {}\n",
    "    while start_year <= end_year:\n",
    "        avg = calculate.mean([\n",
    "            Decimal(rate.get(str(start_year))) for\n",
    "            rate in data if rate.get(str(start_year))])\n",
    "        avgs[str(start_year)] = avg\n",
    "        start_year += 1\n",
    "    return avgs"
   ]
  },
  {
   "cell_type": "code",
   "execution_count": null,
   "metadata": {},
   "outputs": [],
   "source": [
    "def chart_unemployment():\n",
    "    imf_data = load_imf_unemployment()\n",
    "    averages = get_avg_unemployment(imf_data)\n",
    "    pylab.plot(averages.keys(), averages.values())\n",
    "    pylab.ylabel('Average Unemployment')\n",
    "    pylab.xlabel('Years')\n",
    "    pylab.title('Average Unemployment Over Time')\n",
    "    pylab.ylim([0, sorted(averages.values(), reverse=True)[0] + 1])\n",
    "    pylab.show()"
   ]
  },
  {
   "cell_type": "code",
   "execution_count": null,
   "metadata": {},
   "outputs": [],
   "source": [
    "chart_unemployment()"
   ]
  },
  {
   "cell_type": "code",
   "execution_count": null,
   "metadata": {},
   "outputs": [],
   "source": []
  }
 ],
 "metadata": {
  "kernelspec": {
   "display_name": "Python 2",
   "language": "python",
   "name": "python2"
  },
  "language_info": {
   "codemirror_mode": {
    "name": "ipython",
    "version": 2
   },
   "file_extension": ".py",
   "mimetype": "text/x-python",
   "name": "python",
   "nbconvert_exporter": "python",
   "pygments_lexer": "ipython2",
   "version": "2.7.6"
  }
 },
 "nbformat": 4,
 "nbformat_minor": 0
}
