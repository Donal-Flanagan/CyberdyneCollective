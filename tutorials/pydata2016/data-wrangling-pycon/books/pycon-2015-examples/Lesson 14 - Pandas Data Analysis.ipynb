{
 "cells": [
  {
   "cell_type": "code",
   "execution_count": null,
   "metadata": {},
   "outputs": [],
   "source": [
    "import pandas as pd"
   ]
  },
  {
   "cell_type": "code",
   "execution_count": null,
   "metadata": {},
   "outputs": [],
   "source": [
    "def get_wb_unemployment_data():\n",
    "    return pd.read_excel('../../data/wb/unemployment.xlsx',\n",
    "                         index_col=0, header=0, skiprows=[1])\n",
    "get_wb_unemployment_data()"
   ]
  },
  {
   "cell_type": "code",
   "execution_count": null,
   "metadata": {},
   "outputs": [],
   "source": [
    "def get_wb_market_data():\n",
    "    return pd.read_excel('../../data/wb/stock_market.xlsx',\n",
    "                         index_col=0, header=0, skiprows=[1])\n",
    "get_wb_market_data()"
   ]
  },
  {
   "cell_type": "code",
   "execution_count": null,
   "metadata": {},
   "outputs": [],
   "source": [
    "def get_metadata():\n",
    "    return pd.read_excel('../../data/wb/stock_metadata.xlsx',\n",
    "                         sheetname=1, index_col=0, header=0)\n",
    "get_metadata()"
   ]
  },
  {
   "cell_type": "code",
   "execution_count": null,
   "metadata": {},
   "outputs": [],
   "source": [
    "def get_gdp():\n",
    "    return pd.read_excel('../../data/wb/GDP_Current_Dollars.xlsx',\n",
    "                         index_col=3, header=0)\n",
    "get_gdp()"
   ]
  },
  {
   "cell_type": "code",
   "execution_count": null,
   "metadata": {},
   "outputs": [],
   "source": [
    "def clean_market_columns():\n",
    "    market_data = get_wb_market_data()\n",
    "    market_data.columns = market_data.columns.map(lambda x: x[:3])\n",
    "    market_data.index = market_data.index.map(lambda x: '{} SM'.format(x))\n",
    "    return market_data.transpose()\n",
    "clean_market_columns()"
   ]
  },
  {
   "cell_type": "code",
   "execution_count": null,
   "metadata": {},
   "outputs": [],
   "source": [
    "def update_gdp_cols(colname):\n",
    "    if colname[:4].isdigit():\n",
    "        return '{} GDP'.format(colname[:4])\n",
    "    return colname"
   ]
  },
  {
   "cell_type": "code",
   "execution_count": null,
   "metadata": {},
   "outputs": [],
   "source": [
    "def join_market_and_gdp():\n",
    "    market_data = clean_market_columns()\n",
    "    gdp_data = get_gdp()\n",
    "    gdp_data.columns = gdp_data.columns.map(update_gdp_cols)\n",
    "    return market_data.join(gdp_data)\n",
    "join_market_and_gdp()"
   ]
  },
  {
   "cell_type": "code",
   "execution_count": null,
   "metadata": {},
   "outputs": [],
   "source": [
    "def just_spain():\n",
    "    joined = join_market_and_gdp()\n",
    "    spain = joined.loc['ESP'].copy()\n",
    "    spain_gdp = spain[spain.index.map(lambda x: 'GDP' in x)]\n",
    "    spain_stock = spain[spain.index.map(lambda x: 'SM' in x)]\n",
    "    spain_gdp.index = spain_gdp.index.map(lambda x: x.rstrip(' GDP'))\n",
    "    spain_stock.index = spain_stock.index.map(lambda x: x.rstrip(' SM'))\n",
    "    spain_stock.name = 'Stocks'\n",
    "    spain_gdp.name = 'GDP'\n",
    "    return spain_stock, spain_gdp"
   ]
  },
  {
   "cell_type": "code",
   "execution_count": null,
   "metadata": {},
   "outputs": [],
   "source": [
    "def merge_back():\n",
    "    spain_stock, spain_gdp = just_spain()\n",
    "    return pd.concat([spain_stock, spain_gdp], axis=1)"
   ]
  },
  {
   "cell_type": "code",
   "execution_count": null,
   "metadata": {},
   "outputs": [],
   "source": [
    "spain = merge_back()"
   ]
  },
  {
   "cell_type": "code",
   "execution_count": null,
   "metadata": {},
   "outputs": [],
   "source": [
    "spain.info()"
   ]
  },
  {
   "cell_type": "code",
   "execution_count": null,
   "metadata": {},
   "outputs": [],
   "source": [
    "spain.corr()"
   ]
  },
  {
   "cell_type": "code",
   "execution_count": null,
   "metadata": {},
   "outputs": [],
   "source": [
    "spain = spain.convert_objects(convert_dates=True, convert_numeric=True)"
   ]
  },
  {
   "cell_type": "code",
   "execution_count": null,
   "metadata": {},
   "outputs": [],
   "source": [
    "spain.corr()"
   ]
  },
  {
   "cell_type": "code",
   "execution_count": null,
   "metadata": {},
   "outputs": [],
   "source": [
    "spain.cov()"
   ]
  },
  {
   "cell_type": "code",
   "execution_count": null,
   "metadata": {},
   "outputs": [],
   "source": [
    "spain.to_csv('../../data/spain_export.csv')"
   ]
  },
  {
   "cell_type": "code",
   "execution_count": null,
   "metadata": {},
   "outputs": [],
   "source": []
  }
 ],
 "metadata": {
  "kernelspec": {
   "display_name": "Python 3",
   "language": "python",
   "name": "python3"
  },
  "language_info": {
   "codemirror_mode": {
    "name": "ipython",
    "version": 3
   },
   "file_extension": ".py",
   "mimetype": "text/x-python",
   "name": "python",
   "nbconvert_exporter": "python",
   "pygments_lexer": "ipython3",
   "version": "3.4.5"
  }
 },
 "nbformat": 4,
 "nbformat_minor": 0
}
