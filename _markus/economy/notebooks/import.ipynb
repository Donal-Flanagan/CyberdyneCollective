{
 "cells": [
  {
   "cell_type": "code",
   "execution_count": null,
   "metadata": {
    "deletable": true,
    "editable": true
   },
   "outputs": [],
   "source": [
    "#adjust screenwidth:\n",
    "# from IPython.core.display import HTML\n",
    "from IPython.display import display, HTML\n",
    "\n",
    "HTML(\"<style>.container { width:98% !important; }</style>\")"
   ]
  },
  {
   "cell_type": "code",
   "execution_count": null,
   "metadata": {
    "deletable": true,
    "editable": true
   },
   "outputs": [],
   "source": [
    "%load_ext autoreload\n",
    "# set project dir as base dir. always works!\n",
    "project = 'economy'\n",
    "\n",
    "import os.path\n",
    "import sys\n",
    "current_dir = os.path.abspath('./')\n",
    "project_dir = current_dir[:current_dir.rfind(project)+len(project)]\n",
    "sys.path.insert(0, project_dir)\n",
    "\n",
    "import src as epd"
   ]
  },
  {
   "cell_type": "code",
   "execution_count": null,
   "metadata": {
    "deletable": true,
    "editable": true
   },
   "outputs": [],
   "source": [
    "from scipy import stats\n",
    "import pandas as pd\n",
    "import pandas_datareader as pdr\n",
    "import pandasdmx as ps\n",
    "import widukind_sdmx as wd\n",
    "\n",
    "import matplotlib.pyplot as plt"
   ]
  },
  {
   "cell_type": "markdown",
   "metadata": {
    "deletable": true,
    "editable": true
   },
   "source": [
    "# pandas datareader"
   ]
  },
  {
   "cell_type": "code",
   "execution_count": null,
   "metadata": {
    "deletable": true,
    "editable": true
   },
   "outputs": [],
   "source": [
    "import geopandas as gpd"
   ]
  },
  {
   "cell_type": "code",
   "execution_count": null,
   "metadata": {
    "deletable": true,
    "editable": true
   },
   "outputs": [],
   "source": [
    "# world bank reader\n",
    "from pandas_datareader import wb\n",
    "\n",
    "countries = wb.get_countries()\n",
    "indicators = wb.get_indicators()"
   ]
  },
  {
   "cell_type": "code",
   "execution_count": null,
   "metadata": {
    "deletable": true,
    "editable": true
   },
   "outputs": [],
   "source": [
    "countries"
   ]
  },
  {
   "cell_type": "code",
   "execution_count": null,
   "metadata": {
    "deletable": true,
    "editable": true
   },
   "outputs": [],
   "source": [
    "indicators[indicators.source=='World Development Indicators']"
   ]
  },
  {
   "cell_type": "code",
   "execution_count": null,
   "metadata": {
    "deletable": true,
    "editable": true
   },
   "outputs": [],
   "source": [
    "indicators['source'].value_counts()"
   ]
  },
  {
   "cell_type": "markdown",
   "metadata": {
    "deletable": true,
    "editable": true
   },
   "source": [
    "### define functions"
   ]
  },
  {
   "cell_type": "code",
   "execution_count": null,
   "metadata": {
    "deletable": true,
    "editable": true
   },
   "outputs": [],
   "source": [
    "def make_bins(series, num_bins=2, bins=None, labels=None):\n",
    "    minval = series.min()\n",
    "    maxval = series.max()+1 # just to be sure it's also included\n",
    "    if bins != None:\n",
    "        bins = np.array(bins)\n",
    "        bins = np.sort(np.append(bins[(bins>=minval) & (bins<=maxval)],[minval,maxval]))\n",
    "    else:\n",
    "        bins = np.linspace(minval,maxval,num_bins+1)\n",
    "    binned = pd.cut(series,bins,include_lowest=True, labels=labels)\n",
    "    return binned\n"
   ]
  },
  {
   "cell_type": "code",
   "execution_count": null,
   "metadata": {
    "deletable": true,
    "editable": true
   },
   "outputs": [],
   "source": [
    "epd.EconDataFrame(edf)"
   ]
  },
  {
   "cell_type": "code",
   "execution_count": null,
   "metadata": {
    "deletable": true,
    "editable": true
   },
   "outputs": [],
   "source": [
    "cols = ['gdp per capita, ppp (current', 'air pollution, mean annual']\n",
    "\n",
    "ind = search_import(cols, exact=True, verbose=False)\n",
    "edf = import_edf(ind, ['united states', 'china'], [1900,2020])"
   ]
  },
  {
   "cell_type": "code",
   "execution_count": null,
   "metadata": {
    "deletable": true,
    "editable": true
   },
   "outputs": [],
   "source": [
    "def inspect_df(df, bins=None):\n",
    "    if not bins:\n",
    "        bins = list(df.mean())\n",
    "    print('count:\\n{}'.format(df.count()))\n",
    "    df.plot('x','y','scatter')\n",
    "    df.hist()\n",
    "    plt.show()\n",
    "    print(df.head())\n",
    "    \n",
    "    df['x_bins'] = make_bins(df.x, bins=bins[0])\n",
    "    df['y_bins'] = make_bins(df.y, bins=bins[1])\n",
    "    \n",
    "    \n",
    "    cross = pd.crosstab(df.x_bins.iloc[:],df.y_bins.iloc[:])\n",
    "    print(cross)\n",
    "    \n",
    "    return df.describe()\n",
    "#     for n in range(20,len(gdp_agr),5):\n",
    "\n",
    "#         cross = pd.crosstab(df.x_bins.iloc[:n],df.y_bins.iloc[:n])\n",
    "\n",
    "#         k = min(cross.shape)\n",
    "\n",
    "#         chi2, p_val_chi2, dof, expected = stats.chi2_contingency(cross)\n",
    "#         C_korr = np.sqrt( k/(k-1.) * chi2/(n+chi2) ) \n",
    "\n",
    "#         odds_ratio, p_val_fisher = stats.fisher_exact(cross)\n",
    "\n",
    "#         df = df.append(dict(zip(list(df.columns),[n,C_korr,odds_ratio,p_val_chi2,p_val_fisher])), ignore_index=True)\n",
    "\n",
    "#     df.iloc[:,[0,3,4]].plot(x='n')\n",
    "#     plt.show()\n",
    "#     df.iloc[:,[0,1,2]].plot(x='n')"
   ]
  },
  {
   "cell_type": "code",
   "execution_count": null,
   "metadata": {
    "deletable": true,
    "editable": true
   },
   "outputs": [],
   "source": [
    "bins = [10000,20]\n",
    "inspect_df(df, bins=bins)"
   ]
  },
  {
   "cell_type": "code",
   "execution_count": null,
   "metadata": {
    "deletable": true,
    "editable": true
   },
   "outputs": [],
   "source": [
    "year=2000\n",
    "\n",
    "# search DB\n",
    "wb.search('gdp.*cap')\n",
    "# print(wb.search('pol'))\n",
    "\n",
    "x_str = 'NY.GDP.PCAP.PP.KD'\n",
    "\n",
    "x = wb.download(country='all',indicator=x_str, start=year, end=year)\n",
    "\n",
    "wb.search('agr')\n",
    "\n",
    "y_str = 'TX.VAL.TECH.MF.ZS'\n",
    "y_str = 'EN.ATM.PM25.MC.M3'\n",
    "\n",
    "y = wb.download(country='all',indicator=y_str, start=year, end=year)\n",
    "\n",
    "df = x.join(y).dropna().rename(columns={x_str:'x', y_str:'y'})\n",
    "print(df.count())\n",
    "print(df.head())\n",
    "df.hist()\n",
    "plt.show()"
   ]
  },
  {
   "cell_type": "code",
   "execution_count": null,
   "metadata": {
    "deletable": true,
    "editable": true
   },
   "outputs": [],
   "source": [
    "df.plot('x','y','scatter')\n",
    "plt.show()"
   ]
  },
  {
   "cell_type": "code",
   "execution_count": null,
   "metadata": {
    "deletable": true,
    "editable": true
   },
   "outputs": [],
   "source": [
    "gdp_agr['gdp_bins'] = make_bins(gdp_agr.gdp, bins=[10000])\n",
    "gdp_agr['agr_bins'] = make_bins(gdp_agr.agr,bins=[20])\n",
    "\n",
    "df = pd.DataFrame(columns=['n','C_korr','odds_ratio','p_val_chi2','p_val_fisher'])\n",
    "\n",
    "for n in range(20,len(gdp_agr),5):\n",
    "\n",
    "    cross = pd.crosstab(gdp_agr.gdp_bins.iloc[:n],gdp_agr.agr_bins.iloc[:n])\n",
    "\n",
    "    k = min(cross.shape)\n",
    "\n",
    "    chi2, p_val_chi2, dof, expected = stats.chi2_contingency(cross)\n",
    "    C_korr = np.sqrt( k/(k-1.) * chi2/(n+chi2) ) \n",
    "\n",
    "    odds_ratio, p_val_fisher = stats.fisher_exact(cross)\n",
    "\n",
    "    df = df.append(dict(zip(list(df.columns),[n,C_korr,odds_ratio,p_val_chi2,p_val_fisher])), ignore_index=True)\n",
    "\n",
    "df.iloc[:,[0,3,4]].plot(x='n')\n",
    "plt.show()\n",
    "df.iloc[:,[0,1,2]].plot(x='n')\n",
    "plt.show()\n",
    "df"
   ]
  },
  {
   "cell_type": "code",
   "execution_count": null,
   "metadata": {
    "deletable": true,
    "editable": true
   },
   "outputs": [],
   "source": [
    "n=20\n",
    "pd.crosstab(gdp_agr.gdp_bins.iloc[:n],gdp_agr.agr_bins.iloc[:n])"
   ]
  },
  {
   "cell_type": "code",
   "execution_count": null,
   "metadata": {
    "deletable": true,
    "editable": true
   },
   "outputs": [],
   "source": [
    "stats.chisquare(gdp_agr.gdp_bins,gdp_agr.agr_bins)"
   ]
  },
  {
   "cell_type": "code",
   "execution_count": null,
   "metadata": {
    "deletable": true,
    "editable": true
   },
   "outputs": [],
   "source": [
    "chi2, p_val, dof, expected = stats.chi2_contingency(cross)\n",
    "print(chi2,p_val)\n",
    "stats.fisher_exact(cross)"
   ]
  },
  {
   "cell_type": "markdown",
   "metadata": {
    "deletable": true,
    "editable": true
   },
   "source": [
    "# widukind"
   ]
  },
  {
   "cell_type": "code",
   "execution_count": null,
   "metadata": {
    "deletable": true,
    "editable": true
   },
   "outputs": [],
   "source": [
    "# Widukind Agencies: ECB, INSEE, EUROSTAT, BIS, IMF, OECD, ESRI, FED\n",
    "sdmx = wd.Request(agency='ECB')"
   ]
  },
  {
   "cell_type": "code",
   "execution_count": null,
   "metadata": {
    "deletable": true,
    "editable": true
   },
   "outputs": [],
   "source": [
    "wd.Request?"
   ]
  },
  {
   "cell_type": "code",
   "execution_count": null,
   "metadata": {
    "deletable": true,
    "editable": true
   },
   "outputs": [],
   "source": [
    "sdmx.data()"
   ]
  },
  {
   "cell_type": "code",
   "execution_count": null,
   "metadata": {
    "deletable": true,
    "editable": true
   },
   "outputs": [],
   "source": [
    "data_response = sdmx.get(resource_type='data', resource_id=\"IPCH-2015-FR-COICOP\", key={'FREQ': 'A', 'PRODUIT': '00', 'NATURE': 'INDICE'})"
   ]
  },
  {
   "cell_type": "code",
   "execution_count": null,
   "metadata": {
    "deletable": true,
    "editable": true
   },
   "outputs": [],
   "source": [
    "df = data_response.write()"
   ]
  }
 ],
 "metadata": {
  "kernelspec": {
   "display_name": "Python 3",
   "language": "python",
   "name": "python3"
  },
  "language_info": {
   "codemirror_mode": {
    "name": "ipython",
    "version": 3
   },
   "file_extension": ".py",
   "mimetype": "text/x-python",
   "name": "python",
   "nbconvert_exporter": "python",
   "pygments_lexer": "ipython3",
   "version": "3.5.2"
  }
 },
 "nbformat": 4,
 "nbformat_minor": 2
}
