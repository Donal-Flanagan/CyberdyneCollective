{
 "cells": [
  {
   "cell_type": "code",
   "execution_count": null,
   "metadata": {},
   "outputs": [],
   "source": [
    "import pandas as pd\n",
    "import matplotlib.pyplot as plt\n",
    "\n",
    "import seaborn as sns\n",
    "%matplotlib inline"
   ]
  },
  {
   "cell_type": "code",
   "execution_count": null,
   "metadata": {},
   "outputs": [],
   "source": [
    "project = 'kaggle_titanic'\n",
    "\n",
    "import os.path\n",
    "import sys\n",
    "current_dir = os.path.abspath('./')\n",
    "project_dir = current_dir[:current_dir.rfind(project)+len(project)+1]\n",
    "sys.path.insert(0, project_dir)"
   ]
  },
  {
   "cell_type": "code",
   "execution_count": null,
   "metadata": {},
   "outputs": [],
   "source": [
    "train_path = project_dir + 'data/raw/train.csv'\n",
    "test_path = project_dir + 'data/raw/test.csv'"
   ]
  },
  {
   "cell_type": "code",
   "execution_count": null,
   "metadata": {},
   "outputs": [],
   "source": [
    "train_df = pd.DataFrame.from_csv(train_path)\n",
    "test_df = pd.DataFrame.from_csv(test_path)"
   ]
  },
  {
   "cell_type": "markdown",
   "metadata": {},
   "source": [
    "# statistical analysis"
   ]
  },
  {
   "cell_type": "code",
   "execution_count": null,
   "metadata": {},
   "outputs": [],
   "source": [
    "df = train_df\n",
    "category_columns = ['Survived', 'Pclass', 'Sex', 'SibSp', 'Parch', 'Embarked']\n",
    "for col in category_columns:\n",
    "    df[col] = df[col].astype('category')"
   ]
  },
  {
   "cell_type": "markdown",
   "metadata": {},
   "source": [
    "ratio of data/features: >5"
   ]
  },
  {
   "cell_type": "code",
   "execution_count": null,
   "metadata": {},
   "outputs": [],
   "source": [
    "len(df)/len(df.columns)"
   ]
  },
  {
   "cell_type": "markdown",
   "metadata": {},
   "source": [
    "## missing data\n",
    "http://www.stat.ncsu.edu/research/biostat/impute.ps,\n",
    "http://www.bu.edu/sph/files/2014/05/Marina-tech-report.pdf, http://www.statsmodels.org/dev/imputation.html\n",
    "\n",
    "check for\n",
    "- MCAR (missing completely at random)\n",
    "- MAR\n",
    "- NMAR\n",
    "\n",
    "methods:\n",
    "- marginal mean imputation\n",
    "- conditional mean imputation\n",
    "- Multiple imputation\n",
    "- Maximum likelihood\n",
    "- Bayesian simulation\n",
    "- Hot deck\n",
    "- if low variance data with few missing values (ex. categorical): mode (but introduces bias)"
   ]
  },
  {
   "cell_type": "markdown",
   "metadata": {},
   "source": [
    "## univariate analysis\n",
    "\n",
    "only one variable\n",
    "\n",
    "check for:\n",
    "- mean, median, mode\n",
    "- standard deviation\n",
    "- kurtosis (asymmetry)\n",
    "- modality (no. peaks)\n",
    "\n",
    "\n",
    "### univariate visualization\n",
    "\n",
    "categorical:\n",
    "- bar chart, frequency distribution\n",
    "    - http://mlwiki.org/index.php/Bar_Chart#Bivariate_Analysis\n",
    "    - stacked\n",
    "    - proportional stacked\n",
    "    - side-by-side\n",
    "\n",
    "continuous:\n",
    "- histogram, kernel density estimation\n",
    "    - http://mlwiki.org/index.php/Histogram#Bivariate_Analysis\n",
    "    - plot kde's for different categories different at same time"
   ]
  },
  {
   "cell_type": "code",
   "execution_count": null,
   "metadata": {},
   "outputs": [],
   "source": [
    "# categorical:\n",
    "column = 'Embarked'\n",
    "print('mode: ', list(df[column].mode()))\n",
    "\n",
    "print(df[column].value_counts(normalize=True, dropna=False))\n",
    "\n",
    "sns.countplot(df[column])\n",
    "plt.suptitle('bar chart')"
   ]
  },
  {
   "cell_type": "code",
   "execution_count": null,
   "metadata": {},
   "outputs": [],
   "source": [
    "# continuous:\n",
    "column = 'Age'\n",
    "print(df[column].describe())\n",
    "print('median:', df[column].median())\n",
    "print('mode(s):', list(df[column].mode()))\n",
    "print('kurtosis:',df[column].kurtosis())\n",
    "\n",
    "sns.distplot(df[column].dropna())\n",
    "plt.suptitle('Histogram with Kernel Density Estimation')"
   ]
  },
  {
   "cell_type": "markdown",
   "metadata": {},
   "source": [
    "## multivariate analysis\n",
    "\n",
    "### multivariate visualization\n",
    "\n",
    "- infer correlations between two or more variables\n",
    "- dependent variable y\n",
    "\n",
    "continuous vs. continuous:\n",
    "- scatterplot (+ boxplot/violin plot on axes)\n",
    "\n",
    "continuous vs. categorical:\n",
    "- bivariate bar graph\n",
    "- boxplot\n",
    "    - http://mlwiki.org/index.php/Box_Plot#Bivariate_Analysis\n",
    "    - is distribution compact? symmetric?\n",
    "    - any outliers?\n",
    "    - can also accompany axes of scatterplot\n",
    "- violin plot\n",
    "\n",
    "categorical vs. categorical:\n",
    "- contingency tables"
   ]
  },
  {
   "cell_type": "code",
   "execution_count": null,
   "metadata": {},
   "outputs": [],
   "source": [
    "# cont vs. cont:\n",
    "sns.regplot(x='Age', y='Fare', data=df)\n",
    "# no real correlation between age and fare"
   ]
  },
  {
   "cell_type": "code",
   "execution_count": null,
   "metadata": {},
   "outputs": [],
   "source": [
    "sns.jointplot('Age', 'Fare', df, kind='reg')"
   ]
  },
  {
   "cell_type": "code",
   "execution_count": null,
   "metadata": {},
   "outputs": [],
   "source": [
    "sns.pairplot(df.dropna(), vars=['Age', 'Fare'], hue='Survived', kind='reg', diag_kind='hist')"
   ]
  },
  {
   "cell_type": "code",
   "execution_count": null,
   "metadata": {},
   "outputs": [],
   "source": [
    "# cat vs. cont:\n",
    "# data type categorical has to be set correctly\n",
    "# add additional columns by hue\n",
    "sns.factorplot(x='Fare', y='Survived', data=df, kind='bar')"
   ]
  },
  {
   "cell_type": "code",
   "execution_count": null,
   "metadata": {},
   "outputs": [],
   "source": [
    "#boxplot\n",
    "sns.factorplot(x='Fare', y='Survived', data=df, kind='box')"
   ]
  },
  {
   "cell_type": "code",
   "execution_count": null,
   "metadata": {},
   "outputs": [],
   "source": [
    "# add additional information in violin plot by split and hue\n",
    "sns.factorplot(x='Fare', y='Survived', data=df, kind='violin')"
   ]
  },
  {
   "cell_type": "code",
   "execution_count": null,
   "metadata": {},
   "outputs": [],
   "source": [
    "# very complex example:\n",
    "sns.factorplot(x='Survived', y='Age', hue='Sex', col='Pclass', data=df, kind='violin', split=True)"
   ]
  },
  {
   "cell_type": "code",
   "execution_count": null,
   "metadata": {},
   "outputs": [],
   "source": [
    "# cat vs. cat:\n",
    "sns.heatmap(pd.crosstab(df['Survived'], df['Pclass'], margins=True), square=True, annot=True, fmt='d', linewidth=5)"
   ]
  },
  {
   "cell_type": "markdown",
   "metadata": {},
   "source": [
    "# inferential statistics\n",
    "-> hypothesis testing:\n",
    "\n",
    "- $H_0$: no relationship between x and y\n",
    "- $H_1$: there is a relationship\n",
    "\n",
    "p-value:\n",
    "    -5%: 25-50% false positive rate (depending on plausibility of $H_1$)\n",
    "    -~0.27%: 5% false positive rate\n",
    "\n",
    "distinguish between parametric (mostly assume normal distribution) and non-parametric tests (no assumptions, weaker). test for normality with QQ-plot\n",
    "- Q(y) ~ Q(x): (quantitative response y vs quantitative explanatory x) use correlation coefficient\n",
    "    - ranked data: Goodman-Kruskal $\\Gamma$, Spearman Rank Correlation\n",
    "- Q(y) ~ C(x): \n",
    "    - ANOVA F-test: measure whether there is a significant variance of the mean of different groups\n",
    "- C(y) ~ Q(x):\n",
    "- C(y) ~ C(x): $\\chi^2$-test (normalized: Cramer's V), Fisher odds ratio, Goodman-Kruskal $\\tau$\n",
    "\n",
    "for categorical variables with more than two levels: perform post-hoc tests (do $\\chi^2$ for each group individually). other tests:\n",
    "- tuckey hsd test\n",
    "- Holm T\n",
    "- Least Significant Difference"
   ]
  },
  {
   "cell_type": "code",
   "execution_count": null,
   "metadata": {},
   "outputs": [],
   "source": [
    "import statsmodels.formula.api as smf\n",
    "import statsmodels.stats.multicomp as multi\n",
    "import statsmodels.api as sm"
   ]
  },
  {
   "cell_type": "code",
   "execution_count": null,
   "metadata": {},
   "outputs": [],
   "source": [
    "df.count()"
   ]
  },
  {
   "cell_type": "code",
   "execution_count": null,
   "metadata": {},
   "outputs": [],
   "source": [
    "# predict \n",
    "test1 = smf.ols(formula='Survived ~ C(Pclass)', data=df).fit()\n",
    "print(test1.summary())\n",
    "# R-squared: percentage of variance in data explained by model\n",
    "# F-statistic: =1: group means are equal\n",
    "#              >1: group means differ\n",
    "# Prob(F-statistic): p-value of test"
   ]
  },
  {
   "cell_type": "code",
   "execution_count": null,
   "metadata": {},
   "outputs": [],
   "source": [
    "# post-hoc test of groups\n",
    "tuckey1 = multi.MultiComparison(df['Fare'], df['Pclass'])\n",
    "res1 = tuckey1.tukeyhsd()\n",
    "print(res1.summary())"
   ]
  },
  {
   "cell_type": "code",
   "execution_count": null,
   "metadata": {},
   "outputs": [],
   "source": [
    "# chi^2 test\n",
    "df_cross = pd.crosstab(df['Survived'], df['Pclass'])\n",
    "import scipy as sp\n",
    "print('chi2={}, p-val={}, DoF={}, expected counts=\\n{}'.format(*sp.stats.chi2_contingency(df_cross)))"
   ]
  },
  {
   "cell_type": "code",
   "execution_count": null,
   "metadata": {},
   "outputs": [],
   "source": []
  }
 ],
 "metadata": {
  "kernelspec": {
   "display_name": "Python 3",
   "language": "python",
   "name": "python3"
  },
  "language_info": {
   "codemirror_mode": {
    "name": "ipython",
    "version": 3
   },
   "file_extension": ".py",
   "mimetype": "text/x-python",
   "name": "python",
   "nbconvert_exporter": "python",
   "pygments_lexer": "ipython3",
   "version": "3.6.1"
  },
  "toc": {
   "colors": {
    "hover_highlight": "#DAA520",
    "navigate_num": "#000000",
    "navigate_text": "#333333",
    "running_highlight": "#FF0000",
    "selected_highlight": "#FFD700",
    "sidebar_border": "#EEEEEE",
    "wrapper_background": "#FFFFFF"
   },
   "moveMenuLeft": true,
   "nav_menu": {
    "height": "138px",
    "width": "252px"
   },
   "navigate_menu": true,
   "number_sections": true,
   "sideBar": true,
   "threshold": 4,
   "toc_cell": false,
   "toc_position": {
    "height": "618px",
    "left": "0px",
    "right": "1228px",
    "top": "106px",
    "width": "212px"
   },
   "toc_section_display": "block",
   "toc_window_display": true,
   "widenNotebook": false
  }
 },
 "nbformat": 4,
 "nbformat_minor": 2
}
