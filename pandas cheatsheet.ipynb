{
 "cells": [
  {
   "cell_type": "code",
   "execution_count": null,
   "metadata": {
    "collapsed": false
   },
   "outputs": [],
   "source": [
    "import pandas as pd\n",
    "import numpy as np\n",
    "\n",
    "# automatic plotting:\n",
    "%pylab inline"
   ]
  },
  {
   "cell_type": "markdown",
   "metadata": {},
   "source": [
    "### create df"
   ]
  },
  {
   "cell_type": "code",
   "execution_count": null,
   "metadata": {
    "collapsed": false
   },
   "outputs": [],
   "source": [
    "# create series\n",
    "s = pd.Series([1,2,3,3,np.nan])\n",
    "# create dataframe\n",
    "df = pd.DataFrame(np.random.randn(7,4), index=list('abcdefg'), columns=list('ABCD'))\n",
    "df"
   ]
  },
  {
   "cell_type": "code",
   "execution_count": null,
   "metadata": {
    "collapsed": false
   },
   "outputs": [],
   "source": [
    "# import\n",
    "filenae = '.tsv'\n",
    "pd.read_csv(filename, delimiter='\\t', thousands=',', na_values=['n/a'], encoding='utf-8')"
   ]
  },
  {
   "cell_type": "markdown",
   "metadata": {},
   "source": [
    "### inspect df"
   ]
  },
  {
   "cell_type": "code",
   "execution_count": null,
   "metadata": {
    "collapsed": false
   },
   "outputs": [],
   "source": [
    "# first 3 rows\n",
    "df.head(3)\n",
    "# last 5 rows\n",
    "df.tail()"
   ]
  },
  {
   "cell_type": "code",
   "execution_count": null,
   "metadata": {
    "collapsed": false,
    "scrolled": false
   },
   "outputs": [],
   "source": [
    "# column types (list)\n",
    "df.dtypes\n",
    "# show index (range)\n",
    "df.index\n",
    "# show column names (list)\n",
    "df.columns\n",
    "# show values (array)\n",
    "df.values\n",
    "# transpose\n",
    "df.T"
   ]
  },
  {
   "cell_type": "code",
   "execution_count": null,
   "metadata": {
    "collapsed": false
   },
   "outputs": [],
   "source": [
    "# df statistics\n",
    "df.describe()"
   ]
  },
  {
   "cell_type": "markdown",
   "metadata": {},
   "source": [
    "### add & remove"
   ]
  },
  {
   "cell_type": "code",
   "execution_count": null,
   "metadata": {
    "collapsed": false
   },
   "outputs": [],
   "source": [
    "# add column\n",
    "df['E'] = range(0,7)\n",
    "\n",
    "# remove column\n",
    "del df['D']\n",
    "# remove DataFrame\n",
    "#del df"
   ]
  },
  {
   "cell_type": "markdown",
   "metadata": {},
   "source": [
    "### select values"
   ]
  },
  {
   "cell_type": "code",
   "execution_count": null,
   "metadata": {
    "collapsed": false
   },
   "outputs": [],
   "source": [
    "# select:\n",
    "# column as Series\n",
    "df['A']\n",
    "df.A\n",
    "# column as DataFrame\n",
    "df[['A']]\n",
    "# multiple columns\n",
    "df[['A','B']]\n",
    "df.loc[:,'A':'B']\n",
    "df.iloc[:,0:2]\n",
    "\n",
    "# row\n",
    "df[0:1] # DataFrame\n",
    "# row from index\n",
    "df.loc['a'] # Series\n",
    "df.loc['a':'a'] # DataFrame\n",
    "# row from index position\n",
    "df.iloc[0] # Series\n",
    "df.iloc[0:1] # DataFrame\n",
    "\n",
    "\n",
    "# subset\n",
    "df[['A','B']]['a':'c']\n",
    "df[['A','B']][0:3]\n",
    "df.loc['a':'c','A':'B']\n",
    "df.iloc[0:3,0:2]\n",
    "\n",
    "# scalar\n",
    "df.at['a','A']\n",
    "df.iat[0,0]"
   ]
  },
  {
   "cell_type": "code",
   "execution_count": null,
   "metadata": {
    "collapsed": false
   },
   "outputs": [],
   "source": [
    "# locating data\n",
    "df[df>0]\n",
    "# locate from values in list\n",
    "df[df['E'].isin([1,5,6])]"
   ]
  },
  {
   "cell_type": "code",
   "execution_count": null,
   "metadata": {
    "collapsed": false
   },
   "outputs": [],
   "source": [
    "# = is only pointer!\n",
    "df2 = df\n",
    "df2.iat[0,0] = 0\n",
    "df\n",
    "# use copy\n",
    "df2 = df.copy()"
   ]
  },
  {
   "cell_type": "code",
   "execution_count": null,
   "metadata": {
    "collapsed": false
   },
   "outputs": [],
   "source": [
    "# sort by axis\n",
    "df.sort_index(axis=0, ascending=False)\n",
    "# sort by values\n",
    "df.sort_values(by='a')"
   ]
  },
  {
   "cell_type": "markdown",
   "metadata": {},
   "source": [
    "### missing values"
   ]
  },
  {
   "cell_type": "code",
   "execution_count": null,
   "metadata": {
    "collapsed": false
   },
   "outputs": [],
   "source": [
    "df2 = df[df>=0]\n",
    "\n",
    "# True where NaN\n",
    "df2.isnull()\n",
    "# fill NaN with value\n",
    "df2.fillna(0)\n",
    "# drop rows/columns with NaN\n",
    "df2.dropna(axis=0, how='any')\n",
    "\n"
   ]
  },
  {
   "cell_type": "code",
   "execution_count": null,
   "metadata": {
    "collapsed": false
   },
   "outputs": [],
   "source": [
    "df"
   ]
  },
  {
   "cell_type": "markdown",
   "metadata": {},
   "source": [
    "### misc"
   ]
  },
  {
   "cell_type": "code",
   "execution_count": null,
   "metadata": {
    "collapsed": false
   },
   "outputs": [],
   "source": [
    "# series unique values (create histogram)\n",
    "s.value_counts()"
   ]
  }
 ],
 "metadata": {
  "git": {
   "suppress_output": true
  },
  "kernelspec": {
   "display_name": "Python [default]",
   "language": "python",
   "name": "python3"
  },
  "language_info": {
   "codemirror_mode": {
    "name": "ipython",
    "version": 3
   },
   "file_extension": ".py",
   "mimetype": "text/x-python",
   "name": "python",
   "nbconvert_exporter": "python",
   "pygments_lexer": "ipython3",
   "version": "3.5.2"
  }
 },
 "nbformat": 4,
 "nbformat_minor": 0
}
