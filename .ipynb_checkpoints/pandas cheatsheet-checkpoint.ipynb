{
 "cells": [
  {
   "cell_type": "code",
   "execution_count": 1,
   "metadata": {
    "collapsed": false
   },
   "outputs": [
    {
     "name": "stderr",
     "output_type": "stream",
     "text": [
      "/home/markus/miniconda3/envs/conda_dw34/lib/python3.4/site-packages/matplotlib/font_manager.py:273: UserWarning: Matplotlib is building the font cache using fc-list. This may take a moment.\n",
      "  warnings.warn('Matplotlib is building the font cache using fc-list. This may take a moment.')\n",
      "/home/markus/miniconda3/envs/conda_dw34/lib/python3.4/site-packages/matplotlib/font_manager.py:273: UserWarning: Matplotlib is building the font cache using fc-list. This may take a moment.\n",
      "  warnings.warn('Matplotlib is building the font cache using fc-list. This may take a moment.')\n"
     ]
    },
    {
     "name": "stdout",
     "output_type": "stream",
     "text": [
      "Populating the interactive namespace from numpy and matplotlib\n"
     ]
    }
   ],
   "source": [
    "import pandas as pd\n",
    "import numpy as np\n",
    "\n",
    "# automatic plotting:\n",
    "%pylab inline"
   ]
  },
  {
   "cell_type": "markdown",
   "metadata": {},
   "source": [
    "### create df"
   ]
  },
  {
   "cell_type": "code",
   "execution_count": 3,
   "metadata": {
    "collapsed": false
   },
   "outputs": [
    {
     "data": {
      "text/html": [
       "<div>\n",
       "<table border=\"1\" class=\"dataframe\">\n",
       "  <thead>\n",
       "    <tr style=\"text-align: right;\">\n",
       "      <th></th>\n",
       "      <th>A</th>\n",
       "      <th>B</th>\n",
       "      <th>C</th>\n",
       "      <th>D</th>\n",
       "    </tr>\n",
       "  </thead>\n",
       "  <tbody>\n",
       "    <tr>\n",
       "      <th>a</th>\n",
       "      <td>0.261737</td>\n",
       "      <td>0.968659</td>\n",
       "      <td>0.782290</td>\n",
       "      <td>-1.517642</td>\n",
       "    </tr>\n",
       "    <tr>\n",
       "      <th>b</th>\n",
       "      <td>0.893630</td>\n",
       "      <td>2.147651</td>\n",
       "      <td>0.482451</td>\n",
       "      <td>0.106838</td>\n",
       "    </tr>\n",
       "    <tr>\n",
       "      <th>c</th>\n",
       "      <td>0.349969</td>\n",
       "      <td>0.572443</td>\n",
       "      <td>-0.016139</td>\n",
       "      <td>-0.107332</td>\n",
       "    </tr>\n",
       "    <tr>\n",
       "      <th>d</th>\n",
       "      <td>-1.752981</td>\n",
       "      <td>0.336471</td>\n",
       "      <td>0.541669</td>\n",
       "      <td>-0.415273</td>\n",
       "    </tr>\n",
       "    <tr>\n",
       "      <th>e</th>\n",
       "      <td>1.232035</td>\n",
       "      <td>0.135765</td>\n",
       "      <td>-0.642930</td>\n",
       "      <td>0.269540</td>\n",
       "    </tr>\n",
       "    <tr>\n",
       "      <th>f</th>\n",
       "      <td>-1.891236</td>\n",
       "      <td>1.351075</td>\n",
       "      <td>-0.982118</td>\n",
       "      <td>-0.340594</td>\n",
       "    </tr>\n",
       "    <tr>\n",
       "      <th>g</th>\n",
       "      <td>0.513776</td>\n",
       "      <td>-1.358943</td>\n",
       "      <td>-0.720799</td>\n",
       "      <td>-0.137050</td>\n",
       "    </tr>\n",
       "  </tbody>\n",
       "</table>\n",
       "</div>"
      ],
      "text/plain": [
       "          A         B         C         D\n",
       "a  0.261737  0.968659  0.782290 -1.517642\n",
       "b  0.893630  2.147651  0.482451  0.106838\n",
       "c  0.349969  0.572443 -0.016139 -0.107332\n",
       "d -1.752981  0.336471  0.541669 -0.415273\n",
       "e  1.232035  0.135765 -0.642930  0.269540\n",
       "f -1.891236  1.351075 -0.982118 -0.340594\n",
       "g  0.513776 -1.358943 -0.720799 -0.137050"
      ]
     },
     "execution_count": 3,
     "metadata": {},
     "output_type": "execute_result"
    }
   ],
   "source": [
    "# create series\n",
    "s = pd.Series([1,2,3,3,np.nan])\n",
    "# create dataframe\n",
    "df = pd.DataFrame(np.random.randn(7,4), index=list('abcdefg'), columns=list('ABCD'))\n",
    "df"
   ]
  },
  {
   "cell_type": "code",
   "execution_count": null,
   "metadata": {
    "collapsed": true
   },
   "outputs": [],
   "source": [
    "# import\n",
    "filenae = '.tsv'\n",
    "pd.read_csv(filename, delimiter='\\t', thousands=',', na_values=['n/a'], encoding='utf-8')"
   ]
  },
  {
   "cell_type": "markdown",
   "metadata": {},
   "source": [
    "### inspect df"
   ]
  },
  {
   "cell_type": "code",
   "execution_count": 23,
   "metadata": {
    "collapsed": false
   },
   "outputs": [
    {
     "data": {
      "text/html": [
       "<div>\n",
       "<table border=\"1\" class=\"dataframe\">\n",
       "  <thead>\n",
       "    <tr style=\"text-align: right;\">\n",
       "      <th></th>\n",
       "      <th>a</th>\n",
       "      <th>b</th>\n",
       "      <th>c</th>\n",
       "      <th>d</th>\n",
       "    </tr>\n",
       "  </thead>\n",
       "  <tbody>\n",
       "    <tr>\n",
       "      <th>2</th>\n",
       "      <td>-0.899382</td>\n",
       "      <td>-0.156547</td>\n",
       "      <td>0.823292</td>\n",
       "      <td>-2.143836</td>\n",
       "    </tr>\n",
       "    <tr>\n",
       "      <th>3</th>\n",
       "      <td>0.322570</td>\n",
       "      <td>-0.652390</td>\n",
       "      <td>0.666786</td>\n",
       "      <td>-0.777805</td>\n",
       "    </tr>\n",
       "    <tr>\n",
       "      <th>4</th>\n",
       "      <td>0.572799</td>\n",
       "      <td>-0.009651</td>\n",
       "      <td>0.390920</td>\n",
       "      <td>0.521842</td>\n",
       "    </tr>\n",
       "    <tr>\n",
       "      <th>5</th>\n",
       "      <td>-2.136645</td>\n",
       "      <td>1.319318</td>\n",
       "      <td>-0.396484</td>\n",
       "      <td>-0.897874</td>\n",
       "    </tr>\n",
       "    <tr>\n",
       "      <th>6</th>\n",
       "      <td>-0.793476</td>\n",
       "      <td>-1.993161</td>\n",
       "      <td>0.272084</td>\n",
       "      <td>0.280391</td>\n",
       "    </tr>\n",
       "  </tbody>\n",
       "</table>\n",
       "</div>"
      ],
      "text/plain": [
       "          a         b         c         d\n",
       "2 -0.899382 -0.156547  0.823292 -2.143836\n",
       "3  0.322570 -0.652390  0.666786 -0.777805\n",
       "4  0.572799 -0.009651  0.390920  0.521842\n",
       "5 -2.136645  1.319318 -0.396484 -0.897874\n",
       "6 -0.793476 -1.993161  0.272084  0.280391"
      ]
     },
     "execution_count": 23,
     "metadata": {},
     "output_type": "execute_result"
    }
   ],
   "source": [
    "# first 3 rows\n",
    "df.head(3)\n",
    "# last 5 rows\n",
    "df.tail()"
   ]
  },
  {
   "cell_type": "code",
   "execution_count": 71,
   "metadata": {
    "collapsed": false,
    "scrolled": true
   },
   "outputs": [
    {
     "data": {
      "text/html": [
       "<div>\n",
       "<table border=\"1\" class=\"dataframe\">\n",
       "  <thead>\n",
       "    <tr style=\"text-align: right;\">\n",
       "      <th></th>\n",
       "      <th>0</th>\n",
       "      <th>1</th>\n",
       "      <th>2</th>\n",
       "      <th>3</th>\n",
       "      <th>4</th>\n",
       "      <th>5</th>\n",
       "      <th>6</th>\n",
       "    </tr>\n",
       "  </thead>\n",
       "  <tbody>\n",
       "    <tr>\n",
       "      <th>a</th>\n",
       "      <td>-0.284743</td>\n",
       "      <td>-0.684352</td>\n",
       "      <td>-0.284725</td>\n",
       "      <td>-1.055659</td>\n",
       "      <td>0.624625</td>\n",
       "      <td>-2.777074</td>\n",
       "      <td>1.164444</td>\n",
       "    </tr>\n",
       "    <tr>\n",
       "      <th>b</th>\n",
       "      <td>-1.097343</td>\n",
       "      <td>0.330349</td>\n",
       "      <td>-0.993939</td>\n",
       "      <td>0.260806</td>\n",
       "      <td>-0.362868</td>\n",
       "      <td>1.364612</td>\n",
       "      <td>-0.466725</td>\n",
       "    </tr>\n",
       "    <tr>\n",
       "      <th>c</th>\n",
       "      <td>0.338419</td>\n",
       "      <td>1.021629</td>\n",
       "      <td>0.072293</td>\n",
       "      <td>0.597344</td>\n",
       "      <td>1.764571</td>\n",
       "      <td>0.000689</td>\n",
       "      <td>0.111232</td>\n",
       "    </tr>\n",
       "    <tr>\n",
       "      <th>d</th>\n",
       "      <td>-0.640823</td>\n",
       "      <td>0.525905</td>\n",
       "      <td>-0.243304</td>\n",
       "      <td>1.197607</td>\n",
       "      <td>-0.269935</td>\n",
       "      <td>0.026195</td>\n",
       "      <td>-1.508815</td>\n",
       "    </tr>\n",
       "  </tbody>\n",
       "</table>\n",
       "</div>"
      ],
      "text/plain": [
       "          0         1         2         3         4         5         6\n",
       "a -0.284743 -0.684352 -0.284725 -1.055659  0.624625 -2.777074  1.164444\n",
       "b -1.097343  0.330349 -0.993939  0.260806 -0.362868  1.364612 -0.466725\n",
       "c  0.338419  1.021629  0.072293  0.597344  1.764571  0.000689  0.111232\n",
       "d -0.640823  0.525905 -0.243304  1.197607 -0.269935  0.026195 -1.508815"
      ]
     },
     "execution_count": 71,
     "metadata": {},
     "output_type": "execute_result"
    }
   ],
   "source": [
    "# column types (list)\n",
    "df.dtypes\n",
    "# show index (range)\n",
    "df.index\n",
    "# show column names (list)\n",
    "df.columns\n",
    "# show values (array)\n",
    "df.values\n",
    "# transpose\n",
    "df.T"
   ]
  },
  {
   "cell_type": "code",
   "execution_count": null,
   "metadata": {
    "collapsed": true
   },
   "outputs": [],
   "source": [
    "# df statistics\n",
    "df.describe()"
   ]
  },
  {
   "cell_type": "markdown",
   "metadata": {},
   "source": [
    "### add & remove"
   ]
  },
  {
   "cell_type": "code",
   "execution_count": 190,
   "metadata": {
    "collapsed": false
   },
   "outputs": [
    {
     "data": {
      "text/html": [
       "<div>\n",
       "<table border=\"1\" class=\"dataframe\">\n",
       "  <thead>\n",
       "    <tr style=\"text-align: right;\">\n",
       "      <th></th>\n",
       "      <th>A</th>\n",
       "      <th>B</th>\n",
       "      <th>C</th>\n",
       "      <th>D</th>\n",
       "      <th>E</th>\n",
       "    </tr>\n",
       "  </thead>\n",
       "  <tbody>\n",
       "    <tr>\n",
       "      <th>a</th>\n",
       "      <td>0.065525</td>\n",
       "      <td>2.056077</td>\n",
       "      <td>1.006973</td>\n",
       "      <td>0.339059</td>\n",
       "      <td>0</td>\n",
       "    </tr>\n",
       "    <tr>\n",
       "      <th>b</th>\n",
       "      <td>2.490512</td>\n",
       "      <td>-0.482282</td>\n",
       "      <td>0.116767</td>\n",
       "      <td>1.707000</td>\n",
       "      <td>1</td>\n",
       "    </tr>\n",
       "    <tr>\n",
       "      <th>c</th>\n",
       "      <td>-0.466055</td>\n",
       "      <td>1.450305</td>\n",
       "      <td>-0.996837</td>\n",
       "      <td>0.894528</td>\n",
       "      <td>2</td>\n",
       "    </tr>\n",
       "    <tr>\n",
       "      <th>d</th>\n",
       "      <td>-0.038235</td>\n",
       "      <td>-0.387168</td>\n",
       "      <td>0.119479</td>\n",
       "      <td>-0.151872</td>\n",
       "      <td>3</td>\n",
       "    </tr>\n",
       "    <tr>\n",
       "      <th>e</th>\n",
       "      <td>-1.095200</td>\n",
       "      <td>-0.031929</td>\n",
       "      <td>0.854075</td>\n",
       "      <td>-1.075435</td>\n",
       "      <td>4</td>\n",
       "    </tr>\n",
       "    <tr>\n",
       "      <th>f</th>\n",
       "      <td>0.503600</td>\n",
       "      <td>-0.225262</td>\n",
       "      <td>2.125694</td>\n",
       "      <td>-0.991733</td>\n",
       "      <td>5</td>\n",
       "    </tr>\n",
       "    <tr>\n",
       "      <th>g</th>\n",
       "      <td>0.834349</td>\n",
       "      <td>-0.018056</td>\n",
       "      <td>0.229874</td>\n",
       "      <td>-0.291237</td>\n",
       "      <td>6</td>\n",
       "    </tr>\n",
       "  </tbody>\n",
       "</table>\n",
       "</div>"
      ],
      "text/plain": [
       "          A         B         C         D  E\n",
       "a  0.065525  2.056077  1.006973  0.339059  0\n",
       "b  2.490512 -0.482282  0.116767  1.707000  1\n",
       "c -0.466055  1.450305 -0.996837  0.894528  2\n",
       "d -0.038235 -0.387168  0.119479 -0.151872  3\n",
       "e -1.095200 -0.031929  0.854075 -1.075435  4\n",
       "f  0.503600 -0.225262  2.125694 -0.991733  5\n",
       "g  0.834349 -0.018056  0.229874 -0.291237  6"
      ]
     },
     "execution_count": 190,
     "metadata": {},
     "output_type": "execute_result"
    }
   ],
   "source": [
    "# add column\n",
    "df['E'] = range(0,7)\n",
    "\n",
    "# remove column\n",
    "del df['D']\n",
    "# remove DataFrame\n",
    "#del df"
   ]
  },
  {
   "cell_type": "markdown",
   "metadata": {},
   "source": [
    "### select values"
   ]
  },
  {
   "cell_type": "code",
   "execution_count": 152,
   "metadata": {
    "collapsed": false
   },
   "outputs": [
    {
     "data": {
      "text/html": [
       "<div>\n",
       "<table border=\"1\" class=\"dataframe\">\n",
       "  <thead>\n",
       "    <tr style=\"text-align: right;\">\n",
       "      <th></th>\n",
       "      <th>A</th>\n",
       "      <th>B</th>\n",
       "      <th>C</th>\n",
       "      <th>D</th>\n",
       "    </tr>\n",
       "  </thead>\n",
       "  <tbody>\n",
       "    <tr>\n",
       "      <th>a</th>\n",
       "      <td>-0.242418</td>\n",
       "      <td>-1.497703</td>\n",
       "      <td>-0.951635</td>\n",
       "      <td>0.244444</td>\n",
       "    </tr>\n",
       "    <tr>\n",
       "      <th>b</th>\n",
       "      <td>-0.377935</td>\n",
       "      <td>0.000000</td>\n",
       "      <td>0.968039</td>\n",
       "      <td>1.000006</td>\n",
       "    </tr>\n",
       "    <tr>\n",
       "      <th>c</th>\n",
       "      <td>0.035788</td>\n",
       "      <td>-1.184103</td>\n",
       "      <td>-0.176230</td>\n",
       "      <td>0.008069</td>\n",
       "    </tr>\n",
       "    <tr>\n",
       "      <th>d</th>\n",
       "      <td>-0.353705</td>\n",
       "      <td>0.582347</td>\n",
       "      <td>0.298327</td>\n",
       "      <td>-0.275963</td>\n",
       "    </tr>\n",
       "    <tr>\n",
       "      <th>e</th>\n",
       "      <td>1.548717</td>\n",
       "      <td>-0.593479</td>\n",
       "      <td>0.451289</td>\n",
       "      <td>1.766213</td>\n",
       "    </tr>\n",
       "    <tr>\n",
       "      <th>f</th>\n",
       "      <td>-0.896371</td>\n",
       "      <td>-0.916966</td>\n",
       "      <td>-0.455104</td>\n",
       "      <td>0.257606</td>\n",
       "    </tr>\n",
       "    <tr>\n",
       "      <th>g</th>\n",
       "      <td>1.032482</td>\n",
       "      <td>-1.077519</td>\n",
       "      <td>0.070184</td>\n",
       "      <td>0.923086</td>\n",
       "    </tr>\n",
       "  </tbody>\n",
       "</table>\n",
       "</div>"
      ],
      "text/plain": [
       "          A         B         C         D\n",
       "a -0.242418 -1.497703 -0.951635  0.244444\n",
       "b -0.377935  0.000000  0.968039  1.000006\n",
       "c  0.035788 -1.184103 -0.176230  0.008069\n",
       "d -0.353705  0.582347  0.298327 -0.275963\n",
       "e  1.548717 -0.593479  0.451289  1.766213\n",
       "f -0.896371 -0.916966 -0.455104  0.257606\n",
       "g  1.032482 -1.077519  0.070184  0.923086"
      ]
     },
     "execution_count": 152,
     "metadata": {},
     "output_type": "execute_result"
    }
   ],
   "source": [
    "# select:\n",
    "# column as Series\n",
    "df['A']\n",
    "df.A\n",
    "# column as DataFrame\n",
    "df[['A']]\n",
    "# multiple columns\n",
    "df[['A','B']]\n",
    "df.loc[:,'A':'B']\n",
    "df.iloc[:,0:2]\n",
    "\n",
    "# row\n",
    "df[0:1] # DataFrame\n",
    "# row from index\n",
    "df.loc['a'] # Series\n",
    "df.loc['a':'a'] # DataFrame\n",
    "# row from index position\n",
    "df.iloc[0] # Series\n",
    "df.iloc[0:1] # DataFrame\n",
    "\n",
    "\n",
    "# subset\n",
    "df[['A','B']]['a':'c']\n",
    "df[['A','B']][0:3]\n",
    "df.loc['a':'c','A':'B']\n",
    "df.iloc[0:3,0:2]\n",
    "\n",
    "# scalar\n",
    "df.at['a','A']\n",
    "df.iat[0,0]"
   ]
  },
  {
   "cell_type": "code",
   "execution_count": 198,
   "metadata": {
    "collapsed": false
   },
   "outputs": [
    {
     "data": {
      "text/html": [
       "<div>\n",
       "<table border=\"1\" class=\"dataframe\">\n",
       "  <thead>\n",
       "    <tr style=\"text-align: right;\">\n",
       "      <th></th>\n",
       "      <th>A</th>\n",
       "      <th>B</th>\n",
       "      <th>C</th>\n",
       "      <th>D</th>\n",
       "      <th>E</th>\n",
       "    </tr>\n",
       "  </thead>\n",
       "  <tbody>\n",
       "    <tr>\n",
       "      <th>b</th>\n",
       "      <td>2.490512</td>\n",
       "      <td>-0.482282</td>\n",
       "      <td>0.116767</td>\n",
       "      <td>1.707000</td>\n",
       "      <td>1</td>\n",
       "    </tr>\n",
       "    <tr>\n",
       "      <th>f</th>\n",
       "      <td>0.503600</td>\n",
       "      <td>-0.225262</td>\n",
       "      <td>2.125694</td>\n",
       "      <td>-0.991733</td>\n",
       "      <td>5</td>\n",
       "    </tr>\n",
       "    <tr>\n",
       "      <th>g</th>\n",
       "      <td>0.834349</td>\n",
       "      <td>-0.018056</td>\n",
       "      <td>0.229874</td>\n",
       "      <td>-0.291237</td>\n",
       "      <td>6</td>\n",
       "    </tr>\n",
       "  </tbody>\n",
       "</table>\n",
       "</div>"
      ],
      "text/plain": [
       "          A         B         C         D  E\n",
       "b  2.490512 -0.482282  0.116767  1.707000  1\n",
       "f  0.503600 -0.225262  2.125694 -0.991733  5\n",
       "g  0.834349 -0.018056  0.229874 -0.291237  6"
      ]
     },
     "execution_count": 198,
     "metadata": {},
     "output_type": "execute_result"
    }
   ],
   "source": [
    "# locating data\n",
    "df[df>0]\n",
    "# locate from values in list\n",
    "df[df['E'].isin([1,5,6])]"
   ]
  },
  {
   "cell_type": "code",
   "execution_count": 155,
   "metadata": {
    "collapsed": false
   },
   "outputs": [
    {
     "data": {
      "text/html": [
       "<div>\n",
       "<table border=\"1\" class=\"dataframe\">\n",
       "  <thead>\n",
       "    <tr style=\"text-align: right;\">\n",
       "      <th></th>\n",
       "      <th>A</th>\n",
       "      <th>B</th>\n",
       "      <th>C</th>\n",
       "      <th>D</th>\n",
       "    </tr>\n",
       "  </thead>\n",
       "  <tbody>\n",
       "    <tr>\n",
       "      <th>a</th>\n",
       "      <td>0.000000</td>\n",
       "      <td>-1.497703</td>\n",
       "      <td>-0.951635</td>\n",
       "      <td>0.244444</td>\n",
       "    </tr>\n",
       "    <tr>\n",
       "      <th>b</th>\n",
       "      <td>-0.377935</td>\n",
       "      <td>0.000000</td>\n",
       "      <td>0.968039</td>\n",
       "      <td>1.000006</td>\n",
       "    </tr>\n",
       "    <tr>\n",
       "      <th>c</th>\n",
       "      <td>0.035788</td>\n",
       "      <td>-1.184103</td>\n",
       "      <td>-0.176230</td>\n",
       "      <td>0.008069</td>\n",
       "    </tr>\n",
       "    <tr>\n",
       "      <th>d</th>\n",
       "      <td>-0.353705</td>\n",
       "      <td>0.582347</td>\n",
       "      <td>0.298327</td>\n",
       "      <td>-0.275963</td>\n",
       "    </tr>\n",
       "    <tr>\n",
       "      <th>e</th>\n",
       "      <td>1.548717</td>\n",
       "      <td>-0.593479</td>\n",
       "      <td>0.451289</td>\n",
       "      <td>1.766213</td>\n",
       "    </tr>\n",
       "    <tr>\n",
       "      <th>f</th>\n",
       "      <td>-0.896371</td>\n",
       "      <td>-0.916966</td>\n",
       "      <td>-0.455104</td>\n",
       "      <td>0.257606</td>\n",
       "    </tr>\n",
       "    <tr>\n",
       "      <th>g</th>\n",
       "      <td>1.032482</td>\n",
       "      <td>-1.077519</td>\n",
       "      <td>0.070184</td>\n",
       "      <td>0.923086</td>\n",
       "    </tr>\n",
       "  </tbody>\n",
       "</table>\n",
       "</div>"
      ],
      "text/plain": [
       "          A         B         C         D\n",
       "a  0.000000 -1.497703 -0.951635  0.244444\n",
       "b -0.377935  0.000000  0.968039  1.000006\n",
       "c  0.035788 -1.184103 -0.176230  0.008069\n",
       "d -0.353705  0.582347  0.298327 -0.275963\n",
       "e  1.548717 -0.593479  0.451289  1.766213\n",
       "f -0.896371 -0.916966 -0.455104  0.257606\n",
       "g  1.032482 -1.077519  0.070184  0.923086"
      ]
     },
     "execution_count": 155,
     "metadata": {},
     "output_type": "execute_result"
    }
   ],
   "source": [
    "# = is only pointer!\n",
    "df2 = df\n",
    "df2.iat[0,0] = 0\n",
    "df\n",
    "# use copy\n",
    "df2 = df.copy()"
   ]
  },
  {
   "cell_type": "code",
   "execution_count": 51,
   "metadata": {
    "collapsed": false
   },
   "outputs": [
    {
     "data": {
      "text/html": [
       "<div>\n",
       "<table border=\"1\" class=\"dataframe\">\n",
       "  <thead>\n",
       "    <tr style=\"text-align: right;\">\n",
       "      <th></th>\n",
       "      <th>a</th>\n",
       "      <th>b</th>\n",
       "      <th>c</th>\n",
       "      <th>d</th>\n",
       "    </tr>\n",
       "  </thead>\n",
       "  <tbody>\n",
       "    <tr>\n",
       "      <th>5</th>\n",
       "      <td>-2.777074</td>\n",
       "      <td>1.364612</td>\n",
       "      <td>0.000689</td>\n",
       "      <td>0.026195</td>\n",
       "    </tr>\n",
       "    <tr>\n",
       "      <th>3</th>\n",
       "      <td>-1.055659</td>\n",
       "      <td>0.260806</td>\n",
       "      <td>0.597344</td>\n",
       "      <td>1.197607</td>\n",
       "    </tr>\n",
       "    <tr>\n",
       "      <th>1</th>\n",
       "      <td>-0.684352</td>\n",
       "      <td>0.330349</td>\n",
       "      <td>1.021629</td>\n",
       "      <td>0.525905</td>\n",
       "    </tr>\n",
       "    <tr>\n",
       "      <th>0</th>\n",
       "      <td>-0.284743</td>\n",
       "      <td>-1.097343</td>\n",
       "      <td>0.338419</td>\n",
       "      <td>-0.640823</td>\n",
       "    </tr>\n",
       "    <tr>\n",
       "      <th>2</th>\n",
       "      <td>-0.284725</td>\n",
       "      <td>-0.993939</td>\n",
       "      <td>0.072293</td>\n",
       "      <td>-0.243304</td>\n",
       "    </tr>\n",
       "    <tr>\n",
       "      <th>4</th>\n",
       "      <td>0.624625</td>\n",
       "      <td>-0.362868</td>\n",
       "      <td>1.764571</td>\n",
       "      <td>-0.269935</td>\n",
       "    </tr>\n",
       "    <tr>\n",
       "      <th>6</th>\n",
       "      <td>1.164444</td>\n",
       "      <td>-0.466725</td>\n",
       "      <td>0.111232</td>\n",
       "      <td>-1.508815</td>\n",
       "    </tr>\n",
       "  </tbody>\n",
       "</table>\n",
       "</div>"
      ],
      "text/plain": [
       "          a         b         c         d\n",
       "5 -2.777074  1.364612  0.000689  0.026195\n",
       "3 -1.055659  0.260806  0.597344  1.197607\n",
       "1 -0.684352  0.330349  1.021629  0.525905\n",
       "0 -0.284743 -1.097343  0.338419 -0.640823\n",
       "2 -0.284725 -0.993939  0.072293 -0.243304\n",
       "4  0.624625 -0.362868  1.764571 -0.269935\n",
       "6  1.164444 -0.466725  0.111232 -1.508815"
      ]
     },
     "execution_count": 51,
     "metadata": {},
     "output_type": "execute_result"
    }
   ],
   "source": [
    "# sort by axis\n",
    "df.sort_index(axis=0, ascending=False)\n",
    "# sort by values\n",
    "df.sort_values(by='a')"
   ]
  },
  {
   "cell_type": "markdown",
   "metadata": {},
   "source": [
    "### missing values"
   ]
  },
  {
   "cell_type": "code",
   "execution_count": 216,
   "metadata": {
    "collapsed": false
   },
   "outputs": [
    {
     "data": {
      "text/html": [
       "<div>\n",
       "<table border=\"1\" class=\"dataframe\">\n",
       "  <thead>\n",
       "    <tr style=\"text-align: right;\">\n",
       "      <th></th>\n",
       "      <th>A</th>\n",
       "      <th>B</th>\n",
       "      <th>C</th>\n",
       "      <th>D</th>\n",
       "      <th>E</th>\n",
       "    </tr>\n",
       "  </thead>\n",
       "  <tbody>\n",
       "    <tr>\n",
       "      <th>a</th>\n",
       "      <td>False</td>\n",
       "      <td>False</td>\n",
       "      <td>False</td>\n",
       "      <td>False</td>\n",
       "      <td>False</td>\n",
       "    </tr>\n",
       "    <tr>\n",
       "      <th>b</th>\n",
       "      <td>False</td>\n",
       "      <td>True</td>\n",
       "      <td>False</td>\n",
       "      <td>False</td>\n",
       "      <td>False</td>\n",
       "    </tr>\n",
       "    <tr>\n",
       "      <th>c</th>\n",
       "      <td>True</td>\n",
       "      <td>False</td>\n",
       "      <td>True</td>\n",
       "      <td>False</td>\n",
       "      <td>False</td>\n",
       "    </tr>\n",
       "    <tr>\n",
       "      <th>d</th>\n",
       "      <td>True</td>\n",
       "      <td>True</td>\n",
       "      <td>False</td>\n",
       "      <td>True</td>\n",
       "      <td>False</td>\n",
       "    </tr>\n",
       "    <tr>\n",
       "      <th>e</th>\n",
       "      <td>True</td>\n",
       "      <td>True</td>\n",
       "      <td>False</td>\n",
       "      <td>True</td>\n",
       "      <td>False</td>\n",
       "    </tr>\n",
       "    <tr>\n",
       "      <th>f</th>\n",
       "      <td>False</td>\n",
       "      <td>True</td>\n",
       "      <td>False</td>\n",
       "      <td>True</td>\n",
       "      <td>False</td>\n",
       "    </tr>\n",
       "    <tr>\n",
       "      <th>g</th>\n",
       "      <td>False</td>\n",
       "      <td>True</td>\n",
       "      <td>False</td>\n",
       "      <td>True</td>\n",
       "      <td>False</td>\n",
       "    </tr>\n",
       "  </tbody>\n",
       "</table>\n",
       "</div>"
      ],
      "text/plain": [
       "       A      B      C      D      E\n",
       "a  False  False  False  False  False\n",
       "b  False   True  False  False  False\n",
       "c   True  False   True  False  False\n",
       "d   True   True  False   True  False\n",
       "e   True   True  False   True  False\n",
       "f  False   True  False   True  False\n",
       "g  False   True  False   True  False"
      ]
     },
     "execution_count": 216,
     "metadata": {},
     "output_type": "execute_result"
    }
   ],
   "source": [
    "df2 = df[df>=0]\n",
    "\n",
    "# True where NaN\n",
    "df2.isnull()\n",
    "# fill NaN with value\n",
    "df2.fillna(0)\n",
    "# drop rows/columns with NaN\n",
    "df2.dropna(axis=0, how='any')\n",
    "\n"
   ]
  },
  {
   "cell_type": "code",
   "execution_count": 203,
   "metadata": {
    "collapsed": false
   },
   "outputs": [
    {
     "data": {
      "text/html": [
       "<div>\n",
       "<table border=\"1\" class=\"dataframe\">\n",
       "  <thead>\n",
       "    <tr style=\"text-align: right;\">\n",
       "      <th></th>\n",
       "      <th>A</th>\n",
       "      <th>B</th>\n",
       "      <th>C</th>\n",
       "      <th>D</th>\n",
       "      <th>E</th>\n",
       "    </tr>\n",
       "  </thead>\n",
       "  <tbody>\n",
       "    <tr>\n",
       "      <th>a</th>\n",
       "      <td>0.065525</td>\n",
       "      <td>2.056077</td>\n",
       "      <td>1.006973</td>\n",
       "      <td>0.339059</td>\n",
       "      <td>0</td>\n",
       "    </tr>\n",
       "    <tr>\n",
       "      <th>b</th>\n",
       "      <td>2.490512</td>\n",
       "      <td>-0.482282</td>\n",
       "      <td>0.116767</td>\n",
       "      <td>1.707000</td>\n",
       "      <td>1</td>\n",
       "    </tr>\n",
       "    <tr>\n",
       "      <th>c</th>\n",
       "      <td>-0.466055</td>\n",
       "      <td>1.450305</td>\n",
       "      <td>-0.996837</td>\n",
       "      <td>0.894528</td>\n",
       "      <td>2</td>\n",
       "    </tr>\n",
       "    <tr>\n",
       "      <th>d</th>\n",
       "      <td>-0.038235</td>\n",
       "      <td>-0.387168</td>\n",
       "      <td>0.119479</td>\n",
       "      <td>-0.151872</td>\n",
       "      <td>3</td>\n",
       "    </tr>\n",
       "    <tr>\n",
       "      <th>e</th>\n",
       "      <td>-1.095200</td>\n",
       "      <td>-0.031929</td>\n",
       "      <td>0.854075</td>\n",
       "      <td>-1.075435</td>\n",
       "      <td>4</td>\n",
       "    </tr>\n",
       "    <tr>\n",
       "      <th>f</th>\n",
       "      <td>0.503600</td>\n",
       "      <td>-0.225262</td>\n",
       "      <td>2.125694</td>\n",
       "      <td>-0.991733</td>\n",
       "      <td>5</td>\n",
       "    </tr>\n",
       "    <tr>\n",
       "      <th>g</th>\n",
       "      <td>0.834349</td>\n",
       "      <td>-0.018056</td>\n",
       "      <td>0.229874</td>\n",
       "      <td>-0.291237</td>\n",
       "      <td>6</td>\n",
       "    </tr>\n",
       "  </tbody>\n",
       "</table>\n",
       "</div>"
      ],
      "text/plain": [
       "          A         B         C         D  E\n",
       "a  0.065525  2.056077  1.006973  0.339059  0\n",
       "b  2.490512 -0.482282  0.116767  1.707000  1\n",
       "c -0.466055  1.450305 -0.996837  0.894528  2\n",
       "d -0.038235 -0.387168  0.119479 -0.151872  3\n",
       "e -1.095200 -0.031929  0.854075 -1.075435  4\n",
       "f  0.503600 -0.225262  2.125694 -0.991733  5\n",
       "g  0.834349 -0.018056  0.229874 -0.291237  6"
      ]
     },
     "execution_count": 203,
     "metadata": {},
     "output_type": "execute_result"
    }
   ],
   "source": [
    "df"
   ]
  },
  {
   "cell_type": "markdown",
   "metadata": {},
   "source": [
    "### misc"
   ]
  },
  {
   "cell_type": "code",
   "execution_count": null,
   "metadata": {
    "collapsed": true
   },
   "outputs": [],
   "source": [
    "# series unique values (create histogram)\n",
    "s.value_counts()"
   ]
  }
 ],
 "metadata": {
  "git": {
   "suppress_output": true
  },
  "kernelspec": {
   "display_name": "Python 3",
   "language": "python",
   "name": "python3"
  },
  "language_info": {
   "codemirror_mode": {
    "name": "ipython",
    "version": 3
   },
   "file_extension": ".py",
   "mimetype": "text/x-python",
   "name": "python",
   "nbconvert_exporter": "python",
   "pygments_lexer": "ipython3",
   "version": "3.4.5"
  }
 },
 "nbformat": 4,
 "nbformat_minor": 0
}
