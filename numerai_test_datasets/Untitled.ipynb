{
 "cells": [
  {
   "cell_type": "code",
   "execution_count": 1,
   "metadata": {
    "collapsed": false
   },
   "outputs": [
    {
     "data": {
      "text/html": [
       "<style>.container { width:100% !important; }</style>"
      ],
      "text/plain": [
       "<IPython.core.display.HTML object>"
      ]
     },
     "execution_count": 1,
     "metadata": {},
     "output_type": "execute_result"
    }
   ],
   "source": [
    "from IPython.core.display import HTML\n",
    "HTML(\"<style>.container { width:100% !important; }</style>\")"
   ]
  },
  {
   "cell_type": "code",
   "execution_count": 13,
   "metadata": {
    "collapsed": false
   },
   "outputs": [
    {
     "name": "stdout",
     "output_type": "stream",
     "text": [
      "Loading data...\n",
      "id\n",
      "440255     era1\n",
      "502402     era2\n",
      "378754     era3\n",
      "405310     era4\n",
      "471691     era5\n",
      "473505     era6\n",
      "390143     era7\n",
      "476935     era8\n",
      "501561     era9\n",
      "439028    era10\n",
      "474835    era11\n",
      "481916    era12\n",
      "416013    era13\n",
      "425925    era14\n",
      "501366    era15\n",
      "          ...  \n",
      "350647    era82\n",
      "433860    era83\n",
      "503362    era84\n",
      "434405    era85\n",
      "355764    era86\n",
      "376905    era87\n",
      "418358    era88\n",
      "498007    era89\n",
      "380150    era90\n",
      "382558    era91\n",
      "476076    era92\n",
      "493660    era93\n",
      "439993    era94\n",
      "410537    era95\n",
      "491574    era96\n",
      "Name: era, dtype: object\n",
      "\n",
      "\n",
      "era: era1\n",
      "(124, 24)\n",
      "len(era_ids): 124\n",
      "len(era_ids.drop_duplicates()): 124\n"
     ]
    }
   ],
   "source": [
    "import pandas as pd\n",
    "import numpy as np\n",
    "import math\n",
    "import random\n",
    "import matplotlib.pyplot as plt\n",
    "from IPython.display import display\n",
    "from itertools import combinations\n",
    "\n",
    "#!/usr/bin/env python\n",
    "\n",
    "\"\"\"\n",
    "Example classifier on Numerai data using a logistic regression classifier.\n",
    "To get started, install the required packages: pip install pandas, numpy, sklearn\n",
    "\"\"\"\n",
    "\n",
    "import pandas as pd\n",
    "import numpy as np\n",
    "from sklearn import metrics, preprocessing, linear_model\n",
    "\n",
    "\n",
    "pd.set_option('display.max_rows', 30)\n",
    "pd.set_option('display.max_columns', 12)\n",
    "pd.set_option('display.width', 230)\n",
    "    \n",
    "    \n",
    "def extract_feature_df(dataframe, sort_col=None):\n",
    "    \n",
    "    dataframe = dataframe.copy()\n",
    "    \n",
    "    if sort_col:\n",
    "        dataframe.sort_values(sort_col, inplace=True)\n",
    "    \n",
    "    \n",
    "    features = [f for f in list(dataframe) if \"feature\" in f]\n",
    "    X = dataframe[features].copy()                     # pd.DataFrame of all training features\n",
    "    Y = dataframe[\"target\"].copy()                     # pd.Series of the classes\n",
    "    #x_prediction = prediction_data[features].copy()        # pd.DataFrame of all validation and test features\n",
    "    \n",
    "    return X, Y\n",
    "\n",
    "def main():\n",
    "    # Set seed for reproducibility\n",
    "    np.random.seed(0)\n",
    "\n",
    "    print(\"Loading data...\")\n",
    "    # Load the data from the CSV files\n",
    "    ''' training data contains only training data'''\n",
    "    training_data = pd.read_csv('numerai_training_data.csv', header=0)\n",
    "    '''\n",
    "    prediction_data contains both validation data (with targets) and test data\n",
    "    (without targets)\n",
    "    '''\n",
    "    prediction_data = pd.read_csv('numerai_tournament_data.csv', header=0)\n",
    "    \n",
    "    '''\n",
    "    print('\\n')\n",
    "    print('prediction_data')\n",
    "    print(prediction_data)\n",
    "    '''\n",
    "\n",
    "    # Transform the loaded CSV data into numpy arrays\n",
    "    '''\n",
    "    Goes through all the pd.DataFrame columns titles. If they contain 'feature'\n",
    "    they are added to the features list\n",
    "    '''\n",
    "    \n",
    "    training_data.set_index(['id'], drop=True, inplace=True)\n",
    "    \n",
    "    # get the training date\n",
    "    training_data = training_data[training_data['data_type'] == 'train']\n",
    "    \n",
    "    # get a list of era names\n",
    "    eras = training_data['era'].copy().drop_duplicates()\n",
    "    \n",
    "    print(eras)\n",
    "    \n",
    "    # make a dictionary with era name as keys and era training data in df form as values\n",
    "    era_dfs = dict((era, training_data[training_data['era']=='era1'].copy()) for era in eras)\n",
    "    \n",
    "    print('\\n')\n",
    "    for era in eras:\n",
    "        print('era:', era)\n",
    "        print(era_dfs[era].shape)\n",
    "        era_ids = era_dfs[era].index\n",
    "        print(\"len(era_ids):\",len(era_ids))\n",
    "        print(\"len(era_ids.drop_duplicates()):\",len(era_ids.drop_duplicates()))\n",
    "        break\n",
    "\n",
    "    \n",
    "if __name__ == '__main__':\n",
    "    main()\n"
   ]
  },
  {
   "cell_type": "code",
   "execution_count": null,
   "metadata": {
    "collapsed": true
   },
   "outputs": [],
   "source": []
  }
 ],
 "metadata": {
  "kernelspec": {
   "display_name": "Python 3",
   "language": "python",
   "name": "python3"
  },
  "language_info": {
   "codemirror_mode": {
    "name": "ipython",
    "version": 3
   },
   "file_extension": ".py",
   "mimetype": "text/x-python",
   "name": "python",
   "nbconvert_exporter": "python",
   "pygments_lexer": "ipython3",
   "version": "3.5.2"
  }
 },
 "nbformat": 4,
 "nbformat_minor": 1
}
