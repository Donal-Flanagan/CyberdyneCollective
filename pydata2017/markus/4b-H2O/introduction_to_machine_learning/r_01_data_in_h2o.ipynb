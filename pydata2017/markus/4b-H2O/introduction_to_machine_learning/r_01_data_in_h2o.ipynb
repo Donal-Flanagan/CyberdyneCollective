{
 "cells": [
  {
   "cell_type": "markdown",
   "metadata": {},
   "source": [
    "# Machine Learning with H2O - Tutorial 1: Data in H2O with R\n",
    "\n",
    "<hr>\n",
    "\n",
    "**Objective**:\n",
    "\n",
    "- This tutorial demonstrates three different ways to import data into H2O.\n",
    "\n",
    "<hr>\n",
    "\n",
    "**Wine Quality Dataset:**\n",
    "\n",
    "- Source: https://archive.ics.uci.edu/ml/datasets/Wine+Quality\n",
    "- CSV (https://archive.ics.uci.edu/ml/machine-learning-databases/wine-quality/winequality-white.csv)\n",
    "\n",
    "<hr>\n",
    "    \n",
    "**Methods**:\n",
    "\n",
    "1. Import data from a local CSV file.\n",
    "2. Import data from the web.\n",
    "3. Convert a Pandas data frame into H2O data frame.\n",
    "\n",
    "<hr>\n",
    "\n",
    "**Full Technical Reference:**\n",
    "\n",
    "- http://docs.h2o.ai/h2o/latest-stable/h2o-py/docs/data.html\n",
    "\n",
    "<br>"
   ]
  },
  {
   "cell_type": "code",
   "execution_count": null,
   "metadata": {},
   "outputs": [],
   "source": [
    "# Start and connect to a local H2O cluster\n",
    "suppressPackageStartupMessages(library(h2o))\n",
    "h2o.init(nthreads = -1)"
   ]
  },
  {
   "cell_type": "markdown",
   "metadata": {},
   "source": [
    "<br>"
   ]
  },
  {
   "cell_type": "code",
   "execution_count": null,
   "metadata": {},
   "outputs": [],
   "source": [
    "# Method 1 - Import data from a local CSV file\n",
    "data_from_csv = h2o.importFile(\"winequality-white.csv\")\n",
    "head(data_from_csv, 5)"
   ]
  },
  {
   "cell_type": "markdown",
   "metadata": {},
   "source": [
    "<br>"
   ]
  },
  {
   "cell_type": "code",
   "execution_count": null,
   "metadata": {},
   "outputs": [],
   "source": [
    "# Method 2 - Import data from the web\n",
    "data_from_web = h2o.importFile(\"https://archive.ics.uci.edu/ml/machine-learning-databases/wine-quality/winequality-white.csv\")\n",
    "head(data_from_web, 5)"
   ]
  },
  {
   "cell_type": "markdown",
   "metadata": {},
   "source": [
    "<br>"
   ]
  },
  {
   "cell_type": "code",
   "execution_count": null,
   "metadata": {},
   "outputs": [],
   "source": [
    "# Method 3 - Convert R data frame into H2O data frame\n",
    "\n",
    "## Import Wine Quality data using R\n",
    "wine_df = read.csv('winequality-white.csv', sep = ';')\n",
    "head(wine_df, 5)"
   ]
  },
  {
   "cell_type": "code",
   "execution_count": null,
   "metadata": {},
   "outputs": [],
   "source": [
    "## Convert R data frame into H2O data frame\n",
    "data_from_df = as.h2o(wine_df)\n",
    "head(data_from_df, 5)"
   ]
  },
  {
   "cell_type": "markdown",
   "metadata": {},
   "source": [
    "<br>"
   ]
  }
 ],
 "metadata": {
  "anaconda-cloud": {},
  "kernelspec": {
   "display_name": "R",
   "language": "R",
   "name": "ir"
  },
  "language_info": {
   "codemirror_mode": "r",
   "file_extension": ".r",
   "mimetype": "text/x-r-source",
   "name": "R",
   "pygments_lexer": "r",
   "version": "3.3.2"
  }
 },
 "nbformat": 4,
 "nbformat_minor": 1
}
