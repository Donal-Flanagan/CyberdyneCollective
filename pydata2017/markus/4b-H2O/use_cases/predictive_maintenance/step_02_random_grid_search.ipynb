{
 "cells": [
  {
   "cell_type": "markdown",
   "metadata": {},
   "source": [
    "# H2O Use Case - Predictive Maintenance\n",
    "\n",
    "- Source: https://archive.ics.uci.edu/ml/datasets/SECOM\n",
    "- H2O Advanced Usage: \n",
    "        - Using Random Grid Search to fine tune models parameters        "
   ]
  },
  {
   "cell_type": "code",
   "execution_count": null,
   "metadata": {},
   "outputs": [],
   "source": [
    "# Load h2o library\n",
    "suppressPackageStartupMessages(library(h2o))"
   ]
  },
  {
   "cell_type": "code",
   "execution_count": null,
   "metadata": {},
   "outputs": [],
   "source": [
    "# Start and connect to a local H2O cluster\n",
    "h2o.init(nthreads = -1)"
   ]
  },
  {
   "cell_type": "code",
   "execution_count": null,
   "metadata": {},
   "outputs": [],
   "source": [
    "# Importing data from local CSV\n",
    "h_secom <- h2o.importFile(path = \"secom.csv\", destination_frame = \"h_secom\")"
   ]
  },
  {
   "cell_type": "code",
   "execution_count": null,
   "metadata": {},
   "outputs": [],
   "source": [
    "# Print out column names\n",
    "colnames(h_secom)"
   ]
  },
  {
   "cell_type": "code",
   "execution_count": null,
   "metadata": {},
   "outputs": [],
   "source": [
    "# Look at \"Classification\"\n",
    "summary(h_secom$Classification, exact_quantiles=TRUE)"
   ]
  },
  {
   "cell_type": "code",
   "execution_count": null,
   "metadata": {},
   "outputs": [],
   "source": [
    "# \"Classification\" is a column of numerical values\n",
    "# Convert \"Classification\" in secom dataset from numerical to categorical value\n",
    "h_secom$Classification <- as.factor(h_secom$Classification)"
   ]
  },
  {
   "cell_type": "code",
   "execution_count": null,
   "metadata": {},
   "outputs": [],
   "source": [
    "# Look at \"Classification\" again\n",
    "summary(h_secom$Classification, exact_quantiles=TRUE)"
   ]
  },
  {
   "cell_type": "code",
   "execution_count": null,
   "metadata": {},
   "outputs": [],
   "source": [
    "# Define target (y) and features (x)\n",
    "target <- \"Classification\"\n",
    "features <- setdiff(colnames(h_secom), target)\n",
    "print(features)"
   ]
  },
  {
   "cell_type": "code",
   "execution_count": null,
   "metadata": {},
   "outputs": [],
   "source": [
    "# Splitting dataset into training and test\n",
    "h_split <- h2o.splitFrame(h_secom, ratios = 0.7, seed = 1234)\n",
    "h_train <- h_split[[1]] # 70%\n",
    "h_test  <- h_split[[2]] # 30%"
   ]
  },
  {
   "cell_type": "code",
   "execution_count": null,
   "metadata": {},
   "outputs": [],
   "source": [
    "# Look at the size\n",
    "dim(h_train)\n",
    "dim(h_test)"
   ]
  },
  {
   "cell_type": "code",
   "execution_count": null,
   "metadata": {},
   "outputs": [],
   "source": [
    "# Check Classification in each dataset\n",
    "summary(h_train$Classification, exact_quantiles = TRUE)\n",
    "summary(h_test$Classification, exact_quantiles = TRUE)"
   ]
  },
  {
   "cell_type": "markdown",
   "metadata": {},
   "source": [
    "<br>\n",
    "# Build GBM Models using Random Grid Search and Extract the Best Model"
   ]
  },
  {
   "cell_type": "code",
   "execution_count": null,
   "metadata": {},
   "outputs": [],
   "source": [
    "# Define the criteria for random grid search\n",
    "search_criteria = list(strategy = \"RandomDiscrete\",\n",
    "                       max_models = 10,   \n",
    "                       seed = 1234)"
   ]
  },
  {
   "cell_type": "code",
   "execution_count": null,
   "metadata": {},
   "outputs": [],
   "source": [
    "# Define the range of hyper-parameters for grid search\n",
    "hyper_params <- list(\n",
    "    sample_rate = c(0.6, 0.7, 0.8, 0.9),\n",
    "    col_sample_rate = c(0.6, 0.7, 0.8, 0.9),\n",
    "    max_depth = c(4, 5, 6)\n",
    ")"
   ]
  },
  {
   "cell_type": "code",
   "execution_count": null,
   "metadata": {},
   "outputs": [],
   "source": [
    "# Set up grid search\n",
    "# Add a seed for reproducibility\n",
    "rand_grid <- h2o.grid(\n",
    "  \n",
    "    # Core parameters for model training\n",
    "    x = features,\n",
    "    y = target,\n",
    "    training_frame = h_train,\n",
    "    ntrees = 500,\n",
    "    learn_rate = 0.05,\n",
    "    balance_classes = TRUE,\n",
    "    seed = 1234,\n",
    "    \n",
    "    # Settings for Cross-Validation\n",
    "    nfolds = 5,\n",
    "    fold_assignment = \"Stratified\",\n",
    "    \n",
    "    # Parameters for early stopping\n",
    "    stopping_metric = \"mean_per_class_error\",\n",
    "    stopping_rounds = 15,\n",
    "    score_tree_interval = 1,\n",
    "        \n",
    "    # Parameters for grid search\n",
    "    grid_id = \"rand_grid\",\n",
    "    hyper_params = hyper_params,\n",
    "    algorithm = \"gbm\",\n",
    "    search_criteria = search_criteria  \n",
    "  \n",
    ")"
   ]
  },
  {
   "cell_type": "code",
   "execution_count": null,
   "metadata": {},
   "outputs": [],
   "source": [
    "# Sort and show the grid search results\n",
    "rand_grid <- h2o.getGrid(grid_id = \"rand_grid\", sort_by = \"mean_per_class_error\", decreasing = FALSE)\n",
    "print(rand_grid)"
   ]
  },
  {
   "cell_type": "code",
   "execution_count": null,
   "metadata": {},
   "outputs": [],
   "source": [
    "# Extract the best model from random grid search\n",
    "best_model_id <- rand_grid@model_ids[[1]] # top of the list\n",
    "best_model <- h2o.getModel(best_model_id)\n",
    "print(best_model)"
   ]
  },
  {
   "cell_type": "code",
   "execution_count": null,
   "metadata": {},
   "outputs": [],
   "source": [
    "# Check performance on test set\n",
    "h2o.performance(best_model, h_test)"
   ]
  },
  {
   "cell_type": "markdown",
   "metadata": {},
   "source": [
    "# Making Predictions"
   ]
  },
  {
   "cell_type": "code",
   "execution_count": null,
   "metadata": {},
   "outputs": [],
   "source": [
    "# Use the model for predictions\n",
    "yhat_test <- h2o.predict(best_model, h_test)"
   ]
  },
  {
   "cell_type": "code",
   "execution_count": null,
   "metadata": {},
   "outputs": [],
   "source": [
    "# Show first 10 rows\n",
    "head(yhat_test, 10)"
   ]
  }
 ],
 "metadata": {
  "anaconda-cloud": {},
  "kernelspec": {
   "display_name": "R",
   "language": "R",
   "name": "ir"
  },
  "language_info": {
   "codemirror_mode": "r",
   "file_extension": ".r",
   "mimetype": "text/x-r-source",
   "name": "R",
   "pygments_lexer": "r",
   "version": "3.3.2"
  }
 },
 "nbformat": 4,
 "nbformat_minor": 1
}
