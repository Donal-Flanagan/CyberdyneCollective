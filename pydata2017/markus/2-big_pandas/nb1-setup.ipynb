{
 "cells": [
  {
   "cell_type": "markdown",
   "metadata": {
    "deletable": true,
    "editable": true
   },
   "source": [
    "# \"Big Pandas\" - Dask from the Inside\n",
    "## Part 1 - Set up\n",
    "### PyData Berlin tutorial, 30 June 2017\n",
    "### Stephen Simmons\n"
   ]
  },
  {
   "cell_type": "markdown",
   "metadata": {
    "deletable": true,
    "editable": true
   },
   "source": [
    "Download pre-prepared data from here:  \n",
    "* http://www.stevesimmons.com/pydata-ams2017/flights-201601-201701-csv-xz.tar (151MB)\n",
    "* http://www.stevesimmons.com/pydata-ams2017/flights-201601-201701-parq.tar (158MB)\n"
   ]
  },
  {
   "cell_type": "markdown",
   "metadata": {
    "deletable": true,
    "editable": true
   },
   "source": [
    "These imports are needed to run the full set of examples"
   ]
  },
  {
   "cell_type": "code",
   "execution_count": null,
   "metadata": {
    "deletable": true,
    "editable": true
   },
   "outputs": [],
   "source": [
    "# Complete set of Python 3.6 imports used for these examples\n",
    "\n",
    "# Standard modules\n",
    "import io\n",
    "import logging\n",
    "import lzma\n",
    "import multiprocessing\n",
    "import os\n",
    "import ssl\n",
    "import sys\n",
    "import time\n",
    "import urllib.request\n",
    "import zipfile\n",
    "\n",
    "# Third-party modules\n",
    "import fastparquet      # Needs python-snappy and llvmlite\n",
    "import graphviz         # To visualize Dask graphs \n",
    "import numpy as np\n",
    "import pandas as pd\n",
    "import psutil           # Memory stats\n",
    "import dask\n",
    "import dask.dataframe as dd\n",
    "import bokeh.io         # For Dask profile graphs\n",
    "import seaborn as sns   # For colormaps\n",
    "\n",
    "# Support multiple lines of output in each cell\n",
    "from IPython.core.interactiveshell import InteractiveShell\n",
    "InteractiveShell.ast_node_interactivity = \"all\"\n",
    "\n",
    "# Don't wrap tables\n",
    "pd.options.display.max_rows = 20\n",
    "pd.options.display.max_columns = 20\n",
    "pd.options.display.width = 300\n",
    "\n",
    "# Show matplotlib and bokeh graphs inline in Jupyter notebook\n",
    "%matplotlib inline\n",
    "bokeh.io.output_notebook()\n",
    "\n",
    "print(sys.version)\n",
    "np.__version__, pd.__version__, dask.__version__"
   ]
  },
  {
   "cell_type": "code",
   "execution_count": null,
   "metadata": {
    "deletable": true,
    "editable": true
   },
   "outputs": [],
   "source": []
  }
 ],
 "metadata": {
  "kernelspec": {
   "display_name": "Python 3",
   "language": "python",
   "name": "python3"
  },
  "language_info": {
   "codemirror_mode": {
    "name": "ipython",
    "version": 3
   },
   "file_extension": ".py",
   "mimetype": "text/x-python",
   "name": "python",
   "nbconvert_exporter": "python",
   "pygments_lexer": "ipython3",
   "version": "3.6.1"
  }
 },
 "nbformat": 4,
 "nbformat_minor": 2
}
