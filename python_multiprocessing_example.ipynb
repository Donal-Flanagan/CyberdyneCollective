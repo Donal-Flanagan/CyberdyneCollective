{
 "cells": [
  {
   "cell_type": "code",
   "execution_count": 1,
   "metadata": {
    "collapsed": false
   },
   "outputs": [
    {
     "data": {
      "text/html": [
       "<style>.container { width:100% !important; }</style>"
      ],
      "text/plain": [
       "<IPython.core.display.HTML object>"
      ]
     },
     "execution_count": 1,
     "metadata": {},
     "output_type": "execute_result"
    }
   ],
   "source": [
    "from IPython.core.display import HTML\n",
    "HTML(\"<style>.container { width:100% !important; }</style>\")"
   ]
  },
  {
   "cell_type": "code",
   "execution_count": 17,
   "metadata": {
    "collapsed": false
   },
   "outputs": [
    {
     "name": "stdout",
     "output_type": "stream",
     "text": [
      "random_number_df\n",
      "    0   1   2   3   4   5  ...  94  95  96  97  98  99\n",
      "0   11  64  84  21  84  56 ...  32  96  24  24   4  73\n",
      "1   24  26  95   3   7  91 ...   4  53  79  76  38  78\n",
      "2   41  18  44  47   3   7 ...  51  26   0   1  81  15\n",
      "3   15  59  63  75  69  20 ...  82  75  82  97  35  90\n",
      "4   34  16   0  51  17  46 ...  60  39  86  77  10  35\n",
      "5   74  24  55  68  89   9 ...  45   0  64  42  86   1\n",
      "6   30  31  81  68  18  73 ...  23  59  57  78  17  44\n",
      "7   22   9  74  68  47  56 ...  80  64  12  30  30  87\n",
      "8   29  84  82  60  27  85 ...  59  40  90  17  14  74\n",
      "9   50  86  49  14  18  46 ...  99  12  77   5  40  20\n",
      "10  36  68  58  12   6  53 ...  90  89  92  18  19  96\n",
      "11   3  52  78  67  56   7 ...   2  61  47  25  11  40\n",
      "12  12  55  52  20  25  82 ...  78   4  37  46  60  41\n",
      "13  33  77  88  40  25  97 ...  13  78  36  45  62  73\n",
      "14  98  54  53  37  73  19 ...  31  40  25  58  24  82\n",
      "..  ..  ..  ..  ..  ..  .. ...  ..  ..  ..  ..  ..  ..\n",
      "85  58  93   8  10   8  52 ...  97  82  74  83  68   3\n",
      "86  59  58  71   0  14  49 ...  42  37  87  68   0  68\n",
      "87  32  56  54  76  70  90 ...  37  82  41  43  56  79\n",
      "88  39  70   1  67  83  87 ...  59  23  62  50  56  79\n",
      "89  34  33  35  44  30   4 ...   2  91  61  22  92  73\n",
      "90   3  80  18  79  77   7 ...  16  45  11  88  58  45\n",
      "91  78  90  28  41  89  46 ...  31  22  90  35  85  15\n",
      "92  27  67  36  54  18   8 ...  49  98  31  47  16  55\n",
      "93  58   2   7  31  92  73 ...   6  51  42  94  73  26\n",
      "94  79  92  95  80  45  71 ...  99   5  56   8  53  86\n",
      "95  18  51  57  12  56  27 ...  71  48  51  83  92  96\n",
      "96  41  92  40  49  85  81 ...  35  92  10  21  19  22\n",
      "97  91  95  98  82  12  45 ...  80  19  77  53  71   9\n",
      "98  31  74  66  33  53  21 ...  89  56  47  18  39  55\n",
      "99  90  55  60  59  35  99 ...  16  31  99  94  99   7\n",
      "\n",
      "[100 rows x 100 columns]\n",
      "multiproc done\n",
      "  for loop  multiprocessing\n",
      "0      NaN         0.028495\n",
      "1      NaN         0.038146\n",
      "2      NaN         0.029650\n",
      "3      NaN         0.019155\n",
      "4      NaN         0.017799\n",
      "5      NaN         0.020974\n",
      "6      NaN         0.020525\n",
      "7      NaN         0.020061\n",
      "8      NaN         0.021262\n",
      "9      NaN         0.021334\n",
      "   for loop  multiprocessing\n",
      "0  0.104597         0.028495\n",
      "1  0.064673         0.038146\n",
      "2  0.069597         0.029650\n",
      "3  0.088885         0.019155\n",
      "4  0.061666         0.017799\n",
      "5  0.068119         0.020974\n",
      "6  0.064951         0.020525\n",
      "7  0.062591         0.020061\n",
      "8  0.062066         0.021262\n",
      "9  0.063520         0.021334\n"
     ]
    }
   ],
   "source": [
    "# There are lots of unnecessary imports. I just copy and paste them all because I'm lazy\n",
    "\n",
    "import pandas as pd\n",
    "import numpy as np\n",
    "import matplotlib.pyplot as plt\n",
    "import math\n",
    "from IPython.display import display\n",
    "from copy import deepcopy\n",
    "import random\n",
    "from time import time\n",
    "import multiprocessing\n",
    "\n",
    "# Set the display options for printing pandas dataframes\n",
    "pd.set_option('display.max_rows', 30)\n",
    "pd.set_option('display.max_columns', 13)\n",
    "pd.set_option('display.width', 250)\n",
    "\n",
    "\n",
    "\n",
    "\n",
    "def sum_of_col(col, args):\n",
    "    ''' \n",
    "    The method we want to apply to our dataframe of random numbers in parallel \n",
    "    \n",
    "    col: pd.Series, a column from the dataframe\n",
    "    args: tuple, some tuple of arguments you may wish to use \n",
    "    \n",
    "    '''\n",
    "    return col.sum()\n",
    " \n",
    "def _apply_df(args):\n",
    "    ''' \n",
    "    args: tuple\n",
    "    df: pd.DataFrame\n",
    "    func: The method we want to apply\n",
    "    args: dict of arguments\n",
    "    '''\n",
    "    # Extract the variables from the tuple\n",
    "    df, func, kwargs = args\n",
    "    \n",
    "    axis = kwargs.pop('axis')\n",
    "    axis =[axis]\n",
    "    return df.apply(func, args=axis)\n",
    "\n",
    "def apply_by_multiprocessing(df, func, **kwargs):\n",
    "    #print('Check 1', kwargs)\n",
    "    workers = kwargs.pop('workers')\n",
    "    pool = multiprocessing.Pool(processes=workers)\n",
    "    result = pool.map(_apply_df, [(d, func, kwargs) for d in np.array_split(df, workers)])\n",
    "    pool.close()\n",
    "    return pd.concat(result)\n",
    "    \n",
    "\n",
    "    \n",
    "if __name__ == '__main__':\n",
    "    \n",
    "        \n",
    "    random_number_df = pd.DataFrame(np.random.randint(0,100,size=(100, 100)), columns=list(num for num in range(0,100)))\n",
    "    print('random_number_df')\n",
    "    print(random_number_df)\n",
    "    \n",
    "    \n",
    "    times_df = pd.DataFrame(columns=['for loop', 'multiprocessing'])\n",
    "    \n",
    "    multiproc_time = pd.Series()\n",
    "    i=0\n",
    "\n",
    "    \n",
    "    # Sum all columns with multiprocessing\n",
    "    while i<10:\n",
    "\n",
    "        ta = time()\n",
    "\n",
    "        result = apply_by_multiprocessing(random_number_df, sum_of_col, axis=0, workers=1)\n",
    "        #print(result)\n",
    "        \n",
    "        tb = time()\n",
    "        current_time = tb - ta\n",
    "\n",
    "        multiproc_time.set_value(i, current_time)\n",
    "\n",
    "        i+=1\n",
    "        \n",
    "\n",
    "    times_df['multiprocessing'] = multiproc_time\n",
    "    \n",
    "    \n",
    "    print('multiproc done')\n",
    "    print(times_df)    \n",
    "        \n",
    "    #question_confidence.T.apply(sum_of_col, axis= 0)\n",
    "\n",
    "    \n",
    "    i=0\n",
    "\n",
    "    singleproc_time = pd.Series()\n",
    "    while i<10:\n",
    "\n",
    "        ta = time()\n",
    "\n",
    "        random_number_sum = pd.Series()\n",
    "        for col in random_number_df:\n",
    "            random_number_sum[str(col)] = random_number_df[col].sum()\n",
    "\n",
    "        tb = time()\n",
    "        current_time = tb - ta\n",
    "\n",
    "        singleproc_time.set_value(i, current_time)\n",
    "        #times_df['for loop'].append([], ignore_index=True)\n",
    "\n",
    "        i+=1\n",
    "\n",
    "\n",
    "    times_df['for loop'] = singleproc_time\n",
    "\n",
    "    '''\n",
    "\n",
    "    def  get(x):\n",
    "        return x*x\n",
    "\n",
    "    if __name__ == '__main__':\n",
    "        pool = Pool(processes=3)              # start 4 worker processes\n",
    "        result = pool.apply_async(f, [10])    # evaluate \"f(10)\" asynchronously\n",
    "        print result.get(timeout=1)           # prints \"100\" unless your computer is *very* slow\n",
    "        print pool.map(f, range(10)) \n",
    "        '''    \n",
    "\n",
    "    print(times_df)"
   ]
  },
  {
   "cell_type": "code",
   "execution_count": 9,
   "metadata": {
    "collapsed": false
   },
   "outputs": [
    {
     "name": "stdout",
     "output_type": "stream",
     "text": [
      "A\n",
      "B\n",
      "C\n",
      "D\n"
     ]
    }
   ],
   "source": [
    "\n",
    "random_number_df = pd.DataFrame(np.random.randint(0,100,size=(100, 4)), columns=list('ABCD'))\n",
    "for col in random_number_df:\n",
    "    print(col)"
   ]
  },
  {
   "cell_type": "code",
   "execution_count": null,
   "metadata": {
    "collapsed": true
   },
   "outputs": [],
   "source": []
  }
 ],
 "metadata": {
  "kernelspec": {
   "display_name": "Python 3",
   "language": "python",
   "name": "python3"
  },
  "language_info": {
   "codemirror_mode": {
    "name": "ipython",
    "version": 3
   },
   "file_extension": ".py",
   "mimetype": "text/x-python",
   "name": "python",
   "nbconvert_exporter": "python",
   "pygments_lexer": "ipython3",
   "version": "3.5.2"
  }
 },
 "nbformat": 4,
 "nbformat_minor": 1
}
