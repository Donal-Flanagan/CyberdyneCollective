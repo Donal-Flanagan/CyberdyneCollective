{
 "cells": [
  {
   "cell_type": "code",
   "execution_count": 1,
   "metadata": {
    "collapsed": false
   },
   "outputs": [
    {
     "data": {
      "text/html": [
       "<style>.container { width:100% !important; }</style>"
      ],
      "text/plain": [
       "<IPython.core.display.HTML object>"
      ]
     },
     "execution_count": 1,
     "metadata": {},
     "output_type": "execute_result"
    }
   ],
   "source": [
    "from IPython.core.display import HTML\n",
    "HTML(\"<style>.container { width:100% !important; }</style>\")"
   ]
  },
  {
   "cell_type": "code",
   "execution_count": null,
   "metadata": {
    "collapsed": false
   },
   "outputs": [],
   "source": [
    "import pandas as pd\n",
    "import numpy as np\n",
    "import math\n",
    "import random\n",
    "import matplotlib.pyplot as plt\n",
    "from IPython.display import display\n",
    "from itertools import combinations\n",
    "\n",
    "\n",
    "#!/usr/bin/env python\n",
    "\n",
    "\"\"\"\n",
    "Example classifier on Numerai data using a logistic regression classifier.\n",
    "To get started, install the required packages: pip install pandas, numpy, sklearn\n",
    "\"\"\"\n",
    "\n",
    "import pandas as pd\n",
    "import numpy as np\n",
    "from sklearn import metrics, preprocessing, linear_model\n",
    "\n",
    "\n",
    "pd.set_option('display.max_rows', 30)\n",
    "pd.set_option('display.max_columns', 12)\n",
    "pd.set_option('display.width', 230)\n",
    "\n",
    "\n",
    "def show_heatmap(dataframe):\n",
    "    \n",
    "    dataframe.fillna(0.0, inplace=True)\n",
    "    \n",
    "    \n",
    "    \n",
    "    # plt.imshow(, cmap=plt.cm.gray)\n",
    "    plt.pcolor(dataframe, vmin=0, vmax=1)\n",
    "    plt.yticks(np.arange(0.5, len(dataframe.index), 1), dataframe.index)\n",
    "    plt.xticks(np.arange(0.5, len(dataframe.columns), 1), dataframe.columns)\n",
    "    plt.colorbar()\n",
    "    plt.show()\n",
    "\n",
    "\n",
    "def main():\n",
    "    # Set seed for reproducibility\n",
    "    np.random.seed(0)\n",
    "\n",
    "    print(\"Loading data...\")\n",
    "    # Load the data from the CSV files\n",
    "    ''' training data contains only training data'''\n",
    "    training_data = pd.read_csv('numerai_training_data.csv', header=0)\n",
    "    '''\n",
    "    prediction_data contains both validation data (with targets) and test data\n",
    "    (without targets)\n",
    "    '''\n",
    "    prediction_data = pd.read_csv('numerai_tournament_data.csv', header=0)\n",
    "\n",
    "    # print('\\n')\n",
    "    # print('prediction_data')\n",
    "    # print(prediction_data)\n",
    "\n",
    "\n",
    "    # Transform the loaded CSV data into numpy arrays\n",
    "    '''\n",
    "    Goes through all the pd.DataFrame columns titles. If they contain 'feature'\n",
    "    they are added to the features list\n",
    "    '''\n",
    "    \n",
    "    training_data.set_index(['id'], drop=True, inplace=True)\n",
    "    \n",
    "    training_data = training_data[training_data['data_type'] == 'train']\n",
    "    \n",
    "    show_heatmap(training_data[training_data['era']=='era1'].copy())\n",
    "    \n",
    "    #grouped = training_data.groupby('era')\n",
    "    \n",
    "    print('\\n')\n",
    "    print(\"grouped\")\n",
    "    print(grouped)\n",
    "    print('\\n')\n",
    "    print('training_data.shape')\n",
    "    print(training_data.shape)\n",
    "    \n",
    "    \n",
    "    features = [f for f in list(training_data) if \"feature\" in f]\n",
    "    X = training_data[features].copy()                     # pd.DataFrame of all training features\n",
    "    Y = training_data[\"target\"].copy()                     # pd.Series of the classes\n",
    "    x_prediction = prediction_data[features].copy()        # pd.DataFrame of all validation and test features\n",
    "    ids = prediction_data[\"id\"].copy()\n",
    "    \n",
    "    print('\\n')\n",
    "    print('X')\n",
    "    print(X)\n",
    "    \n",
    "    print(X.iloc[1])\n",
    "    \n",
    "    print('starting')\n",
    "    #show_heatmap(X)\n",
    "    print ('done')\n",
    "\n",
    "if __name__ == '__main__':\n",
    "    main()\n"
   ]
  },
  {
   "cell_type": "code",
   "execution_count": null,
   "metadata": {
    "collapsed": false
   },
   "outputs": [],
   "source": []
  },
  {
   "cell_type": "code",
   "execution_count": null,
   "metadata": {
    "collapsed": true
   },
   "outputs": [],
   "source": []
  }
 ],
 "metadata": {
  "kernelspec": {
   "display_name": "Python 3",
   "language": "python",
   "name": "python3"
  },
  "language_info": {
   "codemirror_mode": {
    "name": "ipython",
    "version": 3
   },
   "file_extension": ".py",
   "mimetype": "text/x-python",
   "name": "python",
   "nbconvert_exporter": "python",
   "pygments_lexer": "ipython3",
   "version": "3.5.2"
  }
 },
 "nbformat": 4,
 "nbformat_minor": 1
}
