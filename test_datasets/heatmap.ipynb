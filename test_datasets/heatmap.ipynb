{
 "cells": [
  {
   "cell_type": "code",
   "execution_count": 1,
   "metadata": {
    "collapsed": false
   },
   "outputs": [
    {
     "data": {
      "text/html": [
       "<style>.container { width:100% !important; }</style>"
      ],
      "text/plain": [
       "<IPython.core.display.HTML object>"
      ]
     },
     "execution_count": 1,
     "metadata": {},
     "output_type": "execute_result"
    }
   ],
   "source": [
    "from IPython.core.display import HTML\n",
    "HTML(\"<style>.container { width:100% !important; }</style>\")"
   ]
  },
  {
   "cell_type": "code",
   "execution_count": 14,
   "metadata": {
    "collapsed": false
   },
   "outputs": [
    {
     "name": "stdout",
     "output_type": "stream",
     "text": [
      "Loading data...\n",
      "\n",
      "\n",
      "X\n",
      "        feature1  feature2  feature3  feature4  feature5  feature6    ...      feature16  feature17  feature18  feature19  feature20  feature21\n",
      "id                                                                    ...                                                                      \n",
      "444373   0.25519   0.40359   0.83019   0.31328   0.26406   0.56522    ...        0.19624    0.80862    0.81713    0.45656    0.66848    0.51978\n",
      "428195   0.25758   0.25156   0.86383   0.21293   0.24924   0.44582    ...        0.17287    0.84306    0.86019    0.43066    0.77478    0.65628\n",
      "376544   0.26186   0.43509   0.80882   0.29978   0.28310   0.59847    ...        0.21483    0.79095    0.80687    0.43324    0.67210    0.51170\n",
      "440255   0.26647   0.42487   0.81401   0.22889   0.27456   0.55654    ...        0.20237    0.79605    0.82971    0.45757    0.69761    0.53739\n",
      "466869   0.27095   0.47533   0.76479   0.33366   0.36695   0.72217    ...        0.19048    0.75914    0.74903    0.50323    0.62827    0.45283\n",
      "382355   0.27558   0.18762   0.95169   0.13352   0.12778   0.40823    ...        0.12026    0.89439    0.94623    0.58129    0.78358    0.74923\n",
      "375297   0.28178   0.47264   0.77378   0.38604   0.31840   0.62891    ...        0.24135    0.75799    0.75565    0.45267    0.61193    0.45141\n",
      "387693   0.28305   0.52150   0.69209   0.44205   0.43505   0.76235    ...        0.30540    0.70217    0.67645    0.33197    0.62004    0.40567\n",
      "468307   0.29633   0.37318   0.72695   0.28882   0.37351   0.38470    ...        0.28765    0.73908    0.74880    0.28613    0.72699    0.53460\n",
      "377450   0.29881   0.48132   0.74775   0.35139   0.34590   0.59046    ...        0.24025    0.73879    0.74283    0.46221    0.61501    0.44855\n",
      "417734   0.30556   0.51246   0.63612   0.37564   0.47909   0.60480    ...        0.35427    0.66625    0.65928    0.20048    0.67746    0.43310\n",
      "358768   0.35476   0.55320   0.72901   0.41842   0.30004   0.50316    ...        0.29443    0.70038    0.72421    0.53198    0.51801    0.38804\n",
      "445556   0.35594   0.60341   0.66642   0.45410   0.40256   0.65035    ...        0.30511    0.65808    0.65756    0.49413    0.50643    0.34023\n",
      "357680   0.35597   0.64868   0.61220   0.53581   0.49305   0.82607    ...        0.32963    0.61865    0.58632    0.44676    0.48208    0.29032\n",
      "501673   0.35640   0.53092   0.67806   0.40009   0.39126   0.58314    ...        0.31924    0.67123    0.68194    0.42313    0.57806    0.42063\n",
      "...          ...       ...       ...       ...       ...       ...    ...            ...        ...        ...        ...        ...        ...\n",
      "389368   0.61675   0.66442   0.37491   0.67446   0.64034   0.49442    ...        0.58356    0.38414    0.37326    0.41557    0.36297    0.26944\n",
      "358599   0.62433   0.42177   0.53811   0.48337   0.47692   0.42418    ...        0.45783    0.50042    0.52814    0.61181    0.48005    0.52803\n",
      "358508   0.62501   0.75994   0.34855   0.63612   0.64501   0.65380    ...        0.63802    0.35449    0.37539    0.34147    0.38038    0.27125\n",
      "452300   0.62524   0.64550   0.46496   0.53971   0.48430   0.48872    ...        0.58475    0.43428    0.49403    0.44766    0.42198    0.39357\n",
      "417947   0.63631   0.69773   0.41166   0.64127   0.56288   0.53927    ...        0.58242    0.39449    0.41700    0.49341    0.34180    0.29281\n",
      "370324   0.67763   0.60896   0.41669   0.61882   0.54851   0.33873    ...        0.56283    0.39447    0.41891    0.57303    0.33839    0.33574\n",
      "429915   0.69303   0.66290   0.49728   0.57299   0.41046   0.45813    ...        0.53383    0.42893    0.50068    0.72657    0.29712    0.36921\n",
      "391659   0.71130   0.93474   0.28506   0.77536   0.66179   0.64449    ...        0.63258    0.27376    0.28701    0.62515    0.14051    0.07044\n",
      "395562   0.72306   0.54834   0.39225   0.63030   0.56429   0.33871    ...        0.63020    0.36515    0.39648    0.49776    0.37858    0.41617\n",
      "407467   0.74852   0.40217   0.49821   0.52498   0.44244   0.33723    ...        0.56771    0.42999    0.49357    0.63314    0.44008    0.59650\n",
      "432119   0.75694   0.59068   0.36154   0.65571   0.60520   0.49483    ...        0.63211    0.32947    0.35632    0.56316    0.33888    0.40120\n",
      "424226   0.78988   0.72546   0.27600   0.70175   0.67092   0.43675    ...        0.67152    0.25942    0.28656    0.59525    0.24316    0.25945\n",
      "371318   0.80581   0.59023   0.33846   0.66893   0.60931   0.44031    ...        0.65204    0.29910    0.33321    0.62169    0.30362    0.40045\n",
      "470999   0.83882   0.59855   0.27336   0.67656   0.68070   0.48693    ...        0.72218    0.24624    0.28180    0.51900    0.33175    0.41912\n",
      "393260   0.86798   0.85566   0.18941   0.79383   0.70528   0.45087    ...        0.76926    0.16697    0.20779    0.60567    0.13658    0.16671\n",
      "\n",
      "[124 rows x 21 columns]\n",
      "feature1     0.25758\n",
      "feature2     0.25156\n",
      "feature3     0.86383\n",
      "feature4     0.21293\n",
      "feature5     0.24924\n",
      "feature6     0.44582\n",
      "feature7     0.47362\n",
      "feature8     0.71892\n",
      "feature9     0.38851\n",
      "feature10    0.50471\n",
      "feature11    0.15065\n",
      "feature12    0.20652\n",
      "feature13    0.16030\n",
      "feature14    0.69619\n",
      "feature15    0.43560\n",
      "feature16    0.17287\n",
      "feature17    0.84306\n",
      "feature18    0.86019\n",
      "feature19    0.43066\n",
      "feature20    0.77478\n",
      "feature21    0.65628\n",
      "Name: 428195, dtype: float64\n",
      "starting\n"
     ]
    },
    {
     "data": {
      "image/png": "[encoded data removed]",
      "text/plain": [
       "<matplotlib.figure.Figure at 0x7f7e5eecbf28>"
      ]
     },
     "metadata": {},
     "output_type": "display_data"
    },
    {
     "name": "stdout",
     "output_type": "stream",
     "text": [
      "done\n"
     ]
    }
   ],
   "source": [
    "import pandas as pd\n",
    "import numpy as np\n",
    "import math\n",
    "import random\n",
    "import matplotlib.pyplot as plt\n",
    "from IPython.display import display\n",
    "from itertools import combinations\n",
    "\n",
    "\n",
    "#!/usr/bin/env python\n",
    "\n",
    "\"\"\"\n",
    "Example classifier on Numerai data using a logistic regression classifier.\n",
    "To get started, install the required packages: pip install pandas, numpy, sklearn\n",
    "\"\"\"\n",
    "\n",
    "import pandas as pd\n",
    "import numpy as np\n",
    "from sklearn import metrics, preprocessing, linear_model\n",
    "\n",
    "\n",
    "pd.set_option('display.max_rows', 30)\n",
    "pd.set_option('display.max_columns', 12)\n",
    "pd.set_option('display.width', 230)\n",
    "\n",
    "\n",
    "def show_heatmap(dataframe):\n",
    "    \n",
    "    dataframe.fillna(0.0, inplace=True)\n",
    "    \n",
    "    \n",
    "    \n",
    "    # plt.imshow(, cmap=plt.cm.gray)\n",
    "    plt.pcolor(dataframe, vmin=0, vmax=1)\n",
    "    #plt.yticks(np.arange(0.5, len(dataframe.index), 1), dataframe.index)\n",
    "    #plt.xticks(np.arange(0.5, len(dataframe.columns), 1), dataframe.columns)\n",
    "    plt.colorbar()\n",
    "    plt.show()\n",
    "    \n",
    "def extract_feature_df(dataframe, sort_col=None):\n",
    "    \n",
    "    dataframe = dataframe.copy()\n",
    "    \n",
    "    if sort_col:\n",
    "        dataframe.sort_values(sort_col, inplace=True)\n",
    "    \n",
    "    \n",
    "    features = [f for f in list(dataframe) if \"feature\" in f]\n",
    "    X = dataframe[features].copy()                     # pd.DataFrame of all training features\n",
    "    Y = dataframe[\"target\"].copy()                     # pd.Series of the classes\n",
    "    #x_prediction = prediction_data[features].copy()        # pd.DataFrame of all validation and test features\n",
    "    \n",
    "    return X, Y\n",
    "\n",
    "def main():\n",
    "    # Set seed for reproducibility\n",
    "    np.random.seed(0)\n",
    "\n",
    "    print(\"Loading data...\")\n",
    "    # Load the data from the CSV files\n",
    "    ''' training data contains only training data'''\n",
    "    training_data = pd.read_csv('numerai_training_data.csv', header=0)\n",
    "    '''\n",
    "    prediction_data contains both validation data (with targets) and test data\n",
    "    (without targets)\n",
    "    '''\n",
    "    prediction_data = pd.read_csv('numerai_tournament_data.csv', header=0)\n",
    "\n",
    "    # print('\\n')\n",
    "    # print('prediction_data')\n",
    "    # print(prediction_data)\n",
    "\n",
    "\n",
    "    # Transform the loaded CSV data into numpy arrays\n",
    "    '''\n",
    "    Goes through all the pd.DataFrame columns titles. If they contain 'feature'\n",
    "    they are added to the features list\n",
    "    '''\n",
    "    \n",
    "    training_data.set_index(['id'], drop=True, inplace=True)\n",
    "    \n",
    "    training_data = training_data[training_data['data_type'] == 'train']\n",
    "    \n",
    "    \n",
    "    era1 = training_data[training_data['era']=='era1'].copy()\n",
    "    \n",
    "    #print(era1.sort_values)\n",
    "    \n",
    "    #grouped = training_data.groupby('era')\n",
    "    \n",
    "    X, Y = extract_feature_df(era1,'feature1')\n",
    "    \n",
    "    print('\\n')\n",
    "    print('X')\n",
    "    print(X)\n",
    "    \n",
    "    print(X.iloc[1])\n",
    "    \n",
    "    print('starting')\n",
    "    show_heatmap(X)\n",
    "    print ('done')\n",
    "\n",
    "if __name__ == '__main__':\n",
    "    main()\n"
   ]
  },
  {
   "cell_type": "code",
   "execution_count": null,
   "metadata": {
    "collapsed": false
   },
   "outputs": [],
   "source": []
  },
  {
   "cell_type": "code",
   "execution_count": null,
   "metadata": {
    "collapsed": true
   },
   "outputs": [],
   "source": []
  }
 ],
 "metadata": {
  "kernelspec": {
   "display_name": "Python 3",
   "language": "python",
   "name": "python3"
  },
  "language_info": {
   "codemirror_mode": {
    "name": "ipython",
    "version": 3
   },
   "file_extension": ".py",
   "mimetype": "text/x-python",
   "name": "python",
   "nbconvert_exporter": "python",
   "pygments_lexer": "ipython3",
   "version": "3.5.2"
  }
 },
 "nbformat": 4,
 "nbformat_minor": 1
}
