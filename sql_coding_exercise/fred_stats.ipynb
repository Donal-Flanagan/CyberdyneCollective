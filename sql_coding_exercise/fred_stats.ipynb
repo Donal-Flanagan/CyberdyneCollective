{
 "cells": [
  {
   "cell_type": "code",
   "execution_count": 4,
   "metadata": {},
   "outputs": [],
   "source": [
    "import sys\n",
    "import logging\n",
    "import re\n",
    "import psycopg2\n",
    "import requests\n",
    "import pandas as pd\n",
    "from fredapi import Fred\n",
    "from sqlalchemy import create_engine\n",
    "from sqlalchemy_utils import database_exists, create_database\n",
    "\n",
    "from docopt import docopt\n",
    "\n",
    "from pprint import pprint as pp\n",
    "\n",
    "\n",
    "__version__ = '0.0.1'\n",
    "\n",
    "\n",
    "def get_db_engine(db_name, user, password, host, port=5432):\n",
    "\n",
    "    db_connection = \"postgresql://{user}:{password}@{host}:{port}/{database}\".format(\n",
    "        database=db_name,\n",
    "        user=user,\n",
    "        password=password,\n",
    "        host=host,\n",
    "        port=port\n",
    "    )\n",
    "\n",
    "    engine = create_engine(db_connection)\n",
    "    if not database_exists(engine.url):\n",
    "        try:\n",
    "            create_database(engine.url)\n",
    "\n",
    "        except Exception as exc:\n",
    "            logger.exception('Could not create database. \\nException: %r', exc)\n",
    "            return exc\n",
    "    return engine\n",
    "\n",
    "\n",
    "def main():\n",
    "\n",
    "    user = 'donal'\n",
    "    password = 'donal'\n",
    "    host = 'localhost'\n",
    "    api_key = '01af77900eb060649a7c504ee0705b4d'\n",
    "    db_name = 'fred_db'\n",
    "    port = 5432\n",
    "\n",
    "    engine = get_db_engine(db_name, user, password, host, port)\n",
    "\n",
    "    fred = Fred(api_key=api_key)\n",
    "    gdp = fred.get_series('GDPC1').rename('gdp')  # ('GDP')\n",
    "    um_cust_sent_index = fred.get_series('UMCSENT').rename('umcsent')  # ('UM customer sentiment index')\n",
    "    us_civ_unemploy_rate = fred.get_series('UNRATE').rename('unrate')  # ('US  Civilian Unemployment Rate')\n",
    "\n",
    "    frames = [gdp, um_cust_sent_index, us_civ_unemploy_rate]\n",
    "    fred_data = pd.concat(frames, axis=1)\n",
    "\n",
    "    return fred_data\n",
    "\n",
    "if __name__ == \"__main__\":\n",
    "    data = main()"
   ]
  },
  {
   "cell_type": "code",
   "execution_count": 13,
   "metadata": {},
   "outputs": [
    {
     "name": "stdout",
     "output_type": "stream",
     "text": [
      "<class 'numpy.datetime64'>     1947-01-01T00:00:00.000000000\n"
     ]
    },
    {
     "ename": "OSError",
     "evalue": "[Errno 75] Value too large for defined data type",
     "output_type": "error",
     "traceback": [
      "\u001b[0;31m---------------------------------------------------------------------------\u001b[0m",
      "\u001b[0;31mOSError\u001b[0m                                   Traceback (most recent call last)",
      "\u001b[0;32m<ipython-input-13-eb0e53e2a6b1>\u001b[0m in \u001b[0;36m<module>\u001b[0;34m()\u001b[0m\n\u001b[1;32m      2\u001b[0m \u001b[0md\u001b[0m \u001b[0;34m=\u001b[0m \u001b[0mdata\u001b[0m\u001b[0;34m.\u001b[0m\u001b[0mindex\u001b[0m\u001b[0;34m.\u001b[0m\u001b[0mvalues\u001b[0m\u001b[0;34m[\u001b[0m\u001b[0;36m0\u001b[0m\u001b[0;34m]\u001b[0m\u001b[0;34m\u001b[0m\u001b[0m\n\u001b[1;32m      3\u001b[0m \u001b[0mprint\u001b[0m\u001b[0;34m(\u001b[0m\u001b[0mtype\u001b[0m\u001b[0;34m(\u001b[0m\u001b[0md\u001b[0m\u001b[0;34m)\u001b[0m\u001b[0;34m,\u001b[0m \u001b[0;34m'   '\u001b[0m\u001b[0;34m,\u001b[0m \u001b[0md\u001b[0m\u001b[0;34m)\u001b[0m\u001b[0;34m\u001b[0m\u001b[0m\n\u001b[0;32m----> 4\u001b[0;31m \u001b[0md\u001b[0m \u001b[0;34m=\u001b[0m \u001b[0mdatetime\u001b[0m\u001b[0;34m.\u001b[0m\u001b[0mutcfromtimestamp\u001b[0m\u001b[0;34m(\u001b[0m\u001b[0md\u001b[0m\u001b[0;34m.\u001b[0m\u001b[0mastype\u001b[0m\u001b[0;34m(\u001b[0m\u001b[0mint\u001b[0m\u001b[0;34m)\u001b[0m\u001b[0;34m)\u001b[0m\u001b[0;34m\u001b[0m\u001b[0m\n\u001b[0m\u001b[1;32m      5\u001b[0m \u001b[0mprint\u001b[0m\u001b[0;34m(\u001b[0m\u001b[0mtype\u001b[0m\u001b[0;34m(\u001b[0m\u001b[0md\u001b[0m\u001b[0;34m)\u001b[0m\u001b[0;34m,\u001b[0m \u001b[0;34m'   '\u001b[0m\u001b[0;34m,\u001b[0m \u001b[0md\u001b[0m\u001b[0;34m)\u001b[0m\u001b[0;34m\u001b[0m\u001b[0m\n",
      "\u001b[0;31mOSError\u001b[0m: [Errno 75] Value too large for defined data type"
     ]
    }
   ],
   "source": [
    "from datetime import datetime, date\n",
    "d = data.index.values[0]\n",
    "print(type(d), '   ', d)\n",
    "d = datetime.utcfromtimestamp(d.astype(int))\n",
    "print(type(d), '   ', d)"
   ]
  },
  {
   "cell_type": "code",
   "execution_count": null,
   "metadata": {},
   "outputs": [],
   "source": []
  }
 ],
 "metadata": {
  "kernelspec": {
   "display_name": "Python 3",
   "language": "python",
   "name": "python3"
  },
  "language_info": {
   "codemirror_mode": {
    "name": "ipython",
    "version": 3
   },
   "file_extension": ".py",
   "mimetype": "text/x-python",
   "name": "python",
   "nbconvert_exporter": "python",
   "pygments_lexer": "ipython3",
   "version": "3.5.2"
  }
 },
 "nbformat": 4,
 "nbformat_minor": 1
}
